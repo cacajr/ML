{
 "cells": [
  {
   "cell_type": "markdown",
   "metadata": {},
   "source": [
    "# Import libs"
   ]
  },
  {
   "cell_type": "code",
   "execution_count": 1,
   "metadata": {},
   "outputs": [],
   "source": [
    "import pandas as pd\n",
    "import numpy as np\n",
    "from knn.knn import knn\n",
    "from dmc.dmc import dmc\n",
    "from kmeans.kmeans import kmeans\n",
    "from sklearn.model_selection import train_test_split\n",
    "# from sklearn.metrics import confusion_matrix\n",
    "from utils.functions import confusion_matrix, confusion_matrix_mean\n",
    "from matplotlib import pyplot as plt"
   ]
  },
  {
   "cell_type": "markdown",
   "metadata": {},
   "source": [
    "# Loading Vertebral Column 3C dataset"
   ]
  },
  {
   "cell_type": "code",
   "execution_count": 2,
   "metadata": {},
   "outputs": [],
   "source": [
    "Xy = pd.read_csv('./datasets/vertebral_column_3C.dat', header=None, sep=' ', engine='python')\n",
    "\n",
    "X = Xy.drop(Xy.columns[-1:], axis=1)\n",
    "y = Xy[Xy.columns[-1]]"
   ]
  },
  {
   "cell_type": "markdown",
   "metadata": {},
   "source": [
    "# Running the tests and computing informations"
   ]
  },
  {
   "cell_type": "code",
   "execution_count": 3,
   "metadata": {},
   "outputs": [
    {
     "name": "stderr",
     "output_type": "stream",
     "text": [
      "w:\\Home\\ML\\knn\\knn.py:11: FutureWarning: The default dtype for empty Series will be 'object' instead of 'float64' in a future version. Specify a dtype explicitly to silence this warning.\n",
      "  self.__y = pd.Series([])\n",
      "w:\\Home\\ML\\knn\\knn.py:11: FutureWarning: The default dtype for empty Series will be 'object' instead of 'float64' in a future version. Specify a dtype explicitly to silence this warning.\n",
      "  self.__y = pd.Series([])\n",
      "w:\\Home\\ML\\knn\\knn.py:11: FutureWarning: The default dtype for empty Series will be 'object' instead of 'float64' in a future version. Specify a dtype explicitly to silence this warning.\n",
      "  self.__y = pd.Series([])\n",
      "w:\\Home\\ML\\knn\\knn.py:11: FutureWarning: The default dtype for empty Series will be 'object' instead of 'float64' in a future version. Specify a dtype explicitly to silence this warning.\n",
      "  self.__y = pd.Series([])\n",
      "w:\\Home\\ML\\knn\\knn.py:11: FutureWarning: The default dtype for empty Series will be 'object' instead of 'float64' in a future version. Specify a dtype explicitly to silence this warning.\n",
      "  self.__y = pd.Series([])\n",
      "w:\\Home\\ML\\knn\\knn.py:11: FutureWarning: The default dtype for empty Series will be 'object' instead of 'float64' in a future version. Specify a dtype explicitly to silence this warning.\n",
      "  self.__y = pd.Series([])\n",
      "w:\\Home\\ML\\knn\\knn.py:11: FutureWarning: The default dtype for empty Series will be 'object' instead of 'float64' in a future version. Specify a dtype explicitly to silence this warning.\n",
      "  self.__y = pd.Series([])\n",
      "w:\\Home\\ML\\knn\\knn.py:11: FutureWarning: The default dtype for empty Series will be 'object' instead of 'float64' in a future version. Specify a dtype explicitly to silence this warning.\n",
      "  self.__y = pd.Series([])\n",
      "w:\\Home\\ML\\knn\\knn.py:11: FutureWarning: The default dtype for empty Series will be 'object' instead of 'float64' in a future version. Specify a dtype explicitly to silence this warning.\n",
      "  self.__y = pd.Series([])\n",
      "w:\\Home\\ML\\knn\\knn.py:11: FutureWarning: The default dtype for empty Series will be 'object' instead of 'float64' in a future version. Specify a dtype explicitly to silence this warning.\n",
      "  self.__y = pd.Series([])\n",
      "w:\\Home\\ML\\knn\\knn.py:11: FutureWarning: The default dtype for empty Series will be 'object' instead of 'float64' in a future version. Specify a dtype explicitly to silence this warning.\n",
      "  self.__y = pd.Series([])\n",
      "w:\\Home\\ML\\knn\\knn.py:11: FutureWarning: The default dtype for empty Series will be 'object' instead of 'float64' in a future version. Specify a dtype explicitly to silence this warning.\n",
      "  self.__y = pd.Series([])\n",
      "w:\\Home\\ML\\knn\\knn.py:11: FutureWarning: The default dtype for empty Series will be 'object' instead of 'float64' in a future version. Specify a dtype explicitly to silence this warning.\n",
      "  self.__y = pd.Series([])\n",
      "w:\\Home\\ML\\knn\\knn.py:11: FutureWarning: The default dtype for empty Series will be 'object' instead of 'float64' in a future version. Specify a dtype explicitly to silence this warning.\n",
      "  self.__y = pd.Series([])\n",
      "w:\\Home\\ML\\knn\\knn.py:11: FutureWarning: The default dtype for empty Series will be 'object' instead of 'float64' in a future version. Specify a dtype explicitly to silence this warning.\n",
      "  self.__y = pd.Series([])\n",
      "w:\\Home\\ML\\knn\\knn.py:11: FutureWarning: The default dtype for empty Series will be 'object' instead of 'float64' in a future version. Specify a dtype explicitly to silence this warning.\n",
      "  self.__y = pd.Series([])\n",
      "w:\\Home\\ML\\knn\\knn.py:11: FutureWarning: The default dtype for empty Series will be 'object' instead of 'float64' in a future version. Specify a dtype explicitly to silence this warning.\n",
      "  self.__y = pd.Series([])\n",
      "w:\\Home\\ML\\knn\\knn.py:11: FutureWarning: The default dtype for empty Series will be 'object' instead of 'float64' in a future version. Specify a dtype explicitly to silence this warning.\n",
      "  self.__y = pd.Series([])\n",
      "w:\\Home\\ML\\knn\\knn.py:11: FutureWarning: The default dtype for empty Series will be 'object' instead of 'float64' in a future version. Specify a dtype explicitly to silence this warning.\n",
      "  self.__y = pd.Series([])\n",
      "w:\\Home\\ML\\knn\\knn.py:11: FutureWarning: The default dtype for empty Series will be 'object' instead of 'float64' in a future version. Specify a dtype explicitly to silence this warning.\n",
      "  self.__y = pd.Series([])\n"
     ]
    }
   ],
   "source": [
    "realizations = 20\n",
    "knn_hit_rate_list = []\n",
    "dmc_hit_rate_list = []\n",
    "kmeans_hit_rate_list = []\n",
    "knn_std_dev = 0\n",
    "dmc_std_dev = 0\n",
    "kmeans_std_dev = 0\n",
    "knn_confusion_matrix_list = []\n",
    "dmc_confusion_matrix_list = []\n",
    "kmeans_confusion_matrix_list = []\n",
    "\n",
    "for r in range(realizations):\n",
    "    X_train, X_test, y_train, y_test = train_test_split(X, y, test_size = 0.2)\n",
    "\n",
    "    knn_model = knn(k=3, type_distance_calc='euclidean')\n",
    "    knn_model.fit(X_train, y_train)\n",
    "\n",
    "    dmc_model = dmc(type_distance_calc='euclidean')\n",
    "    dmc_model.fit(X_train, y_train)\n",
    "\n",
    "    kmeans_model = kmeans(k=25, type_distance_calc='euclidean', number_iteration=300)\n",
    "    kmeans_model.fit(X_train, y_train)\n",
    "\n",
    "    knn_hit_rate_list.append(knn_model.score(X_test, y_test))\n",
    "    dmc_hit_rate_list.append(dmc_model.score(X_test, y_test))\n",
    "    kmeans_hit_rate_list.append(kmeans_model.score(X_test, y_test))\n",
    "\n",
    "    knn_y_pred = [knn_model.predict(x) for x in X_test.values]\n",
    "    dmc_y_pred = [dmc_model.predict(x) for x in X_test.values]\n",
    "    kmeans_y_pred = [kmeans_model.predict(x) for x in X_test.values]\n",
    "\n",
    "    knn_confusion_matrix_list.append(confusion_matrix(y_test, knn_y_pred))\n",
    "    dmc_confusion_matrix_list.append(confusion_matrix(y_test, dmc_y_pred))\n",
    "    kmeans_confusion_matrix_list.append(confusion_matrix(y_test, kmeans_y_pred))\n",
    "\n",
    "knn_std_dev = np.std(knn_hit_rate_list)\n",
    "dmc_std_dev = np.std(dmc_hit_rate_list)\n",
    "kmeans_std_dev = np.std(kmeans_hit_rate_list)"
   ]
  },
  {
   "cell_type": "markdown",
   "metadata": {},
   "source": [
    "# Showing knn informations computed"
   ]
  },
  {
   "cell_type": "code",
   "execution_count": 4,
   "metadata": {},
   "outputs": [
    {
     "name": "stdout",
     "output_type": "stream",
     "text": [
      "----------------- KNN model -----------------\n",
      "Hit rate:\n",
      "[0.8548387096774194, 0.7258064516129032, 0.7580645161290323, 0.7903225806451613, 0.8709677419354839, 0.7741935483870968, 0.8225806451612904, 0.8225806451612904, 0.8387096774193549, 0.9516129032258065, 0.7419354838709677, 0.8225806451612904, 0.8387096774193549, 0.8709677419354839, 0.8064516129032258, 0.8064516129032258, 0.7580645161290323, 0.7580645161290323, 0.8064516129032258, 0.8548387096774194]\n",
      "\n",
      "Accuracy:\n",
      "0.8137096774193548\n",
      "\n",
      "Standard Deviation:\n",
      "0.05238212077114511\n",
      "\n",
      "Confusion Matrix:\n",
      "    SL  NO  DH\n",
      "SL  28   2   0\n",
      "NO   1  21   1\n",
      "DH   0   5   4\n",
      "    NO  SL  DH\n",
      "NO   8   1   7\n",
      "SL   1  29   0\n",
      "DH   8   0   8\n",
      "    NO  SL  DH\n",
      "NO  18   0   6\n",
      "SL   2  24   0\n",
      "DH   7   0   5\n",
      "    NO  SL  DH\n",
      "NO  17   2   3\n",
      "SL   1  27   1\n",
      "DH   6   0   5\n",
      "    SL  NO  DH\n",
      "SL  35   0   0\n",
      "NO   1  11   4\n",
      "DH   0   3   8\n",
      "    SL  NO  DH\n",
      "SL  23   0   0\n",
      "NO   3  15   5\n",
      "DH   0   6  10\n",
      "    SL  NO  DH\n",
      "SL  32   0   1\n",
      "NO   2  11   5\n",
      "DH   0   3   8\n",
      "    SL  NO  DH\n",
      "SL  29   1   0\n",
      "NO   1  17   5\n",
      "DH   0   4   5\n",
      "    DH  NO  SL\n",
      "DH   6   4   0\n",
      "NO   2  17   0\n",
      "SL   2   2  29\n",
      "    SL  DH  NO\n",
      "SL  38   0   1\n",
      "DH   0   3   2\n",
      "NO   0   0  18\n",
      "    SL  DH  NO\n",
      "SL  27   0   0\n",
      "DH   0   4   5\n",
      "NO   2   9  15\n",
      "    SL  DH  NO\n",
      "SL  31   1   1\n",
      "DH   0   6   4\n",
      "NO   0   5  14\n",
      "    DH  NO  SL\n",
      "DH  11   2   0\n",
      "NO   5  19   2\n",
      "SL   0   1  22\n",
      "    SL  DH  NO\n",
      "SL  33   1   0\n",
      "DH   0  10   4\n",
      "NO   1   2  11\n",
      "    SL  NO  DH\n",
      "SL  27   1   0\n",
      "NO   3  16   3\n",
      "DH   0   5   7\n",
      "    SL  DH  NO\n",
      "SL  31   0   0\n",
      "DH   0   8   6\n",
      "NO   1   5  11\n",
      "    SL  NO  DH\n",
      "SL  32   0   0\n",
      "NO   2  11   4\n",
      "DH   0   9   4\n",
      "    SL  NO  DH\n",
      "SL  30   1   1\n",
      "NO   0  10   7\n",
      "DH   1   5   7\n",
      "    NO  SL  DH\n",
      "NO  20   0   6\n",
      "SL   0  20   0\n",
      "DH   6   0  10\n",
      "    SL  DH  NO\n",
      "SL  35   0   0\n",
      "DH   0   5   5\n",
      "NO   0   4  13\n"
     ]
    }
   ],
   "source": [
    "print('----------------- KNN model -----------------')\n",
    "print('Hit rate:')\n",
    "print(knn_hit_rate_list, end='\\n\\n')\n",
    "\n",
    "print('Accuracy:')\n",
    "print(sum(knn_hit_rate_list)/len(knn_hit_rate_list), end='\\n\\n')\n",
    "\n",
    "print('Standard Deviation:')\n",
    "print(knn_std_dev, end='\\n\\n')\n",
    "\n",
    "print('Confusion Matrix:')\n",
    "for matrix in knn_confusion_matrix_list:\n",
    "    print(matrix, end='\\n')"
   ]
  },
  {
   "cell_type": "markdown",
   "metadata": {},
   "source": [
    "# Confusion Matrix Mean"
   ]
  },
  {
   "cell_type": "code",
   "execution_count": 6,
   "metadata": {},
   "outputs": [
    {
     "data": {
      "text/html": [
       "<div>\n",
       "<style scoped>\n",
       "    .dataframe tbody tr th:only-of-type {\n",
       "        vertical-align: middle;\n",
       "    }\n",
       "\n",
       "    .dataframe tbody tr th {\n",
       "        vertical-align: top;\n",
       "    }\n",
       "\n",
       "    .dataframe thead th {\n",
       "        text-align: right;\n",
       "    }\n",
       "</style>\n",
       "<table border=\"1\" class=\"dataframe\">\n",
       "  <thead>\n",
       "    <tr style=\"text-align: right;\">\n",
       "      <th></th>\n",
       "      <th>SL</th>\n",
       "      <th>NO</th>\n",
       "      <th>DH</th>\n",
       "    </tr>\n",
       "  </thead>\n",
       "  <tbody>\n",
       "    <tr>\n",
       "      <th>SL</th>\n",
       "      <td>27</td>\n",
       "      <td>1</td>\n",
       "      <td>0</td>\n",
       "    </tr>\n",
       "    <tr>\n",
       "      <th>NO</th>\n",
       "      <td>0</td>\n",
       "      <td>15</td>\n",
       "      <td>3</td>\n",
       "    </tr>\n",
       "    <tr>\n",
       "      <th>DH</th>\n",
       "      <td>0</td>\n",
       "      <td>5</td>\n",
       "      <td>7</td>\n",
       "    </tr>\n",
       "  </tbody>\n",
       "</table>\n",
       "</div>"
      ],
      "text/plain": [
       "    SL  NO  DH\n",
       "SL  27   1   0\n",
       "NO   0  15   3\n",
       "DH   0   5   7"
      ]
     },
     "execution_count": 6,
     "metadata": {},
     "output_type": "execute_result"
    }
   ],
   "source": [
    "confusion_matrix_mean(knn_confusion_matrix_list)"
   ]
  },
  {
   "cell_type": "markdown",
   "metadata": {},
   "source": [
    "# Showing dmc informations computed"
   ]
  },
  {
   "cell_type": "code",
   "execution_count": 5,
   "metadata": {},
   "outputs": [
    {
     "name": "stdout",
     "output_type": "stream",
     "text": [
      "----------------- DMC model -----------------\n",
      "Hit rate:\n",
      "[0.8387096774193549, 0.7258064516129032, 0.7903225806451613, 0.7580645161290323, 0.8225806451612904, 0.7580645161290323, 0.8387096774193549, 0.7741935483870968, 0.7419354838709677, 0.8064516129032258, 0.7580645161290323, 0.8064516129032258, 0.7580645161290323, 0.7903225806451613, 0.7419354838709677, 0.7580645161290323, 0.7258064516129032, 0.7580645161290323, 0.7419354838709677, 0.7903225806451613]\n",
      "\n",
      "Accuracy:\n",
      "0.7741935483870969\n",
      "\n",
      "Standard Deviation:\n",
      "0.033832543489359726\n",
      "\n",
      "Confusion Matrix:\n",
      "    SL  NO  DH\n",
      "SL  27   3   0\n",
      "NO   0  18   5\n",
      "DH   0   2   7\n",
      "    NO  SL  DH\n",
      "NO   6   1   9\n",
      "SL   4  24   2\n",
      "DH   1   0  15\n",
      "    NO  SL  DH\n",
      "NO  16   0   8\n",
      "SL   4  22   0\n",
      "DH   1   0  11\n",
      "    NO  SL  DH\n",
      "NO  15   0   7\n",
      "SL   5  22   2\n",
      "DH   1   0  10\n",
      "    SL  NO  DH\n",
      "SL  31   1   3\n",
      "NO   1  10   5\n",
      "DH   0   1  10\n",
      "    SL  NO  DH\n",
      "SL  20   2   1\n",
      "NO   1  14   8\n",
      "DH   0   3  13\n",
      "    SL  NO  DH\n",
      "SL  32   0   1\n",
      "NO   1   9   8\n",
      "DH   0   0  11\n",
      "    SL  NO  DH\n",
      "SL  26   3   1\n",
      "NO   1  15   7\n",
      "DH   0   2   7\n",
      "    DH  NO  SL\n",
      "DH  10   0   0\n",
      "NO   7  12   0\n",
      "SL   4   5  24\n",
      "    SL  DH  NO\n",
      "SL  32   2   5\n",
      "DH   0   5   0\n",
      "NO   0   5  13\n",
      "    SL  DH  NO\n",
      "SL  24   1   2\n",
      "DH   0   6   3\n",
      "NO   2   7  17\n",
      "    SL  DH  NO\n",
      "SL  26   2   5\n",
      "DH   0   8   2\n",
      "NO   0   3  16\n",
      "    DH  NO  SL\n",
      "DH  12   1   0\n",
      "NO   7  17   2\n",
      "SL   1   4  18\n",
      "    SL  DH  NO\n",
      "SL  29   2   3\n",
      "DH   0  12   2\n",
      "NO   2   4   8\n",
      "    SL  NO  DH\n",
      "SL  20   4   4\n",
      "NO   1  16   5\n",
      "DH   0   2  10\n",
      "    SL  DH  NO\n",
      "SL  27   3   1\n",
      "DH   0  10   4\n",
      "NO   2   5  10\n",
      "    SL  NO  DH\n",
      "SL  28   4   0\n",
      "NO   0   7  10\n",
      "DH   0   3  10\n",
      "    SL  NO  DH\n",
      "SL  25   7   0\n",
      "NO   0  11   6\n",
      "DH   0   2  11\n",
      "    NO  SL  DH\n",
      "NO  17   2   7\n",
      "SL   1  17   2\n",
      "DH   4   0  12\n",
      "    SL  DH  NO\n",
      "SL  32   1   2\n",
      "DH   0   7   3\n",
      "NO   0   7  10\n"
     ]
    }
   ],
   "source": [
    "print('----------------- DMC model -----------------')\n",
    "print('Hit rate:')\n",
    "print(dmc_hit_rate_list, end='\\n\\n')\n",
    "\n",
    "print('Accuracy:')\n",
    "print(sum(dmc_hit_rate_list)/len(dmc_hit_rate_list), end='\\n\\n')\n",
    "\n",
    "print('Standard Deviation:')\n",
    "print(dmc_std_dev, end='\\n\\n')\n",
    "\n",
    "print('Confusion Matrix:')\n",
    "for matrix in dmc_confusion_matrix_list:\n",
    "    print(matrix, end='\\n')"
   ]
  },
  {
   "cell_type": "code",
   "execution_count": 30,
   "metadata": {},
   "outputs": [
    {
     "data": {
      "text/html": [
       "<div>\n",
       "<style scoped>\n",
       "    .dataframe tbody tr th:only-of-type {\n",
       "        vertical-align: middle;\n",
       "    }\n",
       "\n",
       "    .dataframe tbody tr th {\n",
       "        vertical-align: top;\n",
       "    }\n",
       "\n",
       "    .dataframe thead th {\n",
       "        text-align: right;\n",
       "    }\n",
       "</style>\n",
       "<table border=\"1\" class=\"dataframe\">\n",
       "  <thead>\n",
       "    <tr style=\"text-align: right;\">\n",
       "      <th></th>\n",
       "      <th>SL</th>\n",
       "      <th>NO</th>\n",
       "      <th>DH</th>\n",
       "    </tr>\n",
       "  </thead>\n",
       "  <tbody>\n",
       "    <tr>\n",
       "      <th>SL</th>\n",
       "      <td>24</td>\n",
       "      <td>2</td>\n",
       "      <td>2</td>\n",
       "    </tr>\n",
       "    <tr>\n",
       "      <th>NO</th>\n",
       "      <td>0</td>\n",
       "      <td>13</td>\n",
       "      <td>6</td>\n",
       "    </tr>\n",
       "    <tr>\n",
       "      <th>DH</th>\n",
       "      <td>0</td>\n",
       "      <td>2</td>\n",
       "      <td>10</td>\n",
       "    </tr>\n",
       "  </tbody>\n",
       "</table>\n",
       "</div>"
      ],
      "text/plain": [
       "    SL  NO  DH\n",
       "SL  24   2   2\n",
       "NO   0  13   6\n",
       "DH   0   2  10"
      ]
     },
     "execution_count": 30,
     "metadata": {},
     "output_type": "execute_result"
    }
   ],
   "source": [
    "confusion_matrix_mean(dmc_confusion_matrix_list)"
   ]
  },
  {
   "cell_type": "code",
   "execution_count": 54,
   "metadata": {},
   "outputs": [
    {
     "data": {
      "text/html": [
       "<div>\n",
       "<style scoped>\n",
       "    .dataframe tbody tr th:only-of-type {\n",
       "        vertical-align: middle;\n",
       "    }\n",
       "\n",
       "    .dataframe tbody tr th {\n",
       "        vertical-align: top;\n",
       "    }\n",
       "\n",
       "    .dataframe thead th {\n",
       "        text-align: right;\n",
       "    }\n",
       "</style>\n",
       "<table border=\"1\" class=\"dataframe\">\n",
       "  <thead>\n",
       "    <tr style=\"text-align: right;\">\n",
       "      <th></th>\n",
       "      <th>SL</th>\n",
       "      <th>DH</th>\n",
       "      <th>NO</th>\n",
       "    </tr>\n",
       "  </thead>\n",
       "  <tbody>\n",
       "    <tr>\n",
       "      <th>SL</th>\n",
       "      <td>24</td>\n",
       "      <td>2</td>\n",
       "      <td>2</td>\n",
       "    </tr>\n",
       "    <tr>\n",
       "      <th>DH</th>\n",
       "      <td>0</td>\n",
       "      <td>10</td>\n",
       "      <td>1</td>\n",
       "    </tr>\n",
       "    <tr>\n",
       "      <th>NO</th>\n",
       "      <td>0</td>\n",
       "      <td>9</td>\n",
       "      <td>14</td>\n",
       "    </tr>\n",
       "  </tbody>\n",
       "</table>\n",
       "</div>"
      ],
      "text/plain": [
       "    SL  DH  NO\n",
       "SL  24   2   2\n",
       "DH   0  10   1\n",
       "NO   0   9  14"
      ]
     },
     "execution_count": 54,
     "metadata": {},
     "output_type": "execute_result"
    }
   ],
   "source": [
    "dmc_confusion_matrix_list[1]"
   ]
  },
  {
   "cell_type": "markdown",
   "metadata": {},
   "source": [
    "# Showing kmeans informations computed"
   ]
  },
  {
   "cell_type": "code",
   "execution_count": 6,
   "metadata": {},
   "outputs": [
    {
     "name": "stdout",
     "output_type": "stream",
     "text": [
      "----------------- KMEANS model -----------------\n",
      "Hit rate:\n",
      "[0.8709677419354839, 0.7741935483870968, 0.7258064516129032, 0.8225806451612904, 0.8225806451612904, 0.8064516129032258, 0.7741935483870968, 0.9032258064516129, 0.7741935483870968, 0.967741935483871, 0.8709677419354839, 0.8387096774193549, 0.7419354838709677, 0.7580645161290323, 0.7903225806451613, 0.8870967741935484, 0.8548387096774194, 0.8548387096774194, 0.7580645161290323, 0.7741935483870968]\n",
      "\n",
      "Accuracy:\n",
      "0.8185483870967742\n",
      "\n",
      "Standard Deviation:\n",
      "0.060537610534955856\n",
      "\n",
      "Confusion Matrix:\n",
      "    SL  NO  DH\n",
      "SL  29   1   0\n",
      "NO   1  21   1\n",
      "DH   1   4   4\n",
      "    NO  SL  DH\n",
      "NO  11   1   4\n",
      "SL   1  28   1\n",
      "DH   6   1   9\n",
      "    NO  SL  DH\n",
      "NO  13   1  10\n",
      "SL   2  24   0\n",
      "DH   4   0   8\n",
      "    NO  SL  DH\n",
      "NO  20   0   2\n",
      "SL   1  27   1\n",
      "DH   7   0   4\n",
      "    SL  NO  DH\n",
      "SL  34   1   0\n",
      "NO   0  14   2\n",
      "DH   1   7   3\n",
      "    SL  NO  DH\n",
      "SL  22   1   0\n",
      "NO   1  16   6\n",
      "DH   0   4  12\n",
      "    SL  NO  DH\n",
      "SL  32   0   1\n",
      "NO   1  11   6\n",
      "DH   0   6   5\n",
      "    SL  NO  DH\n",
      "SL  30   0   0\n",
      "NO   1  21   1\n",
      "DH   0   4   5\n",
      "    DH  NO  SL\n",
      "DH   7   3   0\n",
      "NO   4  12   3\n",
      "SL   1   3  29\n",
      "    SL  DH  NO\n",
      "SL  39   0   0\n",
      "DH   0   4   1\n",
      "NO   0   1  17\n",
      "    SL  DH  NO\n",
      "SL  27   0   0\n",
      "DH   0   6   3\n",
      "NO   2   3  21\n",
      "    SL  DH  NO\n",
      "SL  32   0   1\n",
      "DH   0   5   5\n",
      "NO   0   4  15\n",
      "    DH  NO  SL\n",
      "DH   4   9   0\n",
      "NO   3  21   2\n",
      "SL   0   2  21\n",
      "    SL  DH  NO\n",
      "SL  33   1   0\n",
      "DH   0   4  10\n",
      "NO   0   4  10\n",
      "    SL  NO  DH\n",
      "SL  24   0   4\n",
      "NO   1  16   5\n",
      "DH   0   3   9\n",
      "    SL  DH  NO\n",
      "SL  31   0   0\n",
      "DH   0  11   3\n",
      "NO   1   3  13\n",
      "    SL  NO  DH\n",
      "SL  32   0   0\n",
      "NO   1  14   2\n",
      "DH   1   5   7\n",
      "    SL  NO  DH\n",
      "SL  30   1   1\n",
      "NO   0  14   3\n",
      "DH   1   3   9\n",
      "    NO  SL  DH\n",
      "NO  19   1   6\n",
      "SL   0  20   0\n",
      "DH   8   0   8\n",
      "    SL  DH  NO\n",
      "SL  34   0   1\n",
      "DH   0   5   5\n",
      "NO   0   8   9\n"
     ]
    }
   ],
   "source": [
    "print('----------------- KMEANS model -----------------')\n",
    "print('Hit rate:')\n",
    "print(kmeans_hit_rate_list, end='\\n\\n')\n",
    "\n",
    "print('Accuracy:')\n",
    "print(sum(kmeans_hit_rate_list)/len(kmeans_hit_rate_list), end='\\n\\n')\n",
    "\n",
    "print('Standard Deviation:')\n",
    "print(kmeans_std_dev, end='\\n\\n')\n",
    "\n",
    "print('Confusion Matrix:')\n",
    "for matrix in kmeans_confusion_matrix_list:\n",
    "    print(matrix, end='\\n')"
   ]
  },
  {
   "cell_type": "code",
   "execution_count": null,
   "metadata": {},
   "outputs": [],
   "source": [
    "confusion_matrix_mean(kmeans_confusion_matrix_list)"
   ]
  },
  {
   "cell_type": "code",
   "execution_count": null,
   "metadata": {},
   "outputs": [],
   "source": [
    "kmeans_confusion_matrix_list[1]"
   ]
  },
  {
   "cell_type": "markdown",
   "metadata": {},
   "source": [
    "# Choosing two columns from the last X_train and X_test to plot decision surface"
   ]
  },
  {
   "cell_type": "code",
   "execution_count": 7,
   "metadata": {},
   "outputs": [
    {
     "name": "stdout",
     "output_type": "stream",
     "text": [
      "Train dataset:\n",
      "         0      1\n",
      "124  74.72  14.32\n",
      "54   41.17  17.32\n",
      "140  69.56  15.40\n",
      "50   55.29  20.44\n",
      "13   53.57  20.46\n",
      "..     ...    ...\n",
      "24   36.13  22.76\n",
      "218  51.62  15.97\n",
      "166  56.99   6.87\n",
      "175  56.56   8.96\n",
      "259  63.62  16.93\n",
      "\n",
      "[248 rows x 2 columns]\n",
      "Test dataset:\n",
      "         0      1\n",
      "145  85.64  42.69\n",
      "114  80.99  36.84\n",
      "165  83.70  20.27\n",
      "10   49.71  13.04\n",
      "228  38.05   8.30\n",
      "..     ...    ...\n",
      "150  81.11  20.69\n",
      "98   77.66  22.43\n",
      "276  51.33  13.63\n",
      "209  48.26  16.42\n",
      "298  66.51  20.90\n",
      "\n",
      "[62 rows x 2 columns]\n"
     ]
    }
   ],
   "source": [
    "X_train_2d, X_test_2d = X_train[X_train.columns[:2]], X_test[X_train.columns[:2]]\n",
    "\n",
    "print('Train dataset:')\n",
    "print(X_train_2d)\n",
    "print('Test dataset:')\n",
    "print(X_test_2d)"
   ]
  },
  {
   "cell_type": "markdown",
   "metadata": {},
   "source": [
    "# Training the models with the new dataset 2d"
   ]
  },
  {
   "cell_type": "code",
   "execution_count": 8,
   "metadata": {},
   "outputs": [
    {
     "name": "stderr",
     "output_type": "stream",
     "text": [
      "w:\\Home\\ML\\knn\\knn.py:11: FutureWarning: The default dtype for empty Series will be 'object' instead of 'float64' in a future version. Specify a dtype explicitly to silence this warning.\n",
      "  self.__y = pd.Series([])\n"
     ]
    }
   ],
   "source": [
    "knn_model = knn(k=3, type_distance_calc='euclidean')\n",
    "knn_model.fit(X_train_2d, y_train)\n",
    "dmc_model = dmc(type_distance_calc='euclidean')\n",
    "dmc_model.fit(X_train_2d, y_train)\n",
    "kmeans_model = kmeans(k=25, type_distance_calc='euclidean', number_iteration=300)\n",
    "kmeans_model.fit(X_train_2d, y_train)"
   ]
  },
  {
   "cell_type": "markdown",
   "metadata": {},
   "source": [
    "# Plotting knn decision surface"
   ]
  },
  {
   "cell_type": "code",
   "execution_count": 9,
   "metadata": {},
   "outputs": [
    {
     "data": {
      "image/png": "[encoded data removed]",
      "text/plain": [
       "<Figure size 640x480 with 1 Axes>"
      ]
     },
     "metadata": {},
     "output_type": "display_data"
    }
   ],
   "source": [
    "data = X_test_2d[:][:].values\n",
    "\n",
    "x_min, x_max = data[:, 0].min() - 0.1, data[:,0].max() + 0.1\n",
    "y_min, y_max = data[:, 1].min() - 0.1, data[:, 1].max() + 0.1\n",
    "\n",
    "xx, yy = np.meshgrid(np.linspace(x_min,x_max, 100),\n",
    "np.linspace(y_min, y_max, 100))\n",
    "\n",
    "x_in = np.c_[xx.ravel(), yy.ravel()]\n",
    "\n",
    "y_pred = [[knn_model.predict(x) for x in x_in]]\n",
    "for i, y in enumerate(y_pred[0]):\n",
    "    if y == 'DH':\n",
    "        y_pred[0][i] = 1\n",
    "    elif y == 'SL':\n",
    "        y_pred[0][i] = 2\n",
    "    else:\n",
    "        y_pred[0][i] = 3\n",
    "\n",
    "y_pred = np.round(y_pred).reshape(xx.shape)\n",
    "\n",
    "plt.contourf(xx, yy, y_pred, cmap=plt.cm.RdYlBu, alpha=0.7 )\n",
    "\n",
    "plt.xlim(xx.min(), xx.max())\n",
    "plt.ylim(yy.min(), yy.max())\n",
    "\n",
    "knn_y_pred = np.array([knn_model.predict(x) for x in X_test_2d.values])\n",
    "\n",
    "dh = np.where(knn_y_pred == 'DH')\n",
    "sl = np.where(knn_y_pred == 'SL')\n",
    "no = np.where(knn_y_pred == 'NO')\n",
    "\n",
    "plt.scatter(data[dh, 0], data[dh, 1],\n",
    "            color='red', marker='o', label='dh')\n",
    "plt.scatter(data[sl, 0], data[sl, 1],\n",
    "            color='yellow', marker='X', label='sl')\n",
    "plt.scatter(data[no, 0], data[no, 1],\n",
    "            color='blue', marker='P', label='no')\n",
    "\n",
    "plt.show()"
   ]
  },
  {
   "cell_type": "markdown",
   "metadata": {},
   "source": [
    "# Plotting dmc decision surface"
   ]
  },
  {
   "cell_type": "code",
   "execution_count": 10,
   "metadata": {},
   "outputs": [
    {
     "data": {
      "image/png": "[encoded data removed]",
      "text/plain": [
       "<Figure size 640x480 with 1 Axes>"
      ]
     },
     "metadata": {},
     "output_type": "display_data"
    }
   ],
   "source": [
    "data = X_test_2d[:][:].values\n",
    "\n",
    "x_min, x_max = data[:, 0].min() - 0.1, data[:,0].max() + 0.1\n",
    "y_min, y_max = data[:, 1].min() - 0.1, data[:, 1].max() + 0.1\n",
    "\n",
    "xx, yy = np.meshgrid(np.linspace(x_min,x_max, 100),\n",
    "np.linspace(y_min, y_max, 100))\n",
    "\n",
    "x_in = np.c_[xx.ravel(), yy.ravel()]\n",
    "\n",
    "y_pred = [[dmc_model.predict(x) for x in x_in]]\n",
    "for i, y in enumerate(y_pred[0]):\n",
    "    if y == 'DH':\n",
    "        y_pred[0][i] = 1\n",
    "    elif y == 'SL':\n",
    "        y_pred[0][i] = 2\n",
    "    else:\n",
    "        y_pred[0][i] = 3\n",
    "\n",
    "y_pred = np.round(y_pred).reshape(xx.shape)\n",
    "\n",
    "plt.contourf(xx, yy, y_pred, cmap=plt.cm.RdYlBu, alpha=0.7 )\n",
    "\n",
    "plt.xlim(xx.min(), xx.max())\n",
    "plt.ylim(yy.min(), yy.max())\n",
    "\n",
    "dmc_y_pred = np.array([dmc_model.predict(x) for x in X_test_2d.values])\n",
    "\n",
    "dh = np.where(dmc_y_pred == 'DH')\n",
    "sl = np.where(dmc_y_pred == 'SL')\n",
    "no = np.where(dmc_y_pred == 'NO')\n",
    "\n",
    "plt.scatter(data[dh, 0], data[dh, 1],\n",
    "            color='red', marker='o', label='dh')\n",
    "plt.scatter(data[sl, 0], data[sl, 1],\n",
    "            color='yellow', marker='X', label='sl')\n",
    "plt.scatter(data[no, 0], data[no, 1],\n",
    "            color='blue', marker='P', label='no')\n",
    "\n",
    "plt.show()"
   ]
  },
  {
   "cell_type": "markdown",
   "metadata": {},
   "source": [
    "# Plotting kmeans decision surface"
   ]
  },
  {
   "cell_type": "code",
   "execution_count": 13,
   "metadata": {},
   "outputs": [
    {
     "data": {
      "image/png": "[encoded data removed]",
      "text/plain": [
       "<Figure size 640x480 with 1 Axes>"
      ]
     },
     "metadata": {},
     "output_type": "display_data"
    }
   ],
   "source": [
    "data = X_test_2d[:][:].values\n",
    "\n",
    "x_min, x_max = data[:, 0].min() - 0.1, data[:,0].max() + 0.1\n",
    "y_min, y_max = data[:, 1].min() - 0.1, data[:, 1].max() + 0.1\n",
    "\n",
    "xx, yy = np.meshgrid(np.linspace(x_min,x_max, 100),\n",
    "np.linspace(y_min, y_max, 100))\n",
    "\n",
    "x_in = np.c_[xx.ravel(), yy.ravel()]\n",
    "\n",
    "y_pred = [[kmeans_model.predict(x) for x in x_in]]\n",
    "for i, y in enumerate(y_pred[0]):\n",
    "    if y == 'DH':\n",
    "        y_pred[0][i] = 1\n",
    "    elif y == 'SL':\n",
    "        y_pred[0][i] = 2\n",
    "    elif y == 'NO':\n",
    "        y_pred[0][i] = 3\n",
    "    else:\n",
    "        y_pred[0][i] = 4\n",
    "\n",
    "y_pred = np.round(y_pred).reshape(xx.shape)\n",
    "\n",
    "plt.contourf(xx, yy, y_pred, cmap=plt.cm.RdYlBu, alpha=0.7 )\n",
    "\n",
    "plt.xlim(xx.min(), xx.max())\n",
    "plt.ylim(yy.min(), yy.max())\n",
    "\n",
    "kmeans_y_pred = np.array([kmeans_model.predict(x) for x in X_test_2d.values])\n",
    "\n",
    "dh = np.where(dmc_y_pred == 'DH')\n",
    "sl = np.where(dmc_y_pred == 'SL')\n",
    "no = np.where(dmc_y_pred == 'NO')\n",
    "\n",
    "plt.scatter(data[dh, 0], data[dh, 1],\n",
    "            color='red', marker='o', label='dh')\n",
    "plt.scatter(data[sl, 0], data[sl, 1],\n",
    "            color='yellow', marker='X', label='sl')\n",
    "plt.scatter(data[no, 0], data[no, 1],\n",
    "            color='blue', marker='P', label='no')\n",
    "\n",
    "plt.show()"
   ]
  }
 ],
 "metadata": {
  "kernelspec": {
   "display_name": "Python 3.10.4 ('.venv': venv)",
   "language": "python",
   "name": "python3"
  },
  "language_info": {
   "codemirror_mode": {
    "name": "ipython",
    "version": 3
   },
   "file_extension": ".py",
   "mimetype": "text/x-python",
   "name": "python",
   "nbconvert_exporter": "python",
   "pygments_lexer": "ipython3",
   "version": "3.10.4"
  },
  "orig_nbformat": 4,
  "vscode": {
   "interpreter": {
    "hash": "33434f0cc8e6f3723834300de8718debdc0c9ba9cd4c4faf0515f4c47995aa8c"
   }
  }
 },
 "nbformat": 4,
 "nbformat_minor": 2
}
