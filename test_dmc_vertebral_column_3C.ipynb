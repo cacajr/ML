{
 "cells": [
  {
   "cell_type": "markdown",
   "metadata": {},
   "source": [
    "# Import libs"
   ]
  },
  {
   "cell_type": "code",
   "execution_count": 10,
   "metadata": {},
   "outputs": [],
   "source": [
    "import pandas as pd\n",
    "import numpy as np\n",
    "from dmc.dmc import dmc\n",
    "from sklearn.model_selection import train_test_split\n",
    "from sklearn.metrics import confusion_matrix\n",
    "from matplotlib import pyplot as plt"
   ]
  },
  {
   "cell_type": "markdown",
   "metadata": {},
   "source": [
    "# Loading Vertebral Column 3C dataset"
   ]
  },
  {
   "cell_type": "code",
   "execution_count": 11,
   "metadata": {},
   "outputs": [],
   "source": [
    "Xy = pd.read_csv('./datasets/vertebral_column_3C.dat', header=None, sep=' ', engine='python')\n",
    "\n",
    "X = Xy.drop(Xy.columns[-1:], axis=1)\n",
    "y = Xy[Xy.columns[-1]]"
   ]
  },
  {
   "cell_type": "markdown",
   "metadata": {},
   "source": [
    "# Instantiating model"
   ]
  },
  {
   "cell_type": "code",
   "execution_count": 12,
   "metadata": {},
   "outputs": [],
   "source": [
    "dmc_model = dmc(type_distance_calc='euclidean')"
   ]
  },
  {
   "cell_type": "markdown",
   "metadata": {},
   "source": [
    "# Running the tests and computing informations"
   ]
  },
  {
   "cell_type": "code",
   "execution_count": 13,
   "metadata": {},
   "outputs": [],
   "source": [
    "realizations = 20\n",
    "hit_rate_list = []\n",
    "std_dev = 0\n",
    "confusion_matrix_list = []\n",
    "\n",
    "for r in range(realizations):\n",
    "    X_train, X_test, y_train, y_test = train_test_split(X, y, test_size = 0.2)\n",
    "\n",
    "    dmc_model.fit(X_train, y_train)\n",
    "\n",
    "    hit_rate_list.append(dmc_model.score(X_test, y_test))\n",
    "\n",
    "    y_pred = [dmc_model.predict(x) for x in X_test.values]\n",
    "\n",
    "    confusion_matrix_list.append(confusion_matrix(y_test, y_pred))\n",
    "\n",
    "std_dev = np.std(hit_rate_list)"
   ]
  },
  {
   "cell_type": "markdown",
   "metadata": {},
   "source": [
    "# Showing informations computed"
   ]
  },
  {
   "cell_type": "code",
   "execution_count": 14,
   "metadata": {},
   "outputs": [
    {
     "name": "stdout",
     "output_type": "stream",
     "text": [
      "Hit rate:\n",
      "[0.8064516129032258, 0.7741935483870968, 0.7580645161290323, 0.7258064516129032, 0.8225806451612904, 0.7580645161290323, 0.7580645161290323, 0.8225806451612904, 0.7419354838709677, 0.8064516129032258, 0.8064516129032258, 0.7903225806451613, 0.7258064516129032, 0.7580645161290323, 0.7903225806451613, 0.7741935483870968, 0.7741935483870968, 0.8225806451612904, 0.7903225806451613, 0.8225806451612904]\n",
      "\n",
      "Accuracy:\n",
      "0.7814516129032258\n",
      "\n",
      "Standard Deviation:\n",
      "0.03080391815287787\n",
      "\n",
      "Confusion Matrix:\n",
      "[[ 3  1  0]\n",
      " [ 5 18  1]\n",
      " [ 0  5 29]]\n",
      "[[10  3  0]\n",
      " [ 6 12  1]\n",
      " [ 1  3 26]]\n",
      "[[10  0  0]\n",
      " [ 7 14  2]\n",
      " [ 2  4 23]]\n",
      "[[12  2  0]\n",
      " [ 8 13  2]\n",
      " [ 2  3 20]]\n",
      "[[10  2  0]\n",
      " [ 6 11  1]\n",
      " [ 2  0 30]]\n",
      "[[14  4  0]\n",
      " [ 4 13  1]\n",
      " [ 1  5 20]]\n",
      "[[13  7  0]\n",
      " [ 4 14  1]\n",
      " [ 3  0 20]]\n",
      "[[11  2  0]\n",
      " [ 6 10  0]\n",
      " [ 0  3 30]]\n",
      "[[ 6  2  0]\n",
      " [ 6 16  1]\n",
      " [ 2  5 24]]\n",
      "[[ 9  2  0]\n",
      " [ 4 15  1]\n",
      " [ 4  1 26]]\n",
      "[[14  4  0]\n",
      " [ 3 12  0]\n",
      " [ 2  3 24]]\n",
      "[[10  3  0]\n",
      " [ 5 14  1]\n",
      " [ 0  4 25]]\n",
      "[[12  3  0]\n",
      " [ 7 16  2]\n",
      " [ 2  3 17]]\n",
      "[[11  1  0]\n",
      " [ 8  9  0]\n",
      " [ 1  5 27]]\n",
      "[[12  0  0]\n",
      " [ 5 16  2]\n",
      " [ 2  4 21]]\n",
      "[[ 8  1  0]\n",
      " [ 8 14  1]\n",
      " [ 2  2 26]]\n",
      "[[10  3  0]\n",
      " [ 6 15  2]\n",
      " [ 1  2 23]]\n",
      "[[ 8  1  0]\n",
      " [ 4 13  1]\n",
      " [ 2  3 30]]\n",
      "[[11  1  0]\n",
      " [ 7 15  0]\n",
      " [ 2  3 23]]\n",
      "[[11  2  0]\n",
      " [ 6 12  0]\n",
      " [ 0  3 28]]\n"
     ]
    }
   ],
   "source": [
    "print('Hit rate:')\n",
    "print(hit_rate_list, end='\\n\\n')\n",
    "\n",
    "print('Accuracy:')\n",
    "print(sum(hit_rate_list)/len(hit_rate_list), end='\\n\\n')\n",
    "\n",
    "print('Standard Deviation:')\n",
    "print(std_dev, end='\\n\\n')\n",
    "\n",
    "print('Confusion Matrix:')\n",
    "for matrix in confusion_matrix_list:\n",
    "    print(matrix, end='\\n')"
   ]
  },
  {
   "cell_type": "markdown",
   "metadata": {},
   "source": [
    "# Choosing two columns from the last X_train and X_test to plot decision surface"
   ]
  },
  {
   "cell_type": "code",
   "execution_count": 15,
   "metadata": {},
   "outputs": [
    {
     "name": "stdout",
     "output_type": "stream",
     "text": [
      "Train dataset:\n",
      "         0      1\n",
      "215  30.74  13.35\n",
      "218  51.62  15.97\n",
      "68   72.08  18.95\n",
      "84   76.33  42.40\n",
      "288  74.57  15.72\n",
      "..     ...    ...\n",
      "204  56.54  14.38\n",
      "282  53.68  13.45\n",
      "28   44.55  21.93\n",
      "67   75.65  19.34\n",
      "299  82.91  29.89\n",
      "\n",
      "[248 rows x 2 columns]\n",
      "Test dataset:\n",
      "         0      1\n",
      "96   96.66  19.46\n",
      "241  51.53  13.52\n",
      "106  65.01   9.84\n",
      "21   54.92  21.06\n",
      "194  72.64  18.93\n",
      "..     ...    ...\n",
      "246  46.64  15.85\n",
      "245  47.81  10.69\n",
      "221  54.95   5.87\n",
      "140  69.56  15.40\n",
      "206  95.48  46.55\n",
      "\n",
      "[62 rows x 2 columns]\n"
     ]
    }
   ],
   "source": [
    "X_train_2d, X_test_2d = X_train[X_train.columns[:2]], X_test[X_train.columns[:2]]\n",
    "\n",
    "print('Train dataset:')\n",
    "print(X_train_2d)\n",
    "print('Test dataset:')\n",
    "print(X_test_2d)"
   ]
  },
  {
   "cell_type": "markdown",
   "metadata": {},
   "source": [
    "# Training the model with the new dataset 2d"
   ]
  },
  {
   "cell_type": "code",
   "execution_count": 16,
   "metadata": {},
   "outputs": [],
   "source": [
    "dmc_model = dmc(type_distance_calc='euclidean')\n",
    "dmc_model.fit(X_train_2d, y_train)"
   ]
  },
  {
   "cell_type": "markdown",
   "metadata": {},
   "source": [
    "# Plotting decision surface"
   ]
  },
  {
   "cell_type": "code",
   "execution_count": 17,
   "metadata": {},
   "outputs": [
    {
     "data": {
      "image/png": "[encoded data removed]",
      "text/plain": [
       "<Figure size 640x480 with 1 Axes>"
      ]
     },
     "metadata": {},
     "output_type": "display_data"
    }
   ],
   "source": [
    "data = X_train_2d[:][:].values\n",
    "\n",
    "x_ax = np.arange(data[:, 0].min(), data[:, 1].max())\n",
    "\n",
    "dh = np.where(y_train == 'DH')\n",
    "sl = np.where(y_train == 'SL')\n",
    "no = np.where(y_train == 'NO')\n",
    "\n",
    "plt.scatter(data[dh, 0], data[dh, 1],\n",
    "            color='red', marker='o', label='dh')\n",
    "plt.scatter(data[sl, 0], data[sl, 1],\n",
    "            color='blue', marker='p', label='sl')\n",
    "plt.scatter(data[no, 0], data[no, 1],\n",
    "            color='yellow', marker='*', label='no')\n",
    "\n",
    "plt.show()"
   ]
  }
 ],
 "metadata": {
  "kernelspec": {
   "display_name": "Python 3.10.4 ('.venv': venv)",
   "language": "python",
   "name": "python3"
  },
  "language_info": {
   "codemirror_mode": {
    "name": "ipython",
    "version": 3
   },
   "file_extension": ".py",
   "mimetype": "text/x-python",
   "name": "python",
   "nbconvert_exporter": "python",
   "pygments_lexer": "ipython3",
   "version": "3.10.4"
  },
  "orig_nbformat": 4,
  "vscode": {
   "interpreter": {
    "hash": "33434f0cc8e6f3723834300de8718debdc0c9ba9cd4c4faf0515f4c47995aa8c"
   }
  }
 },
 "nbformat": 4,
 "nbformat_minor": 2
}
