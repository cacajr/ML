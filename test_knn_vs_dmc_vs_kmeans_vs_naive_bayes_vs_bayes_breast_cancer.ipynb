{
 "cells": [
  {
   "cell_type": "markdown",
   "metadata": {},
   "source": [
    "# Import libs"
   ]
  },
  {
   "cell_type": "code",
   "execution_count": 1,
   "metadata": {},
   "outputs": [],
   "source": [
    "import pandas as pd\n",
    "import numpy as np\n",
    "from knn.knn import knn\n",
    "from dmc.dmc import dmc\n",
    "from kmeans.kmeans import kmeans\n",
    "from naive_bayes_classifier.naive_bayes_classifier import naive_bayes_classifier\n",
    "from bayes_classifier.bayes_classifier import bayes_classifier\n",
    "from sklearn.model_selection import train_test_split\n",
    "# from sklearn.metrics import confusion_matrix\n",
    "from utils.functions import confusion_matrix, confusion_matrix_mean\n",
    "from matplotlib import pyplot as plt"
   ]
  },
  {
   "cell_type": "markdown",
   "metadata": {},
   "source": [
    "# Loading Breast Cancer dataset"
   ]
  },
  {
   "cell_type": "code",
   "execution_count": 2,
   "metadata": {},
   "outputs": [],
   "source": [
    "Xy = pd.read_csv('./datasets/breast_cancer.csv')\n",
    "Xy.dropna(inplace=True)\n",
    "X = Xy.drop(['diagnosis', 'id'], axis=1)\n",
    "y = Xy['diagnosis']"
   ]
  },
  {
   "cell_type": "markdown",
   "metadata": {},
   "source": [
    "# Running the tests and computing informations"
   ]
  },
  {
   "cell_type": "code",
   "execution_count": 3,
   "metadata": {},
   "outputs": [
    {
     "name": "stderr",
     "output_type": "stream",
     "text": [
      "w:\\Home\\ML\\knn\\knn.py:11: FutureWarning: The default dtype for empty Series will be 'object' instead of 'float64' in a future version. Specify a dtype explicitly to silence this warning.\n",
      "  self.__y = pd.Series([])\n",
      "w:\\Home\\ML\\knn\\knn.py:11: FutureWarning: The default dtype for empty Series will be 'object' instead of 'float64' in a future version. Specify a dtype explicitly to silence this warning.\n",
      "  self.__y = pd.Series([])\n",
      "w:\\Home\\ML\\knn\\knn.py:11: FutureWarning: The default dtype for empty Series will be 'object' instead of 'float64' in a future version. Specify a dtype explicitly to silence this warning.\n",
      "  self.__y = pd.Series([])\n",
      "w:\\Home\\ML\\knn\\knn.py:11: FutureWarning: The default dtype for empty Series will be 'object' instead of 'float64' in a future version. Specify a dtype explicitly to silence this warning.\n",
      "  self.__y = pd.Series([])\n",
      "w:\\Home\\ML\\knn\\knn.py:11: FutureWarning: The default dtype for empty Series will be 'object' instead of 'float64' in a future version. Specify a dtype explicitly to silence this warning.\n",
      "  self.__y = pd.Series([])\n",
      "w:\\Home\\ML\\knn\\knn.py:11: FutureWarning: The default dtype for empty Series will be 'object' instead of 'float64' in a future version. Specify a dtype explicitly to silence this warning.\n",
      "  self.__y = pd.Series([])\n",
      "w:\\Home\\ML\\knn\\knn.py:11: FutureWarning: The default dtype for empty Series will be 'object' instead of 'float64' in a future version. Specify a dtype explicitly to silence this warning.\n",
      "  self.__y = pd.Series([])\n",
      "w:\\Home\\ML\\knn\\knn.py:11: FutureWarning: The default dtype for empty Series will be 'object' instead of 'float64' in a future version. Specify a dtype explicitly to silence this warning.\n",
      "  self.__y = pd.Series([])\n",
      "w:\\Home\\ML\\knn\\knn.py:11: FutureWarning: The default dtype for empty Series will be 'object' instead of 'float64' in a future version. Specify a dtype explicitly to silence this warning.\n",
      "  self.__y = pd.Series([])\n",
      "w:\\Home\\ML\\knn\\knn.py:11: FutureWarning: The default dtype for empty Series will be 'object' instead of 'float64' in a future version. Specify a dtype explicitly to silence this warning.\n",
      "  self.__y = pd.Series([])\n",
      "w:\\Home\\ML\\knn\\knn.py:11: FutureWarning: The default dtype for empty Series will be 'object' instead of 'float64' in a future version. Specify a dtype explicitly to silence this warning.\n",
      "  self.__y = pd.Series([])\n",
      "w:\\Home\\ML\\knn\\knn.py:11: FutureWarning: The default dtype for empty Series will be 'object' instead of 'float64' in a future version. Specify a dtype explicitly to silence this warning.\n",
      "  self.__y = pd.Series([])\n",
      "w:\\Home\\ML\\knn\\knn.py:11: FutureWarning: The default dtype for empty Series will be 'object' instead of 'float64' in a future version. Specify a dtype explicitly to silence this warning.\n",
      "  self.__y = pd.Series([])\n",
      "w:\\Home\\ML\\knn\\knn.py:11: FutureWarning: The default dtype for empty Series will be 'object' instead of 'float64' in a future version. Specify a dtype explicitly to silence this warning.\n",
      "  self.__y = pd.Series([])\n",
      "w:\\Home\\ML\\knn\\knn.py:11: FutureWarning: The default dtype for empty Series will be 'object' instead of 'float64' in a future version. Specify a dtype explicitly to silence this warning.\n",
      "  self.__y = pd.Series([])\n",
      "w:\\Home\\ML\\knn\\knn.py:11: FutureWarning: The default dtype for empty Series will be 'object' instead of 'float64' in a future version. Specify a dtype explicitly to silence this warning.\n",
      "  self.__y = pd.Series([])\n",
      "w:\\Home\\ML\\knn\\knn.py:11: FutureWarning: The default dtype for empty Series will be 'object' instead of 'float64' in a future version. Specify a dtype explicitly to silence this warning.\n",
      "  self.__y = pd.Series([])\n",
      "w:\\Home\\ML\\knn\\knn.py:11: FutureWarning: The default dtype for empty Series will be 'object' instead of 'float64' in a future version. Specify a dtype explicitly to silence this warning.\n",
      "  self.__y = pd.Series([])\n",
      "w:\\Home\\ML\\knn\\knn.py:11: FutureWarning: The default dtype for empty Series will be 'object' instead of 'float64' in a future version. Specify a dtype explicitly to silence this warning.\n",
      "  self.__y = pd.Series([])\n",
      "w:\\Home\\ML\\knn\\knn.py:11: FutureWarning: The default dtype for empty Series will be 'object' instead of 'float64' in a future version. Specify a dtype explicitly to silence this warning.\n",
      "  self.__y = pd.Series([])\n"
     ]
    }
   ],
   "source": [
    "realizations = 20\n",
    "knn_hit_rate_list = []\n",
    "dmc_hit_rate_list = []\n",
    "kmeans_hit_rate_list = []\n",
    "nb_hit_rate_list = []\n",
    "b_hit_rate_list = []\n",
    "\n",
    "knn_std_dev = 0\n",
    "dmc_std_dev = 0\n",
    "kmeans_std_dev = 0\n",
    "nb_std_dev = 0\n",
    "b_std_dev = 0\n",
    "\n",
    "knn_confusion_matrix_list = []\n",
    "dmc_confusion_matrix_list = []\n",
    "kmeans_confusion_matrix_list = []\n",
    "nb_confusion_matrix_list = []\n",
    "b_confusion_matrix_list = []\n",
    "\n",
    "for r in range(realizations):\n",
    "    X_train, X_test, y_train, y_test = train_test_split(X, y, test_size = 0.2)\n",
    "\n",
    "    knn_model = knn(k=3, type_distance_calc='euclidean')\n",
    "    knn_model.fit(X_train, y_train)\n",
    "\n",
    "    dmc_model = dmc(type_distance_calc='euclidean')\n",
    "    dmc_model.fit(X_train, y_train)\n",
    "\n",
    "    kmeans_model = kmeans(k=25, type_distance_calc='euclidean', number_iteration=300)\n",
    "    kmeans_model.fit(X_train, y_train)\n",
    "\n",
    "    nb_model = naive_bayes_classifier()\n",
    "    nb_model.fit(X_train, y_train)\n",
    "\n",
    "    b_model = bayes_classifier()\n",
    "    b_model.fit(X_train, y_train)\n",
    "\n",
    "    knn_hit_rate_list.append(knn_model.score(X_test, y_test))\n",
    "    dmc_hit_rate_list.append(dmc_model.score(X_test, y_test))\n",
    "    kmeans_hit_rate_list.append(kmeans_model.score(X_test, y_test))\n",
    "    nb_hit_rate_list.append(nb_model.score(X_test, y_test))\n",
    "    b_hit_rate_list.append(b_model.score(X_test, y_test))\n",
    "\n",
    "    knn_y_pred = [knn_model.predict(x) for x in X_test.values]\n",
    "    dmc_y_pred = [dmc_model.predict(x) for x in X_test.values]\n",
    "    kmeans_y_pred = [kmeans_model.predict(x) for x in X_test.values]\n",
    "    nb_y_pred = [nb_model.predict(x) for x in X_test.values]\n",
    "    b_y_pred = [b_model.predict(x) for x in X_test.values]\n",
    "\n",
    "    knn_confusion_matrix_list.append(confusion_matrix(y_test, knn_y_pred))\n",
    "    dmc_confusion_matrix_list.append(confusion_matrix(y_test, dmc_y_pred))\n",
    "    kmeans_confusion_matrix_list.append(confusion_matrix(y_test, kmeans_y_pred))\n",
    "    nb_confusion_matrix_list.append(confusion_matrix(y_test, nb_y_pred))\n",
    "    b_confusion_matrix_list.append(confusion_matrix(y_test, b_y_pred))\n",
    "\n",
    "knn_std_dev = np.std(knn_hit_rate_list)\n",
    "dmc_std_dev = np.std(dmc_hit_rate_list)\n",
    "kmeans_std_dev = np.std(kmeans_hit_rate_list)\n",
    "nb_std_dev = np.std(nb_hit_rate_list)\n",
    "b_std_dev = np.std(b_hit_rate_list)"
   ]
  },
  {
   "cell_type": "markdown",
   "metadata": {},
   "source": [
    "# Showing knn informations computed"
   ]
  },
  {
   "cell_type": "code",
   "execution_count": 4,
   "metadata": {},
   "outputs": [
    {
     "name": "stdout",
     "output_type": "stream",
     "text": [
      "----------------- KNN model -----------------\n",
      "Hit rate:\n",
      "[0.956140350877193, 0.9210526315789473, 0.9210526315789473, 0.9210526315789473, 0.9473684210526315, 0.9649122807017544, 0.9210526315789473, 0.9298245614035088, 0.9210526315789473, 0.9122807017543859, 0.9122807017543859, 0.8859649122807017, 0.9473684210526315, 0.9210526315789473, 0.9122807017543859, 0.9122807017543859, 0.9210526315789473, 0.9473684210526315, 0.9912280701754386, 0.9122807017543859]\n",
      "\n",
      "Accuracy:\n",
      "0.9289473684210524\n",
      "\n",
      "Standard Deviation:\n",
      "0.02302527148843279\n",
      "\n",
      "Confusion Matrix:\n",
      "    M   B\n",
      "M  40   4\n",
      "B   1  69\n",
      "    M   B\n",
      "M  46   6\n",
      "B   3  59\n",
      "    B   M\n",
      "B  67   8\n",
      "M   1  38\n",
      "    B   M\n",
      "B  65   6\n",
      "M   3  40\n",
      "    M   B\n",
      "M  33   3\n",
      "B   3  75\n",
      "    M   B\n",
      "M  30   3\n",
      "B   1  80\n",
      "    B   M\n",
      "B  67   3\n",
      "M   6  38\n",
      "    M   B\n",
      "M  38   4\n",
      "B   4  68\n",
      "    B   M\n",
      "B  71   1\n",
      "M   8  34\n",
      "    B   M\n",
      "B  70   2\n",
      "M   8  34\n",
      "    B   M\n",
      "B  66   3\n",
      "M   7  38\n",
      "    M   B\n",
      "M  40   7\n",
      "B   6  61\n",
      "    B   M\n",
      "B  71   3\n",
      "M   3  37\n",
      "    B   M\n",
      "B  63   5\n",
      "M   4  42\n",
      "    B   M\n",
      "B  61   4\n",
      "M   6  43\n",
      "    B   M\n",
      "B  68   4\n",
      "M   6  36\n",
      "    M   B\n",
      "M  41   6\n",
      "B   3  64\n",
      "    M   B\n",
      "M  38   3\n",
      "B   3  70\n",
      "    M   B\n",
      "M  41   0\n",
      "B   1  72\n",
      "    B   M\n",
      "B  69   3\n",
      "M   7  35\n"
     ]
    }
   ],
   "source": [
    "print('----------------- KNN model -----------------')\n",
    "print('Hit rate:')\n",
    "print(knn_hit_rate_list, end='\\n\\n')\n",
    "\n",
    "print('Accuracy:')\n",
    "print(sum(knn_hit_rate_list)/len(knn_hit_rate_list), end='\\n\\n')\n",
    "\n",
    "print('Standard Deviation:')\n",
    "print(knn_std_dev, end='\\n\\n')\n",
    "\n",
    "print('Confusion Matrix:')\n",
    "for matrix in knn_confusion_matrix_list:\n",
    "    print(matrix, end='\\n')"
   ]
  },
  {
   "cell_type": "code",
   "execution_count": 5,
   "metadata": {},
   "outputs": [
    {
     "data": {
      "text/html": [
       "<div>\n",
       "<style scoped>\n",
       "    .dataframe tbody tr th:only-of-type {\n",
       "        vertical-align: middle;\n",
       "    }\n",
       "\n",
       "    .dataframe tbody tr th {\n",
       "        vertical-align: top;\n",
       "    }\n",
       "\n",
       "    .dataframe thead th {\n",
       "        text-align: right;\n",
       "    }\n",
       "</style>\n",
       "<table border=\"1\" class=\"dataframe\">\n",
       "  <thead>\n",
       "    <tr style=\"text-align: right;\">\n",
       "      <th></th>\n",
       "      <th>M</th>\n",
       "      <th>B</th>\n",
       "    </tr>\n",
       "  </thead>\n",
       "  <tbody>\n",
       "    <tr>\n",
       "      <th>M</th>\n",
       "      <td>38</td>\n",
       "      <td>4</td>\n",
       "    </tr>\n",
       "    <tr>\n",
       "      <th>B</th>\n",
       "      <td>3</td>\n",
       "      <td>67</td>\n",
       "    </tr>\n",
       "  </tbody>\n",
       "</table>\n",
       "</div>"
      ],
      "text/plain": [
       "    M   B\n",
       "M  38   4\n",
       "B   3  67"
      ]
     },
     "execution_count": 5,
     "metadata": {},
     "output_type": "execute_result"
    }
   ],
   "source": [
    "confusion_matrix_mean(knn_confusion_matrix_list)"
   ]
  },
  {
   "cell_type": "markdown",
   "metadata": {},
   "source": [
    "# Showing dmc informations computed"
   ]
  },
  {
   "cell_type": "code",
   "execution_count": 6,
   "metadata": {},
   "outputs": [
    {
     "name": "stdout",
     "output_type": "stream",
     "text": [
      "----------------- DMC model -----------------\n",
      "Hit rate:\n",
      "[0.9035087719298246, 0.8421052631578947, 0.9298245614035088, 0.9122807017543859, 0.9210526315789473, 0.9210526315789473, 0.9035087719298246, 0.9035087719298246, 0.8947368421052632, 0.9035087719298246, 0.868421052631579, 0.8596491228070176, 0.9298245614035088, 0.868421052631579, 0.8771929824561403, 0.8859649122807017, 0.8596491228070176, 0.9035087719298246, 0.9035087719298246, 0.8771929824561403]\n",
      "\n",
      "Accuracy:\n",
      "0.8934210526315789\n",
      "\n",
      "Standard Deviation:\n",
      "0.02438454495424148\n",
      "\n",
      "Confusion Matrix:\n",
      "    M   B\n",
      "M  33  11\n",
      "B   0  70\n",
      "    M   B\n",
      "M  35  17\n",
      "B   1  61\n",
      "    B   M\n",
      "B  74   1\n",
      "M   7  32\n",
      "    B   M\n",
      "B  70   1\n",
      "M   9  34\n",
      "    M   B\n",
      "M  28   8\n",
      "B   1  77\n",
      "    M   B\n",
      "M  24   9\n",
      "B   0  81\n",
      "    B   M\n",
      "B  69   1\n",
      "M  10  34\n",
      "    M   B\n",
      "M  31  11\n",
      "B   0  72\n",
      "    B   M\n",
      "B  71   1\n",
      "M  11  31\n",
      "    B   M\n",
      "B  71   1\n",
      "M  10  32\n",
      "    B   M\n",
      "B  68   1\n",
      "M  14  31\n",
      "    M   B\n",
      "M  33  14\n",
      "B   2  65\n",
      "    B   M\n",
      "B  73   1\n",
      "M   7  33\n",
      "    B   M\n",
      "B  65   3\n",
      "M  12  34\n",
      "    B   M\n",
      "B  62   3\n",
      "M  11  38\n",
      "    B   M\n",
      "B  72   0\n",
      "M  13  29\n",
      "    M   B\n",
      "M  32  15\n",
      "B   1  66\n",
      "    M   B\n",
      "M  30  11\n",
      "B   0  73\n",
      "    M   B\n",
      "M  30  11\n",
      "B   0  73\n",
      "    B   M\n",
      "B  71   1\n",
      "M  13  29\n"
     ]
    }
   ],
   "source": [
    "print('----------------- DMC model -----------------')\n",
    "print('Hit rate:')\n",
    "print(dmc_hit_rate_list, end='\\n\\n')\n",
    "\n",
    "print('Accuracy:')\n",
    "print(sum(dmc_hit_rate_list)/len(dmc_hit_rate_list), end='\\n\\n')\n",
    "\n",
    "print('Standard Deviation:')\n",
    "print(dmc_std_dev, end='\\n\\n')\n",
    "\n",
    "print('Confusion Matrix:')\n",
    "for matrix in dmc_confusion_matrix_list:\n",
    "    print(matrix, end='\\n')"
   ]
  },
  {
   "cell_type": "code",
   "execution_count": 7,
   "metadata": {},
   "outputs": [
    {
     "data": {
      "text/html": [
       "<div>\n",
       "<style scoped>\n",
       "    .dataframe tbody tr th:only-of-type {\n",
       "        vertical-align: middle;\n",
       "    }\n",
       "\n",
       "    .dataframe tbody tr th {\n",
       "        vertical-align: top;\n",
       "    }\n",
       "\n",
       "    .dataframe thead th {\n",
       "        text-align: right;\n",
       "    }\n",
       "</style>\n",
       "<table border=\"1\" class=\"dataframe\">\n",
       "  <thead>\n",
       "    <tr style=\"text-align: right;\">\n",
       "      <th></th>\n",
       "      <th>M</th>\n",
       "      <th>B</th>\n",
       "    </tr>\n",
       "  </thead>\n",
       "  <tbody>\n",
       "    <tr>\n",
       "      <th>M</th>\n",
       "      <td>31</td>\n",
       "      <td>11</td>\n",
       "    </tr>\n",
       "    <tr>\n",
       "      <th>B</th>\n",
       "      <td>0</td>\n",
       "      <td>70</td>\n",
       "    </tr>\n",
       "  </tbody>\n",
       "</table>\n",
       "</div>"
      ],
      "text/plain": [
       "    M   B\n",
       "M  31  11\n",
       "B   0  70"
      ]
     },
     "execution_count": 7,
     "metadata": {},
     "output_type": "execute_result"
    }
   ],
   "source": [
    "confusion_matrix_mean(dmc_confusion_matrix_list)"
   ]
  },
  {
   "cell_type": "markdown",
   "metadata": {},
   "source": [
    "# Showing kmeans informations computed"
   ]
  },
  {
   "cell_type": "code",
   "execution_count": 8,
   "metadata": {},
   "outputs": [
    {
     "name": "stdout",
     "output_type": "stream",
     "text": [
      "----------------- KMEANS model -----------------\n",
      "Hit rate:\n",
      "[0.9385964912280702, 0.9122807017543859, 0.9473684210526315, 0.9298245614035088, 0.9649122807017544, 0.9473684210526315, 0.9210526315789473, 0.9122807017543859, 0.956140350877193, 0.9210526315789473, 0.9210526315789473, 0.8771929824561403, 0.9385964912280702, 0.9035087719298246, 0.9210526315789473, 0.9210526315789473, 0.9210526315789473, 0.9385964912280702, 0.9649122807017544, 0.9122807017543859]\n",
      "\n",
      "Accuracy:\n",
      "0.9285087719298245\n",
      "\n",
      "Standard Deviation:\n",
      "0.020993154287323377\n",
      "\n",
      "Confusion Matrix:\n",
      "    M   B\n",
      "M  38   6\n",
      "B   1  69\n",
      "    M   B\n",
      "M  44   8\n",
      "B   2  60\n",
      "    B   M\n",
      "B  70   5\n",
      "M   1  38\n",
      "    B   M\n",
      "B  68   3\n",
      "M   5  38\n",
      "    M   B\n",
      "M  34   2\n",
      "B   2  76\n",
      "    M   B\n",
      "M  27   6\n",
      "B   0  81\n",
      "    B   M\n",
      "B  66   4\n",
      "M   5  39\n",
      "    M   B\n",
      "M  35   7\n",
      "B   3  69\n",
      "    B   M\n",
      "B  71   1\n",
      "M   4  38\n",
      "    B   M\n",
      "B  70   2\n",
      "M   7  35\n",
      "    B   M\n",
      "B  68   1\n",
      "M   8  37\n",
      "    M   B\n",
      "M  40   7\n",
      "B   7  60\n",
      "    B   M\n",
      "B  72   2\n",
      "M   5  35\n",
      "    B   M\n",
      "B  63   5\n",
      "M   6  40\n",
      "    B   M\n",
      "B  59   6\n",
      "M   3  46\n",
      "    B   M\n",
      "B  68   4\n",
      "M   5  37\n",
      "    M   B\n",
      "M  40   7\n",
      "B   2  65\n",
      "    M   B\n",
      "M  37   4\n",
      "B   3  70\n",
      "    M   B\n",
      "M  37   4\n",
      "B   0  73\n",
      "    B   M\n",
      "B  68   4\n",
      "M   6  36\n"
     ]
    }
   ],
   "source": [
    "print('----------------- KMEANS model -----------------')\n",
    "print('Hit rate:')\n",
    "print(kmeans_hit_rate_list, end='\\n\\n')\n",
    "\n",
    "print('Accuracy:')\n",
    "print(sum(kmeans_hit_rate_list)/len(kmeans_hit_rate_list), end='\\n\\n')\n",
    "\n",
    "print('Standard Deviation:')\n",
    "print(kmeans_std_dev, end='\\n\\n')\n",
    "\n",
    "print('Confusion Matrix:')\n",
    "for matrix in kmeans_confusion_matrix_list:\n",
    "    print(matrix, end='\\n')"
   ]
  },
  {
   "cell_type": "code",
   "execution_count": 9,
   "metadata": {},
   "outputs": [
    {
     "data": {
      "text/html": [
       "<div>\n",
       "<style scoped>\n",
       "    .dataframe tbody tr th:only-of-type {\n",
       "        vertical-align: middle;\n",
       "    }\n",
       "\n",
       "    .dataframe tbody tr th {\n",
       "        vertical-align: top;\n",
       "    }\n",
       "\n",
       "    .dataframe thead th {\n",
       "        text-align: right;\n",
       "    }\n",
       "</style>\n",
       "<table border=\"1\" class=\"dataframe\">\n",
       "  <thead>\n",
       "    <tr style=\"text-align: right;\">\n",
       "      <th></th>\n",
       "      <th>M</th>\n",
       "      <th>B</th>\n",
       "    </tr>\n",
       "  </thead>\n",
       "  <tbody>\n",
       "    <tr>\n",
       "      <th>M</th>\n",
       "      <td>37</td>\n",
       "      <td>5</td>\n",
       "    </tr>\n",
       "    <tr>\n",
       "      <th>B</th>\n",
       "      <td>2</td>\n",
       "      <td>68</td>\n",
       "    </tr>\n",
       "  </tbody>\n",
       "</table>\n",
       "</div>"
      ],
      "text/plain": [
       "    M   B\n",
       "M  37   5\n",
       "B   2  68"
      ]
     },
     "execution_count": 9,
     "metadata": {},
     "output_type": "execute_result"
    }
   ],
   "source": [
    "confusion_matrix_mean(kmeans_confusion_matrix_list)"
   ]
  },
  {
   "cell_type": "markdown",
   "metadata": {},
   "source": [
    "# Showing naive bayes informations computed"
   ]
  },
  {
   "cell_type": "code",
   "execution_count": 10,
   "metadata": {},
   "outputs": [
    {
     "name": "stdout",
     "output_type": "stream",
     "text": [
      "----------------- NAIVE BAYES model -----------------\n",
      "Hit rate:\n",
      "[0.9649122807017544, 0.9298245614035088, 0.9298245614035088, 0.9298245614035088, 1.0, 0.9298245614035088, 0.956140350877193, 0.9473684210526315, 0.9473684210526315, 0.9473684210526315, 0.9385964912280702, 0.9035087719298246, 0.9473684210526315, 0.9122807017543859, 0.956140350877193, 0.9210526315789473, 0.8859649122807017, 0.956140350877193, 0.9385964912280702, 0.9298245614035088]\n",
      "\n",
      "Accuracy:\n",
      "0.9385964912280704\n",
      "\n",
      "Standard Deviation:\n",
      "0.02353755765789252\n",
      "\n",
      "Confusion Matrix:\n",
      "    M   B\n",
      "M  41   3\n",
      "B   1  69\n",
      "    M   B\n",
      "M  49   3\n",
      "B   5  57\n",
      "    B   M\n",
      "B  70   5\n",
      "M   3  36\n",
      "    B   M\n",
      "B  68   3\n",
      "M   5  38\n",
      "    M   B\n",
      "M  36   0\n",
      "B   0  78\n",
      "    M   B\n",
      "M  29   4\n",
      "B   4  77\n",
      "    B   M\n",
      "B  68   2\n",
      "M   3  41\n",
      "    M   B\n",
      "M  40   2\n",
      "B   4  68\n",
      "    B   M\n",
      "B  70   2\n",
      "M   4  38\n",
      "    B   M\n",
      "B  69   3\n",
      "M   3  39\n",
      "    B   M\n",
      "B  66   3\n",
      "M   4  41\n",
      "    M   B\n",
      "M  41   6\n",
      "B   5  62\n",
      "    B   M\n",
      "B  70   4\n",
      "M   2  38\n",
      "    B   M\n",
      "B  63   5\n",
      "M   5  41\n",
      "    B   M\n",
      "B  61   4\n",
      "M   1  48\n",
      "    B   M\n",
      "B  68   4\n",
      "M   5  37\n",
      "    M   B\n",
      "M  38   9\n",
      "B   4  63\n",
      "    M   B\n",
      "M  38   3\n",
      "B   2  71\n",
      "    M   B\n",
      "M  38   3\n",
      "B   4  69\n",
      "    B   M\n",
      "B  69   3\n",
      "M   5  37\n"
     ]
    }
   ],
   "source": [
    "print('----------------- NAIVE BAYES model -----------------')\n",
    "print('Hit rate:')\n",
    "print(nb_hit_rate_list, end='\\n\\n')\n",
    "\n",
    "print('Accuracy:')\n",
    "print(sum(nb_hit_rate_list)/len(nb_hit_rate_list), end='\\n\\n')\n",
    "\n",
    "print('Standard Deviation:')\n",
    "print(nb_std_dev, end='\\n\\n')\n",
    "\n",
    "print('Confusion Matrix:')\n",
    "for matrix in nb_confusion_matrix_list:\n",
    "    print(matrix, end='\\n')"
   ]
  },
  {
   "cell_type": "code",
   "execution_count": 11,
   "metadata": {},
   "outputs": [
    {
     "data": {
      "text/html": [
       "<div>\n",
       "<style scoped>\n",
       "    .dataframe tbody tr th:only-of-type {\n",
       "        vertical-align: middle;\n",
       "    }\n",
       "\n",
       "    .dataframe tbody tr th {\n",
       "        vertical-align: top;\n",
       "    }\n",
       "\n",
       "    .dataframe thead th {\n",
       "        text-align: right;\n",
       "    }\n",
       "</style>\n",
       "<table border=\"1\" class=\"dataframe\">\n",
       "  <thead>\n",
       "    <tr style=\"text-align: right;\">\n",
       "      <th></th>\n",
       "      <th>M</th>\n",
       "      <th>B</th>\n",
       "    </tr>\n",
       "  </thead>\n",
       "  <tbody>\n",
       "    <tr>\n",
       "      <th>M</th>\n",
       "      <td>39</td>\n",
       "      <td>3</td>\n",
       "    </tr>\n",
       "    <tr>\n",
       "      <th>B</th>\n",
       "      <td>3</td>\n",
       "      <td>67</td>\n",
       "    </tr>\n",
       "  </tbody>\n",
       "</table>\n",
       "</div>"
      ],
      "text/plain": [
       "    M   B\n",
       "M  39   3\n",
       "B   3  67"
      ]
     },
     "execution_count": 11,
     "metadata": {},
     "output_type": "execute_result"
    }
   ],
   "source": [
    "confusion_matrix_mean(nb_confusion_matrix_list)"
   ]
  },
  {
   "cell_type": "markdown",
   "metadata": {},
   "source": [
    "# Showing bayes informations computed"
   ]
  },
  {
   "cell_type": "code",
   "execution_count": 12,
   "metadata": {},
   "outputs": [
    {
     "name": "stdout",
     "output_type": "stream",
     "text": [
      "----------------- BAYES model -----------------\n",
      "Hit rate:\n",
      "[0.9736842105263158, 0.9649122807017544, 0.9649122807017544, 0.9649122807017544, 0.9736842105263158, 0.9824561403508771, 0.9210526315789473, 0.9649122807017544, 0.9649122807017544, 0.9736842105263158, 0.956140350877193, 0.956140350877193, 0.9824561403508771, 0.9122807017543859, 0.9736842105263158, 0.9473684210526315, 0.9298245614035088, 0.9736842105263158, 0.9649122807017544, 0.9385964912280702]\n",
      "\n",
      "Accuracy:\n",
      "0.9592105263157894\n",
      "\n",
      "Standard Deviation:\n",
      "0.019273309247999863\n",
      "\n",
      "Confusion Matrix:\n",
      "    M   B\n",
      "M  43   1\n",
      "B   2  68\n",
      "    M   B\n",
      "M  51   1\n",
      "B   3  59\n",
      "    B   M\n",
      "B  72   3\n",
      "M   1  38\n",
      "    B   M\n",
      "B  69   2\n",
      "M   2  41\n",
      "    M   B\n",
      "M  36   0\n",
      "B   3  75\n",
      "    M   B\n",
      "M  31   2\n",
      "B   0  81\n",
      "    B   M\n",
      "B  65   5\n",
      "M   4  40\n",
      "    M   B\n",
      "M  41   1\n",
      "B   3  69\n",
      "    B   M\n",
      "B  71   1\n",
      "M   3  39\n",
      "    B   M\n",
      "B  71   1\n",
      "M   2  40\n",
      "    B   M\n",
      "B  66   3\n",
      "M   2  43\n",
      "    M   B\n",
      "M  45   2\n",
      "B   3  64\n",
      "    B   M\n",
      "B  73   1\n",
      "M   1  39\n",
      "    B   M\n",
      "B  60   8\n",
      "M   2  44\n",
      "    B   M\n",
      "B  62   3\n",
      "M   0  49\n",
      "    B   M\n",
      "B  69   3\n",
      "M   3  39\n",
      "    M   B\n",
      "M  42   5\n",
      "B   3  64\n",
      "    M   B\n",
      "M  39   2\n",
      "B   1  72\n",
      "    M   B\n",
      "M  39   2\n",
      "B   2  71\n",
      "    B   M\n",
      "B  69   3\n",
      "M   4  38\n"
     ]
    }
   ],
   "source": [
    "print('----------------- BAYES model -----------------')\n",
    "print('Hit rate:')\n",
    "print(b_hit_rate_list, end='\\n\\n')\n",
    "\n",
    "print('Accuracy:')\n",
    "print(sum(b_hit_rate_list)/len(b_hit_rate_list), end='\\n\\n')\n",
    "\n",
    "print('Standard Deviation:')\n",
    "print(b_std_dev, end='\\n\\n')\n",
    "\n",
    "print('Confusion Matrix:')\n",
    "for matrix in b_confusion_matrix_list:\n",
    "    print(matrix, end='\\n')"
   ]
  },
  {
   "cell_type": "code",
   "execution_count": 13,
   "metadata": {},
   "outputs": [
    {
     "data": {
      "text/html": [
       "<div>\n",
       "<style scoped>\n",
       "    .dataframe tbody tr th:only-of-type {\n",
       "        vertical-align: middle;\n",
       "    }\n",
       "\n",
       "    .dataframe tbody tr th {\n",
       "        vertical-align: top;\n",
       "    }\n",
       "\n",
       "    .dataframe thead th {\n",
       "        text-align: right;\n",
       "    }\n",
       "</style>\n",
       "<table border=\"1\" class=\"dataframe\">\n",
       "  <thead>\n",
       "    <tr style=\"text-align: right;\">\n",
       "      <th></th>\n",
       "      <th>M</th>\n",
       "      <th>B</th>\n",
       "    </tr>\n",
       "  </thead>\n",
       "  <tbody>\n",
       "    <tr>\n",
       "      <th>M</th>\n",
       "      <td>40</td>\n",
       "      <td>2</td>\n",
       "    </tr>\n",
       "    <tr>\n",
       "      <th>B</th>\n",
       "      <td>2</td>\n",
       "      <td>68</td>\n",
       "    </tr>\n",
       "  </tbody>\n",
       "</table>\n",
       "</div>"
      ],
      "text/plain": [
       "    M   B\n",
       "M  40   2\n",
       "B   2  68"
      ]
     },
     "execution_count": 13,
     "metadata": {},
     "output_type": "execute_result"
    }
   ],
   "source": [
    "confusion_matrix_mean(b_confusion_matrix_list)"
   ]
  },
  {
   "cell_type": "markdown",
   "metadata": {},
   "source": [
    "# Choosing two columns from the last X_train and X_test to plot decision surface"
   ]
  },
  {
   "cell_type": "code",
   "execution_count": 14,
   "metadata": {},
   "outputs": [
    {
     "name": "stdout",
     "output_type": "stream",
     "text": [
      "Train dataset:\n",
      "     radius_mean  texture_mean\n",
      "202        23.29         26.67\n",
      "479        16.25         19.51\n",
      "281        11.74         14.02\n",
      "158        12.06         12.74\n",
      "351        15.75         19.22\n",
      "..           ...           ...\n",
      "207        17.01         20.26\n",
      "227        15.00         15.51\n",
      "404        12.34         14.95\n",
      "269        10.71         20.39\n",
      "183        11.41         14.92\n",
      "\n",
      "[455 rows x 2 columns]\n",
      "Test dataset:\n",
      "     radius_mean  texture_mean\n",
      "405       10.940         18.59\n",
      "357       13.870         16.21\n",
      "491       17.850         13.23\n",
      "156       17.680         20.74\n",
      "392       15.490         19.97\n",
      "..           ...           ...\n",
      "176        9.904         18.06\n",
      "46         8.196         16.84\n",
      "535       20.550         20.86\n",
      "133       15.710         13.93\n",
      "179       12.810         13.06\n",
      "\n",
      "[114 rows x 2 columns]\n"
     ]
    }
   ],
   "source": [
    "X_train_2d, X_test_2d = X_train[['radius_mean', 'texture_mean']], X_test[['radius_mean', 'texture_mean']]\n",
    "\n",
    "print('Train dataset:')\n",
    "print(X_train_2d)\n",
    "print('Test dataset:')\n",
    "print(X_test_2d)"
   ]
  },
  {
   "cell_type": "markdown",
   "metadata": {},
   "source": [
    "# Training the models with the new dataset 2d"
   ]
  },
  {
   "cell_type": "code",
   "execution_count": 15,
   "metadata": {},
   "outputs": [
    {
     "name": "stderr",
     "output_type": "stream",
     "text": [
      "w:\\Home\\ML\\knn\\knn.py:11: FutureWarning: The default dtype for empty Series will be 'object' instead of 'float64' in a future version. Specify a dtype explicitly to silence this warning.\n",
      "  self.__y = pd.Series([])\n"
     ]
    }
   ],
   "source": [
    "knn_model = knn(k=3, type_distance_calc='euclidean')\n",
    "knn_model.fit(X_train_2d, y_train)\n",
    "dmc_model = dmc(type_distance_calc='euclidean')\n",
    "dmc_model.fit(X_train_2d, y_train)\n",
    "kmeans_model = kmeans(k=25, type_distance_calc='euclidean', number_iteration=300)\n",
    "kmeans_model.fit(X_train_2d, y_train)\n",
    "nb_model = naive_bayes_classifier()\n",
    "nb_model.fit(X_train_2d, y_train)\n",
    "b_model = bayes_classifier()\n",
    "b_model.fit(X_train_2d, y_train)"
   ]
  },
  {
   "cell_type": "markdown",
   "metadata": {},
   "source": [
    "# Plotting knn decision surface"
   ]
  },
  {
   "cell_type": "code",
   "execution_count": 16,
   "metadata": {},
   "outputs": [
    {
     "data": {
      "image/png": "[encoded data removed]",
      "text/plain": [
       "<Figure size 640x480 with 1 Axes>"
      ]
     },
     "metadata": {},
     "output_type": "display_data"
    }
   ],
   "source": [
    "data = X_test_2d[:][:].values\n",
    "\n",
    "x_min, x_max = data[:, 0].min() - 0.1, data[:,0].max() + 0.1\n",
    "y_min, y_max = data[:, 1].min() - 0.1, data[:, 1].max() + 0.1\n",
    "\n",
    "xx, yy = np.meshgrid(np.linspace(x_min,x_max, 100),\n",
    "np.linspace(y_min, y_max, 100))\n",
    "\n",
    "x_in = np.c_[xx.ravel(), yy.ravel()]\n",
    "\n",
    "y_pred = [[knn_model.predict(x) for x in x_in]]\n",
    "for i, y in enumerate(y_pred[0]):\n",
    "    if y == 'M':\n",
    "        y_pred[0][i] = 1\n",
    "    else:\n",
    "        y_pred[0][i] = 2\n",
    "\n",
    "y_pred = np.round(y_pred).reshape(xx.shape)\n",
    "\n",
    "plt.contourf(xx, yy, y_pred, cmap=plt.cm.RdYlBu, alpha=0.7 )\n",
    "\n",
    "plt.xlim(xx.min(), xx.max())\n",
    "plt.ylim(yy.min(), yy.max())\n",
    "\n",
    "knn_y_pred = np.array([knn_model.predict(x) for x in X_test_2d.values])\n",
    "\n",
    "M = np.where(knn_y_pred == 'M')\n",
    "B = np.where(knn_y_pred == 'B')\n",
    "\n",
    "plt.scatter(data[M, 0], data[M, 1],\n",
    "            color='red', marker='o', label='M')\n",
    "plt.scatter(data[B, 0], data[B, 1],\n",
    "            color='blue', marker='X', label='B')\n",
    "\n",
    "plt.show()"
   ]
  },
  {
   "cell_type": "markdown",
   "metadata": {},
   "source": [
    "# Plotting dmc decision surface"
   ]
  },
  {
   "cell_type": "code",
   "execution_count": 17,
   "metadata": {},
   "outputs": [
    {
     "data": {
      "image/png": "[encoded data removed]",
      "text/plain": [
       "<Figure size 640x480 with 1 Axes>"
      ]
     },
     "metadata": {},
     "output_type": "display_data"
    }
   ],
   "source": [
    "data = X_test_2d[:][:].values\n",
    "\n",
    "x_min, x_max = data[:, 0].min() - 0.1, data[:,0].max() + 0.1\n",
    "y_min, y_max = data[:, 1].min() - 0.1, data[:, 1].max() + 0.1\n",
    "\n",
    "xx, yy = np.meshgrid(np.linspace(x_min,x_max, 100),\n",
    "np.linspace(y_min, y_max, 100))\n",
    "\n",
    "x_in = np.c_[xx.ravel(), yy.ravel()]\n",
    "\n",
    "y_pred = [[dmc_model.predict(x) for x in x_in]]\n",
    "for i, y in enumerate(y_pred[0]):\n",
    "    if y == 'M':\n",
    "        y_pred[0][i] = 1\n",
    "    else:\n",
    "        y_pred[0][i] = 2\n",
    "\n",
    "y_pred = np.round(y_pred).reshape(xx.shape)\n",
    "\n",
    "plt.contourf(xx, yy, y_pred, cmap=plt.cm.RdYlBu, alpha=0.7 )\n",
    "\n",
    "plt.xlim(xx.min(), xx.max())\n",
    "plt.ylim(yy.min(), yy.max())\n",
    "\n",
    "dmc_y_pred = np.array([dmc_model.predict(x) for x in X_test_2d.values])\n",
    "\n",
    "M = np.where(dmc_y_pred == 'M')\n",
    "B = np.where(dmc_y_pred == 'B')\n",
    "\n",
    "plt.scatter(data[M, 0], data[M, 1],\n",
    "            color='red', marker='o', label='M')\n",
    "plt.scatter(data[B, 0], data[B, 1],\n",
    "            color='blue', marker='X', label='B')\n",
    "\n",
    "plt.show()"
   ]
  },
  {
   "cell_type": "markdown",
   "metadata": {},
   "source": [
    "# Plotting kmeans decision surface"
   ]
  },
  {
   "cell_type": "code",
   "execution_count": 18,
   "metadata": {},
   "outputs": [
    {
     "data": {
      "image/png": "[encoded data removed]",
      "text/plain": [
       "<Figure size 640x480 with 1 Axes>"
      ]
     },
     "metadata": {},
     "output_type": "display_data"
    }
   ],
   "source": [
    "data = X_test_2d[:][:].values\n",
    "\n",
    "x_min, x_max = data[:, 0].min() - 0.1, data[:,0].max() + 0.1\n",
    "y_min, y_max = data[:, 1].min() - 0.1, data[:, 1].max() + 0.1\n",
    "\n",
    "xx, yy = np.meshgrid(np.linspace(x_min,x_max, 100),\n",
    "np.linspace(y_min, y_max, 100))\n",
    "\n",
    "x_in = np.c_[xx.ravel(), yy.ravel()]\n",
    "\n",
    "y_pred = [[kmeans_model.predict(x) for x in x_in]]\n",
    "for i, y in enumerate(y_pred[0]):\n",
    "    if y == 'M':\n",
    "        y_pred[0][i] = 1\n",
    "    else:\n",
    "        y_pred[0][i] = 2\n",
    "\n",
    "y_pred = np.round(y_pred).reshape(xx.shape)\n",
    "\n",
    "plt.contourf(xx, yy, y_pred, cmap=plt.cm.RdYlBu, alpha=0.7 )\n",
    "\n",
    "plt.xlim(xx.min(), xx.max())\n",
    "plt.ylim(yy.min(), yy.max())\n",
    "\n",
    "kmeans_y_pred = np.array([kmeans_model.predict(x) for x in X_test_2d.values])\n",
    "\n",
    "M = np.where(kmeans_y_pred == 'M')\n",
    "B = np.where(kmeans_y_pred == 'B')\n",
    "\n",
    "plt.scatter(data[M, 0], data[M, 1],\n",
    "            color='red', marker='o', label='M')\n",
    "plt.scatter(data[B, 0], data[B, 1],\n",
    "            color='blue', marker='X', label='B')\n",
    "\n",
    "plt.show()"
   ]
  },
  {
   "cell_type": "markdown",
   "metadata": {},
   "source": [
    "# Plotting naive bayes decision surface"
   ]
  },
  {
   "cell_type": "code",
   "execution_count": 19,
   "metadata": {},
   "outputs": [
    {
     "data": {
      "image/png": "[encoded data removed]",
      "text/plain": [
       "<Figure size 640x480 with 1 Axes>"
      ]
     },
     "metadata": {},
     "output_type": "display_data"
    }
   ],
   "source": [
    "data = X_test_2d[:][:].values\n",
    "\n",
    "x_min, x_max = data[:, 0].min() - 0.1, data[:,0].max() + 0.1\n",
    "y_min, y_max = data[:, 1].min() - 0.1, data[:, 1].max() + 0.1\n",
    "\n",
    "xx, yy = np.meshgrid(np.linspace(x_min,x_max, 100),\n",
    "np.linspace(y_min, y_max, 100))\n",
    "\n",
    "x_in = np.c_[xx.ravel(), yy.ravel()]\n",
    "\n",
    "y_pred = [[nb_model.predict(x) for x in x_in]]\n",
    "for i, y in enumerate(y_pred[0]):\n",
    "    if y == 'M':\n",
    "        y_pred[0][i] = 1\n",
    "    else:\n",
    "        y_pred[0][i] = 2\n",
    "\n",
    "y_pred = np.round(y_pred).reshape(xx.shape)\n",
    "\n",
    "plt.contourf(xx, yy, y_pred, cmap=plt.cm.RdYlBu, alpha=0.7 )\n",
    "\n",
    "plt.xlim(xx.min(), xx.max())\n",
    "plt.ylim(yy.min(), yy.max())\n",
    "\n",
    "nb_y_pred = np.array([nb_model.predict(x) for x in X_test_2d.values])\n",
    "\n",
    "M = np.where(nb_y_pred == 'M')\n",
    "B = np.where(nb_y_pred == 'B')\n",
    "\n",
    "plt.scatter(data[M, 0], data[M, 1],\n",
    "            color='red', marker='o', label='M')\n",
    "plt.scatter(data[B, 0], data[B, 1],\n",
    "            color='blue', marker='X', label='B')\n",
    "\n",
    "plt.show()"
   ]
  },
  {
   "cell_type": "markdown",
   "metadata": {},
   "source": [
    "# Plotting bayes decision surface"
   ]
  },
  {
   "cell_type": "code",
   "execution_count": 20,
   "metadata": {},
   "outputs": [
    {
     "data": {
      "image/png": "[encoded data removed]",
      "text/plain": [
       "<Figure size 640x480 with 1 Axes>"
      ]
     },
     "metadata": {},
     "output_type": "display_data"
    }
   ],
   "source": [
    "data = X_test_2d[:][:].values\n",
    "\n",
    "x_min, x_max = data[:, 0].min() - 0.1, data[:,0].max() + 0.1\n",
    "y_min, y_max = data[:, 1].min() - 0.1, data[:, 1].max() + 0.1\n",
    "\n",
    "xx, yy = np.meshgrid(np.linspace(x_min,x_max, 100),\n",
    "np.linspace(y_min, y_max, 100))\n",
    "\n",
    "x_in = np.c_[xx.ravel(), yy.ravel()]\n",
    "\n",
    "y_pred = [[b_model.predict(x) for x in x_in]]\n",
    "for i, y in enumerate(y_pred[0]):\n",
    "    if y == 'M':\n",
    "        y_pred[0][i] = 1\n",
    "    else:\n",
    "        y_pred[0][i] = 2\n",
    "\n",
    "y_pred = np.round(y_pred).reshape(xx.shape)\n",
    "\n",
    "plt.contourf(xx, yy, y_pred, cmap=plt.cm.RdYlBu, alpha=0.7 )\n",
    "\n",
    "plt.xlim(xx.min(), xx.max())\n",
    "plt.ylim(yy.min(), yy.max())\n",
    "\n",
    "b_y_pred = np.array([b_model.predict(x) for x in X_test_2d.values])\n",
    "\n",
    "M = np.where(b_y_pred == 'M')\n",
    "B = np.where(b_y_pred == 'B')\n",
    "\n",
    "plt.scatter(data[M, 0], data[M, 1],\n",
    "            color='red', marker='o', label='M')\n",
    "plt.scatter(data[B, 0], data[B, 1],\n",
    "            color='blue', marker='X', label='B')\n",
    "\n",
    "plt.show()"
   ]
  }
 ],
 "metadata": {
  "kernelspec": {
   "display_name": "Python 3.10.4 ('.venv': venv)",
   "language": "python",
   "name": "python3"
  },
  "language_info": {
   "codemirror_mode": {
    "name": "ipython",
    "version": 3
   },
   "file_extension": ".py",
   "mimetype": "text/x-python",
   "name": "python",
   "nbconvert_exporter": "python",
   "pygments_lexer": "ipython3",
   "version": "3.10.4"
  },
  "orig_nbformat": 4,
  "vscode": {
   "interpreter": {
    "hash": "33434f0cc8e6f3723834300de8718debdc0c9ba9cd4c4faf0515f4c47995aa8c"
   }
  }
 },
 "nbformat": 4,
 "nbformat_minor": 2
}
