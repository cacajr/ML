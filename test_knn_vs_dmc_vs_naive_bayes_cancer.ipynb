{
 "cells": [
  {
   "cell_type": "markdown",
   "metadata": {},
   "source": [
    "# Import libs"
   ]
  },
  {
   "cell_type": "code",
   "execution_count": 1,
   "metadata": {},
   "outputs": [],
   "source": [
    "import pandas as pd\n",
    "import numpy as np\n",
    "from knn.knn import knn\n",
    "from dmc.dmc import dmc\n",
    "from naive_bayes_classifier.naive_bayes_classifier import naive_bayes_classifier\n",
    "from sklearn.model_selection import train_test_split\n",
    "# from sklearn.metrics import confusion_matrix\n",
    "from utils.functions import confusion_matrix, confusion_matrix_mean\n",
    "from matplotlib import pyplot as plt"
   ]
  },
  {
   "cell_type": "markdown",
   "metadata": {},
   "source": [
    "# Loading Iris dataset"
   ]
  },
  {
   "cell_type": "code",
   "execution_count": 2,
   "metadata": {},
   "outputs": [],
   "source": [
    "Xy = pd.read_csv('./datasets/breast_cancer.csv')\n",
    "X = Xy.drop(['diagnosis'], axis=1)\n",
    "y = Xy['diagnosis']"
   ]
  },
  {
   "cell_type": "markdown",
   "metadata": {},
   "source": [
    "# Running the tests and computing informations"
   ]
  },
  {
   "cell_type": "code",
   "execution_count": 3,
   "metadata": {},
   "outputs": [
    {
     "name": "stderr",
     "output_type": "stream",
     "text": [
      "w:\\Home\\ML\\knn\\knn.py:11: FutureWarning: The default dtype for empty Series will be 'object' instead of 'float64' in a future version. Specify a dtype explicitly to silence this warning.\n",
      "  self.__y = pd.Series([])\n",
      "w:\\Home\\ML\\knn\\knn.py:11: FutureWarning: The default dtype for empty Series will be 'object' instead of 'float64' in a future version. Specify a dtype explicitly to silence this warning.\n",
      "  self.__y = pd.Series([])\n",
      "w:\\Home\\ML\\knn\\knn.py:11: FutureWarning: The default dtype for empty Series will be 'object' instead of 'float64' in a future version. Specify a dtype explicitly to silence this warning.\n",
      "  self.__y = pd.Series([])\n",
      "w:\\Home\\ML\\knn\\knn.py:11: FutureWarning: The default dtype for empty Series will be 'object' instead of 'float64' in a future version. Specify a dtype explicitly to silence this warning.\n",
      "  self.__y = pd.Series([])\n",
      "w:\\Home\\ML\\knn\\knn.py:11: FutureWarning: The default dtype for empty Series will be 'object' instead of 'float64' in a future version. Specify a dtype explicitly to silence this warning.\n",
      "  self.__y = pd.Series([])\n",
      "w:\\Home\\ML\\knn\\knn.py:11: FutureWarning: The default dtype for empty Series will be 'object' instead of 'float64' in a future version. Specify a dtype explicitly to silence this warning.\n",
      "  self.__y = pd.Series([])\n",
      "w:\\Home\\ML\\knn\\knn.py:11: FutureWarning: The default dtype for empty Series will be 'object' instead of 'float64' in a future version. Specify a dtype explicitly to silence this warning.\n",
      "  self.__y = pd.Series([])\n",
      "w:\\Home\\ML\\knn\\knn.py:11: FutureWarning: The default dtype for empty Series will be 'object' instead of 'float64' in a future version. Specify a dtype explicitly to silence this warning.\n",
      "  self.__y = pd.Series([])\n",
      "w:\\Home\\ML\\knn\\knn.py:11: FutureWarning: The default dtype for empty Series will be 'object' instead of 'float64' in a future version. Specify a dtype explicitly to silence this warning.\n",
      "  self.__y = pd.Series([])\n",
      "w:\\Home\\ML\\knn\\knn.py:11: FutureWarning: The default dtype for empty Series will be 'object' instead of 'float64' in a future version. Specify a dtype explicitly to silence this warning.\n",
      "  self.__y = pd.Series([])\n",
      "w:\\Home\\ML\\knn\\knn.py:11: FutureWarning: The default dtype for empty Series will be 'object' instead of 'float64' in a future version. Specify a dtype explicitly to silence this warning.\n",
      "  self.__y = pd.Series([])\n",
      "w:\\Home\\ML\\knn\\knn.py:11: FutureWarning: The default dtype for empty Series will be 'object' instead of 'float64' in a future version. Specify a dtype explicitly to silence this warning.\n",
      "  self.__y = pd.Series([])\n",
      "w:\\Home\\ML\\knn\\knn.py:11: FutureWarning: The default dtype for empty Series will be 'object' instead of 'float64' in a future version. Specify a dtype explicitly to silence this warning.\n",
      "  self.__y = pd.Series([])\n",
      "w:\\Home\\ML\\knn\\knn.py:11: FutureWarning: The default dtype for empty Series will be 'object' instead of 'float64' in a future version. Specify a dtype explicitly to silence this warning.\n",
      "  self.__y = pd.Series([])\n",
      "w:\\Home\\ML\\knn\\knn.py:11: FutureWarning: The default dtype for empty Series will be 'object' instead of 'float64' in a future version. Specify a dtype explicitly to silence this warning.\n",
      "  self.__y = pd.Series([])\n",
      "w:\\Home\\ML\\knn\\knn.py:11: FutureWarning: The default dtype for empty Series will be 'object' instead of 'float64' in a future version. Specify a dtype explicitly to silence this warning.\n",
      "  self.__y = pd.Series([])\n",
      "w:\\Home\\ML\\knn\\knn.py:11: FutureWarning: The default dtype for empty Series will be 'object' instead of 'float64' in a future version. Specify a dtype explicitly to silence this warning.\n",
      "  self.__y = pd.Series([])\n",
      "w:\\Home\\ML\\knn\\knn.py:11: FutureWarning: The default dtype for empty Series will be 'object' instead of 'float64' in a future version. Specify a dtype explicitly to silence this warning.\n",
      "  self.__y = pd.Series([])\n",
      "w:\\Home\\ML\\knn\\knn.py:11: FutureWarning: The default dtype for empty Series will be 'object' instead of 'float64' in a future version. Specify a dtype explicitly to silence this warning.\n",
      "  self.__y = pd.Series([])\n",
      "w:\\Home\\ML\\knn\\knn.py:11: FutureWarning: The default dtype for empty Series will be 'object' instead of 'float64' in a future version. Specify a dtype explicitly to silence this warning.\n",
      "  self.__y = pd.Series([])\n"
     ]
    }
   ],
   "source": [
    "realizations = 20\n",
    "knn_hit_rate_list = []\n",
    "dmc_hit_rate_list = []\n",
    "nb_hit_rate_list = []\n",
    "knn_std_dev = 0\n",
    "dmc_std_dev = 0\n",
    "nb_std_dev = 0\n",
    "knn_confusion_matrix_list = []\n",
    "dmc_confusion_matrix_list = []\n",
    "nb_confusion_matrix_list = []\n",
    "\n",
    "for r in range(realizations):\n",
    "    X_train, X_test, y_train, y_test = train_test_split(X, y, test_size = 0.2)\n",
    "\n",
    "    knn_model = knn(k=3, type_distance_calc='euclidean')\n",
    "    knn_model.fit(X_train, y_train)\n",
    "\n",
    "    dmc_model = dmc(type_distance_calc='euclidean')\n",
    "    dmc_model.fit(X_train, y_train)\n",
    "\n",
    "    nb_model = naive_bayes_classifier()\n",
    "    nb_model.fit(X_train, y_train)\n",
    "\n",
    "    knn_hit_rate_list.append(knn_model.score(X_test, y_test))\n",
    "    dmc_hit_rate_list.append(dmc_model.score(X_test, y_test))\n",
    "    nb_hit_rate_list.append(nb_model.score(X_test, y_test))\n",
    "\n",
    "    knn_y_pred = [knn_model.predict(x) for x in X_test.values]\n",
    "    dmc_y_pred = [dmc_model.predict(x) for x in X_test.values]\n",
    "    nb_y_pred = [nb_model.predict(x) for x in X_test.values]\n",
    "\n",
    "    knn_confusion_matrix_list.append(confusion_matrix(y_test, knn_y_pred))\n",
    "    dmc_confusion_matrix_list.append(confusion_matrix(y_test, dmc_y_pred))\n",
    "    nb_confusion_matrix_list.append(confusion_matrix(y_test, nb_y_pred))\n",
    "\n",
    "knn_std_dev = np.std(knn_hit_rate_list)\n",
    "dmc_std_dev = np.std(dmc_hit_rate_list)\n",
    "nb_std_dev = np.std(nb_hit_rate_list)"
   ]
  },
  {
   "cell_type": "markdown",
   "metadata": {},
   "source": [
    "# Showing knn informations computed"
   ]
  },
  {
   "cell_type": "code",
   "execution_count": 4,
   "metadata": {},
   "outputs": [
    {
     "name": "stdout",
     "output_type": "stream",
     "text": [
      "----------------- KNN model -----------------\n",
      "Hit rate:\n",
      "[0.6578947368421053, 0.6403508771929824, 0.38596491228070173, 0.40350877192982454, 0.6754385964912281, 0.6140350877192983, 0.6403508771929824, 0.3157894736842105, 0.6140350877192983, 0.5877192982456141, 0.6491228070175439, 0.5964912280701754, 0.631578947368421, 0.4649122807017544, 0.6666666666666666, 0.34210526315789475, 0.41228070175438597, 0.43859649122807015, 0.6578947368421053, 0.7192982456140351]\n",
      "\n",
      "Accuracy:\n",
      "0.5557017543859649\n",
      "\n",
      "Standard Deviation:\n",
      "0.12455754256432854\n",
      "\n",
      "Confusion Matrix:\n",
      "    B  M\n",
      "B  75  0\n",
      "M  39  0\n",
      "    B  M\n",
      "B  73  0\n",
      "M  41  0\n",
      "    M  B\n",
      "M  44  0\n",
      "B  70  0\n",
      "   B   M\n",
      "B  0  68\n",
      "M  0  46\n",
      "    B  M\n",
      "B  77  0\n",
      "M  37  0\n",
      "    B  M\n",
      "B  70  0\n",
      "M  44  0\n",
      "    B  M\n",
      "B  73  0\n",
      "M  41  0\n",
      "   B   M\n",
      "B  0  78\n",
      "M  0  36\n",
      "    B  M\n",
      "B  70  0\n",
      "M  44  0\n",
      "   M   B\n",
      "M  0  47\n",
      "B  0  67\n",
      "   M   B\n",
      "M  0  40\n",
      "B  0  74\n",
      "   M   B\n",
      "M  0  46\n",
      "B  0  68\n",
      "   M   B\n",
      "M  0  42\n",
      "B  0  72\n",
      "   B   M\n",
      "B  0  61\n",
      "M  0  53\n",
      "    B  M\n",
      "B  76  0\n",
      "M  38  0\n",
      "    M  B\n",
      "M  39  0\n",
      "B  75  0\n",
      "   B   M\n",
      "B  0  67\n",
      "M  0  47\n",
      "    M  B\n",
      "M  50  0\n",
      "B  64  0\n",
      "    B  M\n",
      "B  75  0\n",
      "M  39  0\n",
      "   M   B\n",
      "M  0  32\n",
      "B  0  82\n"
     ]
    }
   ],
   "source": [
    "print('----------------- KNN model -----------------')\n",
    "print('Hit rate:')\n",
    "print(knn_hit_rate_list, end='\\n\\n')\n",
    "\n",
    "print('Accuracy:')\n",
    "print(sum(knn_hit_rate_list)/len(knn_hit_rate_list), end='\\n\\n')\n",
    "\n",
    "print('Standard Deviation:')\n",
    "print(knn_std_dev, end='\\n\\n')\n",
    "\n",
    "print('Confusion Matrix:')\n",
    "for matrix in knn_confusion_matrix_list:\n",
    "    print(matrix, end='\\n')"
   ]
  },
  {
   "cell_type": "code",
   "execution_count": 5,
   "metadata": {},
   "outputs": [
    {
     "data": {
      "text/html": [
       "<div>\n",
       "<style scoped>\n",
       "    .dataframe tbody tr th:only-of-type {\n",
       "        vertical-align: middle;\n",
       "    }\n",
       "\n",
       "    .dataframe tbody tr th {\n",
       "        vertical-align: top;\n",
       "    }\n",
       "\n",
       "    .dataframe thead th {\n",
       "        text-align: right;\n",
       "    }\n",
       "</style>\n",
       "<table border=\"1\" class=\"dataframe\">\n",
       "  <thead>\n",
       "    <tr style=\"text-align: right;\">\n",
       "      <th></th>\n",
       "      <th>B</th>\n",
       "      <th>M</th>\n",
       "    </tr>\n",
       "  </thead>\n",
       "  <tbody>\n",
       "    <tr>\n",
       "      <th>B</th>\n",
       "      <td>47</td>\n",
       "      <td>24</td>\n",
       "    </tr>\n",
       "    <tr>\n",
       "      <th>M</th>\n",
       "      <td>26</td>\n",
       "      <td>15</td>\n",
       "    </tr>\n",
       "  </tbody>\n",
       "</table>\n",
       "</div>"
      ],
      "text/plain": [
       "    B   M\n",
       "B  47  24\n",
       "M  26  15"
      ]
     },
     "execution_count": 5,
     "metadata": {},
     "output_type": "execute_result"
    }
   ],
   "source": [
    "confusion_matrix_mean(knn_confusion_matrix_list)"
   ]
  },
  {
   "cell_type": "markdown",
   "metadata": {},
   "source": [
    "# Showing dmc informations computed"
   ]
  },
  {
   "cell_type": "code",
   "execution_count": 6,
   "metadata": {},
   "outputs": [
    {
     "name": "stdout",
     "output_type": "stream",
     "text": [
      "----------------- DMC model -----------------\n",
      "Hit rate:\n",
      "[0.6578947368421053, 0.6403508771929824, 0.6140350877192983, 0.40350877192982454, 0.6754385964912281, 0.6140350877192983, 0.6403508771929824, 0.3157894736842105, 0.6140350877192983, 0.41228070175438597, 0.6491228070175439, 0.5964912280701754, 0.631578947368421, 0.4649122807017544, 0.6666666666666666, 0.34210526315789475, 0.41228070175438597, 0.5614035087719298, 0.34210526315789475, 0.2807017543859649]\n",
      "\n",
      "Accuracy:\n",
      "0.5267543859649123\n",
      "\n",
      "Standard Deviation:\n",
      "0.13379637395303123\n",
      "\n",
      "Confusion Matrix:\n",
      "    B  M\n",
      "B  75  0\n",
      "M  39  0\n",
      "    B  M\n",
      "B  73  0\n",
      "M  41  0\n",
      "   M   B\n",
      "M  0  44\n",
      "B  0  70\n",
      "   B   M\n",
      "B  0  68\n",
      "M  0  46\n",
      "    B  M\n",
      "B  77  0\n",
      "M  37  0\n",
      "    B  M\n",
      "B  70  0\n",
      "M  44  0\n",
      "    B  M\n",
      "B  73  0\n",
      "M  41  0\n",
      "   B   M\n",
      "B  0  78\n",
      "M  0  36\n",
      "    B  M\n",
      "B  70  0\n",
      "M  44  0\n",
      "    M  B\n",
      "M  47  0\n",
      "B  67  0\n",
      "   M   B\n",
      "M  0  40\n",
      "B  0  74\n",
      "   M   B\n",
      "M  0  46\n",
      "B  0  68\n",
      "   M   B\n",
      "M  0  42\n",
      "B  0  72\n",
      "   B   M\n",
      "B  0  61\n",
      "M  0  53\n",
      "    B  M\n",
      "B  76  0\n",
      "M  38  0\n",
      "    M  B\n",
      "M  39  0\n",
      "B  75  0\n",
      "   B   M\n",
      "B  0  67\n",
      "M  0  47\n",
      "   M   B\n",
      "M  0  50\n",
      "B  0  64\n",
      "   B   M\n",
      "B  0  75\n",
      "M  0  39\n",
      "    M  B\n",
      "M  32  0\n",
      "B  82  0\n"
     ]
    }
   ],
   "source": [
    "print('----------------- DMC model -----------------')\n",
    "print('Hit rate:')\n",
    "print(dmc_hit_rate_list, end='\\n\\n')\n",
    "\n",
    "print('Accuracy:')\n",
    "print(sum(dmc_hit_rate_list)/len(dmc_hit_rate_list), end='\\n\\n')\n",
    "\n",
    "print('Standard Deviation:')\n",
    "print(dmc_std_dev, end='\\n\\n')\n",
    "\n",
    "print('Confusion Matrix:')\n",
    "for matrix in dmc_confusion_matrix_list:\n",
    "    print(matrix, end='\\n')"
   ]
  },
  {
   "cell_type": "code",
   "execution_count": 7,
   "metadata": {},
   "outputs": [
    {
     "data": {
      "text/html": [
       "<div>\n",
       "<style scoped>\n",
       "    .dataframe tbody tr th:only-of-type {\n",
       "        vertical-align: middle;\n",
       "    }\n",
       "\n",
       "    .dataframe tbody tr th {\n",
       "        vertical-align: top;\n",
       "    }\n",
       "\n",
       "    .dataframe thead th {\n",
       "        text-align: right;\n",
       "    }\n",
       "</style>\n",
       "<table border=\"1\" class=\"dataframe\">\n",
       "  <thead>\n",
       "    <tr style=\"text-align: right;\">\n",
       "      <th></th>\n",
       "      <th>B</th>\n",
       "      <th>M</th>\n",
       "    </tr>\n",
       "  </thead>\n",
       "  <tbody>\n",
       "    <tr>\n",
       "      <th>B</th>\n",
       "      <td>43</td>\n",
       "      <td>28</td>\n",
       "    </tr>\n",
       "    <tr>\n",
       "      <th>M</th>\n",
       "      <td>25</td>\n",
       "      <td>16</td>\n",
       "    </tr>\n",
       "  </tbody>\n",
       "</table>\n",
       "</div>"
      ],
      "text/plain": [
       "    B   M\n",
       "B  43  28\n",
       "M  25  16"
      ]
     },
     "execution_count": 7,
     "metadata": {},
     "output_type": "execute_result"
    }
   ],
   "source": [
    "confusion_matrix_mean(dmc_confusion_matrix_list)"
   ]
  },
  {
   "cell_type": "markdown",
   "metadata": {},
   "source": [
    "# Showing naive bayes informations computed"
   ]
  },
  {
   "cell_type": "code",
   "execution_count": 8,
   "metadata": {},
   "outputs": [
    {
     "name": "stdout",
     "output_type": "stream",
     "text": [
      "----------------- NAIVE BAYES model -----------------\n",
      "Hit rate:\n",
      "[0.34210526315789475, 0.35964912280701755, 0.38596491228070173, 0.5964912280701754, 0.32456140350877194, 0.38596491228070173, 0.35964912280701755, 0.6842105263157895, 0.38596491228070173, 0.5877192982456141, 0.3508771929824561, 0.40350877192982454, 0.3684210526315789, 0.5350877192982456, 0.3333333333333333, 0.6578947368421053, 0.5877192982456141, 0.43859649122807015, 0.6578947368421053, 0.7192982456140351]\n",
      "\n",
      "Accuracy:\n",
      "0.4732456140350877\n",
      "\n",
      "Standard Deviation:\n",
      "0.13379637395303126\n",
      "\n",
      "Confusion Matrix:\n",
      "   B   M\n",
      "B  0  75\n",
      "M  0  39\n",
      "   B   M\n",
      "B  0  73\n",
      "M  0  41\n",
      "    M  B\n",
      "M  44  0\n",
      "B  70  0\n",
      "    B  M\n",
      "B  68  0\n",
      "M  46  0\n",
      "   B   M\n",
      "B  0  77\n",
      "M  0  37\n",
      "   B   M\n",
      "B  0  70\n",
      "M  0  44\n",
      "   B   M\n",
      "B  0  73\n",
      "M  0  41\n",
      "    B  M\n",
      "B  78  0\n",
      "M  36  0\n",
      "   B   M\n",
      "B  0  70\n",
      "M  0  44\n",
      "   M   B\n",
      "M  0  47\n",
      "B  0  67\n",
      "    M  B\n",
      "M  40  0\n",
      "B  74  0\n",
      "    M  B\n",
      "M  46  0\n",
      "B  68  0\n",
      "    M  B\n",
      "M  42  0\n",
      "B  72  0\n",
      "    B  M\n",
      "B  61  0\n",
      "M  53  0\n",
      "   B   M\n",
      "B  0  76\n",
      "M  0  38\n",
      "   M   B\n",
      "M  0  39\n",
      "B  0  75\n",
      "    B  M\n",
      "B  67  0\n",
      "M  47  0\n",
      "    M  B\n",
      "M  50  0\n",
      "B  64  0\n",
      "    B  M\n",
      "B  75  0\n",
      "M  39  0\n",
      "   M   B\n",
      "M  0  32\n",
      "B  0  82\n"
     ]
    }
   ],
   "source": [
    "print('----------------- NAIVE BAYES model -----------------')\n",
    "print('Hit rate:')\n",
    "print(nb_hit_rate_list, end='\\n\\n')\n",
    "\n",
    "print('Accuracy:')\n",
    "print(sum(nb_hit_rate_list)/len(nb_hit_rate_list), end='\\n\\n')\n",
    "\n",
    "print('Standard Deviation:')\n",
    "print(nb_std_dev, end='\\n\\n')\n",
    "\n",
    "print('Confusion Matrix:')\n",
    "for matrix in nb_confusion_matrix_list:\n",
    "    print(matrix, end='\\n')"
   ]
  },
  {
   "cell_type": "code",
   "execution_count": 9,
   "metadata": {},
   "outputs": [
    {
     "data": {
      "text/html": [
       "<div>\n",
       "<style scoped>\n",
       "    .dataframe tbody tr th:only-of-type {\n",
       "        vertical-align: middle;\n",
       "    }\n",
       "\n",
       "    .dataframe tbody tr th {\n",
       "        vertical-align: top;\n",
       "    }\n",
       "\n",
       "    .dataframe thead th {\n",
       "        text-align: right;\n",
       "    }\n",
       "</style>\n",
       "<table border=\"1\" class=\"dataframe\">\n",
       "  <thead>\n",
       "    <tr style=\"text-align: right;\">\n",
       "      <th></th>\n",
       "      <th>B</th>\n",
       "      <th>M</th>\n",
       "    </tr>\n",
       "  </thead>\n",
       "  <tbody>\n",
       "    <tr>\n",
       "      <th>B</th>\n",
       "      <td>28</td>\n",
       "      <td>43</td>\n",
       "    </tr>\n",
       "    <tr>\n",
       "      <th>M</th>\n",
       "      <td>16</td>\n",
       "      <td>25</td>\n",
       "    </tr>\n",
       "  </tbody>\n",
       "</table>\n",
       "</div>"
      ],
      "text/plain": [
       "    B   M\n",
       "B  28  43\n",
       "M  16  25"
      ]
     },
     "execution_count": 9,
     "metadata": {},
     "output_type": "execute_result"
    }
   ],
   "source": [
    "confusion_matrix_mean(nb_confusion_matrix_list)"
   ]
  },
  {
   "cell_type": "markdown",
   "metadata": {},
   "source": [
    "# Choosing two columns from the last X_train and X_test to plot decision surface"
   ]
  },
  {
   "cell_type": "code",
   "execution_count": 12,
   "metadata": {},
   "outputs": [
    {
     "name": "stdout",
     "output_type": "stream",
     "text": [
      "Train dataset:\n",
      "     radius_mean  texture_mean\n",
      "141        16.11         18.05\n",
      "481        13.90         19.24\n",
      "189        12.30         15.90\n",
      "124        13.37         16.39\n",
      "453        14.53         13.98\n",
      "..           ...           ...\n",
      "54         15.10         22.02\n",
      "219        19.53         32.47\n",
      "25         17.14         16.40\n",
      "429        12.72         17.67\n",
      "247        12.89         14.11\n",
      "\n",
      "[455 rows x 2 columns]\n",
      "Test dataset:\n",
      "     radius_mean  texture_mean\n",
      "509       15.460         23.95\n",
      "490       12.250         22.44\n",
      "203       13.810         23.75\n",
      "104       10.490         19.29\n",
      "270       14.290         16.82\n",
      "..           ...           ...\n",
      "552       12.770         29.43\n",
      "101        6.981         13.43\n",
      "123       14.500         10.89\n",
      "476       14.200         20.53\n",
      "286       11.940         20.76\n",
      "\n",
      "[114 rows x 2 columns]\n"
     ]
    }
   ],
   "source": [
    "X_train_2d, X_test_2d = X_train[['radius_mean', 'texture_mean']], X_test[['radius_mean', 'texture_mean']]\n",
    "\n",
    "print('Train dataset:')\n",
    "print(X_train_2d)\n",
    "print('Test dataset:')\n",
    "print(X_test_2d)"
   ]
  },
  {
   "cell_type": "markdown",
   "metadata": {},
   "source": [
    "# Training the models with the new dataset 2d"
   ]
  },
  {
   "cell_type": "code",
   "execution_count": 13,
   "metadata": {},
   "outputs": [
    {
     "name": "stderr",
     "output_type": "stream",
     "text": [
      "w:\\Home\\ML\\knn\\knn.py:11: FutureWarning: The default dtype for empty Series will be 'object' instead of 'float64' in a future version. Specify a dtype explicitly to silence this warning.\n",
      "  self.__y = pd.Series([])\n"
     ]
    }
   ],
   "source": [
    "knn_model = knn(k=3, type_distance_calc='euclidean')\n",
    "knn_model.fit(X_train_2d, y_train)\n",
    "dmc_model = dmc(type_distance_calc='euclidean')\n",
    "dmc_model.fit(X_train_2d, y_train)\n",
    "nb_model = naive_bayes_classifier()\n",
    "nb_model.fit(X_train_2d, y_train)"
   ]
  },
  {
   "cell_type": "markdown",
   "metadata": {},
   "source": [
    "# Plotting knn decision surface"
   ]
  },
  {
   "cell_type": "code",
   "execution_count": 15,
   "metadata": {},
   "outputs": [
    {
     "data": {
      "image/png": "[encoded data removed]",
      "text/plain": [
       "<Figure size 640x480 with 1 Axes>"
      ]
     },
     "metadata": {},
     "output_type": "display_data"
    }
   ],
   "source": [
    "data = X_test_2d[:][:].values\n",
    "\n",
    "x_min, x_max = data[:, 0].min() - 0.1, data[:,0].max() + 0.1\n",
    "y_min, y_max = data[:, 1].min() - 0.1, data[:, 1].max() + 0.1\n",
    "\n",
    "xx, yy = np.meshgrid(np.linspace(x_min,x_max, 100),\n",
    "np.linspace(y_min, y_max, 100))\n",
    "\n",
    "x_in = np.c_[xx.ravel(), yy.ravel()]\n",
    "\n",
    "y_pred = [[knn_model.predict(x) for x in x_in]]\n",
    "for i, y in enumerate(y_pred[0]):\n",
    "    if y == 'M':\n",
    "        y_pred[0][i] = 1\n",
    "    else:\n",
    "        y_pred[0][i] = 2\n",
    "\n",
    "y_pred = np.round(y_pred).reshape(xx.shape)\n",
    "\n",
    "plt.contourf(xx, yy, y_pred, cmap=plt.cm.RdYlBu, alpha=0.7 )\n",
    "\n",
    "plt.xlim(xx.min(), xx.max())\n",
    "plt.ylim(yy.min(), yy.max())\n",
    "\n",
    "knn_y_pred = np.array([knn_model.predict(x) for x in X_test_2d.values])\n",
    "\n",
    "M = np.where(knn_y_pred == 'M')\n",
    "B = np.where(knn_y_pred == 'B')\n",
    "\n",
    "plt.scatter(data[M, 0], data[M, 1],\n",
    "            color='red', marker='o', label='M')\n",
    "plt.scatter(data[B, 0], data[B, 1],\n",
    "            color='blue', marker='X', label='B')\n",
    "\n",
    "plt.show()"
   ]
  },
  {
   "cell_type": "markdown",
   "metadata": {},
   "source": [
    "# Plotting dmc decision surface"
   ]
  },
  {
   "cell_type": "code",
   "execution_count": 17,
   "metadata": {},
   "outputs": [
    {
     "data": {
      "image/png": "[encoded data removed]",
      "text/plain": [
       "<Figure size 640x480 with 1 Axes>"
      ]
     },
     "metadata": {},
     "output_type": "display_data"
    }
   ],
   "source": [
    "data = X_test_2d[:][:].values\n",
    "\n",
    "x_min, x_max = data[:, 0].min() - 0.1, data[:,0].max() + 0.1\n",
    "y_min, y_max = data[:, 1].min() - 0.1, data[:, 1].max() + 0.1\n",
    "\n",
    "xx, yy = np.meshgrid(np.linspace(x_min,x_max, 100),\n",
    "np.linspace(y_min, y_max, 100))\n",
    "\n",
    "x_in = np.c_[xx.ravel(), yy.ravel()]\n",
    "\n",
    "y_pred = [[dmc_model.predict(x) for x in x_in]]\n",
    "for i, y in enumerate(y_pred[0]):\n",
    "    if y == 'M':\n",
    "        y_pred[0][i] = 1\n",
    "    else:\n",
    "        y_pred[0][i] = 2\n",
    "\n",
    "y_pred = np.round(y_pred).reshape(xx.shape)\n",
    "\n",
    "plt.contourf(xx, yy, y_pred, cmap=plt.cm.RdYlBu, alpha=0.7 )\n",
    "\n",
    "plt.xlim(xx.min(), xx.max())\n",
    "plt.ylim(yy.min(), yy.max())\n",
    "\n",
    "dmc_y_pred = np.array([dmc_model.predict(x) for x in X_test_2d.values])\n",
    "\n",
    "M = np.where(dmc_y_pred == 'M')\n",
    "B = np.where(dmc_y_pred == 'B')\n",
    "\n",
    "plt.scatter(data[M, 0], data[M, 1],\n",
    "            color='red', marker='o', label='M')\n",
    "plt.scatter(data[B, 0], data[B, 1],\n",
    "            color='blue', marker='X', label='B')\n",
    "\n",
    "plt.show()"
   ]
  },
  {
   "cell_type": "markdown",
   "metadata": {},
   "source": [
    "# Plotting naive bayes decision surface"
   ]
  },
  {
   "cell_type": "code",
   "execution_count": 18,
   "metadata": {},
   "outputs": [
    {
     "data": {
      "image/png": "[encoded data removed]",
      "text/plain": [
       "<Figure size 640x480 with 1 Axes>"
      ]
     },
     "metadata": {},
     "output_type": "display_data"
    }
   ],
   "source": [
    "data = X_test_2d[:][:].values\n",
    "\n",
    "x_min, x_max = data[:, 0].min() - 0.1, data[:,0].max() + 0.1\n",
    "y_min, y_max = data[:, 1].min() - 0.1, data[:, 1].max() + 0.1\n",
    "\n",
    "xx, yy = np.meshgrid(np.linspace(x_min,x_max, 100),\n",
    "np.linspace(y_min, y_max, 100))\n",
    "\n",
    "x_in = np.c_[xx.ravel(), yy.ravel()]\n",
    "\n",
    "y_pred = [[nb_model.predict(x) for x in x_in]]\n",
    "for i, y in enumerate(y_pred[0]):\n",
    "    if y == 'M':\n",
    "        y_pred[0][i] = 1\n",
    "    else:\n",
    "        y_pred[0][i] = 2\n",
    "\n",
    "y_pred = np.round(y_pred).reshape(xx.shape)\n",
    "\n",
    "plt.contourf(xx, yy, y_pred, cmap=plt.cm.RdYlBu, alpha=0.7 )\n",
    "\n",
    "plt.xlim(xx.min(), xx.max())\n",
    "plt.ylim(yy.min(), yy.max())\n",
    "\n",
    "nb_y_pred = np.array([nb_model.predict(x) for x in X_test_2d.values])\n",
    "\n",
    "M = np.where(nb_y_pred == 'M')\n",
    "B = np.where(nb_y_pred == 'B')\n",
    "\n",
    "plt.scatter(data[M, 0], data[M, 1],\n",
    "            color='red', marker='o', label='M')\n",
    "plt.scatter(data[B, 0], data[B, 1],\n",
    "            color='blue', marker='X', label='B')\n",
    "\n",
    "plt.show()"
   ]
  }
 ],
 "metadata": {
  "kernelspec": {
   "display_name": "Python 3.10.4 ('.venv': venv)",
   "language": "python",
   "name": "python3"
  },
  "language_info": {
   "codemirror_mode": {
    "name": "ipython",
    "version": 3
   },
   "file_extension": ".py",
   "mimetype": "text/x-python",
   "name": "python",
   "nbconvert_exporter": "python",
   "pygments_lexer": "ipython3",
   "version": "3.10.4"
  },
  "orig_nbformat": 4,
  "vscode": {
   "interpreter": {
    "hash": "33434f0cc8e6f3723834300de8718debdc0c9ba9cd4c4faf0515f4c47995aa8c"
   }
  }
 },
 "nbformat": 4,
 "nbformat_minor": 2
}
