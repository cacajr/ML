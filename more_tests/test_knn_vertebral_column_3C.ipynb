{
 "cells": [
  {
   "cell_type": "markdown",
   "metadata": {},
   "source": [
    "# Import libs"
   ]
  },
  {
   "cell_type": "code",
   "execution_count": 1,
   "metadata": {},
   "outputs": [],
   "source": [
    "import sys, os\n",
    "if not sys.path[0] == os.path.abspath('..'):\n",
    "    sys.path.insert(0, os.path.abspath('..'))\n",
    "\n",
    "import pandas as pd\n",
    "import numpy as np\n",
    "from models.knn.knn import knn\n",
    "from sklearn.model_selection import train_test_split\n",
    "from sklearn.metrics import confusion_matrix\n",
    "from matplotlib import pyplot as plt"
   ]
  },
  {
   "cell_type": "markdown",
   "metadata": {},
   "source": [
    "# Loading Vertebral Column 3C dataset"
   ]
  },
  {
   "cell_type": "code",
   "execution_count": 2,
   "metadata": {},
   "outputs": [],
   "source": [
    "Xy = pd.read_csv('../datasets/vertebral_column_3C.dat', header=None, sep=' ', engine='python')\n",
    "\n",
    "X = Xy.drop(Xy.columns[-1:], axis=1)\n",
    "y = Xy[Xy.columns[-1]]"
   ]
  },
  {
   "cell_type": "markdown",
   "metadata": {},
   "source": [
    "# Instantiating model"
   ]
  },
  {
   "cell_type": "code",
   "execution_count": 3,
   "metadata": {},
   "outputs": [
    {
     "name": "stderr",
     "output_type": "stream",
     "text": [
      "w:\\Home\\ML\\knn\\knn.py:11: FutureWarning: The default dtype for empty Series will be 'object' instead of 'float64' in a future version. Specify a dtype explicitly to silence this warning.\n",
      "  self.__y = pd.Series([])\n"
     ]
    }
   ],
   "source": [
    "knn_model = knn(k=3, type_distance_calc='euclidean')"
   ]
  },
  {
   "cell_type": "markdown",
   "metadata": {},
   "source": [
    "# Running the tests and computing informations"
   ]
  },
  {
   "cell_type": "code",
   "execution_count": 4,
   "metadata": {},
   "outputs": [],
   "source": [
    "realizations = 20\n",
    "hit_rate_list = []\n",
    "std_dev = 0\n",
    "confusion_matrix_list = []\n",
    "\n",
    "for r in range(realizations):\n",
    "    X_train, X_test, y_train, y_test = train_test_split(X, y, test_size = 0.2)\n",
    "\n",
    "    knn_model.fit(X_train, y_train)\n",
    "\n",
    "    hit_rate_list.append(knn_model.score(X_test, y_test))\n",
    "\n",
    "    y_pred = [knn_model.predict(x) for x in X_test.values]\n",
    "\n",
    "    confusion_matrix_list.append(confusion_matrix(y_test, y_pred))\n",
    "\n",
    "std_dev = np.std(hit_rate_list)"
   ]
  },
  {
   "cell_type": "markdown",
   "metadata": {},
   "source": [
    "# Showing informations computed"
   ]
  },
  {
   "cell_type": "code",
   "execution_count": 5,
   "metadata": {},
   "outputs": [
    {
     "name": "stdout",
     "output_type": "stream",
     "text": [
      "Hit rate:\n",
      "[0.8548387096774194, 0.8387096774193549, 0.7419354838709677, 0.7741935483870968, 0.7741935483870968, 0.8064516129032258, 0.8225806451612904, 0.8548387096774194, 0.8064516129032258, 0.8225806451612904, 0.7741935483870968, 0.8064516129032258, 0.8225806451612904, 0.7741935483870968, 0.8225806451612904, 0.8709677419354839, 0.8387096774193549, 0.8548387096774194, 0.8387096774193549, 0.7258064516129032]\n",
      "\n",
      "Accuracy:\n",
      "0.811290322580645\n",
      "\n",
      "Standard Deviation:\n",
      "0.0385413004688662\n",
      "\n",
      "Confusion Matrix:\n",
      "[[ 7  5  0]\n",
      " [ 3 17  1]\n",
      " [ 0  0 29]]\n",
      "[[ 6  5  0]\n",
      " [ 2 16  0]\n",
      " [ 1  2 30]]\n",
      "[[ 7 10  0]\n",
      " [ 3 13  1]\n",
      " [ 1  1 26]]\n",
      "[[ 4  5  1]\n",
      " [ 5 17  1]\n",
      " [ 0  2 27]]\n",
      "[[ 7  4  0]\n",
      " [ 8 13  1]\n",
      " [ 0  1 28]]\n",
      "[[ 7  4  0]\n",
      " [ 4 18  2]\n",
      " [ 1  1 25]]\n",
      "[[ 7  4  0]\n",
      " [ 4 16  2]\n",
      " [ 1  0 28]]\n",
      "[[ 4  5  0]\n",
      " [ 2 13  0]\n",
      " [ 1  1 36]]\n",
      "[[ 6  3  0]\n",
      " [ 5 17  1]\n",
      " [ 1  2 27]]\n",
      "[[12  3  0]\n",
      " [ 6 13  2]\n",
      " [ 0  0 26]]\n",
      "[[ 6  7  0]\n",
      " [ 4 18  1]\n",
      " [ 1  1 24]]\n",
      "[[ 7  5  0]\n",
      " [ 5 17  1]\n",
      " [ 0  1 26]]\n",
      "[[10  3  0]\n",
      " [ 6 13  1]\n",
      " [ 1  0 28]]\n",
      "[[ 9  7  0]\n",
      " [ 5 11  1]\n",
      " [ 0  1 28]]\n",
      "[[ 7  3  0]\n",
      " [ 6 14  0]\n",
      " [ 2  0 30]]\n",
      "[[ 5  4  0]\n",
      " [ 1 15  0]\n",
      " [ 1  2 34]]\n",
      "[[ 5  6  0]\n",
      " [ 4 15  0]\n",
      " [ 0  0 32]]\n",
      "[[ 5  5  0]\n",
      " [ 2 17  0]\n",
      " [ 1  1 31]]\n",
      "[[ 3  5  0]\n",
      " [ 4 13  0]\n",
      " [ 0  1 36]]\n",
      "[[ 7  5  0]\n",
      " [10 12  0]\n",
      " [ 1  1 26]]\n"
     ]
    }
   ],
   "source": [
    "print('Hit rate:')\n",
    "print(hit_rate_list, end='\\n\\n')\n",
    "\n",
    "print('Accuracy:')\n",
    "print(sum(hit_rate_list)/len(hit_rate_list), end='\\n\\n')\n",
    "\n",
    "print('Standard Deviation:')\n",
    "print(std_dev, end='\\n\\n')\n",
    "\n",
    "print('Confusion Matrix:')\n",
    "for matrix in confusion_matrix_list:\n",
    "    print(matrix, end='\\n')"
   ]
  },
  {
   "cell_type": "markdown",
   "metadata": {},
   "source": [
    "# Choosing two columns from the last X_train and X_test to plot decision surface"
   ]
  },
  {
   "cell_type": "code",
   "execution_count": 6,
   "metadata": {},
   "outputs": [
    {
     "name": "stdout",
     "output_type": "stream",
     "text": [
      "Train dataset:\n",
      "         0      1\n",
      "181  64.62  15.23\n",
      "99   58.52  13.92\n",
      "307  61.45  22.69\n",
      "146  85.58  30.46\n",
      "276  51.33  13.63\n",
      "..     ...    ...\n",
      "161  67.26   7.19\n",
      "309  33.84   5.07\n",
      "3    69.30  24.65\n",
      "145  85.64  42.69\n",
      "248  47.32   8.57\n",
      "\n",
      "[248 rows x 2 columns]\n",
      "Test dataset:\n",
      "         0      1\n",
      "247  49.83  16.74\n",
      "83   81.10  24.79\n",
      "2    68.83  22.22\n",
      "302  54.60  21.49\n",
      "159  64.27  12.51\n",
      "..     ...    ...\n",
      "13   53.57  20.46\n",
      "261  74.98  14.92\n",
      "274  43.19   9.98\n",
      "88   56.61  16.80\n",
      "262  42.52  14.38\n",
      "\n",
      "[62 rows x 2 columns]\n"
     ]
    }
   ],
   "source": [
    "X_train_2d, X_test_2d = X_train[X_train.columns[:2]], X_test[X_train.columns[:2]]\n",
    "\n",
    "print('Train dataset:')\n",
    "print(X_train_2d)\n",
    "print('Test dataset:')\n",
    "print(X_test_2d)"
   ]
  },
  {
   "cell_type": "markdown",
   "metadata": {},
   "source": [
    "# Training the model with the new dataset 2d"
   ]
  },
  {
   "cell_type": "code",
   "execution_count": 7,
   "metadata": {},
   "outputs": [
    {
     "name": "stderr",
     "output_type": "stream",
     "text": [
      "w:\\Home\\ML\\knn\\knn.py:11: FutureWarning: The default dtype for empty Series will be 'object' instead of 'float64' in a future version. Specify a dtype explicitly to silence this warning.\n",
      "  self.__y = pd.Series([])\n"
     ]
    }
   ],
   "source": [
    "knn_model = knn(k=3, type_distance_calc='euclidean')\n",
    "knn_model.fit(X_train_2d, y_train)"
   ]
  },
  {
   "cell_type": "markdown",
   "metadata": {},
   "source": [
    "# Plotting decision surface"
   ]
  },
  {
   "cell_type": "code",
   "execution_count": 8,
   "metadata": {},
   "outputs": [
    {
     "data": {
      "image/png": "[encoded data removed]",
      "text/plain": [
       "<Figure size 640x480 with 1 Axes>"
      ]
     },
     "metadata": {},
     "output_type": "display_data"
    }
   ],
   "source": [
    "data = X_test_2d[:][:].values\n",
    "\n",
    "y_pred = np.array([knn_model.predict(x) for x in X_test_2d.values])\n",
    "\n",
    "dh = np.where(y_pred == 'DH')\n",
    "sl = np.where(y_pred == 'SL')\n",
    "no = np.where(y_pred == 'NO')\n",
    "\n",
    "plt.scatter(data[dh, 0], data[dh, 1],\n",
    "            color='red', marker='o', label='dh')\n",
    "plt.scatter(data[sl, 0], data[sl, 1],\n",
    "            color='blue', marker='X', label='sl')\n",
    "plt.scatter(data[no, 0], data[no, 1],\n",
    "            color='green', marker='P', label='no')\n",
    "\n",
    "plt.show()"
   ]
  }
 ],
 "metadata": {
  "kernelspec": {
   "display_name": "Python 3.10.4 ('.venv': venv)",
   "language": "python",
   "name": "python3"
  },
  "language_info": {
   "codemirror_mode": {
    "name": "ipython",
    "version": 3
   },
   "file_extension": ".py",
   "mimetype": "text/x-python",
   "name": "python",
   "nbconvert_exporter": "python",
   "pygments_lexer": "ipython3",
   "version": "3.10.4"
  },
  "orig_nbformat": 4,
  "vscode": {
   "interpreter": {
    "hash": "33434f0cc8e6f3723834300de8718debdc0c9ba9cd4c4faf0515f4c47995aa8c"
   }
  }
 },
 "nbformat": 4,
 "nbformat_minor": 2
}
