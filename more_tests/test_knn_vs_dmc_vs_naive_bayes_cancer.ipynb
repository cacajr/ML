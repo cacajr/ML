{
 "cells": [
  {
   "cell_type": "markdown",
   "metadata": {},
   "source": [
    "# Import libs"
   ]
  },
  {
   "cell_type": "code",
   "execution_count": 1,
   "metadata": {},
   "outputs": [],
   "source": [
    "import sys, os\n",
    "if not sys.path[0] == os.path.abspath('..'):\n",
    "    sys.path.insert(0, os.path.abspath('..'))\n",
    "\n",
    "import pandas as pd\n",
    "import numpy as np\n",
    "from models.knn.knn import knn\n",
    "from models.dmc.dmc import dmc\n",
    "from models.naive_bayes_classifier.naive_bayes_classifier import naive_bayes_classifier\n",
    "from sklearn.model_selection import train_test_split\n",
    "# from sklearn.metrics import confusion_matrix\n",
    "from utils.functions import confusion_matrix, confusion_matrix_mean\n",
    "from matplotlib import pyplot as plt"
   ]
  },
  {
   "cell_type": "markdown",
   "metadata": {},
   "source": [
    "# Loading Breast Cancer dataset"
   ]
  },
  {
   "cell_type": "code",
   "execution_count": 2,
   "metadata": {},
   "outputs": [],
   "source": [
    "Xy = pd.read_csv('../datasets/breast_cancer.csv')\n",
    "Xy.dropna(inplace=True)\n",
    "X = Xy.drop(['diagnosis', 'id'], axis=1)\n",
    "y = Xy['diagnosis']"
   ]
  },
  {
   "cell_type": "markdown",
   "metadata": {},
   "source": [
    "# Running the tests and computing informations"
   ]
  },
  {
   "cell_type": "code",
   "execution_count": 3,
   "metadata": {},
   "outputs": [
    {
     "name": "stderr",
     "output_type": "stream",
     "text": [
      "w:\\Home\\ML\\knn\\knn.py:11: FutureWarning: The default dtype for empty Series will be 'object' instead of 'float64' in a future version. Specify a dtype explicitly to silence this warning.\n",
      "  self.__y = pd.Series([])\n",
      "w:\\Home\\ML\\knn\\knn.py:11: FutureWarning: The default dtype for empty Series will be 'object' instead of 'float64' in a future version. Specify a dtype explicitly to silence this warning.\n",
      "  self.__y = pd.Series([])\n",
      "w:\\Home\\ML\\knn\\knn.py:11: FutureWarning: The default dtype for empty Series will be 'object' instead of 'float64' in a future version. Specify a dtype explicitly to silence this warning.\n",
      "  self.__y = pd.Series([])\n",
      "w:\\Home\\ML\\knn\\knn.py:11: FutureWarning: The default dtype for empty Series will be 'object' instead of 'float64' in a future version. Specify a dtype explicitly to silence this warning.\n",
      "  self.__y = pd.Series([])\n",
      "w:\\Home\\ML\\knn\\knn.py:11: FutureWarning: The default dtype for empty Series will be 'object' instead of 'float64' in a future version. Specify a dtype explicitly to silence this warning.\n",
      "  self.__y = pd.Series([])\n",
      "w:\\Home\\ML\\knn\\knn.py:11: FutureWarning: The default dtype for empty Series will be 'object' instead of 'float64' in a future version. Specify a dtype explicitly to silence this warning.\n",
      "  self.__y = pd.Series([])\n",
      "w:\\Home\\ML\\knn\\knn.py:11: FutureWarning: The default dtype for empty Series will be 'object' instead of 'float64' in a future version. Specify a dtype explicitly to silence this warning.\n",
      "  self.__y = pd.Series([])\n",
      "w:\\Home\\ML\\knn\\knn.py:11: FutureWarning: The default dtype for empty Series will be 'object' instead of 'float64' in a future version. Specify a dtype explicitly to silence this warning.\n",
      "  self.__y = pd.Series([])\n",
      "w:\\Home\\ML\\knn\\knn.py:11: FutureWarning: The default dtype for empty Series will be 'object' instead of 'float64' in a future version. Specify a dtype explicitly to silence this warning.\n",
      "  self.__y = pd.Series([])\n",
      "w:\\Home\\ML\\knn\\knn.py:11: FutureWarning: The default dtype for empty Series will be 'object' instead of 'float64' in a future version. Specify a dtype explicitly to silence this warning.\n",
      "  self.__y = pd.Series([])\n",
      "w:\\Home\\ML\\knn\\knn.py:11: FutureWarning: The default dtype for empty Series will be 'object' instead of 'float64' in a future version. Specify a dtype explicitly to silence this warning.\n",
      "  self.__y = pd.Series([])\n",
      "w:\\Home\\ML\\knn\\knn.py:11: FutureWarning: The default dtype for empty Series will be 'object' instead of 'float64' in a future version. Specify a dtype explicitly to silence this warning.\n",
      "  self.__y = pd.Series([])\n",
      "w:\\Home\\ML\\knn\\knn.py:11: FutureWarning: The default dtype for empty Series will be 'object' instead of 'float64' in a future version. Specify a dtype explicitly to silence this warning.\n",
      "  self.__y = pd.Series([])\n",
      "w:\\Home\\ML\\knn\\knn.py:11: FutureWarning: The default dtype for empty Series will be 'object' instead of 'float64' in a future version. Specify a dtype explicitly to silence this warning.\n",
      "  self.__y = pd.Series([])\n",
      "w:\\Home\\ML\\knn\\knn.py:11: FutureWarning: The default dtype for empty Series will be 'object' instead of 'float64' in a future version. Specify a dtype explicitly to silence this warning.\n",
      "  self.__y = pd.Series([])\n",
      "w:\\Home\\ML\\knn\\knn.py:11: FutureWarning: The default dtype for empty Series will be 'object' instead of 'float64' in a future version. Specify a dtype explicitly to silence this warning.\n",
      "  self.__y = pd.Series([])\n",
      "w:\\Home\\ML\\knn\\knn.py:11: FutureWarning: The default dtype for empty Series will be 'object' instead of 'float64' in a future version. Specify a dtype explicitly to silence this warning.\n",
      "  self.__y = pd.Series([])\n",
      "w:\\Home\\ML\\knn\\knn.py:11: FutureWarning: The default dtype for empty Series will be 'object' instead of 'float64' in a future version. Specify a dtype explicitly to silence this warning.\n",
      "  self.__y = pd.Series([])\n",
      "w:\\Home\\ML\\knn\\knn.py:11: FutureWarning: The default dtype for empty Series will be 'object' instead of 'float64' in a future version. Specify a dtype explicitly to silence this warning.\n",
      "  self.__y = pd.Series([])\n",
      "w:\\Home\\ML\\knn\\knn.py:11: FutureWarning: The default dtype for empty Series will be 'object' instead of 'float64' in a future version. Specify a dtype explicitly to silence this warning.\n",
      "  self.__y = pd.Series([])\n"
     ]
    }
   ],
   "source": [
    "realizations = 20\n",
    "knn_hit_rate_list = []\n",
    "dmc_hit_rate_list = []\n",
    "nb_hit_rate_list = []\n",
    "knn_std_dev = 0\n",
    "dmc_std_dev = 0\n",
    "nb_std_dev = 0\n",
    "knn_confusion_matrix_list = []\n",
    "dmc_confusion_matrix_list = []\n",
    "nb_confusion_matrix_list = []\n",
    "\n",
    "for r in range(realizations):\n",
    "    X_train, X_test, y_train, y_test = train_test_split(X, y, test_size = 0.2)\n",
    "\n",
    "    knn_model = knn(k=3, type_distance_calc='euclidean')\n",
    "    knn_model.fit(X_train, y_train)\n",
    "\n",
    "    dmc_model = dmc(type_distance_calc='euclidean')\n",
    "    dmc_model.fit(X_train, y_train)\n",
    "\n",
    "    nb_model = naive_bayes_classifier()\n",
    "    nb_model.fit(X_train, y_train)\n",
    "\n",
    "    knn_hit_rate_list.append(knn_model.score(X_test, y_test))\n",
    "    dmc_hit_rate_list.append(dmc_model.score(X_test, y_test))\n",
    "    nb_hit_rate_list.append(nb_model.score(X_test, y_test))\n",
    "\n",
    "    knn_y_pred = [knn_model.predict(x) for x in X_test.values]\n",
    "    dmc_y_pred = [dmc_model.predict(x) for x in X_test.values]\n",
    "    nb_y_pred = [nb_model.predict(x) for x in X_test.values]\n",
    "\n",
    "    knn_confusion_matrix_list.append(confusion_matrix(y_test, knn_y_pred))\n",
    "    dmc_confusion_matrix_list.append(confusion_matrix(y_test, dmc_y_pred))\n",
    "    nb_confusion_matrix_list.append(confusion_matrix(y_test, nb_y_pred))\n",
    "\n",
    "knn_std_dev = np.std(knn_hit_rate_list)\n",
    "dmc_std_dev = np.std(dmc_hit_rate_list)\n",
    "nb_std_dev = np.std(nb_hit_rate_list)"
   ]
  },
  {
   "cell_type": "markdown",
   "metadata": {},
   "source": [
    "# Showing knn informations computed"
   ]
  },
  {
   "cell_type": "code",
   "execution_count": 4,
   "metadata": {},
   "outputs": [
    {
     "name": "stdout",
     "output_type": "stream",
     "text": [
      "----------------- KNN model -----------------\n",
      "Hit rate:\n",
      "[0.9473684210526315, 0.9122807017543859, 0.9473684210526315, 0.9035087719298246, 0.9298245614035088, 0.9035087719298246, 0.9385964912280702, 0.9210526315789473, 0.9385964912280702, 0.9035087719298246, 0.8947368421052632, 0.9122807017543859, 0.9210526315789473, 0.9035087719298246, 0.8771929824561403, 0.9035087719298246, 0.9385964912280702, 0.9122807017543859, 0.9298245614035088, 0.9035087719298246]\n",
      "\n",
      "Accuracy:\n",
      "0.9171052631578949\n",
      "\n",
      "Standard Deviation:\n",
      "0.018499207639441347\n",
      "\n",
      "Confusion Matrix:\n",
      "    M   B\n",
      "M  40   1\n",
      "B   5  68\n",
      "    B   M\n",
      "B  74   5\n",
      "M   5  30\n",
      "    M   B\n",
      "M  45   4\n",
      "B   2  63\n",
      "    B   M\n",
      "B  68   1\n",
      "M  10  35\n",
      "    B   M\n",
      "B  66   5\n",
      "M   3  40\n",
      "    M   B\n",
      "M  40   8\n",
      "B   3  63\n",
      "    M   B\n",
      "M  41   4\n",
      "B   3  66\n",
      "    B   M\n",
      "B  68   4\n",
      "M   5  37\n",
      "    B   M\n",
      "B  77   2\n",
      "M   5  30\n",
      "    M   B\n",
      "M  37   9\n",
      "B   2  66\n",
      "    M   B\n",
      "M  40   9\n",
      "B   3  62\n",
      "    B   M\n",
      "B  67   3\n",
      "M   7  37\n",
      "    M   B\n",
      "M  26   5\n",
      "B   4  79\n",
      "    B   M\n",
      "B  66   5\n",
      "M   6  37\n",
      "    M   B\n",
      "M  37  12\n",
      "B   2  63\n",
      "    M   B\n",
      "M  45   6\n",
      "B   5  58\n",
      "    B   M\n",
      "B  71   2\n",
      "M   5  36\n",
      "    M   B\n",
      "M  42   9\n",
      "B   1  62\n",
      "    M   B\n",
      "M  35   4\n",
      "B   4  71\n",
      "    B   M\n",
      "B  67   4\n",
      "M   7  36\n"
     ]
    }
   ],
   "source": [
    "print('----------------- KNN model -----------------')\n",
    "print('Hit rate:')\n",
    "print(knn_hit_rate_list, end='\\n\\n')\n",
    "\n",
    "print('Accuracy:')\n",
    "print(sum(knn_hit_rate_list)/len(knn_hit_rate_list), end='\\n\\n')\n",
    "\n",
    "print('Standard Deviation:')\n",
    "print(knn_std_dev, end='\\n\\n')\n",
    "\n",
    "print('Confusion Matrix:')\n",
    "for matrix in knn_confusion_matrix_list:\n",
    "    print(matrix, end='\\n')"
   ]
  },
  {
   "cell_type": "code",
   "execution_count": 5,
   "metadata": {},
   "outputs": [
    {
     "data": {
      "text/html": [
       "<div>\n",
       "<style scoped>\n",
       "    .dataframe tbody tr th:only-of-type {\n",
       "        vertical-align: middle;\n",
       "    }\n",
       "\n",
       "    .dataframe tbody tr th {\n",
       "        vertical-align: top;\n",
       "    }\n",
       "\n",
       "    .dataframe thead th {\n",
       "        text-align: right;\n",
       "    }\n",
       "</style>\n",
       "<table border=\"1\" class=\"dataframe\">\n",
       "  <thead>\n",
       "    <tr style=\"text-align: right;\">\n",
       "      <th></th>\n",
       "      <th>M</th>\n",
       "      <th>B</th>\n",
       "    </tr>\n",
       "  </thead>\n",
       "  <tbody>\n",
       "    <tr>\n",
       "      <th>M</th>\n",
       "      <td>37</td>\n",
       "      <td>6</td>\n",
       "    </tr>\n",
       "    <tr>\n",
       "      <th>B</th>\n",
       "      <td>3</td>\n",
       "      <td>67</td>\n",
       "    </tr>\n",
       "  </tbody>\n",
       "</table>\n",
       "</div>"
      ],
      "text/plain": [
       "    M   B\n",
       "M  37   6\n",
       "B   3  67"
      ]
     },
     "execution_count": 5,
     "metadata": {},
     "output_type": "execute_result"
    }
   ],
   "source": [
    "confusion_matrix_mean(knn_confusion_matrix_list)"
   ]
  },
  {
   "cell_type": "markdown",
   "metadata": {},
   "source": [
    "# Showing dmc informations computed"
   ]
  },
  {
   "cell_type": "code",
   "execution_count": 6,
   "metadata": {},
   "outputs": [
    {
     "name": "stdout",
     "output_type": "stream",
     "text": [
      "----------------- DMC model -----------------\n",
      "Hit rate:\n",
      "[0.9035087719298246, 0.8859649122807017, 0.8421052631578947, 0.868421052631579, 0.9210526315789473, 0.8333333333333334, 0.8771929824561403, 0.8771929824561403, 0.8947368421052632, 0.868421052631579, 0.8333333333333334, 0.868421052631579, 0.9210526315789473, 0.8508771929824561, 0.8245614035087719, 0.8508771929824561, 0.8859649122807017, 0.8596491228070176, 0.9298245614035088, 0.868421052631579]\n",
      "\n",
      "Accuracy:\n",
      "0.8732456140350877\n",
      "\n",
      "Standard Deviation:\n",
      "0.029418677785498247\n",
      "\n",
      "Confusion Matrix:\n",
      "    M   B\n",
      "M  34   7\n",
      "B   4  69\n",
      "    B   M\n",
      "B  77   2\n",
      "M  11  24\n",
      "    M   B\n",
      "M  31  18\n",
      "B   0  65\n",
      "    B   M\n",
      "B  69   0\n",
      "M  15  30\n",
      "    B   M\n",
      "B  68   3\n",
      "M   6  37\n",
      "    M   B\n",
      "M  31  17\n",
      "B   2  64\n",
      "    M   B\n",
      "M  31  14\n",
      "B   0  69\n",
      "    B   M\n",
      "B  69   3\n",
      "M  11  31\n",
      "    B   M\n",
      "B  78   1\n",
      "M  11  24\n",
      "    M   B\n",
      "M  32  14\n",
      "B   1  67\n",
      "    M   B\n",
      "M  31  18\n",
      "B   1  64\n",
      "    B   M\n",
      "B  69   1\n",
      "M  14  30\n",
      "    M   B\n",
      "M  22   9\n",
      "B   0  83\n",
      "    B   M\n",
      "B  70   1\n",
      "M  16  27\n",
      "    M   B\n",
      "M  30  19\n",
      "B   1  64\n",
      "    M   B\n",
      "M  35  16\n",
      "B   1  62\n",
      "    B   M\n",
      "B  73   0\n",
      "M  13  28\n",
      "    M   B\n",
      "M  35  16\n",
      "B   0  63\n",
      "    M   B\n",
      "M  31   8\n",
      "B   0  75\n",
      "    B   M\n",
      "B  70   1\n",
      "M  14  29\n"
     ]
    }
   ],
   "source": [
    "print('----------------- DMC model -----------------')\n",
    "print('Hit rate:')\n",
    "print(dmc_hit_rate_list, end='\\n\\n')\n",
    "\n",
    "print('Accuracy:')\n",
    "print(sum(dmc_hit_rate_list)/len(dmc_hit_rate_list), end='\\n\\n')\n",
    "\n",
    "print('Standard Deviation:')\n",
    "print(dmc_std_dev, end='\\n\\n')\n",
    "\n",
    "print('Confusion Matrix:')\n",
    "for matrix in dmc_confusion_matrix_list:\n",
    "    print(matrix, end='\\n')"
   ]
  },
  {
   "cell_type": "code",
   "execution_count": 7,
   "metadata": {},
   "outputs": [
    {
     "data": {
      "text/html": [
       "<div>\n",
       "<style scoped>\n",
       "    .dataframe tbody tr th:only-of-type {\n",
       "        vertical-align: middle;\n",
       "    }\n",
       "\n",
       "    .dataframe tbody tr th {\n",
       "        vertical-align: top;\n",
       "    }\n",
       "\n",
       "    .dataframe thead th {\n",
       "        text-align: right;\n",
       "    }\n",
       "</style>\n",
       "<table border=\"1\" class=\"dataframe\">\n",
       "  <thead>\n",
       "    <tr style=\"text-align: right;\">\n",
       "      <th></th>\n",
       "      <th>M</th>\n",
       "      <th>B</th>\n",
       "    </tr>\n",
       "  </thead>\n",
       "  <tbody>\n",
       "    <tr>\n",
       "      <th>M</th>\n",
       "      <td>30</td>\n",
       "      <td>13</td>\n",
       "    </tr>\n",
       "    <tr>\n",
       "      <th>B</th>\n",
       "      <td>1</td>\n",
       "      <td>69</td>\n",
       "    </tr>\n",
       "  </tbody>\n",
       "</table>\n",
       "</div>"
      ],
      "text/plain": [
       "    M   B\n",
       "M  30  13\n",
       "B   1  69"
      ]
     },
     "execution_count": 7,
     "metadata": {},
     "output_type": "execute_result"
    }
   ],
   "source": [
    "confusion_matrix_mean(dmc_confusion_matrix_list)"
   ]
  },
  {
   "cell_type": "markdown",
   "metadata": {},
   "source": [
    "# Showing naive bayes informations computed"
   ]
  },
  {
   "cell_type": "code",
   "execution_count": 8,
   "metadata": {},
   "outputs": [
    {
     "name": "stdout",
     "output_type": "stream",
     "text": [
      "----------------- NAIVE BAYES model -----------------\n",
      "Hit rate:\n",
      "[0.9473684210526315, 0.9385964912280702, 0.9385964912280702, 0.9210526315789473, 0.9649122807017544, 0.9122807017543859, 0.9298245614035088, 0.9385964912280702, 0.9035087719298246, 0.8859649122807017, 0.9210526315789473, 0.9122807017543859, 0.9385964912280702, 0.9385964912280702, 0.9122807017543859, 0.9210526315789473, 0.9649122807017544, 0.9298245614035088, 0.9473684210526315, 0.9385964912280702]\n",
      "\n",
      "Accuracy:\n",
      "0.9302631578947367\n",
      "\n",
      "Standard Deviation:\n",
      "0.019112946113597314\n",
      "\n",
      "Confusion Matrix:\n",
      "    M   B\n",
      "M  38   3\n",
      "B   3  70\n",
      "    B   M\n",
      "B  74   5\n",
      "M   2  33\n",
      "    M   B\n",
      "M  43   6\n",
      "B   1  64\n",
      "    B   M\n",
      "B  66   3\n",
      "M   6  39\n",
      "    B   M\n",
      "B  68   3\n",
      "M   1  42\n",
      "    M   B\n",
      "M  42   6\n",
      "B   4  62\n",
      "    M   B\n",
      "M  40   5\n",
      "B   3  66\n",
      "    B   M\n",
      "B  70   2\n",
      "M   5  37\n",
      "    B   M\n",
      "B  74   5\n",
      "M   6  29\n",
      "    M   B\n",
      "M  39   7\n",
      "B   6  62\n",
      "    M   B\n",
      "M  43   6\n",
      "B   3  62\n",
      "    B   M\n",
      "B  65   5\n",
      "M   5  39\n",
      "    M   B\n",
      "M  27   4\n",
      "B   3  80\n",
      "    B   M\n",
      "B  66   5\n",
      "M   2  41\n",
      "    M   B\n",
      "M  43   6\n",
      "B   4  61\n",
      "    M   B\n",
      "M  45   6\n",
      "B   3  60\n",
      "    B   M\n",
      "B  73   0\n",
      "M   4  37\n",
      "    M   B\n",
      "M  44   7\n",
      "B   1  62\n",
      "    M   B\n",
      "M  35   4\n",
      "B   2  73\n",
      "    B   M\n",
      "B  69   2\n",
      "M   5  38\n"
     ]
    }
   ],
   "source": [
    "print('----------------- NAIVE BAYES model -----------------')\n",
    "print('Hit rate:')\n",
    "print(nb_hit_rate_list, end='\\n\\n')\n",
    "\n",
    "print('Accuracy:')\n",
    "print(sum(nb_hit_rate_list)/len(nb_hit_rate_list), end='\\n\\n')\n",
    "\n",
    "print('Standard Deviation:')\n",
    "print(nb_std_dev, end='\\n\\n')\n",
    "\n",
    "print('Confusion Matrix:')\n",
    "for matrix in nb_confusion_matrix_list:\n",
    "    print(matrix, end='\\n')"
   ]
  },
  {
   "cell_type": "code",
   "execution_count": 9,
   "metadata": {},
   "outputs": [
    {
     "data": {
      "text/html": [
       "<div>\n",
       "<style scoped>\n",
       "    .dataframe tbody tr th:only-of-type {\n",
       "        vertical-align: middle;\n",
       "    }\n",
       "\n",
       "    .dataframe tbody tr th {\n",
       "        vertical-align: top;\n",
       "    }\n",
       "\n",
       "    .dataframe thead th {\n",
       "        text-align: right;\n",
       "    }\n",
       "</style>\n",
       "<table border=\"1\" class=\"dataframe\">\n",
       "  <thead>\n",
       "    <tr style=\"text-align: right;\">\n",
       "      <th></th>\n",
       "      <th>M</th>\n",
       "      <th>B</th>\n",
       "    </tr>\n",
       "  </thead>\n",
       "  <tbody>\n",
       "    <tr>\n",
       "      <th>M</th>\n",
       "      <td>38</td>\n",
       "      <td>4</td>\n",
       "    </tr>\n",
       "    <tr>\n",
       "      <th>B</th>\n",
       "      <td>3</td>\n",
       "      <td>67</td>\n",
       "    </tr>\n",
       "  </tbody>\n",
       "</table>\n",
       "</div>"
      ],
      "text/plain": [
       "    M   B\n",
       "M  38   4\n",
       "B   3  67"
      ]
     },
     "execution_count": 9,
     "metadata": {},
     "output_type": "execute_result"
    }
   ],
   "source": [
    "confusion_matrix_mean(nb_confusion_matrix_list)"
   ]
  },
  {
   "cell_type": "markdown",
   "metadata": {},
   "source": [
    "# Choosing two columns from the last X_train and X_test to plot decision surface"
   ]
  },
  {
   "cell_type": "code",
   "execution_count": 10,
   "metadata": {},
   "outputs": [
    {
     "name": "stdout",
     "output_type": "stream",
     "text": [
      "Train dataset:\n",
      "     radius_mean  texture_mean\n",
      "158        12.06         12.74\n",
      "353        15.08         25.74\n",
      "98         11.60         12.84\n",
      "541        14.47         24.99\n",
      "247        12.89         14.11\n",
      "..           ...           ...\n",
      "324        12.20         15.21\n",
      "338        10.05         17.53\n",
      "146        11.80         16.58\n",
      "429        12.72         17.67\n",
      "199        14.45         20.22\n",
      "\n",
      "[455 rows x 2 columns]\n",
      "Test dataset:\n",
      "     radius_mean  texture_mean\n",
      "245       10.480         19.86\n",
      "134       18.450         21.91\n",
      "491       17.850         13.23\n",
      "190       14.220         23.12\n",
      "211       11.840         18.94\n",
      "..           ...           ...\n",
      "240       13.640         15.60\n",
      "49        13.490         22.30\n",
      "345       10.260         14.71\n",
      "132       16.160         21.54\n",
      "110        9.777         16.99\n",
      "\n",
      "[114 rows x 2 columns]\n"
     ]
    }
   ],
   "source": [
    "X_train_2d, X_test_2d = X_train[['radius_mean', 'texture_mean']], X_test[['radius_mean', 'texture_mean']]\n",
    "\n",
    "print('Train dataset:')\n",
    "print(X_train_2d)\n",
    "print('Test dataset:')\n",
    "print(X_test_2d)"
   ]
  },
  {
   "cell_type": "markdown",
   "metadata": {},
   "source": [
    "# Training the models with the new dataset 2d"
   ]
  },
  {
   "cell_type": "code",
   "execution_count": 11,
   "metadata": {},
   "outputs": [
    {
     "name": "stderr",
     "output_type": "stream",
     "text": [
      "w:\\Home\\ML\\knn\\knn.py:11: FutureWarning: The default dtype for empty Series will be 'object' instead of 'float64' in a future version. Specify a dtype explicitly to silence this warning.\n",
      "  self.__y = pd.Series([])\n"
     ]
    }
   ],
   "source": [
    "knn_model = knn(k=3, type_distance_calc='euclidean')\n",
    "knn_model.fit(X_train_2d, y_train)\n",
    "dmc_model = dmc(type_distance_calc='euclidean')\n",
    "dmc_model.fit(X_train_2d, y_train)\n",
    "nb_model = naive_bayes_classifier()\n",
    "nb_model.fit(X_train_2d, y_train)"
   ]
  },
  {
   "cell_type": "markdown",
   "metadata": {},
   "source": [
    "# Plotting knn decision surface"
   ]
  },
  {
   "cell_type": "code",
   "execution_count": 12,
   "metadata": {},
   "outputs": [
    {
     "data": {
      "image/png": "[encoded data removed]",
      "text/plain": [
       "<Figure size 640x480 with 1 Axes>"
      ]
     },
     "metadata": {},
     "output_type": "display_data"
    }
   ],
   "source": [
    "data = X_test_2d[:][:].values\n",
    "\n",
    "x_min, x_max = data[:, 0].min() - 0.1, data[:,0].max() + 0.1\n",
    "y_min, y_max = data[:, 1].min() - 0.1, data[:, 1].max() + 0.1\n",
    "\n",
    "xx, yy = np.meshgrid(np.linspace(x_min,x_max, 100),\n",
    "np.linspace(y_min, y_max, 100))\n",
    "\n",
    "x_in = np.c_[xx.ravel(), yy.ravel()]\n",
    "\n",
    "y_pred = [[knn_model.predict(x) for x in x_in]]\n",
    "for i, y in enumerate(y_pred[0]):\n",
    "    if y == 'M':\n",
    "        y_pred[0][i] = 1\n",
    "    else:\n",
    "        y_pred[0][i] = 2\n",
    "\n",
    "y_pred = np.round(y_pred).reshape(xx.shape)\n",
    "\n",
    "plt.contourf(xx, yy, y_pred, cmap=plt.cm.RdYlBu, alpha=0.7 )\n",
    "\n",
    "plt.xlim(xx.min(), xx.max())\n",
    "plt.ylim(yy.min(), yy.max())\n",
    "\n",
    "knn_y_pred = np.array([knn_model.predict(x) for x in X_test_2d.values])\n",
    "\n",
    "M = np.where(knn_y_pred == 'M')\n",
    "B = np.where(knn_y_pred == 'B')\n",
    "\n",
    "plt.scatter(data[M, 0], data[M, 1],\n",
    "            color='red', marker='o', label='M')\n",
    "plt.scatter(data[B, 0], data[B, 1],\n",
    "            color='blue', marker='X', label='B')\n",
    "\n",
    "plt.show()"
   ]
  },
  {
   "cell_type": "markdown",
   "metadata": {},
   "source": [
    "# Plotting dmc decision surface"
   ]
  },
  {
   "cell_type": "code",
   "execution_count": 13,
   "metadata": {},
   "outputs": [
    {
     "data": {
      "image/png": "[encoded data removed]",
      "text/plain": [
       "<Figure size 640x480 with 1 Axes>"
      ]
     },
     "metadata": {},
     "output_type": "display_data"
    }
   ],
   "source": [
    "data = X_test_2d[:][:].values\n",
    "\n",
    "x_min, x_max = data[:, 0].min() - 0.1, data[:,0].max() + 0.1\n",
    "y_min, y_max = data[:, 1].min() - 0.1, data[:, 1].max() + 0.1\n",
    "\n",
    "xx, yy = np.meshgrid(np.linspace(x_min,x_max, 100),\n",
    "np.linspace(y_min, y_max, 100))\n",
    "\n",
    "x_in = np.c_[xx.ravel(), yy.ravel()]\n",
    "\n",
    "y_pred = [[dmc_model.predict(x) for x in x_in]]\n",
    "for i, y in enumerate(y_pred[0]):\n",
    "    if y == 'M':\n",
    "        y_pred[0][i] = 1\n",
    "    else:\n",
    "        y_pred[0][i] = 2\n",
    "\n",
    "y_pred = np.round(y_pred).reshape(xx.shape)\n",
    "\n",
    "plt.contourf(xx, yy, y_pred, cmap=plt.cm.RdYlBu, alpha=0.7 )\n",
    "\n",
    "plt.xlim(xx.min(), xx.max())\n",
    "plt.ylim(yy.min(), yy.max())\n",
    "\n",
    "dmc_y_pred = np.array([dmc_model.predict(x) for x in X_test_2d.values])\n",
    "\n",
    "M = np.where(dmc_y_pred == 'M')\n",
    "B = np.where(dmc_y_pred == 'B')\n",
    "\n",
    "plt.scatter(data[M, 0], data[M, 1],\n",
    "            color='red', marker='o', label='M')\n",
    "plt.scatter(data[B, 0], data[B, 1],\n",
    "            color='blue', marker='X', label='B')\n",
    "\n",
    "plt.show()"
   ]
  },
  {
   "cell_type": "markdown",
   "metadata": {},
   "source": [
    "# Plotting naive bayes decision surface"
   ]
  },
  {
   "cell_type": "code",
   "execution_count": 14,
   "metadata": {},
   "outputs": [
    {
     "data": {
      "image/png": "[encoded data removed]",
      "text/plain": [
       "<Figure size 640x480 with 1 Axes>"
      ]
     },
     "metadata": {},
     "output_type": "display_data"
    }
   ],
   "source": [
    "data = X_test_2d[:][:].values\n",
    "\n",
    "x_min, x_max = data[:, 0].min() - 0.1, data[:,0].max() + 0.1\n",
    "y_min, y_max = data[:, 1].min() - 0.1, data[:, 1].max() + 0.1\n",
    "\n",
    "xx, yy = np.meshgrid(np.linspace(x_min,x_max, 100),\n",
    "np.linspace(y_min, y_max, 100))\n",
    "\n",
    "x_in = np.c_[xx.ravel(), yy.ravel()]\n",
    "\n",
    "y_pred = [[nb_model.predict(x) for x in x_in]]\n",
    "for i, y in enumerate(y_pred[0]):\n",
    "    if y == 'M':\n",
    "        y_pred[0][i] = 1\n",
    "    else:\n",
    "        y_pred[0][i] = 2\n",
    "\n",
    "y_pred = np.round(y_pred).reshape(xx.shape)\n",
    "\n",
    "plt.contourf(xx, yy, y_pred, cmap=plt.cm.RdYlBu, alpha=0.7 )\n",
    "\n",
    "plt.xlim(xx.min(), xx.max())\n",
    "plt.ylim(yy.min(), yy.max())\n",
    "\n",
    "nb_y_pred = np.array([nb_model.predict(x) for x in X_test_2d.values])\n",
    "\n",
    "M = np.where(nb_y_pred == 'M')\n",
    "B = np.where(nb_y_pred == 'B')\n",
    "\n",
    "plt.scatter(data[M, 0], data[M, 1],\n",
    "            color='red', marker='o', label='M')\n",
    "plt.scatter(data[B, 0], data[B, 1],\n",
    "            color='blue', marker='X', label='B')\n",
    "\n",
    "plt.show()"
   ]
  }
 ],
 "metadata": {
  "kernelspec": {
   "display_name": "Python 3.10.4 ('.venv': venv)",
   "language": "python",
   "name": "python3"
  },
  "language_info": {
   "codemirror_mode": {
    "name": "ipython",
    "version": 3
   },
   "file_extension": ".py",
   "mimetype": "text/x-python",
   "name": "python",
   "nbconvert_exporter": "python",
   "pygments_lexer": "ipython3",
   "version": "3.10.4"
  },
  "orig_nbformat": 4,
  "vscode": {
   "interpreter": {
    "hash": "33434f0cc8e6f3723834300de8718debdc0c9ba9cd4c4faf0515f4c47995aa8c"
   }
  }
 },
 "nbformat": 4,
 "nbformat_minor": 2
}
