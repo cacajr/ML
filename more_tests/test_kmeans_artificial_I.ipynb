{
 "cells": [
  {
   "cell_type": "markdown",
   "metadata": {},
   "source": [
    "# Import libs"
   ]
  },
  {
   "cell_type": "code",
   "execution_count": 1,
   "metadata": {},
   "outputs": [],
   "source": [
    "import sys, os\n",
    "if not sys.path[0] == os.path.abspath('..'):\n",
    "    sys.path.insert(0, os.path.abspath('..'))\n",
    "\n",
    "import pandas as pd\n",
    "import numpy as np\n",
    "from models.kmeans.kmeans import kmeans\n",
    "from sklearn.model_selection import train_test_split\n",
    "from sklearn.metrics import confusion_matrix\n",
    "from matplotlib import pyplot as plt"
   ]
  },
  {
   "cell_type": "markdown",
   "metadata": {},
   "source": [
    "# Loading Artificial I dataset"
   ]
  },
  {
   "cell_type": "code",
   "execution_count": 2,
   "metadata": {},
   "outputs": [],
   "source": [
    "Xy = pd.read_csv('../datasets/artificial_I.dat', header=None, sep=' ', engine='python')\n",
    "\n",
    "X = Xy.drop(Xy.columns[-1:], axis=1)\n",
    "y = Xy[Xy.columns[-1]]"
   ]
  },
  {
   "cell_type": "markdown",
   "metadata": {},
   "source": [
    "# Running the tests and computing informations"
   ]
  },
  {
   "cell_type": "code",
   "execution_count": 3,
   "metadata": {},
   "outputs": [],
   "source": [
    "realizations = 20\n",
    "hit_rate_list = []\n",
    "std_dev = 0\n",
    "confusion_matrix_list = []\n",
    "\n",
    "for r in range(realizations):\n",
    "    X_train, X_test, y_train, y_test = train_test_split(X, y, test_size = 0.2)\n",
    "\n",
    "    kmeans_model = kmeans(k=10, type_distance_calc='euclidean', number_iteration=300)\n",
    "\n",
    "    try:\n",
    "        kmeans_model.fit(X_train, y_train)\n",
    "    except:\n",
    "        print([len(clste) for clste in kmeans_model.get_clusters()])\n",
    "\n",
    "    hit_rate_list.append(kmeans_model.score(X_test, y_test))\n",
    "\n",
    "    y_pred = [kmeans_model.predict(x) for x in X_test.values]\n",
    "\n",
    "    confusion_matrix_list.append(confusion_matrix(y_test, y_pred))\n",
    "\n",
    "std_dev = np.std(hit_rate_list)"
   ]
  },
  {
   "cell_type": "markdown",
   "metadata": {},
   "source": [
    "# Showing informations computed"
   ]
  },
  {
   "cell_type": "code",
   "execution_count": 4,
   "metadata": {},
   "outputs": [
    {
     "name": "stdout",
     "output_type": "stream",
     "text": [
      "Hit rate:\n",
      "[0.875, 0.875, 0.75, 1.0, 1.0, 1.0, 0.875, 0.875, 0.875, 1.0, 0.875, 0.875, 1.0, 0.875, 1.0, 0.875, 0.875, 0.875, 1.0, 1.0]\n",
      "\n",
      "Accuracy:\n",
      "0.91875\n",
      "\n",
      "Standard Deviation:\n",
      "0.07153451963912248\n",
      "\n",
      "Confusion Matrix:\n",
      "[[3 0]\n",
      " [1 4]]\n",
      "[[6 0]\n",
      " [1 1]]\n",
      "[[5 2]\n",
      " [0 1]]\n",
      "[[4 0]\n",
      " [0 4]]\n",
      "[[6 0]\n",
      " [0 2]]\n",
      "[[7 0]\n",
      " [0 1]]\n",
      "[[6 0]\n",
      " [1 1]]\n",
      "[[6 0]\n",
      " [1 1]]\n",
      "[[5 1]\n",
      " [0 2]]\n",
      "[[7 0]\n",
      " [0 1]]\n",
      "[[7 0]\n",
      " [1 0]]\n",
      "[[5 0]\n",
      " [1 2]]\n",
      "[[5 0]\n",
      " [0 3]]\n",
      "[[4 0]\n",
      " [1 3]]\n",
      "[[6 0]\n",
      " [0 2]]\n",
      "[[6 1]\n",
      " [0 1]]\n",
      "[[5 0]\n",
      " [1 2]]\n",
      "[[6 0]\n",
      " [1 1]]\n",
      "[[6 0]\n",
      " [0 2]]\n",
      "[[6 0]\n",
      " [0 2]]\n"
     ]
    }
   ],
   "source": [
    "print('Hit rate:')\n",
    "print(hit_rate_list, end='\\n\\n')\n",
    "\n",
    "print('Accuracy:')\n",
    "print(sum(hit_rate_list)/len(hit_rate_list), end='\\n\\n')\n",
    "\n",
    "print('Standard Deviation:')\n",
    "print(std_dev, end='\\n\\n')\n",
    "\n",
    "print('Confusion Matrix:')\n",
    "for matrix in confusion_matrix_list:\n",
    "    print(matrix, end='\\n')"
   ]
  },
  {
   "cell_type": "markdown",
   "metadata": {},
   "source": [
    "# Choosing two columns from the last X_train and X_test to plot decision surface"
   ]
  },
  {
   "cell_type": "code",
   "execution_count": 6,
   "metadata": {},
   "outputs": [
    {
     "name": "stdout",
     "output_type": "stream",
     "text": [
      "Train dataset:\n",
      "           0         1\n",
      "22 -1.051673 -1.211898\n",
      "25 -6.346053 -8.586309\n",
      "21 -9.983516 -1.050897\n",
      "29 -9.300019 -1.237382\n",
      "36 -1.062510  7.481380\n",
      "27 -8.576933 -9.426238\n",
      "32 -7.723384  1.277515\n",
      "9  -1.399858 -1.108876\n",
      "26 -1.130384 -1.095894\n",
      "34 -1.393042  9.708829\n",
      "39 -1.013099  1.090899\n",
      "3  -1.174314 -1.268157\n",
      "2  -9.227105 -1.114568\n",
      "33 -1.051750  1.029824\n",
      "8  -6.936184 -1.044386\n",
      "16 -8.542154 -1.240448\n",
      "28 -1.013931 -7.248398\n",
      "20 -1.410935 -1.070251\n",
      "11 -8.653664 -1.590602\n",
      "1  -1.308985 -9.955081\n",
      "30 -1.259743  8.628746\n",
      "4  -1.220272 -1.167834\n",
      "12 -1.077934 -1.388849\n",
      "14 -7.068309 -7.793847\n",
      "24 -1.086797 -1.070527\n",
      "23 -1.005674 -5.921488\n",
      "31 -7.052803  1.061320\n",
      "17 -9.812746 -9.907555\n",
      "37 -1.348579  8.142397\n",
      "18 -1.048592 -9.708492\n",
      "13 -7.598509 -1.218228\n",
      "6  -8.432448 -9.571845\n",
      "Test dataset:\n",
      "           0         1\n",
      "0  -1.140386 -8.717648\n",
      "35 -1.151901  1.164810\n",
      "7  -1.220004 -9.135696\n",
      "15 -1.123675 -1.063885\n",
      "19 -1.110762 -9.927405\n",
      "38 -8.835893  8.525853\n",
      "10 -1.016304 -1.136139\n",
      "5  -9.671684 -8.706664\n"
     ]
    }
   ],
   "source": [
    "X_train_2d, X_test_2d = X_train[X_train.columns[:2]], X_test[X_train.columns[:2]]\n",
    "\n",
    "print('Train dataset:')\n",
    "print(X_train_2d)\n",
    "print('Test dataset:')\n",
    "print(X_test_2d)"
   ]
  },
  {
   "cell_type": "markdown",
   "metadata": {},
   "source": [
    "# Training the model with the new dataset 2d"
   ]
  },
  {
   "cell_type": "code",
   "execution_count": 7,
   "metadata": {},
   "outputs": [],
   "source": [
    "kmeans_model = kmeans(k=3, type_distance_calc='euclidean', number_iteration=150)\n",
    "kmeans_model.fit(X_train_2d, y_train)"
   ]
  },
  {
   "cell_type": "markdown",
   "metadata": {},
   "source": [
    "# Plotting decision surface"
   ]
  },
  {
   "cell_type": "code",
   "execution_count": 9,
   "metadata": {},
   "outputs": [
    {
     "data": {
      "image/png": "[encoded data removed]",
      "text/plain": [
       "<Figure size 640x480 with 1 Axes>"
      ]
     },
     "metadata": {},
     "output_type": "display_data"
    }
   ],
   "source": [
    "data = X_test_2d[:][:].values\n",
    "\n",
    "y_pred = np.array([kmeans_model.predict(x) for x in X_test_2d.values])\n",
    "\n",
    "zero = np.where(y_pred == 0)\n",
    "one = np.where(y_pred == 1)\n",
    "\n",
    "plt.scatter(data[zero, 0], data[zero, 1],\n",
    "            color='red', marker='o', label='zero')\n",
    "plt.scatter(data[one, 0], data[one, 1],\n",
    "            color='blue', marker='p', label='one')\n",
    "\n",
    "plt.show()"
   ]
  }
 ],
 "metadata": {
  "kernelspec": {
   "display_name": "Python 3.10.4 ('.venv': venv)",
   "language": "python",
   "name": "python3"
  },
  "language_info": {
   "codemirror_mode": {
    "name": "ipython",
    "version": 3
   },
   "file_extension": ".py",
   "mimetype": "text/x-python",
   "name": "python",
   "nbconvert_exporter": "python",
   "pygments_lexer": "ipython3",
   "version": "3.10.4"
  },
  "orig_nbformat": 4,
  "vscode": {
   "interpreter": {
    "hash": "33434f0cc8e6f3723834300de8718debdc0c9ba9cd4c4faf0515f4c47995aa8c"
   }
  }
 },
 "nbformat": 4,
 "nbformat_minor": 2
}
