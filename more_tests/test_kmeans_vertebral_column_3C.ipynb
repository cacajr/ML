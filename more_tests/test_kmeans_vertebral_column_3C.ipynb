{
 "cells": [
  {
   "cell_type": "markdown",
   "metadata": {},
   "source": [
    "# Import libs"
   ]
  },
  {
   "cell_type": "code",
   "execution_count": 1,
   "metadata": {},
   "outputs": [],
   "source": [
    "import sys, os\n",
    "if not sys.path[0] == os.path.abspath('..'):\n",
    "    sys.path.insert(0, os.path.abspath('..'))\n",
    "\n",
    "import pandas as pd\n",
    "import numpy as np\n",
    "from kmeans.kmeans import kmeans\n",
    "from sklearn.model_selection import train_test_split\n",
    "from sklearn.metrics import confusion_matrix\n",
    "from matplotlib import pyplot as plt"
   ]
  },
  {
   "cell_type": "markdown",
   "metadata": {},
   "source": [
    "# Loading Vertebral Column 3C dataset"
   ]
  },
  {
   "cell_type": "code",
   "execution_count": 2,
   "metadata": {},
   "outputs": [],
   "source": [
    "Xy = pd.read_csv('./datasets/vertebral_column_3C.dat', header=None, sep=' ', engine='python')\n",
    "\n",
    "X = Xy.drop(Xy.columns[-1:], axis=1)\n",
    "y = Xy[Xy.columns[-1]]"
   ]
  },
  {
   "cell_type": "markdown",
   "metadata": {},
   "source": [
    "# Running the tests and computing informations"
   ]
  },
  {
   "cell_type": "code",
   "execution_count": 4,
   "metadata": {},
   "outputs": [],
   "source": [
    "realizations = 20\n",
    "hit_rate_list = []\n",
    "std_dev = 0\n",
    "confusion_matrix_list = []\n",
    "\n",
    "for r in range(realizations):\n",
    "    X_train, X_test, y_train, y_test = train_test_split(X, y, test_size = 0.2)\n",
    "\n",
    "    kmeans_model = kmeans(k=20, type_distance_calc='euclidean', number_iteration=300)\n",
    "    kmeans_model.fit(X_train, y_train)\n",
    "\n",
    "    hit_rate_list.append(kmeans_model.score(X_test, y_test))\n",
    "\n",
    "    y_pred = [kmeans_model.predict(x) for x in X_test.values]\n",
    "\n",
    "    confusion_matrix_list.append(confusion_matrix(y_test, y_pred))\n",
    "\n",
    "std_dev = np.std(hit_rate_list)"
   ]
  },
  {
   "cell_type": "markdown",
   "metadata": {},
   "source": [
    "# Showing informations computed"
   ]
  },
  {
   "cell_type": "code",
   "execution_count": 5,
   "metadata": {},
   "outputs": [
    {
     "name": "stdout",
     "output_type": "stream",
     "text": [
      "Hit rate:\n",
      "[0.8225806451612904, 0.3548387096774194, 0.41935483870967744, 0.3709677419354839, 0.532258064516129, 0.22580645161290322, 0.5967741935483871, 0.1774193548387097, 0.1935483870967742, 0.41935483870967744]\n",
      "\n",
      "Accuracy:\n",
      "0.41129032258064513\n",
      "\n",
      "Standard Deviation:\n",
      "0.1896447744565298\n",
      "\n",
      "Confusion Matrix:\n",
      "[[12  3  0]\n",
      " [ 6 11  0]\n",
      " [ 0  2 28]]\n",
      "[[ 6  5  5]\n",
      " [10  0 11]\n",
      " [ 0  9 16]]\n",
      "[[ 2  7  6]\n",
      " [ 6  6  7]\n",
      " [ 5  5 18]]\n",
      "[[ 3  3  6]\n",
      " [ 5  3  7]\n",
      " [ 1 17 17]]\n",
      "[[ 7  4  1]\n",
      " [11  4  8]\n",
      " [ 1  4 22]]\n",
      "[[ 1  0 10]\n",
      " [ 3  2 17]\n",
      " [ 6 12 11]]\n",
      "[[ 8  5  3]\n",
      " [ 7  9  4]\n",
      " [ 5  1 20]]\n",
      "[[ 2  2 13]\n",
      " [ 1  2 13]\n",
      " [ 7 15  7]]\n",
      "[[ 0  9  6]\n",
      " [ 0  3 16]\n",
      " [ 7 12  9]]\n",
      "[[ 4  4  4]\n",
      " [ 5  6  6]\n",
      " [ 7 10 16]]\n"
     ]
    }
   ],
   "source": [
    "print('Hit rate:')\n",
    "print(hit_rate_list, end='\\n\\n')\n",
    "\n",
    "print('Accuracy:')\n",
    "print(sum(hit_rate_list)/len(hit_rate_list), end='\\n\\n')\n",
    "\n",
    "print('Standard Deviation:')\n",
    "print(std_dev, end='\\n\\n')\n",
    "\n",
    "print('Confusion Matrix:')\n",
    "for matrix in confusion_matrix_list:\n",
    "    print(matrix, end='\\n')"
   ]
  },
  {
   "cell_type": "markdown",
   "metadata": {},
   "source": [
    "# Choosing two columns from the last X_train and X_test to plot decision surface"
   ]
  },
  {
   "cell_type": "code",
   "execution_count": 7,
   "metadata": {},
   "outputs": [
    {
     "name": "stdout",
     "output_type": "stream",
     "text": [
      "Train dataset:\n",
      "         0      1\n",
      "197  58.83  37.58\n",
      "295  46.43   6.62\n",
      "257  50.16  -2.97\n",
      "49   41.77  17.90\n",
      "126  70.68  21.70\n",
      "..     ...    ...\n",
      "144  60.04  14.31\n",
      "265  48.17   9.59\n",
      "71   86.90  32.93\n",
      "161  67.26   7.19\n",
      "214  45.70  10.66\n",
      "\n",
      "[248 rows x 2 columns]\n",
      "Test dataset:\n",
      "         0      1\n",
      "63   77.69  21.38\n",
      "208  87.68  20.37\n",
      "276  51.33  13.63\n",
      "229  43.44  10.10\n",
      "18   38.70  13.44\n",
      "..     ...    ...\n",
      "107  78.43  33.43\n",
      "147  55.08  -3.76\n",
      "92   85.35  15.84\n",
      "59   48.11  14.93\n",
      "36   32.09   6.99\n",
      "\n",
      "[62 rows x 2 columns]\n"
     ]
    }
   ],
   "source": [
    "X_train_2d, X_test_2d = X_train[X_train.columns[:2]], X_test[X_train.columns[:2]]\n",
    "\n",
    "print('Train dataset:')\n",
    "print(X_train_2d)\n",
    "print('Test dataset:')\n",
    "print(X_test_2d)"
   ]
  },
  {
   "cell_type": "markdown",
   "metadata": {},
   "source": [
    "# Training the model with the new dataset 2d"
   ]
  },
  {
   "cell_type": "code",
   "execution_count": 8,
   "metadata": {},
   "outputs": [],
   "source": [
    "kmeans_model = kmeans(k=3, type_distance_calc='euclidean', number_iteration=150)\n",
    "kmeans_model.fit(X_train_2d, y_train)"
   ]
  },
  {
   "cell_type": "markdown",
   "metadata": {},
   "source": [
    "# Plotting decision surface"
   ]
  },
  {
   "cell_type": "code",
   "execution_count": 10,
   "metadata": {},
   "outputs": [
    {
     "data": {
      "image/png": "[encoded data removed]",
      "text/plain": [
       "<Figure size 640x480 with 1 Axes>"
      ]
     },
     "metadata": {},
     "output_type": "display_data"
    }
   ],
   "source": [
    "data = X_test_2d[:][:].values\n",
    "\n",
    "y_pred = np.array([kmeans_model.predict(x) for x in X_test_2d.values])\n",
    "\n",
    "dh = np.where(y_pred == 'DH')\n",
    "sl = np.where(y_pred == 'SL')\n",
    "no = np.where(y_pred == 'NO')\n",
    "\n",
    "plt.scatter(data[dh, 0], data[dh, 1],\n",
    "            color='red', marker='o', label='dh')\n",
    "plt.scatter(data[sl, 0], data[sl, 1],\n",
    "            color='blue', marker='X', label='sl')\n",
    "plt.scatter(data[no, 0], data[no, 1],\n",
    "            color='green', marker='P', label='no')\n",
    "\n",
    "plt.show()"
   ]
  }
 ],
 "metadata": {
  "kernelspec": {
   "display_name": "Python 3.10.4 ('.venv': venv)",
   "language": "python",
   "name": "python3"
  },
  "language_info": {
   "codemirror_mode": {
    "name": "ipython",
    "version": 3
   },
   "file_extension": ".py",
   "mimetype": "text/x-python",
   "name": "python",
   "nbconvert_exporter": "python",
   "pygments_lexer": "ipython3",
   "version": "3.10.4"
  },
  "orig_nbformat": 4,
  "vscode": {
   "interpreter": {
    "hash": "33434f0cc8e6f3723834300de8718debdc0c9ba9cd4c4faf0515f4c47995aa8c"
   }
  }
 },
 "nbformat": 4,
 "nbformat_minor": 2
}
