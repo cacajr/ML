{
 "cells": [
  {
   "cell_type": "markdown",
   "metadata": {},
   "source": [
    "# Import libs"
   ]
  },
  {
   "cell_type": "code",
   "execution_count": 1,
   "metadata": {},
   "outputs": [],
   "source": [
    "import sys, os\n",
    "if not sys.path[0] == os.path.abspath('..'):\n",
    "    sys.path.insert(0, os.path.abspath('..'))\n",
    "\n",
    "import pandas as pd\n",
    "import numpy as np\n",
    "from models.dmc.dmc import dmc\n",
    "from sklearn.model_selection import train_test_split\n",
    "from sklearn.metrics import confusion_matrix\n",
    "from matplotlib import pyplot as plt"
   ]
  },
  {
   "cell_type": "markdown",
   "metadata": {},
   "source": [
    "# Loading Vertebral Column 3C dataset"
   ]
  },
  {
   "cell_type": "code",
   "execution_count": 2,
   "metadata": {},
   "outputs": [],
   "source": [
    "Xy = pd.read_csv('../datasets/vertebral_column_3C.dat', header=None, sep=' ', engine='python')\n",
    "\n",
    "X = Xy.drop(Xy.columns[-1:], axis=1)\n",
    "y = Xy[Xy.columns[-1]]"
   ]
  },
  {
   "cell_type": "markdown",
   "metadata": {},
   "source": [
    "# Instantiating model"
   ]
  },
  {
   "cell_type": "code",
   "execution_count": 3,
   "metadata": {},
   "outputs": [],
   "source": [
    "dmc_model = dmc(type_distance_calc='euclidean')"
   ]
  },
  {
   "cell_type": "markdown",
   "metadata": {},
   "source": [
    "# Running the tests and computing informations"
   ]
  },
  {
   "cell_type": "code",
   "execution_count": 4,
   "metadata": {},
   "outputs": [],
   "source": [
    "realizations = 20\n",
    "hit_rate_list = []\n",
    "std_dev = 0\n",
    "confusion_matrix_list = []\n",
    "\n",
    "for r in range(realizations):\n",
    "    X_train, X_test, y_train, y_test = train_test_split(X, y, test_size = 0.2)\n",
    "\n",
    "    dmc_model.fit(X_train, y_train)\n",
    "\n",
    "    hit_rate_list.append(dmc_model.score(X_test, y_test))\n",
    "\n",
    "    y_pred = [dmc_model.predict(x) for x in X_test.values]\n",
    "\n",
    "    confusion_matrix_list.append(confusion_matrix(y_test, y_pred))\n",
    "\n",
    "std_dev = np.std(hit_rate_list)"
   ]
  },
  {
   "cell_type": "markdown",
   "metadata": {},
   "source": [
    "# Showing informations computed"
   ]
  },
  {
   "cell_type": "code",
   "execution_count": 5,
   "metadata": {},
   "outputs": [
    {
     "name": "stdout",
     "output_type": "stream",
     "text": [
      "Hit rate:\n",
      "[0.7580645161290323, 0.7419354838709677, 0.7580645161290323, 0.8225806451612904, 0.8064516129032258, 0.8387096774193549, 0.7903225806451613, 0.8064516129032258, 0.7903225806451613, 0.7903225806451613, 0.7419354838709677, 0.7903225806451613, 0.8548387096774194, 0.8387096774193549, 0.6935483870967742, 0.7419354838709677, 0.7903225806451613, 0.7258064516129032, 0.7741935483870968, 0.8387096774193549]\n",
      "\n",
      "Accuracy:\n",
      "0.7846774193548387\n",
      "\n",
      "Standard Deviation:\n",
      "0.04183455596562238\n",
      "\n",
      "Confusion Matrix:\n",
      "[[10  3  0]\n",
      " [ 6 11  1]\n",
      " [ 2  3 26]]\n",
      "[[ 7  1  0]\n",
      " [10 13  0]\n",
      " [ 3  2 26]]\n",
      "[[ 8  3  0]\n",
      " [ 7 18  0]\n",
      " [ 4  1 21]]\n",
      "[[ 9  3  0]\n",
      " [ 4 10  0]\n",
      " [ 0  4 32]]\n",
      "[[13  1  0]\n",
      " [ 9  9  0]\n",
      " [ 1  1 28]]\n",
      "[[11  0  0]\n",
      " [ 7 14  0]\n",
      " [ 1  2 27]]\n",
      "[[ 7  2  0]\n",
      " [ 4  9  1]\n",
      " [ 2  4 33]]\n",
      "[[ 7  0  0]\n",
      " [ 4 11  1]\n",
      " [ 2  5 32]]\n",
      "[[15  2  0]\n",
      " [ 6 15  0]\n",
      " [ 1  4 19]]\n",
      "[[ 6  2  0]\n",
      " [ 7  9  0]\n",
      " [ 1  3 34]]\n",
      "[[ 8  1  0]\n",
      " [ 7  7  1]\n",
      " [ 2  5 31]]\n",
      "[[ 9  3  0]\n",
      " [ 5 13  0]\n",
      " [ 2  3 27]]\n",
      "[[ 7  1  0]\n",
      " [ 5 15  0]\n",
      " [ 1  2 31]]\n",
      "[[12  0  0]\n",
      " [ 3 14  1]\n",
      " [ 1  5 26]]\n",
      "[[ 7  4  0]\n",
      " [ 6 13  2]\n",
      " [ 4  3 23]]\n",
      "[[ 9  3  0]\n",
      " [ 7 15  1]\n",
      " [ 1  4 22]]\n",
      "[[ 7  2  0]\n",
      " [ 5 14  1]\n",
      " [ 2  3 28]]\n",
      "[[ 6  2  0]\n",
      " [ 8 14  1]\n",
      " [ 2  4 25]]\n",
      "[[11  3  0]\n",
      " [ 6 15  1]\n",
      " [ 1  3 22]]\n",
      "[[10  3  0]\n",
      " [ 3 11  1]\n",
      " [ 1  2 31]]\n"
     ]
    }
   ],
   "source": [
    "print('Hit rate:')\n",
    "print(hit_rate_list, end='\\n\\n')\n",
    "\n",
    "print('Accuracy:')\n",
    "print(sum(hit_rate_list)/len(hit_rate_list), end='\\n\\n')\n",
    "\n",
    "print('Standard Deviation:')\n",
    "print(std_dev, end='\\n\\n')\n",
    "\n",
    "print('Confusion Matrix:')\n",
    "for matrix in confusion_matrix_list:\n",
    "    print(matrix, end='\\n')"
   ]
  },
  {
   "cell_type": "markdown",
   "metadata": {},
   "source": [
    "# Choosing two columns from the last X_train and X_test to plot decision surface"
   ]
  },
  {
   "cell_type": "code",
   "execution_count": 6,
   "metadata": {},
   "outputs": [
    {
     "name": "stdout",
     "output_type": "stream",
     "text": [
      "Train dataset:\n",
      "         0      1\n",
      "157  44.22   1.51\n",
      "132  69.63  21.12\n",
      "241  51.53  13.52\n",
      "68   72.08  18.95\n",
      "146  85.58  30.46\n",
      "..     ...    ...\n",
      "296  39.66  16.21\n",
      "117  86.04  38.75\n",
      "130  50.07   9.12\n",
      "95   57.52  33.65\n",
      "169  44.25   1.10\n",
      "\n",
      "[248 rows x 2 columns]\n",
      "Test dataset:\n",
      "         0      1\n",
      "195  71.24   5.27\n",
      "25   54.12  26.65\n",
      "149  79.25  23.94\n",
      "50   55.29  20.44\n",
      "177  80.82  19.24\n",
      "..     ...    ...\n",
      "48   40.56  17.98\n",
      "78   67.41  17.44\n",
      "75   70.22  39.82\n",
      "276  51.33  13.63\n",
      "148  65.76   9.83\n",
      "\n",
      "[62 rows x 2 columns]\n"
     ]
    }
   ],
   "source": [
    "X_train_2d, X_test_2d = X_train[X_train.columns[:2]], X_test[X_train.columns[:2]]\n",
    "\n",
    "print('Train dataset:')\n",
    "print(X_train_2d)\n",
    "print('Test dataset:')\n",
    "print(X_test_2d)"
   ]
  },
  {
   "cell_type": "markdown",
   "metadata": {},
   "source": [
    "# Training the model with the new dataset 2d"
   ]
  },
  {
   "cell_type": "code",
   "execution_count": 7,
   "metadata": {},
   "outputs": [],
   "source": [
    "dmc_model = dmc(type_distance_calc='euclidean')\n",
    "dmc_model.fit(X_train_2d, y_train)"
   ]
  },
  {
   "cell_type": "markdown",
   "metadata": {},
   "source": [
    "# Plotting decision surface"
   ]
  },
  {
   "cell_type": "code",
   "execution_count": 8,
   "metadata": {},
   "outputs": [
    {
     "data": {
      "image/png": "[encoded data removed]",
      "text/plain": [
       "<Figure size 640x480 with 1 Axes>"
      ]
     },
     "metadata": {},
     "output_type": "display_data"
    }
   ],
   "source": [
    "data = X_test_2d[:][:].values\n",
    "\n",
    "y_pred = np.array([dmc_model.predict(x) for x in X_test_2d.values])\n",
    "\n",
    "dh = np.where(y_pred == 'DH')\n",
    "sl = np.where(y_pred == 'SL')\n",
    "no = np.where(y_pred == 'NO')\n",
    "\n",
    "plt.scatter(data[dh, 0], data[dh, 1],\n",
    "            color='red', marker='o', label='dh')\n",
    "plt.scatter(data[sl, 0], data[sl, 1],\n",
    "            color='blue', marker='X', label='sl')\n",
    "plt.scatter(data[no, 0], data[no, 1],\n",
    "            color='green', marker='P', label='no')\n",
    "\n",
    "plt.show()"
   ]
  }
 ],
 "metadata": {
  "kernelspec": {
   "display_name": "Python 3.10.4 ('.venv': venv)",
   "language": "python",
   "name": "python3"
  },
  "language_info": {
   "codemirror_mode": {
    "name": "ipython",
    "version": 3
   },
   "file_extension": ".py",
   "mimetype": "text/x-python",
   "name": "python",
   "nbconvert_exporter": "python",
   "pygments_lexer": "ipython3",
   "version": "3.10.4"
  },
  "orig_nbformat": 4,
  "vscode": {
   "interpreter": {
    "hash": "33434f0cc8e6f3723834300de8718debdc0c9ba9cd4c4faf0515f4c47995aa8c"
   }
  }
 },
 "nbformat": 4,
 "nbformat_minor": 2
}
