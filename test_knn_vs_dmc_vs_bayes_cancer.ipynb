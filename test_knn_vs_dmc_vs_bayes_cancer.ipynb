{
 "cells": [
  {
   "cell_type": "markdown",
   "metadata": {},
   "source": [
    "# Import libs"
   ]
  },
  {
   "cell_type": "code",
   "execution_count": 1,
   "metadata": {},
   "outputs": [],
   "source": [
    "import pandas as pd\n",
    "import numpy as np\n",
    "from knn.knn import knn\n",
    "from dmc.dmc import dmc\n",
    "from bayes_classifier.bayes_classifier import bayes_classifier\n",
    "from sklearn.model_selection import train_test_split\n",
    "# from sklearn.metrics import confusion_matrix\n",
    "from utils.functions import confusion_matrix, confusion_matrix_mean\n",
    "from matplotlib import pyplot as plt"
   ]
  },
  {
   "cell_type": "markdown",
   "metadata": {},
   "source": [
    "# Loading Breast Cancer dataset"
   ]
  },
  {
   "cell_type": "code",
   "execution_count": 2,
   "metadata": {},
   "outputs": [],
   "source": [
    "Xy = pd.read_csv('./datasets/breast_cancer.csv')\n",
    "Xy.dropna(inplace=True)\n",
    "X = Xy.drop(['diagnosis', 'id'], axis=1)\n",
    "y = Xy['diagnosis']"
   ]
  },
  {
   "cell_type": "markdown",
   "metadata": {},
   "source": [
    "# Running the tests and computing informations"
   ]
  },
  {
   "cell_type": "code",
   "execution_count": 3,
   "metadata": {},
   "outputs": [
    {
     "name": "stderr",
     "output_type": "stream",
     "text": [
      "w:\\Home\\ML\\knn\\knn.py:11: FutureWarning: The default dtype for empty Series will be 'object' instead of 'float64' in a future version. Specify a dtype explicitly to silence this warning.\n",
      "  self.__y = pd.Series([])\n",
      "w:\\Home\\ML\\knn\\knn.py:11: FutureWarning: The default dtype for empty Series will be 'object' instead of 'float64' in a future version. Specify a dtype explicitly to silence this warning.\n",
      "  self.__y = pd.Series([])\n",
      "w:\\Home\\ML\\knn\\knn.py:11: FutureWarning: The default dtype for empty Series will be 'object' instead of 'float64' in a future version. Specify a dtype explicitly to silence this warning.\n",
      "  self.__y = pd.Series([])\n",
      "w:\\Home\\ML\\knn\\knn.py:11: FutureWarning: The default dtype for empty Series will be 'object' instead of 'float64' in a future version. Specify a dtype explicitly to silence this warning.\n",
      "  self.__y = pd.Series([])\n",
      "w:\\Home\\ML\\knn\\knn.py:11: FutureWarning: The default dtype for empty Series will be 'object' instead of 'float64' in a future version. Specify a dtype explicitly to silence this warning.\n",
      "  self.__y = pd.Series([])\n",
      "w:\\Home\\ML\\knn\\knn.py:11: FutureWarning: The default dtype for empty Series will be 'object' instead of 'float64' in a future version. Specify a dtype explicitly to silence this warning.\n",
      "  self.__y = pd.Series([])\n",
      "w:\\Home\\ML\\knn\\knn.py:11: FutureWarning: The default dtype for empty Series will be 'object' instead of 'float64' in a future version. Specify a dtype explicitly to silence this warning.\n",
      "  self.__y = pd.Series([])\n",
      "w:\\Home\\ML\\knn\\knn.py:11: FutureWarning: The default dtype for empty Series will be 'object' instead of 'float64' in a future version. Specify a dtype explicitly to silence this warning.\n",
      "  self.__y = pd.Series([])\n",
      "w:\\Home\\ML\\knn\\knn.py:11: FutureWarning: The default dtype for empty Series will be 'object' instead of 'float64' in a future version. Specify a dtype explicitly to silence this warning.\n",
      "  self.__y = pd.Series([])\n",
      "w:\\Home\\ML\\knn\\knn.py:11: FutureWarning: The default dtype for empty Series will be 'object' instead of 'float64' in a future version. Specify a dtype explicitly to silence this warning.\n",
      "  self.__y = pd.Series([])\n",
      "w:\\Home\\ML\\knn\\knn.py:11: FutureWarning: The default dtype for empty Series will be 'object' instead of 'float64' in a future version. Specify a dtype explicitly to silence this warning.\n",
      "  self.__y = pd.Series([])\n",
      "w:\\Home\\ML\\knn\\knn.py:11: FutureWarning: The default dtype for empty Series will be 'object' instead of 'float64' in a future version. Specify a dtype explicitly to silence this warning.\n",
      "  self.__y = pd.Series([])\n",
      "w:\\Home\\ML\\knn\\knn.py:11: FutureWarning: The default dtype for empty Series will be 'object' instead of 'float64' in a future version. Specify a dtype explicitly to silence this warning.\n",
      "  self.__y = pd.Series([])\n",
      "w:\\Home\\ML\\knn\\knn.py:11: FutureWarning: The default dtype for empty Series will be 'object' instead of 'float64' in a future version. Specify a dtype explicitly to silence this warning.\n",
      "  self.__y = pd.Series([])\n",
      "w:\\Home\\ML\\knn\\knn.py:11: FutureWarning: The default dtype for empty Series will be 'object' instead of 'float64' in a future version. Specify a dtype explicitly to silence this warning.\n",
      "  self.__y = pd.Series([])\n",
      "w:\\Home\\ML\\knn\\knn.py:11: FutureWarning: The default dtype for empty Series will be 'object' instead of 'float64' in a future version. Specify a dtype explicitly to silence this warning.\n",
      "  self.__y = pd.Series([])\n",
      "w:\\Home\\ML\\knn\\knn.py:11: FutureWarning: The default dtype for empty Series will be 'object' instead of 'float64' in a future version. Specify a dtype explicitly to silence this warning.\n",
      "  self.__y = pd.Series([])\n",
      "w:\\Home\\ML\\knn\\knn.py:11: FutureWarning: The default dtype for empty Series will be 'object' instead of 'float64' in a future version. Specify a dtype explicitly to silence this warning.\n",
      "  self.__y = pd.Series([])\n",
      "w:\\Home\\ML\\knn\\knn.py:11: FutureWarning: The default dtype for empty Series will be 'object' instead of 'float64' in a future version. Specify a dtype explicitly to silence this warning.\n",
      "  self.__y = pd.Series([])\n",
      "w:\\Home\\ML\\knn\\knn.py:11: FutureWarning: The default dtype for empty Series will be 'object' instead of 'float64' in a future version. Specify a dtype explicitly to silence this warning.\n",
      "  self.__y = pd.Series([])\n"
     ]
    }
   ],
   "source": [
    "realizations = 20\n",
    "knn_hit_rate_list = []\n",
    "dmc_hit_rate_list = []\n",
    "b_hit_rate_list = []\n",
    "knn_std_dev = 0\n",
    "dmc_std_dev = 0\n",
    "b_std_dev = 0\n",
    "knn_confusion_matrix_list = []\n",
    "dmc_confusion_matrix_list = []\n",
    "b_confusion_matrix_list = []\n",
    "\n",
    "for r in range(realizations):\n",
    "    X_train, X_test, y_train, y_test = train_test_split(X, y, test_size = 0.2)\n",
    "\n",
    "    knn_model = knn(k=3, type_distance_calc='euclidean')\n",
    "    knn_model.fit(X_train, y_train)\n",
    "\n",
    "    dmc_model = dmc(type_distance_calc='euclidean')\n",
    "    dmc_model.fit(X_train, y_train)\n",
    "\n",
    "    b_model = bayes_classifier()\n",
    "    b_model.fit(X_train, y_train)\n",
    "\n",
    "    knn_hit_rate_list.append(knn_model.score(X_test, y_test))\n",
    "    dmc_hit_rate_list.append(dmc_model.score(X_test, y_test))\n",
    "    b_hit_rate_list.append(b_model.score(X_test, y_test))\n",
    "\n",
    "    knn_y_pred = [knn_model.predict(x) for x in X_test.values]\n",
    "    dmc_y_pred = [dmc_model.predict(x) for x in X_test.values]\n",
    "    b_y_pred = [b_model.predict(x) for x in X_test.values]\n",
    "\n",
    "    knn_confusion_matrix_list.append(confusion_matrix(y_test, knn_y_pred))\n",
    "    dmc_confusion_matrix_list.append(confusion_matrix(y_test, dmc_y_pred))\n",
    "    b_confusion_matrix_list.append(confusion_matrix(y_test, b_y_pred))\n",
    "\n",
    "knn_std_dev = np.std(knn_hit_rate_list)\n",
    "dmc_std_dev = np.std(dmc_hit_rate_list)\n",
    "b_std_dev = np.std(b_hit_rate_list)"
   ]
  },
  {
   "cell_type": "markdown",
   "metadata": {},
   "source": [
    "# Showing knn informations computed"
   ]
  },
  {
   "cell_type": "code",
   "execution_count": 4,
   "metadata": {},
   "outputs": [
    {
     "name": "stdout",
     "output_type": "stream",
     "text": [
      "----------------- KNN model -----------------\n",
      "Hit rate:\n",
      "[0.9210526315789473, 0.9210526315789473, 0.9210526315789473, 0.9385964912280702, 0.8947368421052632, 0.8947368421052632, 0.8947368421052632, 0.9385964912280702, 0.956140350877193, 0.8859649122807017, 0.9122807017543859, 0.9122807017543859, 0.9122807017543859, 0.9473684210526315, 0.9298245614035088, 0.9298245614035088, 0.9473684210526315, 0.9385964912280702, 0.9210526315789473, 0.8947368421052632]\n",
      "\n",
      "Accuracy:\n",
      "0.9206140350877192\n",
      "\n",
      "Standard Deviation:\n",
      "0.019901844393927066\n",
      "\n",
      "Confusion Matrix:\n",
      "    M   B\n",
      "M  39   5\n",
      "B   4  66\n",
      "    M   B\n",
      "M  40   5\n",
      "B   4  65\n",
      "    B   M\n",
      "B  67   4\n",
      "M   5  38\n",
      "    B   M\n",
      "B  71   4\n",
      "M   3  36\n",
      "    B   M\n",
      "B  72   2\n",
      "M  10  30\n",
      "    M   B\n",
      "M  39   6\n",
      "B   6  63\n",
      "    B   M\n",
      "B  73   6\n",
      "M   6  29\n",
      "    B   M\n",
      "B  75   3\n",
      "M   4  32\n",
      "    B   M\n",
      "B  74   1\n",
      "M   4  35\n",
      "    B   M\n",
      "B  62   6\n",
      "M   7  39\n",
      "    B   M\n",
      "B  69   3\n",
      "M   7  35\n",
      "    B   M\n",
      "B  77   3\n",
      "M   7  27\n",
      "    M   B\n",
      "M  32   9\n",
      "B   1  72\n",
      "    B   M\n",
      "B  75   2\n",
      "M   4  33\n",
      "    M   B\n",
      "M  36   5\n",
      "B   3  70\n",
      "    B   M\n",
      "B  70   4\n",
      "M   4  36\n",
      "    M   B\n",
      "M  35   4\n",
      "B   2  73\n",
      "    B   M\n",
      "B  75   3\n",
      "M   4  32\n",
      "    B   M\n",
      "B  70   2\n",
      "M   7  35\n",
      "    B   M\n",
      "B  58   2\n",
      "M  10  44\n"
     ]
    }
   ],
   "source": [
    "print('----------------- KNN model -----------------')\n",
    "print('Hit rate:')\n",
    "print(knn_hit_rate_list, end='\\n\\n')\n",
    "\n",
    "print('Accuracy:')\n",
    "print(sum(knn_hit_rate_list)/len(knn_hit_rate_list), end='\\n\\n')\n",
    "\n",
    "print('Standard Deviation:')\n",
    "print(knn_std_dev, end='\\n\\n')\n",
    "\n",
    "print('Confusion Matrix:')\n",
    "for matrix in knn_confusion_matrix_list:\n",
    "    print(matrix, end='\\n')"
   ]
  },
  {
   "cell_type": "code",
   "execution_count": 5,
   "metadata": {},
   "outputs": [
    {
     "data": {
      "text/html": [
       "<div>\n",
       "<style scoped>\n",
       "    .dataframe tbody tr th:only-of-type {\n",
       "        vertical-align: middle;\n",
       "    }\n",
       "\n",
       "    .dataframe tbody tr th {\n",
       "        vertical-align: top;\n",
       "    }\n",
       "\n",
       "    .dataframe thead th {\n",
       "        text-align: right;\n",
       "    }\n",
       "</style>\n",
       "<table border=\"1\" class=\"dataframe\">\n",
       "  <thead>\n",
       "    <tr style=\"text-align: right;\">\n",
       "      <th></th>\n",
       "      <th>M</th>\n",
       "      <th>B</th>\n",
       "    </tr>\n",
       "  </thead>\n",
       "  <tbody>\n",
       "    <tr>\n",
       "      <th>M</th>\n",
       "      <td>35</td>\n",
       "      <td>5</td>\n",
       "    </tr>\n",
       "    <tr>\n",
       "      <th>B</th>\n",
       "      <td>3</td>\n",
       "      <td>69</td>\n",
       "    </tr>\n",
       "  </tbody>\n",
       "</table>\n",
       "</div>"
      ],
      "text/plain": [
       "    M   B\n",
       "M  35   5\n",
       "B   3  69"
      ]
     },
     "execution_count": 5,
     "metadata": {},
     "output_type": "execute_result"
    }
   ],
   "source": [
    "confusion_matrix_mean(knn_confusion_matrix_list)"
   ]
  },
  {
   "cell_type": "markdown",
   "metadata": {},
   "source": [
    "# Showing dmc informations computed"
   ]
  },
  {
   "cell_type": "code",
   "execution_count": 6,
   "metadata": {},
   "outputs": [
    {
     "name": "stdout",
     "output_type": "stream",
     "text": [
      "----------------- DMC model -----------------\n",
      "Hit rate:\n",
      "[0.9122807017543859, 0.8859649122807017, 0.8947368421052632, 0.9298245614035088, 0.868421052631579, 0.8859649122807017, 0.8859649122807017, 0.9122807017543859, 0.8596491228070176, 0.8596491228070176, 0.868421052631579, 0.8771929824561403, 0.868421052631579, 0.8771929824561403, 0.8859649122807017, 0.9210526315789473, 0.8947368421052632, 0.9298245614035088, 0.8947368421052632, 0.7894736842105263]\n",
      "\n",
      "Accuracy:\n",
      "0.8850877192982457\n",
      "\n",
      "Standard Deviation:\n",
      "0.030374192444176804\n",
      "\n",
      "Confusion Matrix:\n",
      "    M   B\n",
      "M  35   9\n",
      "B   1  69\n",
      "    M   B\n",
      "M  33  12\n",
      "B   1  68\n",
      "    B   M\n",
      "B  71   0\n",
      "M  12  31\n",
      "    B   M\n",
      "B  74   1\n",
      "M   7  32\n",
      "    B   M\n",
      "B  73   1\n",
      "M  14  26\n",
      "    M   B\n",
      "M  33  12\n",
      "B   1  68\n",
      "    B   M\n",
      "B  78   1\n",
      "M  12  23\n",
      "    B   M\n",
      "B  77   1\n",
      "M   9  27\n",
      "    B   M\n",
      "B  75   0\n",
      "M  16  23\n",
      "    B   M\n",
      "B  67   1\n",
      "M  15  31\n",
      "    B   M\n",
      "B  71   1\n",
      "M  14  28\n",
      "    B   M\n",
      "B  78   2\n",
      "M  12  22\n",
      "    M   B\n",
      "M  26  15\n",
      "B   0  73\n",
      "    B   M\n",
      "B  76   1\n",
      "M  13  24\n",
      "    M   B\n",
      "M  29  12\n",
      "B   1  72\n",
      "    B   M\n",
      "B  73   1\n",
      "M   8  32\n",
      "    M   B\n",
      "M  28  11\n",
      "B   1  74\n",
      "    B   M\n",
      "B  78   0\n",
      "M   8  28\n",
      "    B   M\n",
      "B  72   0\n",
      "M  12  30\n",
      "    B   M\n",
      "B  58   2\n",
      "M  22  32\n"
     ]
    }
   ],
   "source": [
    "print('----------------- DMC model -----------------')\n",
    "print('Hit rate:')\n",
    "print(dmc_hit_rate_list, end='\\n\\n')\n",
    "\n",
    "print('Accuracy:')\n",
    "print(sum(dmc_hit_rate_list)/len(dmc_hit_rate_list), end='\\n\\n')\n",
    "\n",
    "print('Standard Deviation:')\n",
    "print(dmc_std_dev, end='\\n\\n')\n",
    "\n",
    "print('Confusion Matrix:')\n",
    "for matrix in dmc_confusion_matrix_list:\n",
    "    print(matrix, end='\\n')"
   ]
  },
  {
   "cell_type": "code",
   "execution_count": 7,
   "metadata": {},
   "outputs": [
    {
     "data": {
      "text/html": [
       "<div>\n",
       "<style scoped>\n",
       "    .dataframe tbody tr th:only-of-type {\n",
       "        vertical-align: middle;\n",
       "    }\n",
       "\n",
       "    .dataframe tbody tr th {\n",
       "        vertical-align: top;\n",
       "    }\n",
       "\n",
       "    .dataframe thead th {\n",
       "        text-align: right;\n",
       "    }\n",
       "</style>\n",
       "<table border=\"1\" class=\"dataframe\">\n",
       "  <thead>\n",
       "    <tr style=\"text-align: right;\">\n",
       "      <th></th>\n",
       "      <th>M</th>\n",
       "      <th>B</th>\n",
       "    </tr>\n",
       "  </thead>\n",
       "  <tbody>\n",
       "    <tr>\n",
       "      <th>M</th>\n",
       "      <td>28</td>\n",
       "      <td>12</td>\n",
       "    </tr>\n",
       "    <tr>\n",
       "      <th>B</th>\n",
       "      <td>0</td>\n",
       "      <td>72</td>\n",
       "    </tr>\n",
       "  </tbody>\n",
       "</table>\n",
       "</div>"
      ],
      "text/plain": [
       "    M   B\n",
       "M  28  12\n",
       "B   0  72"
      ]
     },
     "execution_count": 7,
     "metadata": {},
     "output_type": "execute_result"
    }
   ],
   "source": [
    "confusion_matrix_mean(dmc_confusion_matrix_list)"
   ]
  },
  {
   "cell_type": "markdown",
   "metadata": {},
   "source": [
    "# Showing bayes informations computed"
   ]
  },
  {
   "cell_type": "code",
   "execution_count": 8,
   "metadata": {},
   "outputs": [
    {
     "name": "stdout",
     "output_type": "stream",
     "text": [
      "----------------- NAIVE BAYES model -----------------\n",
      "Hit rate:\n",
      "[0.9649122807017544, 0.9473684210526315, 0.9649122807017544, 0.9298245614035088, 0.9473684210526315, 0.9649122807017544, 0.9298245614035088, 0.9473684210526315, 0.9736842105263158, 0.9473684210526315, 0.9473684210526315, 0.956140350877193, 0.9649122807017544, 0.9298245614035088, 1.0, 0.9824561403508771, 0.9385964912280702, 0.9649122807017544, 0.9385964912280702, 0.9210526315789473]\n",
      "\n",
      "Accuracy:\n",
      "0.9530701754385964\n",
      "\n",
      "Standard Deviation:\n",
      "0.019273309247999856\n",
      "\n",
      "Confusion Matrix:\n",
      "    M   B\n",
      "M  42   2\n",
      "B   2  68\n",
      "    M   B\n",
      "M  42   3\n",
      "B   3  66\n",
      "    B   M\n",
      "B  70   1\n",
      "M   3  40\n",
      "    B   M\n",
      "B  70   5\n",
      "M   3  36\n",
      "    B   M\n",
      "B  72   2\n",
      "M   4  36\n",
      "    M   B\n",
      "M  44   1\n",
      "B   3  66\n",
      "    B   M\n",
      "B  75   4\n",
      "M   4  31\n",
      "    B   M\n",
      "B  75   3\n",
      "M   3  33\n",
      "    B   M\n",
      "B  73   2\n",
      "M   1  38\n",
      "    B   M\n",
      "B  64   4\n",
      "M   2  44\n",
      "    B   M\n",
      "B  67   5\n",
      "M   1  41\n",
      "    B   M\n",
      "B  78   2\n",
      "M   3  31\n",
      "    M   B\n",
      "M  40   1\n",
      "B   3  70\n",
      "    B   M\n",
      "B  71   6\n",
      "M   2  35\n",
      "    M   B\n",
      "M  41   0\n",
      "B   0  73\n",
      "    B   M\n",
      "B  74   0\n",
      "M   2  38\n",
      "    M   B\n",
      "M  37   2\n",
      "B   5  70\n",
      "    B   M\n",
      "B  74   4\n",
      "M   0  36\n",
      "    B   M\n",
      "B  70   2\n",
      "M   5  37\n",
      "    B   M\n",
      "B  55   5\n",
      "M   4  50\n"
     ]
    }
   ],
   "source": [
    "print('----------------- NAIVE BAYES model -----------------')\n",
    "print('Hit rate:')\n",
    "print(b_hit_rate_list, end='\\n\\n')\n",
    "\n",
    "print('Accuracy:')\n",
    "print(sum(b_hit_rate_list)/len(b_hit_rate_list), end='\\n\\n')\n",
    "\n",
    "print('Standard Deviation:')\n",
    "print(b_std_dev, end='\\n\\n')\n",
    "\n",
    "print('Confusion Matrix:')\n",
    "for matrix in b_confusion_matrix_list:\n",
    "    print(matrix, end='\\n')"
   ]
  },
  {
   "cell_type": "code",
   "execution_count": 9,
   "metadata": {},
   "outputs": [
    {
     "data": {
      "text/html": [
       "<div>\n",
       "<style scoped>\n",
       "    .dataframe tbody tr th:only-of-type {\n",
       "        vertical-align: middle;\n",
       "    }\n",
       "\n",
       "    .dataframe tbody tr th {\n",
       "        vertical-align: top;\n",
       "    }\n",
       "\n",
       "    .dataframe thead th {\n",
       "        text-align: right;\n",
       "    }\n",
       "</style>\n",
       "<table border=\"1\" class=\"dataframe\">\n",
       "  <thead>\n",
       "    <tr style=\"text-align: right;\">\n",
       "      <th></th>\n",
       "      <th>M</th>\n",
       "      <th>B</th>\n",
       "    </tr>\n",
       "  </thead>\n",
       "  <tbody>\n",
       "    <tr>\n",
       "      <th>M</th>\n",
       "      <td>38</td>\n",
       "      <td>2</td>\n",
       "    </tr>\n",
       "    <tr>\n",
       "      <th>B</th>\n",
       "      <td>3</td>\n",
       "      <td>70</td>\n",
       "    </tr>\n",
       "  </tbody>\n",
       "</table>\n",
       "</div>"
      ],
      "text/plain": [
       "    M   B\n",
       "M  38   2\n",
       "B   3  70"
      ]
     },
     "execution_count": 9,
     "metadata": {},
     "output_type": "execute_result"
    }
   ],
   "source": [
    "confusion_matrix_mean(b_confusion_matrix_list)"
   ]
  },
  {
   "cell_type": "markdown",
   "metadata": {},
   "source": [
    "# Choosing two columns from the last X_train and X_test to plot decision surface"
   ]
  },
  {
   "cell_type": "code",
   "execution_count": 10,
   "metadata": {},
   "outputs": [
    {
     "name": "stdout",
     "output_type": "stream",
     "text": [
      "Train dataset:\n",
      "     radius_mean  texture_mean\n",
      "226        10.44         15.46\n",
      "515        11.34         18.61\n",
      "230        17.05         19.08\n",
      "156        17.68         20.74\n",
      "311        14.61         15.69\n",
      "..           ...           ...\n",
      "393        21.61         22.28\n",
      "77         18.05         16.15\n",
      "387        13.88         16.16\n",
      "375        16.17         16.07\n",
      "142        11.43         17.31\n",
      "\n",
      "[455 rows x 2 columns]\n",
      "Test dataset:\n",
      "     radius_mean  texture_mean\n",
      "412        9.397         21.68\n",
      "321       20.160         19.66\n",
      "201       17.540         19.32\n",
      "149       13.740         17.91\n",
      "352       25.730         17.46\n",
      "..           ...           ...\n",
      "210       20.580         22.14\n",
      "186       18.310         18.58\n",
      "494       13.160         20.54\n",
      "297       11.760         18.14\n",
      "470        9.667         18.49\n",
      "\n",
      "[114 rows x 2 columns]\n"
     ]
    }
   ],
   "source": [
    "X_train_2d, X_test_2d = X_train[['radius_mean', 'texture_mean']], X_test[['radius_mean', 'texture_mean']]\n",
    "\n",
    "print('Train dataset:')\n",
    "print(X_train_2d)\n",
    "print('Test dataset:')\n",
    "print(X_test_2d)"
   ]
  },
  {
   "cell_type": "markdown",
   "metadata": {},
   "source": [
    "# Training the models with the new dataset 2d"
   ]
  },
  {
   "cell_type": "code",
   "execution_count": 11,
   "metadata": {},
   "outputs": [
    {
     "name": "stderr",
     "output_type": "stream",
     "text": [
      "w:\\Home\\ML\\knn\\knn.py:11: FutureWarning: The default dtype for empty Series will be 'object' instead of 'float64' in a future version. Specify a dtype explicitly to silence this warning.\n",
      "  self.__y = pd.Series([])\n"
     ]
    }
   ],
   "source": [
    "knn_model = knn(k=3, type_distance_calc='euclidean')\n",
    "knn_model.fit(X_train_2d, y_train)\n",
    "dmc_model = dmc(type_distance_calc='euclidean')\n",
    "dmc_model.fit(X_train_2d, y_train)\n",
    "b_model = bayes_classifier()\n",
    "b_model.fit(X_train_2d, y_train)"
   ]
  },
  {
   "cell_type": "markdown",
   "metadata": {},
   "source": [
    "# Plotting knn decision surface"
   ]
  },
  {
   "cell_type": "code",
   "execution_count": 12,
   "metadata": {},
   "outputs": [
    {
     "data": {
      "image/png": "[encoded data removed]",
      "text/plain": [
       "<Figure size 640x480 with 1 Axes>"
      ]
     },
     "metadata": {},
     "output_type": "display_data"
    }
   ],
   "source": [
    "data = X_test_2d[:][:].values\n",
    "\n",
    "x_min, x_max = data[:, 0].min() - 0.1, data[:,0].max() + 0.1\n",
    "y_min, y_max = data[:, 1].min() - 0.1, data[:, 1].max() + 0.1\n",
    "\n",
    "xx, yy = np.meshgrid(np.linspace(x_min,x_max, 100),\n",
    "np.linspace(y_min, y_max, 100))\n",
    "\n",
    "x_in = np.c_[xx.ravel(), yy.ravel()]\n",
    "\n",
    "y_pred = [[knn_model.predict(x) for x in x_in]]\n",
    "for i, y in enumerate(y_pred[0]):\n",
    "    if y == 'M':\n",
    "        y_pred[0][i] = 1\n",
    "    else:\n",
    "        y_pred[0][i] = 2\n",
    "\n",
    "y_pred = np.round(y_pred).reshape(xx.shape)\n",
    "\n",
    "plt.contourf(xx, yy, y_pred, cmap=plt.cm.RdYlBu, alpha=0.7 )\n",
    "\n",
    "plt.xlim(xx.min(), xx.max())\n",
    "plt.ylim(yy.min(), yy.max())\n",
    "\n",
    "knn_y_pred = np.array([knn_model.predict(x) for x in X_test_2d.values])\n",
    "\n",
    "M = np.where(knn_y_pred == 'M')\n",
    "B = np.where(knn_y_pred == 'B')\n",
    "\n",
    "plt.scatter(data[M, 0], data[M, 1],\n",
    "            color='red', marker='o', label='M')\n",
    "plt.scatter(data[B, 0], data[B, 1],\n",
    "            color='blue', marker='X', label='B')\n",
    "\n",
    "plt.show()"
   ]
  },
  {
   "cell_type": "markdown",
   "metadata": {},
   "source": [
    "# Plotting dmc decision surface"
   ]
  },
  {
   "cell_type": "code",
   "execution_count": 13,
   "metadata": {},
   "outputs": [
    {
     "data": {
      "image/png": "[encoded data removed]",
      "text/plain": [
       "<Figure size 640x480 with 1 Axes>"
      ]
     },
     "metadata": {},
     "output_type": "display_data"
    }
   ],
   "source": [
    "data = X_test_2d[:][:].values\n",
    "\n",
    "x_min, x_max = data[:, 0].min() - 0.1, data[:,0].max() + 0.1\n",
    "y_min, y_max = data[:, 1].min() - 0.1, data[:, 1].max() + 0.1\n",
    "\n",
    "xx, yy = np.meshgrid(np.linspace(x_min,x_max, 100),\n",
    "np.linspace(y_min, y_max, 100))\n",
    "\n",
    "x_in = np.c_[xx.ravel(), yy.ravel()]\n",
    "\n",
    "y_pred = [[dmc_model.predict(x) for x in x_in]]\n",
    "for i, y in enumerate(y_pred[0]):\n",
    "    if y == 'M':\n",
    "        y_pred[0][i] = 1\n",
    "    else:\n",
    "        y_pred[0][i] = 2\n",
    "\n",
    "y_pred = np.round(y_pred).reshape(xx.shape)\n",
    "\n",
    "plt.contourf(xx, yy, y_pred, cmap=plt.cm.RdYlBu, alpha=0.7 )\n",
    "\n",
    "plt.xlim(xx.min(), xx.max())\n",
    "plt.ylim(yy.min(), yy.max())\n",
    "\n",
    "dmc_y_pred = np.array([dmc_model.predict(x) for x in X_test_2d.values])\n",
    "\n",
    "M = np.where(dmc_y_pred == 'M')\n",
    "B = np.where(dmc_y_pred == 'B')\n",
    "\n",
    "plt.scatter(data[M, 0], data[M, 1],\n",
    "            color='red', marker='o', label='M')\n",
    "plt.scatter(data[B, 0], data[B, 1],\n",
    "            color='blue', marker='X', label='B')\n",
    "\n",
    "plt.show()"
   ]
  },
  {
   "cell_type": "markdown",
   "metadata": {},
   "source": [
    "# Plotting bayes decision surface"
   ]
  },
  {
   "cell_type": "code",
   "execution_count": 14,
   "metadata": {},
   "outputs": [
    {
     "data": {
      "image/png": "[encoded data removed]",
      "text/plain": [
       "<Figure size 640x480 with 1 Axes>"
      ]
     },
     "metadata": {},
     "output_type": "display_data"
    }
   ],
   "source": [
    "data = X_test_2d[:][:].values\n",
    "\n",
    "x_min, x_max = data[:, 0].min() - 0.1, data[:,0].max() + 0.1\n",
    "y_min, y_max = data[:, 1].min() - 0.1, data[:, 1].max() + 0.1\n",
    "\n",
    "xx, yy = np.meshgrid(np.linspace(x_min,x_max, 100),\n",
    "np.linspace(y_min, y_max, 100))\n",
    "\n",
    "x_in = np.c_[xx.ravel(), yy.ravel()]\n",
    "\n",
    "y_pred = [[b_model.predict(x) for x in x_in]]\n",
    "for i, y in enumerate(y_pred[0]):\n",
    "    if y == 'M':\n",
    "        y_pred[0][i] = 1\n",
    "    else:\n",
    "        y_pred[0][i] = 2\n",
    "\n",
    "y_pred = np.round(y_pred).reshape(xx.shape)\n",
    "\n",
    "plt.contourf(xx, yy, y_pred, cmap=plt.cm.RdYlBu, alpha=0.7 )\n",
    "\n",
    "plt.xlim(xx.min(), xx.max())\n",
    "plt.ylim(yy.min(), yy.max())\n",
    "\n",
    "b_y_pred = np.array([b_model.predict(x) for x in X_test_2d.values])\n",
    "\n",
    "M = np.where(b_y_pred == 'M')\n",
    "B = np.where(b_y_pred == 'B')\n",
    "\n",
    "plt.scatter(data[M, 0], data[M, 1],\n",
    "            color='red', marker='o', label='M')\n",
    "plt.scatter(data[B, 0], data[B, 1],\n",
    "            color='blue', marker='X', label='B')\n",
    "\n",
    "plt.show()"
   ]
  }
 ],
 "metadata": {
  "kernelspec": {
   "display_name": "Python 3.10.4 ('.venv': venv)",
   "language": "python",
   "name": "python3"
  },
  "language_info": {
   "codemirror_mode": {
    "name": "ipython",
    "version": 3
   },
   "file_extension": ".py",
   "mimetype": "text/x-python",
   "name": "python",
   "nbconvert_exporter": "python",
   "pygments_lexer": "ipython3",
   "version": "3.10.4"
  },
  "orig_nbformat": 4,
  "vscode": {
   "interpreter": {
    "hash": "33434f0cc8e6f3723834300de8718debdc0c9ba9cd4c4faf0515f4c47995aa8c"
   }
  }
 },
 "nbformat": 4,
 "nbformat_minor": 2
}
