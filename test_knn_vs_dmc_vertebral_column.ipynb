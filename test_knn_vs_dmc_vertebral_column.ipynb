{
 "cells": [
  {
   "cell_type": "markdown",
   "metadata": {},
   "source": [
    "# Import libs"
   ]
  },
  {
   "cell_type": "code",
   "execution_count": 1,
   "metadata": {},
   "outputs": [],
   "source": [
    "import pandas as pd\n",
    "import numpy as np\n",
    "from knn.knn import knn\n",
    "from dmc.dmc import dmc\n",
    "from sklearn.model_selection import train_test_split\n",
    "from sklearn.metrics import confusion_matrix\n",
    "from matplotlib import pyplot as plt"
   ]
  },
  {
   "cell_type": "markdown",
   "metadata": {},
   "source": [
    "# Loading Vertebral Column 3C dataset"
   ]
  },
  {
   "cell_type": "code",
   "execution_count": 2,
   "metadata": {},
   "outputs": [],
   "source": [
    "Xy = pd.read_csv('./datasets/vertebral_column_3C.dat', header=None, sep=' ', engine='python')\n",
    "\n",
    "X = Xy.drop(Xy.columns[-1:], axis=1)\n",
    "y = Xy[Xy.columns[-1]]"
   ]
  },
  {
   "cell_type": "markdown",
   "metadata": {},
   "source": [
    "# Instantiating models"
   ]
  },
  {
   "cell_type": "code",
   "execution_count": 3,
   "metadata": {},
   "outputs": [
    {
     "name": "stderr",
     "output_type": "stream",
     "text": [
      "w:\\Home\\ML\\knn\\knn.py:11: FutureWarning: The default dtype for empty Series will be 'object' instead of 'float64' in a future version. Specify a dtype explicitly to silence this warning.\n",
      "  self.__y = pd.Series([])\n"
     ]
    }
   ],
   "source": [
    "knn_model = knn(k=3, type_distance_calc='euclidean')\n",
    "dmc_model = dmc(type_distance_calc='euclidean')"
   ]
  },
  {
   "cell_type": "markdown",
   "metadata": {},
   "source": [
    "# Running the tests and computing informations"
   ]
  },
  {
   "cell_type": "code",
   "execution_count": 4,
   "metadata": {},
   "outputs": [],
   "source": [
    "realizations = 20\n",
    "knn_hit_rate_list = []\n",
    "dmc_hit_rate_list = []\n",
    "knn_std_dev = 0\n",
    "dmc_std_dev = 0\n",
    "knn_confusion_matrix_list = []\n",
    "dmc_confusion_matrix_list = []\n",
    "\n",
    "for r in range(realizations):\n",
    "    X_train, X_test, y_train, y_test = train_test_split(X, y, test_size = 0.2)\n",
    "\n",
    "    knn_model.fit(X_train, y_train)\n",
    "    dmc_model.fit(X_train, y_train)\n",
    "\n",
    "    knn_hit_rate_list.append(knn_model.score(X_test, y_test))\n",
    "    dmc_hit_rate_list.append(dmc_model.score(X_test, y_test))\n",
    "\n",
    "    knn_y_pred = [knn_model.predict(x) for x in X_test.values]\n",
    "    dmc_y_pred = [dmc_model.predict(x) for x in X_test.values]\n",
    "\n",
    "    knn_confusion_matrix_list.append(confusion_matrix(y_test, knn_y_pred))\n",
    "    dmc_confusion_matrix_list.append(confusion_matrix(y_test, dmc_y_pred))\n",
    "\n",
    "knn_std_dev = np.std(knn_hit_rate_list)\n",
    "dmc_std_dev = np.std(dmc_hit_rate_list)"
   ]
  },
  {
   "cell_type": "markdown",
   "metadata": {},
   "source": [
    "# Showing knn informations computed"
   ]
  },
  {
   "cell_type": "code",
   "execution_count": 5,
   "metadata": {},
   "outputs": [
    {
     "name": "stdout",
     "output_type": "stream",
     "text": [
      "----------------- KNN model -----------------\n",
      "Hit rate:\n",
      "[0.8548387096774194, 0.8387096774193549, 0.8548387096774194, 0.7419354838709677, 0.9193548387096774, 0.7903225806451613, 0.7903225806451613, 0.8064516129032258, 0.8064516129032258, 0.8387096774193549, 0.8387096774193549, 0.7741935483870968, 0.7096774193548387, 0.8548387096774194, 0.8225806451612904, 0.7741935483870968, 0.8387096774193549, 0.8064516129032258, 0.9032258064516129, 0.8870967741935484]\n",
      "\n",
      "Accuracy:\n",
      "0.82258064516129\n",
      "\n",
      "Standard Deviation:\n",
      "0.05049185755644687\n",
      "\n",
      "Confusion Matrix:\n",
      "[[ 9  2  0]\n",
      " [ 6 16  1]\n",
      " [ 0  0 28]]\n",
      "[[ 5  3  0]\n",
      " [ 4 13  1]\n",
      " [ 1  1 34]]\n",
      "[[ 5  6  0]\n",
      " [ 3 19  0]\n",
      " [ 0  0 29]]\n",
      "[[ 2  5  0]\n",
      " [ 4 22  3]\n",
      " [ 0  4 22]]\n",
      "[[ 5  3  0]\n",
      " [ 2 18  0]\n",
      " [ 0  0 34]]\n",
      "[[10  6  0]\n",
      " [ 3 19  0]\n",
      " [ 2  2 20]]\n",
      "[[ 9  3  0]\n",
      " [ 5  9  0]\n",
      " [ 1  4 31]]\n",
      "[[11  5  0]\n",
      " [ 6 12  1]\n",
      " [ 0  0 27]]\n",
      "[[ 5  4  0]\n",
      " [ 3 12  2]\n",
      " [ 0  3 33]]\n",
      "[[ 7  7  0]\n",
      " [ 3 14  0]\n",
      " [ 0  0 31]]\n",
      "[[ 6  5  0]\n",
      " [ 4 12  0]\n",
      " [ 0  1 34]]\n",
      "[[ 8  8  0]\n",
      " [ 4 16  2]\n",
      " [ 0  0 24]]\n",
      "[[ 6  8  0]\n",
      " [ 7 14  1]\n",
      " [ 0  2 24]]\n",
      "[[ 8  2  0]\n",
      " [ 5 16  0]\n",
      " [ 2  0 29]]\n",
      "[[ 7  7  0]\n",
      " [ 4 18  0]\n",
      " [ 0  0 26]]\n",
      "[[ 8  7  0]\n",
      " [ 4 20  0]\n",
      " [ 1  2 20]]\n",
      "[[ 7  4  0]\n",
      " [ 3 15  1]\n",
      " [ 2  0 30]]\n",
      "[[10  3  0]\n",
      " [ 5 11  1]\n",
      " [ 0  3 29]]\n",
      "[[ 8  1  0]\n",
      " [ 3 19  1]\n",
      " [ 1  0 29]]\n",
      "[[ 8  4  0]\n",
      " [ 0 15  1]\n",
      " [ 1  1 32]]\n"
     ]
    }
   ],
   "source": [
    "print('----------------- KNN model -----------------')\n",
    "print('Hit rate:')\n",
    "print(knn_hit_rate_list, end='\\n\\n')\n",
    "\n",
    "print('Accuracy:')\n",
    "print(sum(knn_hit_rate_list)/len(knn_hit_rate_list), end='\\n\\n')\n",
    "\n",
    "print('Standard Deviation:')\n",
    "print(knn_std_dev, end='\\n\\n')\n",
    "\n",
    "print('Confusion Matrix:')\n",
    "for matrix in knn_confusion_matrix_list:\n",
    "    print(matrix, end='\\n')"
   ]
  },
  {
   "cell_type": "markdown",
   "metadata": {},
   "source": [
    "# Showing dmc informations computed"
   ]
  },
  {
   "cell_type": "code",
   "execution_count": 6,
   "metadata": {},
   "outputs": [
    {
     "name": "stdout",
     "output_type": "stream",
     "text": [
      "----------------- DMC model -----------------\n",
      "Hit rate:\n",
      "[0.6774193548387096, 0.7419354838709677, 0.7258064516129032, 0.7419354838709677, 0.8548387096774194, 0.6935483870967742, 0.8225806451612904, 0.8387096774193549, 0.7741935483870968, 0.8709677419354839, 0.7419354838709677, 0.7903225806451613, 0.6451612903225806, 0.7419354838709677, 0.8709677419354839, 0.7419354838709677, 0.8387096774193549, 0.7419354838709677, 0.7741935483870968, 0.8064516129032258]\n",
      "\n",
      "Accuracy:\n",
      "0.771774193548387\n",
      "\n",
      "Standard Deviation:\n",
      "0.06252470895549041\n",
      "\n",
      "Confusion Matrix:\n",
      "[[ 8  3  0]\n",
      " [ 9 12  2]\n",
      " [ 3  3 22]]\n",
      "[[ 7  1  0]\n",
      " [ 7 10  1]\n",
      " [ 4  3 29]]\n",
      "[[ 8  3  0]\n",
      " [ 8 14  0]\n",
      " [ 2  4 23]]\n",
      "[[ 6  1  0]\n",
      " [ 8 20  1]\n",
      " [ 0  6 20]]\n",
      "[[ 4  4  0]\n",
      " [ 1 19  0]\n",
      " [ 1  3 30]]\n",
      "[[13  3  0]\n",
      " [ 7 15  0]\n",
      " [ 4  5 15]]\n",
      "[[11  1  0]\n",
      " [ 4 10  0]\n",
      " [ 1  5 30]]\n",
      "[[14  2  0]\n",
      " [ 6 13  0]\n",
      " [ 1  1 25]]\n",
      "[[ 8  1  0]\n",
      " [ 6 10  1]\n",
      " [ 1  5 30]]\n",
      "[[13  1  0]\n",
      " [ 6 11  0]\n",
      " [ 1  0 30]]\n",
      "[[10  1  0]\n",
      " [ 9  6  1]\n",
      " [ 2  3 30]]\n",
      "[[13  3  0]\n",
      " [ 6 15  1]\n",
      " [ 3  0 21]]\n",
      "[[10  4  0]\n",
      " [10 11  1]\n",
      " [ 4  3 19]]\n",
      "[[10  0  0]\n",
      " [ 8 13  0]\n",
      " [ 2  6 23]]\n",
      "[[12  2  0]\n",
      " [ 3 19  0]\n",
      " [ 2  1 23]]\n",
      "[[14  1  0]\n",
      " [ 9 15  0]\n",
      " [ 2  4 17]]\n",
      "[[10  1  0]\n",
      " [ 4 14  1]\n",
      " [ 2  2 28]]\n",
      "[[10  3  0]\n",
      " [ 7  9  1]\n",
      " [ 2  3 27]]\n",
      "[[ 7  2  0]\n",
      " [ 6 16  1]\n",
      " [ 2  3 25]]\n",
      "[[10  2  0]\n",
      " [ 3 12  1]\n",
      " [ 3  3 28]]\n"
     ]
    }
   ],
   "source": [
    "print('----------------- DMC model -----------------')\n",
    "print('Hit rate:')\n",
    "print(dmc_hit_rate_list, end='\\n\\n')\n",
    "\n",
    "print('Accuracy:')\n",
    "print(sum(dmc_hit_rate_list)/len(dmc_hit_rate_list), end='\\n\\n')\n",
    "\n",
    "print('Standard Deviation:')\n",
    "print(dmc_std_dev, end='\\n\\n')\n",
    "\n",
    "print('Confusion Matrix:')\n",
    "for matrix in dmc_confusion_matrix_list:\n",
    "    print(matrix, end='\\n')"
   ]
  },
  {
   "cell_type": "markdown",
   "metadata": {},
   "source": [
    "# Choosing two columns from the last X_train and X_test to plot decision surface"
   ]
  },
  {
   "cell_type": "code",
   "execution_count": 7,
   "metadata": {},
   "outputs": [
    {
     "name": "stdout",
     "output_type": "stream",
     "text": [
      "Train dataset:\n",
      "         0      1\n",
      "60   74.38  32.05\n",
      "258  40.35  10.19\n",
      "214  45.70  10.66\n",
      "135  77.12  30.35\n",
      "244  63.03  27.34\n",
      "..     ...    ...\n",
      "1    39.06  10.06\n",
      "238  69.00  13.29\n",
      "4    49.71   9.65\n",
      "221  54.95   5.87\n",
      "85   45.44   9.91\n",
      "\n",
      "[248 rows x 2 columns]\n",
      "Test dataset:\n",
      "         0      1\n",
      "121  83.88  23.08\n",
      "65   83.93  41.29\n",
      "131  69.78  13.78\n",
      "110  63.90  13.71\n",
      "97   74.72  19.76\n",
      "..     ...    ...\n",
      "190  43.72   9.81\n",
      "292  34.76   2.63\n",
      "84   76.33  42.40\n",
      "82   88.62  29.09\n",
      "83   81.10  24.79\n",
      "\n",
      "[62 rows x 2 columns]\n"
     ]
    }
   ],
   "source": [
    "X_train_2d, X_test_2d = X_train[X_train.columns[:2]], X_test[X_train.columns[:2]]\n",
    "\n",
    "print('Train dataset:')\n",
    "print(X_train_2d)\n",
    "print('Test dataset:')\n",
    "print(X_test_2d)"
   ]
  },
  {
   "cell_type": "markdown",
   "metadata": {},
   "source": [
    "# Training the models with the new dataset 2d"
   ]
  },
  {
   "cell_type": "code",
   "execution_count": 8,
   "metadata": {},
   "outputs": [
    {
     "name": "stderr",
     "output_type": "stream",
     "text": [
      "w:\\Home\\ML\\knn\\knn.py:11: FutureWarning: The default dtype for empty Series will be 'object' instead of 'float64' in a future version. Specify a dtype explicitly to silence this warning.\n",
      "  self.__y = pd.Series([])\n"
     ]
    }
   ],
   "source": [
    "knn_model = knn(k=3, type_distance_calc='euclidean')\n",
    "knn_model.fit(X_train_2d, y_train)\n",
    "dmc_model = dmc(type_distance_calc='euclidean')\n",
    "dmc_model.fit(X_train_2d, y_train)"
   ]
  },
  {
   "cell_type": "markdown",
   "metadata": {},
   "source": [
    "# Plotting knn decision surface"
   ]
  },
  {
   "cell_type": "code",
   "execution_count": 10,
   "metadata": {},
   "outputs": [
    {
     "data": {
      "image/png": "[encoded data removed]",
      "text/plain": [
       "<Figure size 640x480 with 1 Axes>"
      ]
     },
     "metadata": {},
     "output_type": "display_data"
    }
   ],
   "source": [
    "data = X_test_2d[:][:].values\n",
    "\n",
    "knn_y_pred = np.array([knn_model.predict(x) for x in X_test_2d.values])\n",
    "\n",
    "dh = np.where(knn_y_pred == 'DH')\n",
    "sl = np.where(knn_y_pred == 'SL')\n",
    "no = np.where(knn_y_pred == 'NO')\n",
    "\n",
    "plt.scatter(data[dh, 0], data[dh, 1],\n",
    "            color='red', marker='o', label='dh')\n",
    "plt.scatter(data[sl, 0], data[sl, 1],\n",
    "            color='blue', marker='X', label='sl')\n",
    "plt.scatter(data[no, 0], data[no, 1],\n",
    "            color='green', marker='P', label='no')\n",
    "\n",
    "plt.show()"
   ]
  },
  {
   "cell_type": "markdown",
   "metadata": {},
   "source": [
    "# Plotting dmc decision surface"
   ]
  },
  {
   "cell_type": "code",
   "execution_count": 11,
   "metadata": {},
   "outputs": [
    {
     "data": {
      "image/png": "[encoded data removed]",
      "text/plain": [
       "<Figure size 640x480 with 1 Axes>"
      ]
     },
     "metadata": {},
     "output_type": "display_data"
    }
   ],
   "source": [
    "data = X_test_2d[:][:].values\n",
    "\n",
    "dmc_y_pred = np.array([dmc_model.predict(x) for x in X_test_2d.values])\n",
    "\n",
    "dh = np.where(dmc_y_pred == 'DH')\n",
    "sl = np.where(dmc_y_pred == 'SL')\n",
    "no = np.where(dmc_y_pred == 'NO')\n",
    "\n",
    "plt.scatter(data[dh, 0], data[dh, 1],\n",
    "            color='red', marker='o', label='dh')\n",
    "plt.scatter(data[sl, 0], data[sl, 1],\n",
    "            color='blue', marker='X', label='sl')\n",
    "plt.scatter(data[no, 0], data[no, 1],\n",
    "            color='green', marker='P', label='no')\n",
    "\n",
    "plt.show()"
   ]
  }
 ],
 "metadata": {
  "kernelspec": {
   "display_name": "Python 3.10.4 ('.venv': venv)",
   "language": "python",
   "name": "python3"
  },
  "language_info": {
   "codemirror_mode": {
    "name": "ipython",
    "version": 3
   },
   "file_extension": ".py",
   "mimetype": "text/x-python",
   "name": "python",
   "nbconvert_exporter": "python",
   "pygments_lexer": "ipython3",
   "version": "3.10.4"
  },
  "orig_nbformat": 4,
  "vscode": {
   "interpreter": {
    "hash": "33434f0cc8e6f3723834300de8718debdc0c9ba9cd4c4faf0515f4c47995aa8c"
   }
  }
 },
 "nbformat": 4,
 "nbformat_minor": 2
}
