{
 "cells": [
  {
   "cell_type": "markdown",
   "metadata": {},
   "source": [
    "# Import libs"
   ]
  },
  {
   "cell_type": "code",
   "execution_count": 1,
   "metadata": {},
   "outputs": [],
   "source": [
    "import pandas as pd\n",
    "import numpy as np\n",
    "from knn.knn import knn\n",
    "from dmc.dmc import dmc\n",
    "from sklearn.model_selection import train_test_split\n",
    "# from sklearn.metrics import confusion_matrix\n",
    "from utils.functions import confusion_matrix, confusion_matrix_mean\n",
    "from matplotlib import pyplot as plt"
   ]
  },
  {
   "cell_type": "markdown",
   "metadata": {},
   "source": [
    "# Loading Vertebral Column 3C dataset"
   ]
  },
  {
   "cell_type": "code",
   "execution_count": 2,
   "metadata": {},
   "outputs": [],
   "source": [
    "Xy = pd.read_csv('./datasets/vertebral_column_3C.dat', header=None, sep=' ', engine='python')\n",
    "\n",
    "X = Xy.drop(Xy.columns[-1:], axis=1)\n",
    "y = Xy[Xy.columns[-1]]"
   ]
  },
  {
   "cell_type": "markdown",
   "metadata": {},
   "source": [
    "# Instantiating models"
   ]
  },
  {
   "cell_type": "code",
   "execution_count": 3,
   "metadata": {},
   "outputs": [
    {
     "name": "stderr",
     "output_type": "stream",
     "text": [
      "w:\\Home\\ML\\knn\\knn.py:11: FutureWarning: The default dtype for empty Series will be 'object' instead of 'float64' in a future version. Specify a dtype explicitly to silence this warning.\n",
      "  self.__y = pd.Series([])\n"
     ]
    }
   ],
   "source": [
    "knn_model = knn(k=3, type_distance_calc='euclidean')\n",
    "dmc_model = dmc(type_distance_calc='euclidean')"
   ]
  },
  {
   "cell_type": "markdown",
   "metadata": {},
   "source": [
    "# Running the tests and computing informations"
   ]
  },
  {
   "cell_type": "code",
   "execution_count": 4,
   "metadata": {},
   "outputs": [],
   "source": [
    "realizations = 20\n",
    "knn_hit_rate_list = []\n",
    "dmc_hit_rate_list = []\n",
    "knn_std_dev = 0\n",
    "dmc_std_dev = 0\n",
    "knn_confusion_matrix_list = []\n",
    "dmc_confusion_matrix_list = []\n",
    "\n",
    "for r in range(realizations):\n",
    "    X_train, X_test, y_train, y_test = train_test_split(X, y, test_size = 0.2)\n",
    "\n",
    "    knn_model.fit(X_train, y_train)\n",
    "    dmc_model.fit(X_train, y_train)\n",
    "\n",
    "    knn_hit_rate_list.append(knn_model.score(X_test, y_test))\n",
    "    dmc_hit_rate_list.append(dmc_model.score(X_test, y_test))\n",
    "\n",
    "    knn_y_pred = [knn_model.predict(x) for x in X_test.values]\n",
    "    dmc_y_pred = [dmc_model.predict(x) for x in X_test.values]\n",
    "\n",
    "    knn_confusion_matrix_list.append(confusion_matrix(y_test, knn_y_pred))\n",
    "    dmc_confusion_matrix_list.append(confusion_matrix(y_test, dmc_y_pred))\n",
    "\n",
    "knn_std_dev = np.std(knn_hit_rate_list)\n",
    "dmc_std_dev = np.std(dmc_hit_rate_list)"
   ]
  },
  {
   "cell_type": "markdown",
   "metadata": {},
   "source": [
    "# Showing knn informations computed"
   ]
  },
  {
   "cell_type": "code",
   "execution_count": 5,
   "metadata": {},
   "outputs": [
    {
     "name": "stdout",
     "output_type": "stream",
     "text": [
      "----------------- KNN model -----------------\n",
      "Hit rate:\n",
      "[0.8225806451612904, 0.8548387096774194, 0.7741935483870968, 0.8225806451612904, 0.6935483870967742, 0.8064516129032258, 0.8387096774193549, 0.8387096774193549, 0.8387096774193549, 0.7741935483870968, 0.8548387096774194, 0.8709677419354839, 0.8548387096774194, 0.8548387096774194, 0.8387096774193549, 0.8064516129032258, 0.8064516129032258, 0.8387096774193549, 0.8387096774193549, 0.8387096774193549]\n",
      "\n",
      "Accuracy:\n",
      "0.8233870967741936\n",
      "\n",
      "Standard Deviation:\n",
      "0.03900258803014112\n",
      "\n",
      "Confusion Matrix:\n",
      "    SL  NO  DH\n",
      "SL  23   0   1\n",
      "NO   0  20   6\n",
      "DH   0   4   8\n",
      "    NO  SL  DH\n",
      "NO  15   0   1\n",
      "SL   2  29   1\n",
      "DH   5   0   9\n",
      "    SL  DH  NO\n",
      "SL  32   0   1\n",
      "DH   1   1   7\n",
      "NO   3   2  15\n",
      "    SL  NO  DH\n",
      "SL  26   0   1\n",
      "NO   0  21   3\n",
      "DH   0   7   4\n",
      "    SL  NO  DH\n",
      "SL  22   2   1\n",
      "NO   0  14   9\n",
      "DH   0   7   7\n",
      "    DH  NO  SL\n",
      "DH   4   5   0\n",
      "NO   5  16   0\n",
      "SL   1   1  30\n",
      "    SL  DH  NO\n",
      "SL  32   0   2\n",
      "DH   0   9   5\n",
      "NO   1   2  11\n",
      "    SL  NO  DH\n",
      "SL  33   1   0\n",
      "NO   0  13   4\n",
      "DH   0   5   6\n",
      "    SL  DH  NO\n",
      "SL  32   0   1\n",
      "DH   0   8   7\n",
      "NO   0   2  12\n",
      "    SL  DH  NO\n",
      "SL  29   0   1\n",
      "DH   0   6  10\n",
      "NO   1   2  13\n",
      "    SL  NO  DH\n",
      "SL  30   0   0\n",
      "NO   1  20   2\n",
      "DH   0   6   3\n",
      "    SL  NO  DH\n",
      "SL  25   0   0\n",
      "NO   0  18   4\n",
      "DH   0   4  11\n",
      "    SL  NO  DH\n",
      "SL  32   1   0\n",
      "NO   1  14   2\n",
      "DH   0   5   7\n",
      "    NO  SL  DH\n",
      "NO  14   1   3\n",
      "SL   0  30   0\n",
      "DH   5   0   9\n",
      "    DH  NO  SL\n",
      "DH   6   3   0\n",
      "NO   6  15   0\n",
      "SL   0   1  31\n",
      "    SL  NO  DH\n",
      "SL  23   1   0\n",
      "NO   1  18   7\n",
      "DH   0   3   9\n",
      "    SL  DH  NO\n",
      "SL  26   0   1\n",
      "DH   0   9   6\n",
      "NO   0   5  15\n",
      "    DH  SL  NO\n",
      "DH   6   0   5\n",
      "SL   0  28   0\n",
      "NO   4   1  18\n",
      "    NO  DH  SL\n",
      "NO  17   3   1\n",
      "DH   4   8   0\n",
      "SL   1   1  27\n",
      "    SL  NO  DH\n",
      "SL  33   0   0\n",
      "NO   2  11   3\n",
      "DH   0   5   8\n"
     ]
    }
   ],
   "source": [
    "print('----------------- KNN model -----------------')\n",
    "print('Hit rate:')\n",
    "print(knn_hit_rate_list, end='\\n\\n')\n",
    "\n",
    "print('Accuracy:')\n",
    "print(sum(knn_hit_rate_list)/len(knn_hit_rate_list), end='\\n\\n')\n",
    "\n",
    "print('Standard Deviation:')\n",
    "print(knn_std_dev, end='\\n\\n')\n",
    "\n",
    "print('Confusion Matrix:')\n",
    "for matrix in knn_confusion_matrix_list:\n",
    "    print(matrix, end='\\n')"
   ]
  },
  {
   "cell_type": "markdown",
   "metadata": {},
   "source": [
    "# Confusion Matrix Mean"
   ]
  },
  {
   "cell_type": "code",
   "execution_count": 6,
   "metadata": {},
   "outputs": [
    {
     "data": {
      "text/html": [
       "<div>\n",
       "<style scoped>\n",
       "    .dataframe tbody tr th:only-of-type {\n",
       "        vertical-align: middle;\n",
       "    }\n",
       "\n",
       "    .dataframe tbody tr th {\n",
       "        vertical-align: top;\n",
       "    }\n",
       "\n",
       "    .dataframe thead th {\n",
       "        text-align: right;\n",
       "    }\n",
       "</style>\n",
       "<table border=\"1\" class=\"dataframe\">\n",
       "  <thead>\n",
       "    <tr style=\"text-align: right;\">\n",
       "      <th></th>\n",
       "      <th>SL</th>\n",
       "      <th>NO</th>\n",
       "      <th>DH</th>\n",
       "    </tr>\n",
       "  </thead>\n",
       "  <tbody>\n",
       "    <tr>\n",
       "      <th>SL</th>\n",
       "      <td>27</td>\n",
       "      <td>1</td>\n",
       "      <td>0</td>\n",
       "    </tr>\n",
       "    <tr>\n",
       "      <th>NO</th>\n",
       "      <td>0</td>\n",
       "      <td>15</td>\n",
       "      <td>3</td>\n",
       "    </tr>\n",
       "    <tr>\n",
       "      <th>DH</th>\n",
       "      <td>0</td>\n",
       "      <td>5</td>\n",
       "      <td>7</td>\n",
       "    </tr>\n",
       "  </tbody>\n",
       "</table>\n",
       "</div>"
      ],
      "text/plain": [
       "    SL  NO  DH\n",
       "SL  27   1   0\n",
       "NO   0  15   3\n",
       "DH   0   5   7"
      ]
     },
     "execution_count": 6,
     "metadata": {},
     "output_type": "execute_result"
    }
   ],
   "source": [
    "confusion_matrix_mean(knn_confusion_matrix_list)"
   ]
  },
  {
   "cell_type": "markdown",
   "metadata": {},
   "source": [
    "# Showing dmc informations computed"
   ]
  },
  {
   "cell_type": "code",
   "execution_count": 6,
   "metadata": {},
   "outputs": [
    {
     "name": "stdout",
     "output_type": "stream",
     "text": [
      "----------------- DMC model -----------------\n",
      "Hit rate:\n",
      "[0.7741935483870968, 0.8064516129032258, 0.7741935483870968, 0.7903225806451613, 0.6935483870967742, 0.8709677419354839, 0.8225806451612904, 0.8387096774193549, 0.7580645161290323, 0.8387096774193549, 0.8387096774193549, 0.8064516129032258, 0.7903225806451613, 0.7903225806451613, 0.8387096774193549, 0.7258064516129032, 0.8064516129032258, 0.7741935483870968, 0.7903225806451613, 0.8387096774193549]\n",
      "\n",
      "Accuracy:\n",
      "0.7983870967741935\n",
      "\n",
      "Standard Deviation:\n",
      "0.04127898029699913\n",
      "\n",
      "Confusion Matrix:\n",
      "    SL  NO  DH\n",
      "SL  21   2   1\n",
      "NO   1  18   7\n",
      "DH   0   3   9\n",
      "    NO  SL  DH\n",
      "NO  11   0   5\n",
      "SL   3  27   2\n",
      "DH   2   0  12\n",
      "    SL  DH  NO\n",
      "SL  25   2   6\n",
      "DH   0   6   3\n",
      "NO   1   2  17\n",
      "    SL  NO  DH\n",
      "SL  23   2   2\n",
      "NO   0  20   4\n",
      "DH   0   5   6\n",
      "    SL  NO  DH\n",
      "SL  21   3   1\n",
      "NO   1  12  10\n",
      "DH   0   4  10\n",
      "    DH  NO  SL\n",
      "DH   7   2   0\n",
      "NO   2  19   0\n",
      "SL   1   3  28\n",
      "    SL  DH  NO\n",
      "SL  30   2   2\n",
      "DH   0  11   3\n",
      "NO   0   4  10\n",
      "    SL  NO  DH\n",
      "SL  31   3   0\n",
      "NO   0  13   4\n",
      "DH   0   3   8\n",
      "    SL  DH  NO\n",
      "SL  23   4   6\n",
      "DH   0  11   4\n",
      "NO   0   1  13\n",
      "    SL  DH  NO\n",
      "SL  25   0   5\n",
      "DH   0  14   2\n",
      "NO   1   2  13\n",
      "    SL  NO  DH\n",
      "SL  26   4   0\n",
      "NO   1  21   1\n",
      "DH   0   4   5\n",
      "    SL  NO  DH\n",
      "SL  21   3   1\n",
      "NO   0  17   5\n",
      "DH   0   3  12\n",
      "    SL  NO  DH\n",
      "SL  28   4   1\n",
      "NO   2  12   3\n",
      "DH   0   3   9\n",
      "    NO  SL  DH\n",
      "NO   9   2   7\n",
      "SL   3  27   0\n",
      "DH   1   0  13\n",
      "    DH  NO  SL\n",
      "DH   9   0   0\n",
      "NO   6  15   0\n",
      "SL   1   3  28\n",
      "    SL  NO  DH\n",
      "SL  21   2   1\n",
      "NO   1  15  10\n",
      "DH   0   3   9\n",
      "    SL  DH  NO\n",
      "SL  25   1   1\n",
      "DH   0  12   3\n",
      "NO   0   7  13\n",
      "    DH  SL  NO\n",
      "DH   9   0   2\n",
      "SL   1  25   2\n",
      "NO   8   1  14\n",
      "    NO  DH  SL\n",
      "NO  19   2   0\n",
      "DH   5   7   0\n",
      "SL   4   2  23\n",
      "    SL  NO  DH\n",
      "SL  29   1   3\n",
      "NO   1  11   4\n",
      "DH   0   1  12\n"
     ]
    }
   ],
   "source": [
    "print('----------------- DMC model -----------------')\n",
    "print('Hit rate:')\n",
    "print(dmc_hit_rate_list, end='\\n\\n')\n",
    "\n",
    "print('Accuracy:')\n",
    "print(sum(dmc_hit_rate_list)/len(dmc_hit_rate_list), end='\\n\\n')\n",
    "\n",
    "print('Standard Deviation:')\n",
    "print(dmc_std_dev, end='\\n\\n')\n",
    "\n",
    "print('Confusion Matrix:')\n",
    "for matrix in dmc_confusion_matrix_list:\n",
    "    print(matrix, end='\\n')"
   ]
  },
  {
   "cell_type": "code",
   "execution_count": 30,
   "metadata": {},
   "outputs": [
    {
     "data": {
      "text/html": [
       "<div>\n",
       "<style scoped>\n",
       "    .dataframe tbody tr th:only-of-type {\n",
       "        vertical-align: middle;\n",
       "    }\n",
       "\n",
       "    .dataframe tbody tr th {\n",
       "        vertical-align: top;\n",
       "    }\n",
       "\n",
       "    .dataframe thead th {\n",
       "        text-align: right;\n",
       "    }\n",
       "</style>\n",
       "<table border=\"1\" class=\"dataframe\">\n",
       "  <thead>\n",
       "    <tr style=\"text-align: right;\">\n",
       "      <th></th>\n",
       "      <th>SL</th>\n",
       "      <th>NO</th>\n",
       "      <th>DH</th>\n",
       "    </tr>\n",
       "  </thead>\n",
       "  <tbody>\n",
       "    <tr>\n",
       "      <th>SL</th>\n",
       "      <td>24</td>\n",
       "      <td>2</td>\n",
       "      <td>2</td>\n",
       "    </tr>\n",
       "    <tr>\n",
       "      <th>NO</th>\n",
       "      <td>0</td>\n",
       "      <td>13</td>\n",
       "      <td>6</td>\n",
       "    </tr>\n",
       "    <tr>\n",
       "      <th>DH</th>\n",
       "      <td>0</td>\n",
       "      <td>2</td>\n",
       "      <td>10</td>\n",
       "    </tr>\n",
       "  </tbody>\n",
       "</table>\n",
       "</div>"
      ],
      "text/plain": [
       "    SL  NO  DH\n",
       "SL  24   2   2\n",
       "NO   0  13   6\n",
       "DH   0   2  10"
      ]
     },
     "execution_count": 30,
     "metadata": {},
     "output_type": "execute_result"
    }
   ],
   "source": [
    "confusion_matrix_mean(dmc_confusion_matrix_list)"
   ]
  },
  {
   "cell_type": "code",
   "execution_count": 54,
   "metadata": {},
   "outputs": [
    {
     "data": {
      "text/html": [
       "<div>\n",
       "<style scoped>\n",
       "    .dataframe tbody tr th:only-of-type {\n",
       "        vertical-align: middle;\n",
       "    }\n",
       "\n",
       "    .dataframe tbody tr th {\n",
       "        vertical-align: top;\n",
       "    }\n",
       "\n",
       "    .dataframe thead th {\n",
       "        text-align: right;\n",
       "    }\n",
       "</style>\n",
       "<table border=\"1\" class=\"dataframe\">\n",
       "  <thead>\n",
       "    <tr style=\"text-align: right;\">\n",
       "      <th></th>\n",
       "      <th>SL</th>\n",
       "      <th>DH</th>\n",
       "      <th>NO</th>\n",
       "    </tr>\n",
       "  </thead>\n",
       "  <tbody>\n",
       "    <tr>\n",
       "      <th>SL</th>\n",
       "      <td>24</td>\n",
       "      <td>2</td>\n",
       "      <td>2</td>\n",
       "    </tr>\n",
       "    <tr>\n",
       "      <th>DH</th>\n",
       "      <td>0</td>\n",
       "      <td>10</td>\n",
       "      <td>1</td>\n",
       "    </tr>\n",
       "    <tr>\n",
       "      <th>NO</th>\n",
       "      <td>0</td>\n",
       "      <td>9</td>\n",
       "      <td>14</td>\n",
       "    </tr>\n",
       "  </tbody>\n",
       "</table>\n",
       "</div>"
      ],
      "text/plain": [
       "    SL  DH  NO\n",
       "SL  24   2   2\n",
       "DH   0  10   1\n",
       "NO   0   9  14"
      ]
     },
     "execution_count": 54,
     "metadata": {},
     "output_type": "execute_result"
    }
   ],
   "source": [
    "dmc_confusion_matrix_list[1]"
   ]
  },
  {
   "cell_type": "markdown",
   "metadata": {},
   "source": [
    "# Choosing two columns from the last X_train and X_test to plot decision surface"
   ]
  },
  {
   "cell_type": "code",
   "execution_count": 7,
   "metadata": {},
   "outputs": [
    {
     "name": "stdout",
     "output_type": "stream",
     "text": [
      "Train dataset:\n",
      "         0      1\n",
      "107  78.43  33.43\n",
      "75   70.22  39.82\n",
      "291  51.08  14.21\n",
      "16   63.83  20.36\n",
      "114  80.99  36.84\n",
      "..     ...    ...\n",
      "192  74.47  33.28\n",
      "34   59.60  32.00\n",
      "122  80.07  48.07\n",
      "52   50.21  29.76\n",
      "231  53.91  12.94\n",
      "\n",
      "[248 rows x 2 columns]\n",
      "Test dataset:\n",
      "          0      1\n",
      "115  129.83   8.40\n",
      "143   60.63  20.60\n",
      "123   65.67  10.54\n",
      "135   77.12  30.35\n",
      "197   58.83  37.58\n",
      "..      ...    ...\n",
      "82    88.62  29.09\n",
      "175   56.56   8.96\n",
      "200   63.36  20.02\n",
      "118   65.54  24.16\n",
      "109   68.61  15.08\n",
      "\n",
      "[62 rows x 2 columns]\n"
     ]
    }
   ],
   "source": [
    "X_train_2d, X_test_2d = X_train[X_train.columns[:2]], X_test[X_train.columns[:2]]\n",
    "\n",
    "print('Train dataset:')\n",
    "print(X_train_2d)\n",
    "print('Test dataset:')\n",
    "print(X_test_2d)"
   ]
  },
  {
   "cell_type": "markdown",
   "metadata": {},
   "source": [
    "# Training the models with the new dataset 2d"
   ]
  },
  {
   "cell_type": "code",
   "execution_count": 8,
   "metadata": {},
   "outputs": [
    {
     "name": "stderr",
     "output_type": "stream",
     "text": [
      "w:\\Home\\ML\\knn\\knn.py:11: FutureWarning: The default dtype for empty Series will be 'object' instead of 'float64' in a future version. Specify a dtype explicitly to silence this warning.\n",
      "  self.__y = pd.Series([])\n"
     ]
    }
   ],
   "source": [
    "knn_model = knn(k=3, type_distance_calc='euclidean')\n",
    "knn_model.fit(X_train_2d, y_train)\n",
    "dmc_model = dmc(type_distance_calc='euclidean')\n",
    "dmc_model.fit(X_train_2d, y_train)"
   ]
  },
  {
   "cell_type": "markdown",
   "metadata": {},
   "source": [
    "# Plotting knn decision surface"
   ]
  },
  {
   "cell_type": "code",
   "execution_count": 19,
   "metadata": {},
   "outputs": [
    {
     "data": {
      "image/png": "[encoded data removed]",
      "text/plain": [
       "<Figure size 640x480 with 1 Axes>"
      ]
     },
     "metadata": {},
     "output_type": "display_data"
    }
   ],
   "source": [
    "data = X_test_2d[:][:].values\n",
    "\n",
    "x_min, x_max = data[:, 0].min() - 0.1, data[:,0].max() + 0.1\n",
    "y_min, y_max = data[:, 1].min() - 0.1, data[:, 1].max() + 0.1\n",
    "\n",
    "xx, yy = np.meshgrid(np.linspace(x_min,x_max, 100),\n",
    "np.linspace(y_min, y_max, 100))\n",
    "\n",
    "x_in = np.c_[xx.ravel(), yy.ravel()]\n",
    "\n",
    "y_pred = [[knn_model.predict(x) for x in x_in]]\n",
    "for i, y in enumerate(y_pred[0]):\n",
    "    if y == 'DH':\n",
    "        y_pred[0][i] = 1\n",
    "    elif y == 'SL':\n",
    "        y_pred[0][i] = 2\n",
    "    else:\n",
    "        y_pred[0][i] = 3\n",
    "\n",
    "y_pred = np.round(y_pred).reshape(xx.shape)\n",
    "\n",
    "plt.contourf(xx, yy, y_pred, cmap=plt.cm.RdYlBu, alpha=0.7 )\n",
    "\n",
    "plt.xlim(xx.min(), xx.max())\n",
    "plt.ylim(yy.min(), yy.max())\n",
    "\n",
    "knn_y_pred = np.array([knn_model.predict(x) for x in X_test_2d.values])\n",
    "\n",
    "dh = np.where(knn_y_pred == 'DH')\n",
    "sl = np.where(knn_y_pred == 'SL')\n",
    "no = np.where(knn_y_pred == 'NO')\n",
    "\n",
    "plt.scatter(data[dh, 0], data[dh, 1],\n",
    "            color='red', marker='o', label='dh')\n",
    "plt.scatter(data[sl, 0], data[sl, 1],\n",
    "            color='yellow', marker='X', label='sl')\n",
    "plt.scatter(data[no, 0], data[no, 1],\n",
    "            color='blue', marker='P', label='no')\n",
    "\n",
    "plt.show()"
   ]
  },
  {
   "cell_type": "markdown",
   "metadata": {},
   "source": [
    "# Plotting dmc decision surface"
   ]
  },
  {
   "cell_type": "code",
   "execution_count": 17,
   "metadata": {},
   "outputs": [
    {
     "data": {
      "image/png": "[encoded data removed]",
      "text/plain": [
       "<Figure size 640x480 with 1 Axes>"
      ]
     },
     "metadata": {},
     "output_type": "display_data"
    }
   ],
   "source": [
    "data = X_test_2d[:][:].values\n",
    "\n",
    "x_min, x_max = data[:, 0].min() - 0.1, data[:,0].max() + 0.1\n",
    "y_min, y_max = data[:, 1].min() - 0.1, data[:, 1].max() + 0.1\n",
    "\n",
    "xx, yy = np.meshgrid(np.linspace(x_min,x_max, 100),\n",
    "np.linspace(y_min, y_max, 100))\n",
    "\n",
    "x_in = np.c_[xx.ravel(), yy.ravel()]\n",
    "\n",
    "y_pred = [[dmc_model.predict(x) for x in x_in]]\n",
    "for i, y in enumerate(y_pred[0]):\n",
    "    if y == 'DH':\n",
    "        y_pred[0][i] = 1\n",
    "    elif y == 'SL':\n",
    "        y_pred[0][i] = 2\n",
    "    else:\n",
    "        y_pred[0][i] = 3\n",
    "\n",
    "y_pred = np.round(y_pred).reshape(xx.shape)\n",
    "\n",
    "plt.contourf(xx, yy, y_pred, cmap=plt.cm.RdYlBu, alpha=0.7 )\n",
    "\n",
    "plt.xlim(xx.min(), xx.max())\n",
    "plt.ylim(yy.min(), yy.max())\n",
    "\n",
    "dmc_y_pred = np.array([dmc_model.predict(x) for x in X_test_2d.values])\n",
    "\n",
    "dh = np.where(dmc_y_pred == 'DH')\n",
    "sl = np.where(dmc_y_pred == 'SL')\n",
    "no = np.where(dmc_y_pred == 'NO')\n",
    "\n",
    "plt.scatter(data[dh, 0], data[dh, 1],\n",
    "            color='red', marker='o', label='dh')\n",
    "plt.scatter(data[sl, 0], data[sl, 1],\n",
    "            color='yellow', marker='X', label='sl')\n",
    "plt.scatter(data[no, 0], data[no, 1],\n",
    "            color='blue', marker='P', label='no')\n",
    "\n",
    "plt.show()"
   ]
  }
 ],
 "metadata": {
  "kernelspec": {
   "display_name": "Python 3.10.4 ('.venv': venv)",
   "language": "python",
   "name": "python3"
  },
  "language_info": {
   "codemirror_mode": {
    "name": "ipython",
    "version": 3
   },
   "file_extension": ".py",
   "mimetype": "text/x-python",
   "name": "python",
   "nbconvert_exporter": "python",
   "pygments_lexer": "ipython3",
   "version": "3.10.4"
  },
  "orig_nbformat": 4,
  "vscode": {
   "interpreter": {
    "hash": "33434f0cc8e6f3723834300de8718debdc0c9ba9cd4c4faf0515f4c47995aa8c"
   }
  }
 },
 "nbformat": 4,
 "nbformat_minor": 2
}
