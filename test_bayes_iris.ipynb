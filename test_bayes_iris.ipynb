{
 "cells": [
  {
   "cell_type": "markdown",
   "metadata": {},
   "source": [
    "# Import libs"
   ]
  },
  {
   "cell_type": "code",
   "execution_count": 1,
   "metadata": {},
   "outputs": [],
   "source": [
    "import pandas as pd\n",
    "import numpy as np\n",
    "from bayes_classifier.bayes_classifier import bayes_classifier\n",
    "from sklearn.model_selection import train_test_split\n",
    "from sklearn.metrics import confusion_matrix\n",
    "from matplotlib import pyplot as plt"
   ]
  },
  {
   "cell_type": "markdown",
   "metadata": {},
   "source": [
    "# Loading Iris dataset"
   ]
  },
  {
   "cell_type": "code",
   "execution_count": 2,
   "metadata": {},
   "outputs": [],
   "source": [
    "# Xy = pd.read_csv('./datasets/iris.csv')\n",
    "# X = Xy.drop(['class'], axis=1)\n",
    "# y = Xy['class']\n",
    "\n",
    "# Xy = pd.read_csv('./datasets/vertebral_column_3C.dat', header=None, sep=' ', engine='python')\n",
    "# X = Xy.drop(Xy.columns[-1:], axis=1)\n",
    "# y = Xy[Xy.columns[-1]]\n",
    "\n",
    "# Xy = pd.read_csv('./datasets/breast_cancer.csv')\n",
    "# X = Xy.drop(['diagnosis'], axis=1)\n",
    "# y = Xy['diagnosis']\n",
    "\n",
    "Xy = pd.read_csv('./datasets/dermatology.csv')\n",
    "X = Xy.drop(['class'], axis=1)\n",
    "y = Xy['class']\n",
    "\n",
    "# Xy = pd.read_csv('./datasets/artificial_II.dat', header=None, sep=' ', engine='python')\n",
    "# X = Xy.drop(Xy.columns[-1:], axis=1)\n",
    "# y = Xy[Xy.columns[-1]]"
   ]
  },
  {
   "cell_type": "markdown",
   "metadata": {},
   "source": [
    "# Running the tests and computing informations"
   ]
  },
  {
   "cell_type": "code",
   "execution_count": 3,
   "metadata": {},
   "outputs": [],
   "source": [
    "realizations = 20\n",
    "hit_rate_list = []\n",
    "std_dev = 0\n",
    "confusion_matrix_list = []\n",
    "\n",
    "for r in range(realizations):\n",
    "    X_train, X_test, y_train, y_test = train_test_split(X, y, test_size = 0.2)\n",
    "\n",
    "    bc_model = bayes_classifier()\n",
    "    bc_model.fit(X_train, y_train)\n",
    "\n",
    "    hit_rate_list.append(bc_model.score(X_test, y_test))\n",
    "\n",
    "    y_pred = [bc_model.predict(x) for x in X_test.values]\n",
    "\n",
    "    confusion_matrix_list.append(confusion_matrix(y_test, y_pred))\n",
    "\n",
    "std_dev = np.std(hit_rate_list)"
   ]
  },
  {
   "cell_type": "markdown",
   "metadata": {},
   "source": [
    "# Showing informations computed"
   ]
  },
  {
   "cell_type": "code",
   "execution_count": 4,
   "metadata": {},
   "outputs": [
    {
     "name": "stdout",
     "output_type": "stream",
     "text": [
      "Hit rate:\n",
      "[0.9459459459459459, 0.8783783783783784, 0.8648648648648649, 0.9054054054054054, 0.8783783783783784, 0.8918918918918919, 0.9459459459459459, 0.8783783783783784, 0.9324324324324325, 0.9054054054054054, 0.918918918918919, 0.9594594594594594, 0.8918918918918919, 0.9054054054054054, 0.9324324324324325, 0.8648648648648649, 0.8918918918918919, 0.9459459459459459, 0.9054054054054054, 0.9594594594594594]\n",
      "\n",
      "Accuracy:\n",
      "0.9101351351351351\n",
      "\n",
      "Standard Deviation:\n",
      "0.02999726064922041\n",
      "\n",
      "Confusion Matrix:\n",
      "[[17  0  0  0  0  0]\n",
      " [ 0 13  1  0  0  0]\n",
      " [ 0  0 14  0  0  3]\n",
      " [ 0  0  0  8  0  0]\n",
      " [ 0  0  0  0 10  0]\n",
      " [ 0  0  0  0  0  8]]\n",
      "[[26  0  0  2  0  0]\n",
      " [ 0  4  0  0  0  0]\n",
      " [ 0  0 18  0  0  0]\n",
      " [ 0  0  0 11  0  0]\n",
      " [ 0  0  0  4  6  0]\n",
      " [ 0  0  0  3  0  0]]\n",
      "[[24  0  0  0  0  0]\n",
      " [ 0  6  0  2  0  0]\n",
      " [ 0  0 15  1  0  0]\n",
      " [ 0  2  0 10  0  0]\n",
      " [ 0  0  0  0  9  0]\n",
      " [ 0  1  0  4  0  0]]\n",
      "[[20  0  0  0  0  0]\n",
      " [ 1  9  0  2  0  0]\n",
      " [ 0  0 13  0  0  0]\n",
      " [ 0  0  0 11  0  0]\n",
      " [ 0  0  0  0 10  2]\n",
      " [ 0  2  0  0  0  4]]\n",
      "[[19  0  0  0  0  0]\n",
      " [ 0  8  0  0  0  0]\n",
      " [ 0  0 15  1  0  0]\n",
      " [ 0  0  0 13  0  0]\n",
      " [ 0  0  0  1 10  0]\n",
      " [ 0  0  0  7  0  0]]\n",
      "[[22  0  0  0  0  1]\n",
      " [ 1 12  0  1  0  1]\n",
      " [ 0  0 10  0  0  1]\n",
      " [ 0  0  0  9  0  0]\n",
      " [ 0  0  0  0 10  3]\n",
      " [ 0  0  0  0  0  3]]\n",
      "[[21  0  0  0  0  0]\n",
      " [ 0 14  0  1  0  1]\n",
      " [ 0  0 13  0  0  1]\n",
      " [ 0  0  0  6  0  0]\n",
      " [ 0  0  0  0 12  1]\n",
      " [ 0  0  0  0  0  4]]\n",
      "[[20  0  0  0  0  0]\n",
      " [ 0 13  0  2  0  0]\n",
      " [ 0  0 13  4  0  0]\n",
      " [ 0  0  0 10  1  0]\n",
      " [ 0  0  0  0  9  0]\n",
      " [ 0  0  0  2  0  0]]\n",
      "[[16  0  0  0  0  0]\n",
      " [ 0 10  0  1  0  1]\n",
      " [ 0  0 15  0  0  1]\n",
      " [ 0  2  0 12  0  0]\n",
      " [ 0  0  0  0 14  0]\n",
      " [ 0  0  0  0  0  2]]\n",
      "[[22  0  0  0  0  0]\n",
      " [ 0  9  0  1  0  0]\n",
      " [ 0  0 12  0  0  2]\n",
      " [ 0  1  0 14  0  1]\n",
      " [ 0  0  0  0  5  2]\n",
      " [ 0  0  0  0  0  5]]\n",
      "[[30  0  0  0  0  1]\n",
      " [ 0 12  1  2  0  1]\n",
      " [ 0  0  9  0  0  0]\n",
      " [ 0  1  0  6  0  0]\n",
      " [ 0  0  0  0  6  0]\n",
      " [ 0  0  0  0  0  5]]\n",
      "[[23  0  0  0  0  0]\n",
      " [ 0 12  0  2  0  1]\n",
      " [ 0  0 16  0  0  0]\n",
      " [ 0  0  0  5  0  0]\n",
      " [ 0  0  0  0 12  0]\n",
      " [ 0  0  0  0  0  3]]\n",
      "[[20  0  0  0  0  1]\n",
      " [ 1 11  0  1  0  0]\n",
      " [ 0  0 16  0  0  3]\n",
      " [ 0  0  0  9  0  0]\n",
      " [ 0  0  0  0  6  1]\n",
      " [ 0  1  0  0  0  4]]\n",
      "[[27  0  0  0  0  0]\n",
      " [ 0 11  0  0  0  0]\n",
      " [ 0  0 12  0  0  2]\n",
      " [ 0  1  0  8  0  0]\n",
      " [ 0  0  0  0  5  4]\n",
      " [ 0  0  0  0  0  4]]\n",
      "[[24  0  0  0  0  0]\n",
      " [ 0 13  1  0  0  1]\n",
      " [ 0  0  8  0  0  1]\n",
      " [ 0  0  0  7  0  1]\n",
      " [ 0  0  0  0 12  1]\n",
      " [ 0  0  0  0  0  5]]\n",
      "[[15  0  0  0  0  0]\n",
      " [ 2 14  0  2  1  0]\n",
      " [ 0  0  9  0  0  0]\n",
      " [ 1  1  0  7  0  0]\n",
      " [ 1  0  0  0 19  0]\n",
      " [ 2  0  0  0  0  0]]\n",
      "[[21  0  0  0  0  0]\n",
      " [ 0 16  1  1  0  0]\n",
      " [ 0  0  7  0  0  2]\n",
      " [ 0  2  0  9  1  0]\n",
      " [ 0  0  0  0 10  1]\n",
      " [ 0  0  0  0  0  3]]\n",
      "[[15  0  0  0  0  0]\n",
      " [ 0 13  1  1  0  0]\n",
      " [ 0  0 18  0  0  0]\n",
      " [ 0  0  0 12  0  0]\n",
      " [ 0  0  0  0 11  2]\n",
      " [ 0  0  0  0  0  1]]\n",
      "[[16  0  0  0  0  0]\n",
      " [ 0 13  1  2  1  1]\n",
      " [ 0  0  9  0  0  1]\n",
      " [ 0  1  0 13  0  0]\n",
      " [ 0  0  0  0 10  0]\n",
      " [ 0  0  0  0  0  6]]\n",
      "[[20  0  0  0  0  0]\n",
      " [ 0 10  0  3  0  0]\n",
      " [ 0  0 14  0  0  0]\n",
      " [ 0  0  0 11  0  0]\n",
      " [ 0  0  0  0 10  0]\n",
      " [ 0  0  0  0  0  6]]\n"
     ]
    }
   ],
   "source": [
    "print('Hit rate:')\n",
    "print(hit_rate_list, end='\\n\\n')\n",
    "\n",
    "print('Accuracy:')\n",
    "print(sum(hit_rate_list)/len(hit_rate_list), end='\\n\\n')\n",
    "\n",
    "print('Standard Deviation:')\n",
    "print(std_dev, end='\\n\\n')\n",
    "\n",
    "print('Confusion Matrix:')\n",
    "for matrix in confusion_matrix_list:\n",
    "    print(matrix, end='\\n')"
   ]
  },
  {
   "cell_type": "markdown",
   "metadata": {},
   "source": [
    "# Choosing two columns from the last X_train and X_test to plot decision surface"
   ]
  },
  {
   "cell_type": "code",
   "execution_count": 9,
   "metadata": {},
   "outputs": [
    {
     "name": "stdout",
     "output_type": "stream",
     "text": [
      "Train dataset:\n",
      "     sepal-length  sepal-width\n",
      "34            4.9          3.1\n",
      "128           6.4          2.8\n",
      "73            6.1          2.8\n",
      "40            5.0          3.5\n",
      "28            5.2          3.4\n",
      "..            ...          ...\n",
      "52            6.9          3.1\n",
      "96            5.7          2.9\n",
      "139           6.9          3.1\n",
      "25            5.0          3.0\n",
      "94            5.6          2.7\n",
      "\n",
      "[120 rows x 2 columns]\n",
      "Test dataset:\n",
      "     sepal-length  sepal-width\n",
      "138           6.0          3.0\n",
      "2             4.7          3.2\n",
      "51            6.4          3.2\n",
      "65            6.7          3.1\n",
      "58            6.6          2.9\n",
      "93            5.0          2.3\n",
      "43            5.0          3.5\n",
      "27            5.2          3.5\n",
      "112           6.8          3.0\n",
      "117           7.7          3.8\n",
      "79            5.7          2.6\n",
      "119           6.0          2.2\n",
      "77            6.7          3.0\n",
      "10            5.4          3.7\n",
      "134           6.1          2.6\n",
      "14            5.8          4.0\n",
      "22            4.6          3.6\n",
      "80            5.5          2.4\n",
      "135           7.7          3.0\n",
      "141           6.9          3.1\n",
      "33            5.5          4.2\n",
      "75            6.6          3.0\n",
      "106           4.9          2.5\n",
      "95            5.7          3.0\n",
      "49            5.0          3.3\n",
      "55            5.7          2.8\n",
      "127           6.1          3.0\n",
      "37            4.9          3.1\n",
      "124           6.7          3.3\n",
      "11            4.8          3.4\n"
     ]
    }
   ],
   "source": [
    "X_train_2d, X_test_2d = X_train[['sepal-length', 'sepal-width']], X_test[['sepal-length', 'sepal-width']]\n",
    "\n",
    "print('Train dataset:')\n",
    "print(X_train_2d)\n",
    "print('Test dataset:')\n",
    "print(X_test_2d)"
   ]
  },
  {
   "cell_type": "markdown",
   "metadata": {},
   "source": [
    "# Training the model with the new dataset 2d"
   ]
  },
  {
   "cell_type": "code",
   "execution_count": 10,
   "metadata": {},
   "outputs": [],
   "source": [
    "bc_model = bayes_classifier()\n",
    "bc_model.fit(X_train_2d, y_train)"
   ]
  },
  {
   "cell_type": "markdown",
   "metadata": {},
   "source": [
    "# Plotting decision surface"
   ]
  },
  {
   "cell_type": "code",
   "execution_count": 11,
   "metadata": {},
   "outputs": [
    {
     "data": {
      "image/png": "[encoded data removed]",
      "text/plain": [
       "<Figure size 640x480 with 1 Axes>"
      ]
     },
     "metadata": {},
     "output_type": "display_data"
    }
   ],
   "source": [
    "data = X_test_2d[:][:].values\n",
    "\n",
    "y_pred = np.array([bc_model.predict(x) for x in X_test_2d.values])\n",
    "\n",
    "setosa = np.where(y_pred == 'Iris-setosa')\n",
    "virginica = np.where(y_pred == 'Iris-virginica')\n",
    "versicolor = np.where(y_pred == 'Iris-versicolor')\n",
    "\n",
    "plt.scatter(data[setosa, 0], data[setosa, 1],\n",
    "            color='red', marker='o', label='setosa')\n",
    "plt.scatter(data[virginica, 0], data[virginica, 1],\n",
    "            color='blue', marker='X', label='virginica')\n",
    "plt.scatter(data[versicolor, 0], data[versicolor, 1],\n",
    "            color='green', marker='P', label='versicolor')\n",
    "\n",
    "plt.show()"
   ]
  }
 ],
 "metadata": {
  "kernelspec": {
   "display_name": "Python 3.10.4 ('.venv': venv)",
   "language": "python",
   "name": "python3"
  },
  "language_info": {
   "codemirror_mode": {
    "name": "ipython",
    "version": 3
   },
   "file_extension": ".py",
   "mimetype": "text/x-python",
   "name": "python",
   "nbconvert_exporter": "python",
   "pygments_lexer": "ipython3",
   "version": "3.10.4"
  },
  "orig_nbformat": 4,
  "vscode": {
   "interpreter": {
    "hash": "33434f0cc8e6f3723834300de8718debdc0c9ba9cd4c4faf0515f4c47995aa8c"
   }
  }
 },
 "nbformat": 4,
 "nbformat_minor": 2
}
