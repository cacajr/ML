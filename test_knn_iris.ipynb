{
 "cells": [
  {
   "cell_type": "markdown",
   "metadata": {},
   "source": [
    "# Import libs"
   ]
  },
  {
   "cell_type": "code",
   "execution_count": 49,
   "metadata": {},
   "outputs": [],
   "source": [
    "import pandas as pd\n",
    "import numpy as np\n",
    "from knn.knn import knn\n",
    "from sklearn.model_selection import train_test_split\n",
    "from sklearn.metrics import confusion_matrix\n",
    "from matplotlib import pyplot as plt"
   ]
  },
  {
   "cell_type": "markdown",
   "metadata": {},
   "source": [
    "# Loading Iris dataset"
   ]
  },
  {
   "cell_type": "code",
   "execution_count": 50,
   "metadata": {},
   "outputs": [],
   "source": [
    "Xy = pd.read_csv('./datasets/iris.csv')\n",
    "X = Xy.drop(['class'], axis=1)\n",
    "y = Xy['class']"
   ]
  },
  {
   "cell_type": "markdown",
   "metadata": {},
   "source": [
    "# Instantiating model"
   ]
  },
  {
   "cell_type": "code",
   "execution_count": 51,
   "metadata": {},
   "outputs": [
    {
     "name": "stderr",
     "output_type": "stream",
     "text": [
      "w:\\Home\\ML\\knn\\knn.py:11: FutureWarning: The default dtype for empty Series will be 'object' instead of 'float64' in a future version. Specify a dtype explicitly to silence this warning.\n",
      "  self.__y = pd.Series([])\n"
     ]
    }
   ],
   "source": [
    "knn_model = knn(k=3, type_distance_calc='euclidean')"
   ]
  },
  {
   "cell_type": "markdown",
   "metadata": {},
   "source": [
    "# Running the tests and computing informations"
   ]
  },
  {
   "cell_type": "code",
   "execution_count": 52,
   "metadata": {},
   "outputs": [],
   "source": [
    "realizations = 20\n",
    "hit_rate_list = []\n",
    "std_dev = 0\n",
    "confusion_matrix_list = []\n",
    "\n",
    "for r in range(realizations):\n",
    "    X_train, X_test, y_train, y_test = train_test_split(X, y, test_size = 0.2)\n",
    "\n",
    "    knn_model.fit(X_train, y_train)\n",
    "\n",
    "    hit_rate_list.append(knn_model.score(X_test, y_test))\n",
    "\n",
    "    y_pred = [knn_model.predict(x) for x in X_test.values]\n",
    "\n",
    "    confusion_matrix_list.append(confusion_matrix(y_test, y_pred))\n",
    "\n",
    "std_dev = np.std(hit_rate_list)"
   ]
  },
  {
   "cell_type": "markdown",
   "metadata": {},
   "source": [
    "# Showing informations computed"
   ]
  },
  {
   "cell_type": "code",
   "execution_count": 53,
   "metadata": {},
   "outputs": [
    {
     "name": "stdout",
     "output_type": "stream",
     "text": [
      "Hit rate:\n",
      "[0.9, 1.0, 1.0, 0.9333333333333333, 0.9666666666666667, 1.0, 1.0, 0.9666666666666667, 0.9666666666666667, 0.8666666666666667, 0.9666666666666667, 0.9333333333333333, 1.0, 0.9333333333333333, 0.9333333333333333, 0.9666666666666667, 1.0, 0.9333333333333333, 1.0, 0.9666666666666667]\n",
      "\n",
      "Accuracy:\n",
      "0.9616666666666667\n",
      "\n",
      "Standard Deviation:\n",
      "0.03693086634360056\n",
      "\n",
      "Confusion Matrix:\n",
      "[[ 7  0  0]\n",
      " [ 0  8  1]\n",
      " [ 0  2 12]]\n",
      "[[ 8  0  0]\n",
      " [ 0 11  0]\n",
      " [ 0  0 11]]\n",
      "[[13  0  0]\n",
      " [ 0  6  0]\n",
      " [ 0  0 11]]\n",
      "[[10  0  0]\n",
      " [ 0  7  0]\n",
      " [ 0  2 11]]\n",
      "[[11  0  0]\n",
      " [ 0 10  0]\n",
      " [ 0  1  8]]\n",
      "[[12  0  0]\n",
      " [ 0 11  0]\n",
      " [ 0  0  7]]\n",
      "[[14  0  0]\n",
      " [ 0  6  0]\n",
      " [ 0  0 10]]\n",
      "[[ 8  0  0]\n",
      " [ 0  8  0]\n",
      " [ 0  1 13]]\n",
      "[[11  0  0]\n",
      " [ 0  8  1]\n",
      " [ 0  0 10]]\n",
      "[[9 0 0]\n",
      " [0 8 2]\n",
      " [0 2 9]]\n",
      "[[10  0  0]\n",
      " [ 0  8  0]\n",
      " [ 0  1 11]]\n",
      "[[12  0  0]\n",
      " [ 0  6  0]\n",
      " [ 0  2 10]]\n",
      "[[11  0  0]\n",
      " [ 0  5  0]\n",
      " [ 0  0 14]]\n",
      "[[11  0  0]\n",
      " [ 0  4  0]\n",
      " [ 0  2 13]]\n",
      "[[11  0  0]\n",
      " [ 0 11  0]\n",
      " [ 0  2  6]]\n",
      "[[10  0  0]\n",
      " [ 0 10  1]\n",
      " [ 0  0  9]]\n",
      "[[ 7  0  0]\n",
      " [ 0 13  0]\n",
      " [ 0  0 10]]\n",
      "[[10  0  0]\n",
      " [ 0 12  1]\n",
      " [ 0  1  6]]\n",
      "[[14  0  0]\n",
      " [ 0  9  0]\n",
      " [ 0  0  7]]\n",
      "[[ 7  0  0]\n",
      " [ 0 14  0]\n",
      " [ 0  1  8]]\n"
     ]
    }
   ],
   "source": [
    "print('Hit rate:')\n",
    "print(hit_rate_list, end='\\n\\n')\n",
    "\n",
    "print('Accuracy:')\n",
    "print(sum(hit_rate_list)/len(hit_rate_list), end='\\n\\n')\n",
    "\n",
    "print('Standard Deviation:')\n",
    "print(std_dev, end='\\n\\n')\n",
    "\n",
    "print('Confusion Matrix:')\n",
    "for matrix in confusion_matrix_list:\n",
    "    print(matrix, end='\\n')"
   ]
  },
  {
   "cell_type": "markdown",
   "metadata": {},
   "source": [
    "# Choosing two columns from the last X_train and X_test to plot decision surface"
   ]
  },
  {
   "cell_type": "code",
   "execution_count": 54,
   "metadata": {},
   "outputs": [
    {
     "name": "stdout",
     "output_type": "stream",
     "text": [
      "Train dataset:\n",
      "     sepal-length  sepal-width\n",
      "86            6.7          3.1\n",
      "65            6.7          3.1\n",
      "5             5.4          3.9\n",
      "63            6.1          2.9\n",
      "54            6.5          2.8\n",
      "..            ...          ...\n",
      "7             5.0          3.4\n",
      "107           7.3          2.9\n",
      "135           7.7          3.0\n",
      "106           4.9          2.5\n",
      "6             4.6          3.4\n",
      "\n",
      "[120 rows x 2 columns]\n",
      "Test dataset:\n",
      "     sepal-length  sepal-width\n",
      "131           7.9          3.8\n",
      "80            5.5          2.4\n",
      "130           7.4          2.8\n",
      "126           6.2          2.8\n",
      "2             4.7          3.2\n",
      "61            5.9          3.0\n",
      "34            4.9          3.1\n",
      "33            5.5          4.2\n",
      "62            6.0          2.2\n",
      "94            5.6          2.7\n",
      "71            6.1          2.8\n",
      "73            6.1          2.8\n",
      "55            5.7          2.8\n",
      "56            6.3          3.3\n",
      "119           6.0          2.2\n",
      "134           6.1          2.6\n",
      "88            5.6          3.0\n",
      "121           5.6          2.8\n",
      "16            5.4          3.9\n",
      "142           5.8          2.7\n",
      "95            5.7          3.0\n",
      "51            6.4          3.2\n",
      "11            4.8          3.4\n",
      "93            5.0          2.3\n",
      "99            5.7          2.8\n",
      "102           7.1          3.0\n",
      "57            4.9          2.4\n",
      "36            5.5          3.5\n",
      "28            5.2          3.4\n",
      "146           6.3          2.5\n"
     ]
    }
   ],
   "source": [
    "X_train_2d, X_test_2d = X_train[['sepal-length', 'sepal-width']], X_test[['sepal-length', 'sepal-width']]\n",
    "\n",
    "print('Train dataset:')\n",
    "print(X_train_2d)\n",
    "print('Test dataset:')\n",
    "print(X_test_2d)"
   ]
  },
  {
   "cell_type": "markdown",
   "metadata": {},
   "source": [
    "# Training the model with the new dataset 2d"
   ]
  },
  {
   "cell_type": "code",
   "execution_count": 55,
   "metadata": {},
   "outputs": [
    {
     "name": "stderr",
     "output_type": "stream",
     "text": [
      "w:\\Home\\ML\\knn\\knn.py:11: FutureWarning: The default dtype for empty Series will be 'object' instead of 'float64' in a future version. Specify a dtype explicitly to silence this warning.\n",
      "  self.__y = pd.Series([])\n"
     ]
    }
   ],
   "source": [
    "knn_model = knn(k=3, type_distance_calc='euclidean')\n",
    "knn_model.fit(X_train_2d, y_train)"
   ]
  },
  {
   "cell_type": "markdown",
   "metadata": {},
   "source": [
    "# Plotting decision surface"
   ]
  },
  {
   "cell_type": "code",
   "execution_count": 84,
   "metadata": {},
   "outputs": [
    {
     "data": {
      "image/png": "[encoded data removed]",
      "text/plain": [
       "<Figure size 640x480 with 1 Axes>"
      ]
     },
     "metadata": {},
     "output_type": "display_data"
    }
   ],
   "source": [
    "data = X_test_2d[:][:].values\n",
    "\n",
    "y_pred = np.array([knn_model.predict(x) for x in X_test_2d.values])\n",
    "\n",
    "setosa = np.where(y_pred == 'Iris-setosa')\n",
    "virginica = np.where(y_pred == 'Iris-virginica')\n",
    "versicolor = np.where(y_pred == 'Iris-versicolor')\n",
    "\n",
    "plt.scatter(data[setosa, 0], data[setosa, 1],\n",
    "            color='red', marker='o', label='setosa')\n",
    "plt.scatter(data[versicolor, 0], data[versicolor, 1],\n",
    "            color='blue', marker='X', label='versicolor')\n",
    "plt.scatter(data[virginica, 0], data[virginica, 1],\n",
    "            color='green', marker='P', label='virginica')\n",
    "\n",
    "plt.show()"
   ]
  }
 ],
 "metadata": {
  "kernelspec": {
   "display_name": "Python 3.10.4 ('.venv': venv)",
   "language": "python",
   "name": "python3"
  },
  "language_info": {
   "codemirror_mode": {
    "name": "ipython",
    "version": 3
   },
   "file_extension": ".py",
   "mimetype": "text/x-python",
   "name": "python",
   "nbconvert_exporter": "python",
   "pygments_lexer": "ipython3",
   "version": "3.10.4"
  },
  "orig_nbformat": 4,
  "vscode": {
   "interpreter": {
    "hash": "33434f0cc8e6f3723834300de8718debdc0c9ba9cd4c4faf0515f4c47995aa8c"
   }
  }
 },
 "nbformat": 4,
 "nbformat_minor": 2
}
