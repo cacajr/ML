{
 "cells": [
  {
   "cell_type": "markdown",
   "metadata": {},
   "source": [
    "# Import libs"
   ]
  },
  {
   "cell_type": "code",
   "execution_count": 1,
   "metadata": {},
   "outputs": [],
   "source": [
    "import pandas as pd\n",
    "import numpy as np\n",
    "from knn.knn import knn\n",
    "from dmc.dmc import dmc\n",
    "from naive_bayes_classifier.naive_bayes_classifier import naive_bayes_classifier\n",
    "from sklearn.model_selection import train_test_split\n",
    "# from sklearn.metrics import confusion_matrix\n",
    "from utils.functions import confusion_matrix, confusion_matrix_mean\n",
    "from matplotlib import pyplot as plt"
   ]
  },
  {
   "cell_type": "markdown",
   "metadata": {},
   "source": [
    "# Loading Vertebral Column 3C dataset"
   ]
  },
  {
   "cell_type": "code",
   "execution_count": 2,
   "metadata": {},
   "outputs": [],
   "source": [
    "Xy = pd.read_csv('./datasets/vertebral_column_3C.dat', header=None, sep=' ', engine='python')\n",
    "\n",
    "X = Xy.drop(Xy.columns[-1:], axis=1)\n",
    "y = Xy[Xy.columns[-1]]"
   ]
  },
  {
   "cell_type": "markdown",
   "metadata": {},
   "source": [
    "# Running the tests and computing informations"
   ]
  },
  {
   "cell_type": "code",
   "execution_count": 3,
   "metadata": {},
   "outputs": [
    {
     "name": "stderr",
     "output_type": "stream",
     "text": [
      "w:\\Home\\ML\\knn\\knn.py:11: FutureWarning: The default dtype for empty Series will be 'object' instead of 'float64' in a future version. Specify a dtype explicitly to silence this warning.\n",
      "  self.__y = pd.Series([])\n",
      "w:\\Home\\ML\\knn\\knn.py:11: FutureWarning: The default dtype for empty Series will be 'object' instead of 'float64' in a future version. Specify a dtype explicitly to silence this warning.\n",
      "  self.__y = pd.Series([])\n",
      "w:\\Home\\ML\\knn\\knn.py:11: FutureWarning: The default dtype for empty Series will be 'object' instead of 'float64' in a future version. Specify a dtype explicitly to silence this warning.\n",
      "  self.__y = pd.Series([])\n",
      "w:\\Home\\ML\\knn\\knn.py:11: FutureWarning: The default dtype for empty Series will be 'object' instead of 'float64' in a future version. Specify a dtype explicitly to silence this warning.\n",
      "  self.__y = pd.Series([])\n",
      "w:\\Home\\ML\\knn\\knn.py:11: FutureWarning: The default dtype for empty Series will be 'object' instead of 'float64' in a future version. Specify a dtype explicitly to silence this warning.\n",
      "  self.__y = pd.Series([])\n",
      "w:\\Home\\ML\\knn\\knn.py:11: FutureWarning: The default dtype for empty Series will be 'object' instead of 'float64' in a future version. Specify a dtype explicitly to silence this warning.\n",
      "  self.__y = pd.Series([])\n",
      "w:\\Home\\ML\\knn\\knn.py:11: FutureWarning: The default dtype for empty Series will be 'object' instead of 'float64' in a future version. Specify a dtype explicitly to silence this warning.\n",
      "  self.__y = pd.Series([])\n",
      "w:\\Home\\ML\\knn\\knn.py:11: FutureWarning: The default dtype for empty Series will be 'object' instead of 'float64' in a future version. Specify a dtype explicitly to silence this warning.\n",
      "  self.__y = pd.Series([])\n",
      "w:\\Home\\ML\\knn\\knn.py:11: FutureWarning: The default dtype for empty Series will be 'object' instead of 'float64' in a future version. Specify a dtype explicitly to silence this warning.\n",
      "  self.__y = pd.Series([])\n",
      "w:\\Home\\ML\\knn\\knn.py:11: FutureWarning: The default dtype for empty Series will be 'object' instead of 'float64' in a future version. Specify a dtype explicitly to silence this warning.\n",
      "  self.__y = pd.Series([])\n",
      "w:\\Home\\ML\\knn\\knn.py:11: FutureWarning: The default dtype for empty Series will be 'object' instead of 'float64' in a future version. Specify a dtype explicitly to silence this warning.\n",
      "  self.__y = pd.Series([])\n",
      "w:\\Home\\ML\\knn\\knn.py:11: FutureWarning: The default dtype for empty Series will be 'object' instead of 'float64' in a future version. Specify a dtype explicitly to silence this warning.\n",
      "  self.__y = pd.Series([])\n",
      "w:\\Home\\ML\\knn\\knn.py:11: FutureWarning: The default dtype for empty Series will be 'object' instead of 'float64' in a future version. Specify a dtype explicitly to silence this warning.\n",
      "  self.__y = pd.Series([])\n",
      "w:\\Home\\ML\\knn\\knn.py:11: FutureWarning: The default dtype for empty Series will be 'object' instead of 'float64' in a future version. Specify a dtype explicitly to silence this warning.\n",
      "  self.__y = pd.Series([])\n",
      "w:\\Home\\ML\\knn\\knn.py:11: FutureWarning: The default dtype for empty Series will be 'object' instead of 'float64' in a future version. Specify a dtype explicitly to silence this warning.\n",
      "  self.__y = pd.Series([])\n",
      "w:\\Home\\ML\\knn\\knn.py:11: FutureWarning: The default dtype for empty Series will be 'object' instead of 'float64' in a future version. Specify a dtype explicitly to silence this warning.\n",
      "  self.__y = pd.Series([])\n",
      "w:\\Home\\ML\\knn\\knn.py:11: FutureWarning: The default dtype for empty Series will be 'object' instead of 'float64' in a future version. Specify a dtype explicitly to silence this warning.\n",
      "  self.__y = pd.Series([])\n",
      "w:\\Home\\ML\\knn\\knn.py:11: FutureWarning: The default dtype for empty Series will be 'object' instead of 'float64' in a future version. Specify a dtype explicitly to silence this warning.\n",
      "  self.__y = pd.Series([])\n",
      "w:\\Home\\ML\\knn\\knn.py:11: FutureWarning: The default dtype for empty Series will be 'object' instead of 'float64' in a future version. Specify a dtype explicitly to silence this warning.\n",
      "  self.__y = pd.Series([])\n",
      "w:\\Home\\ML\\knn\\knn.py:11: FutureWarning: The default dtype for empty Series will be 'object' instead of 'float64' in a future version. Specify a dtype explicitly to silence this warning.\n",
      "  self.__y = pd.Series([])\n"
     ]
    }
   ],
   "source": [
    "realizations = 20\n",
    "knn_hit_rate_list = []\n",
    "dmc_hit_rate_list = []\n",
    "nb_hit_rate_list = []\n",
    "knn_std_dev = 0\n",
    "dmc_std_dev = 0\n",
    "nb_std_dev = 0\n",
    "knn_confusion_matrix_list = []\n",
    "dmc_confusion_matrix_list = []\n",
    "nb_confusion_matrix_list = []\n",
    "\n",
    "for r in range(realizations):\n",
    "    X_train, X_test, y_train, y_test = train_test_split(X, y, test_size = 0.2)\n",
    "\n",
    "    knn_model = knn(k=3, type_distance_calc='euclidean')\n",
    "    knn_model.fit(X_train, y_train)\n",
    "\n",
    "    dmc_model = dmc(type_distance_calc='euclidean')\n",
    "    dmc_model.fit(X_train, y_train)\n",
    "\n",
    "    nb_model = naive_bayes_classifier()\n",
    "    nb_model.fit(X_train, y_train)\n",
    "\n",
    "    knn_hit_rate_list.append(knn_model.score(X_test, y_test))\n",
    "    dmc_hit_rate_list.append(dmc_model.score(X_test, y_test))\n",
    "    nb_hit_rate_list.append(nb_model.score(X_test, y_test))\n",
    "\n",
    "    knn_y_pred = [knn_model.predict(x) for x in X_test.values]\n",
    "    dmc_y_pred = [dmc_model.predict(x) for x in X_test.values]\n",
    "    nb_y_pred = [nb_model.predict(x) for x in X_test.values]\n",
    "\n",
    "    knn_confusion_matrix_list.append(confusion_matrix(y_test, knn_y_pred))\n",
    "    dmc_confusion_matrix_list.append(confusion_matrix(y_test, dmc_y_pred))\n",
    "    nb_confusion_matrix_list.append(confusion_matrix(y_test, nb_y_pred))\n",
    "\n",
    "knn_std_dev = np.std(knn_hit_rate_list)\n",
    "dmc_std_dev = np.std(dmc_hit_rate_list)\n",
    "nb_std_dev = np.std(nb_hit_rate_list)"
   ]
  },
  {
   "cell_type": "markdown",
   "metadata": {},
   "source": [
    "# Showing knn informations computed"
   ]
  },
  {
   "cell_type": "code",
   "execution_count": 4,
   "metadata": {},
   "outputs": [
    {
     "name": "stdout",
     "output_type": "stream",
     "text": [
      "----------------- KNN model -----------------\n",
      "Hit rate:\n",
      "[0.8387096774193549, 0.8709677419354839, 0.8548387096774194, 0.8387096774193549, 0.7258064516129032, 0.7903225806451613, 0.7419354838709677, 0.8064516129032258, 0.8064516129032258, 0.8064516129032258, 0.7741935483870968, 0.8548387096774194, 0.8709677419354839, 0.8870967741935484, 0.8064516129032258, 0.7903225806451613, 0.7741935483870968, 0.8225806451612904, 0.7903225806451613, 0.8225806451612904]\n",
      "\n",
      "Accuracy:\n",
      "0.8137096774193548\n",
      "\n",
      "Standard Deviation:\n",
      "0.04158507446565723\n",
      "\n",
      "Confusion Matrix:\n",
      "    SL  NO  DH\n",
      "SL  30   1   1\n",
      "NO   2  14   4\n",
      "DH   0   2   8\n",
      "    NO  SL  DH\n",
      "NO  20   0   5\n",
      "SL   0  27   0\n",
      "DH   3   0   7\n",
      "    NO  SL  DH\n",
      "NO  18   2   5\n",
      "SL   0  26   0\n",
      "DH   2   0   9\n",
      "    DH  NO  SL\n",
      "DH   3   3   0\n",
      "NO   5  11   0\n",
      "SL   0   2  38\n",
      "    SL  NO  DH\n",
      "SL  28   2   0\n",
      "NO   1  12   7\n",
      "DH   1   6   5\n",
      "    NO  SL  DH\n",
      "NO  12   0   5\n",
      "SL   1  28   2\n",
      "DH   5   0   9\n",
      "    NO  DH  SL\n",
      "NO  17   6   0\n",
      "DH   8   4   0\n",
      "SL   0   2  25\n",
      "    NO  SL  DH\n",
      "NO  15   0   4\n",
      "SL   1  27   0\n",
      "DH   7   0   8\n",
      "    DH  SL  NO\n",
      "DH   7   0   6\n",
      "SL   1  29   1\n",
      "NO   4   0  14\n",
      "    SL  NO  DH\n",
      "SL  29   1   1\n",
      "NO   1  15   3\n",
      "DH   0   6   6\n",
      "    SL  DH  NO\n",
      "SL  30   0   2\n",
      "DH   2   7   5\n",
      "NO   0   5  11\n",
      "    DH  SL  NO\n",
      "DH   6   0   6\n",
      "SL   0  32   0\n",
      "NO   1   2  15\n",
      "    NO  SL  DH\n",
      "NO  16   2   4\n",
      "SL   1  29   1\n",
      "DH   0   0   9\n",
      "    DH  SL  NO\n",
      "DH   5   0   2\n",
      "SL   1  39   0\n",
      "NO   2   2  11\n",
      "    SL  NO  DH\n",
      "SL  28   1   2\n",
      "NO   1  18   3\n",
      "DH   0   5   4\n",
      "    SL  DH  NO\n",
      "SL  27   2   2\n",
      "DH   0  10   6\n",
      "NO   1   2  12\n",
      "    NO  SL  DH\n",
      "NO  17   0   4\n",
      "SL   1  27   1\n",
      "DH   8   0   4\n",
      "    NO  SL  DH\n",
      "NO  11   0   4\n",
      "SL   2  32   0\n",
      "DH   5   0   8\n",
      "    SL  NO  DH\n",
      "SL  24   0   1\n",
      "NO   1  20   2\n",
      "DH   0   9   5\n",
      "    SL  NO  DH\n",
      "SL  28   1   1\n",
      "NO   0  19   2\n",
      "DH   0   7   4\n"
     ]
    }
   ],
   "source": [
    "print('----------------- KNN model -----------------')\n",
    "print('Hit rate:')\n",
    "print(knn_hit_rate_list, end='\\n\\n')\n",
    "\n",
    "print('Accuracy:')\n",
    "print(sum(knn_hit_rate_list)/len(knn_hit_rate_list), end='\\n\\n')\n",
    "\n",
    "print('Standard Deviation:')\n",
    "print(knn_std_dev, end='\\n\\n')\n",
    "\n",
    "print('Confusion Matrix:')\n",
    "for matrix in knn_confusion_matrix_list:\n",
    "    print(matrix, end='\\n')"
   ]
  },
  {
   "cell_type": "markdown",
   "metadata": {},
   "source": [
    "# Confusion Matrix Mean"
   ]
  },
  {
   "cell_type": "code",
   "execution_count": 5,
   "metadata": {},
   "outputs": [
    {
     "data": {
      "text/html": [
       "<div>\n",
       "<style scoped>\n",
       "    .dataframe tbody tr th:only-of-type {\n",
       "        vertical-align: middle;\n",
       "    }\n",
       "\n",
       "    .dataframe tbody tr th {\n",
       "        vertical-align: top;\n",
       "    }\n",
       "\n",
       "    .dataframe thead th {\n",
       "        text-align: right;\n",
       "    }\n",
       "</style>\n",
       "<table border=\"1\" class=\"dataframe\">\n",
       "  <thead>\n",
       "    <tr style=\"text-align: right;\">\n",
       "      <th></th>\n",
       "      <th>SL</th>\n",
       "      <th>NO</th>\n",
       "      <th>DH</th>\n",
       "    </tr>\n",
       "  </thead>\n",
       "  <tbody>\n",
       "    <tr>\n",
       "      <th>SL</th>\n",
       "      <td>29</td>\n",
       "      <td>0</td>\n",
       "      <td>0</td>\n",
       "    </tr>\n",
       "    <tr>\n",
       "      <th>NO</th>\n",
       "      <td>0</td>\n",
       "      <td>14</td>\n",
       "      <td>3</td>\n",
       "    </tr>\n",
       "    <tr>\n",
       "      <th>DH</th>\n",
       "      <td>0</td>\n",
       "      <td>5</td>\n",
       "      <td>6</td>\n",
       "    </tr>\n",
       "  </tbody>\n",
       "</table>\n",
       "</div>"
      ],
      "text/plain": [
       "    SL  NO  DH\n",
       "SL  29   0   0\n",
       "NO   0  14   3\n",
       "DH   0   5   6"
      ]
     },
     "execution_count": 5,
     "metadata": {},
     "output_type": "execute_result"
    }
   ],
   "source": [
    "confusion_matrix_mean(knn_confusion_matrix_list)"
   ]
  },
  {
   "cell_type": "markdown",
   "metadata": {},
   "source": [
    "# Showing dmc informations computed"
   ]
  },
  {
   "cell_type": "code",
   "execution_count": 6,
   "metadata": {},
   "outputs": [
    {
     "name": "stdout",
     "output_type": "stream",
     "text": [
      "----------------- DMC model -----------------\n",
      "Hit rate:\n",
      "[0.8064516129032258, 0.7580645161290323, 0.8225806451612904, 0.7903225806451613, 0.6774193548387096, 0.6935483870967742, 0.6612903225806451, 0.7741935483870968, 0.6774193548387096, 0.7258064516129032, 0.7258064516129032, 0.8064516129032258, 0.8064516129032258, 0.8225806451612904, 0.7096774193548387, 0.6935483870967742, 0.8387096774193549, 0.7258064516129032, 0.7903225806451613, 0.7096774193548387]\n",
      "\n",
      "Accuracy:\n",
      "0.7508064516129032\n",
      "\n",
      "Standard Deviation:\n",
      "0.055516447675792634\n",
      "\n",
      "Confusion Matrix:\n",
      "    SL  NO  DH\n",
      "SL  28   2   2\n",
      "NO   2  13   5\n",
      "DH   0   1   9\n",
      "    NO  SL  DH\n",
      "NO  17   1   7\n",
      "SL   5  21   1\n",
      "DH   1   0   9\n",
      "    NO  SL  DH\n",
      "NO  18   1   6\n",
      "SL   0  24   2\n",
      "DH   2   0   9\n",
      "    DH  NO  SL\n",
      "DH   4   2   0\n",
      "NO   7   9   0\n",
      "SL   0   4  36\n",
      "    SL  NO  DH\n",
      "SL  23   7   0\n",
      "NO   0  11   9\n",
      "DH   0   4   8\n",
      "    NO  SL  DH\n",
      "NO   7   0  10\n",
      "SL   5  23   3\n",
      "DH   1   0  13\n",
      "    NO  DH  SL\n",
      "NO  16   6   1\n",
      "DH   5   7   0\n",
      "SL   4   5  18\n",
      "    NO  SL  DH\n",
      "NO  12   0   7\n",
      "SL   3  23   2\n",
      "DH   2   0  13\n",
      "    DH  SL  NO\n",
      "DH  10   0   3\n",
      "SL   4  21   6\n",
      "NO   6   1  11\n",
      "    SL  NO  DH\n",
      "SL  27   3   1\n",
      "NO   1  10   8\n",
      "DH   0   4   8\n",
      "    SL  DH  NO\n",
      "SL  26   2   4\n",
      "DH   0   8   6\n",
      "NO   0   5  11\n",
      "    DH  SL  NO\n",
      "DH   9   0   3\n",
      "SL   2  28   2\n",
      "NO   2   3  13\n",
      "    NO  SL  DH\n",
      "NO  13   2   7\n",
      "SL   2  28   1\n",
      "DH   0   0   9\n",
      "    DH  SL  NO\n",
      "DH   6   0   1\n",
      "SL   3  34   3\n",
      "NO   2   2  11\n",
      "    SL  NO  DH\n",
      "SL  24   4   3\n",
      "NO   2  14   6\n",
      "DH   0   3   6\n",
      "    SL  DH  NO\n",
      "SL  22   2   7\n",
      "DH   0  13   3\n",
      "NO   2   5   8\n",
      "    NO  SL  DH\n",
      "NO  16   1   4\n",
      "SL   2  25   2\n",
      "DH   1   0  11\n",
      "    NO  SL  DH\n",
      "NO   8   0   7\n",
      "SL   5  27   2\n",
      "DH   3   0  10\n",
      "    SL  NO  DH\n",
      "SL  21   3   1\n",
      "NO   1  18   4\n",
      "DH   0   4  10\n",
      "    SL  NO  DH\n",
      "SL  23   6   1\n",
      "NO   0  11  10\n",
      "DH   0   1  10\n"
     ]
    }
   ],
   "source": [
    "print('----------------- DMC model -----------------')\n",
    "print('Hit rate:')\n",
    "print(dmc_hit_rate_list, end='\\n\\n')\n",
    "\n",
    "print('Accuracy:')\n",
    "print(sum(dmc_hit_rate_list)/len(dmc_hit_rate_list), end='\\n\\n')\n",
    "\n",
    "print('Standard Deviation:')\n",
    "print(dmc_std_dev, end='\\n\\n')\n",
    "\n",
    "print('Confusion Matrix:')\n",
    "for matrix in dmc_confusion_matrix_list:\n",
    "    print(matrix, end='\\n')"
   ]
  },
  {
   "cell_type": "code",
   "execution_count": 7,
   "metadata": {},
   "outputs": [
    {
     "data": {
      "text/html": [
       "<div>\n",
       "<style scoped>\n",
       "    .dataframe tbody tr th:only-of-type {\n",
       "        vertical-align: middle;\n",
       "    }\n",
       "\n",
       "    .dataframe tbody tr th {\n",
       "        vertical-align: top;\n",
       "    }\n",
       "\n",
       "    .dataframe thead th {\n",
       "        text-align: right;\n",
       "    }\n",
       "</style>\n",
       "<table border=\"1\" class=\"dataframe\">\n",
       "  <thead>\n",
       "    <tr style=\"text-align: right;\">\n",
       "      <th></th>\n",
       "      <th>SL</th>\n",
       "      <th>NO</th>\n",
       "      <th>DH</th>\n",
       "    </tr>\n",
       "  </thead>\n",
       "  <tbody>\n",
       "    <tr>\n",
       "      <th>SL</th>\n",
       "      <td>25</td>\n",
       "      <td>3</td>\n",
       "      <td>1</td>\n",
       "    </tr>\n",
       "    <tr>\n",
       "      <th>NO</th>\n",
       "      <td>1</td>\n",
       "      <td>12</td>\n",
       "      <td>6</td>\n",
       "    </tr>\n",
       "    <tr>\n",
       "      <th>DH</th>\n",
       "      <td>0</td>\n",
       "      <td>2</td>\n",
       "      <td>9</td>\n",
       "    </tr>\n",
       "  </tbody>\n",
       "</table>\n",
       "</div>"
      ],
      "text/plain": [
       "    SL  NO  DH\n",
       "SL  25   3   1\n",
       "NO   1  12   6\n",
       "DH   0   2   9"
      ]
     },
     "execution_count": 7,
     "metadata": {},
     "output_type": "execute_result"
    }
   ],
   "source": [
    "confusion_matrix_mean(dmc_confusion_matrix_list)"
   ]
  },
  {
   "cell_type": "markdown",
   "metadata": {},
   "source": [
    "# Showing naive bayes informations computed"
   ]
  },
  {
   "cell_type": "code",
   "execution_count": 8,
   "metadata": {},
   "outputs": [
    {
     "name": "stdout",
     "output_type": "stream",
     "text": [
      "----------------- NAIVE BAYES model -----------------\n",
      "Hit rate:\n",
      "[0.8709677419354839, 0.8387096774193549, 0.8225806451612904, 0.7903225806451613, 0.7903225806451613, 0.8225806451612904, 0.7096774193548387, 0.9032258064516129, 0.8225806451612904, 0.7741935483870968, 0.8225806451612904, 0.8548387096774194, 0.7903225806451613, 0.9032258064516129, 0.7903225806451613, 0.7903225806451613, 0.8548387096774194, 0.8064516129032258, 0.8064516129032258, 0.8064516129032258]\n",
      "\n",
      "Accuracy:\n",
      "0.8185483870967742\n",
      "\n",
      "Standard Deviation:\n",
      "0.043838638467506075\n",
      "\n",
      "Confusion Matrix:\n",
      "    SL  NO  DH\n",
      "SL  31   0   1\n",
      "NO   2  15   3\n",
      "DH   1   1   8\n",
      "    NO  SL  DH\n",
      "NO  17   2   6\n",
      "SL   0  27   0\n",
      "DH   2   0   8\n",
      "    NO  SL  DH\n",
      "NO  17   3   5\n",
      "SL   0  26   0\n",
      "DH   2   1   8\n",
      "    DH  NO  SL\n",
      "DH   3   2   1\n",
      "NO   7   7   2\n",
      "SL   0   1  39\n",
      "    SL  NO  DH\n",
      "SL  29   1   0\n",
      "NO   0  13   7\n",
      "DH   2   3   7\n",
      "    NO  SL  DH\n",
      "NO  11   0   6\n",
      "SL   2  29   0\n",
      "DH   2   1  11\n",
      "    NO  DH  SL\n",
      "NO  14   7   2\n",
      "DH   4   6   2\n",
      "SL   3   0  24\n",
      "    NO  SL  DH\n",
      "NO  14   1   4\n",
      "SL   0  28   0\n",
      "DH   1   0  14\n",
      "    DH  SL  NO\n",
      "DH   9   0   4\n",
      "SL   0  30   1\n",
      "NO   5   1  12\n",
      "    SL  NO  DH\n",
      "SL  30   1   0\n",
      "NO   3  10   6\n",
      "DH   0   4   8\n",
      "    SL  DH  NO\n",
      "SL  31   0   1\n",
      "DH   2   9   3\n",
      "NO   0   5  11\n",
      "    DH  SL  NO\n",
      "DH   7   1   4\n",
      "SL   0  32   0\n",
      "NO   1   3  14\n",
      "    NO  SL  DH\n",
      "NO  10   6   6\n",
      "SL   0  30   1\n",
      "DH   0   0   9\n",
      "    DH  SL  NO\n",
      "DH   6   1   0\n",
      "SL   0  39   1\n",
      "NO   1   3  11\n",
      "    SL  NO  DH\n",
      "SL  30   1   0\n",
      "NO   4  15   3\n",
      "DH   1   4   4\n",
      "    SL  DH  NO\n",
      "SL  28   1   2\n",
      "DH   1  11   4\n",
      "NO   3   2  10\n",
      "    NO  SL  DH\n",
      "NO  17   2   2\n",
      "SL   1  28   0\n",
      "DH   4   0   8\n",
      "    NO  SL  DH\n",
      "NO   9   1   5\n",
      "SL   1  33   0\n",
      "DH   5   0   8\n",
      "    SL  NO  DH\n",
      "SL  24   1   0\n",
      "NO   3  18   2\n",
      "DH   1   5   8\n",
      "    SL  NO  DH\n",
      "SL  29   1   0\n",
      "NO   1  13   7\n",
      "DH   0   3   8\n"
     ]
    }
   ],
   "source": [
    "print('----------------- NAIVE BAYES model -----------------')\n",
    "print('Hit rate:')\n",
    "print(nb_hit_rate_list, end='\\n\\n')\n",
    "\n",
    "print('Accuracy:')\n",
    "print(sum(nb_hit_rate_list)/len(nb_hit_rate_list), end='\\n\\n')\n",
    "\n",
    "print('Standard Deviation:')\n",
    "print(nb_std_dev, end='\\n\\n')\n",
    "\n",
    "print('Confusion Matrix:')\n",
    "for matrix in nb_confusion_matrix_list:\n",
    "    print(matrix, end='\\n')"
   ]
  },
  {
   "cell_type": "code",
   "execution_count": 9,
   "metadata": {},
   "outputs": [
    {
     "data": {
      "text/html": [
       "<div>\n",
       "<style scoped>\n",
       "    .dataframe tbody tr th:only-of-type {\n",
       "        vertical-align: middle;\n",
       "    }\n",
       "\n",
       "    .dataframe tbody tr th {\n",
       "        vertical-align: top;\n",
       "    }\n",
       "\n",
       "    .dataframe thead th {\n",
       "        text-align: right;\n",
       "    }\n",
       "</style>\n",
       "<table border=\"1\" class=\"dataframe\">\n",
       "  <thead>\n",
       "    <tr style=\"text-align: right;\">\n",
       "      <th></th>\n",
       "      <th>SL</th>\n",
       "      <th>NO</th>\n",
       "      <th>DH</th>\n",
       "    </tr>\n",
       "  </thead>\n",
       "  <tbody>\n",
       "    <tr>\n",
       "      <th>SL</th>\n",
       "      <td>29</td>\n",
       "      <td>0</td>\n",
       "      <td>0</td>\n",
       "    </tr>\n",
       "    <tr>\n",
       "      <th>NO</th>\n",
       "      <td>2</td>\n",
       "      <td>12</td>\n",
       "      <td>4</td>\n",
       "    </tr>\n",
       "    <tr>\n",
       "      <th>DH</th>\n",
       "      <td>0</td>\n",
       "      <td>2</td>\n",
       "      <td>8</td>\n",
       "    </tr>\n",
       "  </tbody>\n",
       "</table>\n",
       "</div>"
      ],
      "text/plain": [
       "    SL  NO  DH\n",
       "SL  29   0   0\n",
       "NO   2  12   4\n",
       "DH   0   2   8"
      ]
     },
     "execution_count": 9,
     "metadata": {},
     "output_type": "execute_result"
    }
   ],
   "source": [
    "confusion_matrix_mean(nb_confusion_matrix_list)"
   ]
  },
  {
   "cell_type": "markdown",
   "metadata": {},
   "source": [
    "# Choosing two columns from the last X_train and X_test to plot decision surface"
   ]
  },
  {
   "cell_type": "code",
   "execution_count": 10,
   "metadata": {},
   "outputs": [
    {
     "name": "stdout",
     "output_type": "stream",
     "text": [
      "Train dataset:\n",
      "         0      1\n",
      "96   96.66  19.46\n",
      "183  71.00  37.52\n",
      "219  64.31  26.33\n",
      "180  37.90   4.48\n",
      "14   57.30  24.19\n",
      "..     ...    ...\n",
      "205  80.11  33.94\n",
      "18   38.70  13.44\n",
      "117  86.04  38.75\n",
      "260  54.14  11.94\n",
      "13   53.57  20.46\n",
      "\n",
      "[248 rows x 2 columns]\n",
      "Test dataset:\n",
      "         0      1\n",
      "61   89.68  32.70\n",
      "306  53.94  20.72\n",
      "41   46.44   8.40\n",
      "19   41.73  12.25\n",
      "103  49.78   6.47\n",
      "..     ...    ...\n",
      "174  61.41  25.38\n",
      "195  71.24   5.27\n",
      "291  51.08  14.21\n",
      "71   86.90  32.93\n",
      "223  69.40  18.90\n",
      "\n",
      "[62 rows x 2 columns]\n"
     ]
    }
   ],
   "source": [
    "X_train_2d, X_test_2d = X_train[X_train.columns[:2]], X_test[X_train.columns[:2]]\n",
    "\n",
    "print('Train dataset:')\n",
    "print(X_train_2d)\n",
    "print('Test dataset:')\n",
    "print(X_test_2d)"
   ]
  },
  {
   "cell_type": "markdown",
   "metadata": {},
   "source": [
    "# Training the models with the new dataset 2d"
   ]
  },
  {
   "cell_type": "code",
   "execution_count": 11,
   "metadata": {},
   "outputs": [
    {
     "name": "stderr",
     "output_type": "stream",
     "text": [
      "w:\\Home\\ML\\knn\\knn.py:11: FutureWarning: The default dtype for empty Series will be 'object' instead of 'float64' in a future version. Specify a dtype explicitly to silence this warning.\n",
      "  self.__y = pd.Series([])\n"
     ]
    }
   ],
   "source": [
    "knn_model = knn(k=3, type_distance_calc='euclidean')\n",
    "knn_model.fit(X_train_2d, y_train)\n",
    "dmc_model = dmc(type_distance_calc='euclidean')\n",
    "dmc_model.fit(X_train_2d, y_train)\n",
    "nb_model = naive_bayes_classifier()\n",
    "nb_model.fit(X_train_2d, y_train)"
   ]
  },
  {
   "cell_type": "markdown",
   "metadata": {},
   "source": [
    "# Plotting knn decision surface"
   ]
  },
  {
   "cell_type": "code",
   "execution_count": 12,
   "metadata": {},
   "outputs": [
    {
     "data": {
      "image/png": "[encoded data removed]",
      "text/plain": [
       "<Figure size 640x480 with 1 Axes>"
      ]
     },
     "metadata": {},
     "output_type": "display_data"
    }
   ],
   "source": [
    "data = X_test_2d[:][:].values\n",
    "\n",
    "x_min, x_max = data[:, 0].min() - 0.1, data[:,0].max() + 0.1\n",
    "y_min, y_max = data[:, 1].min() - 0.1, data[:, 1].max() + 0.1\n",
    "\n",
    "xx, yy = np.meshgrid(np.linspace(x_min,x_max, 100),\n",
    "np.linspace(y_min, y_max, 100))\n",
    "\n",
    "x_in = np.c_[xx.ravel(), yy.ravel()]\n",
    "\n",
    "y_pred = [[knn_model.predict(x) for x in x_in]]\n",
    "for i, y in enumerate(y_pred[0]):\n",
    "    if y == 'DH':\n",
    "        y_pred[0][i] = 1\n",
    "    elif y == 'SL':\n",
    "        y_pred[0][i] = 2\n",
    "    else:\n",
    "        y_pred[0][i] = 3\n",
    "\n",
    "y_pred = np.round(y_pred).reshape(xx.shape)\n",
    "\n",
    "plt.contourf(xx, yy, y_pred, cmap=plt.cm.RdYlBu, alpha=0.7 )\n",
    "\n",
    "plt.xlim(xx.min(), xx.max())\n",
    "plt.ylim(yy.min(), yy.max())\n",
    "\n",
    "knn_y_pred = np.array([knn_model.predict(x) for x in X_test_2d.values])\n",
    "\n",
    "dh = np.where(knn_y_pred == 'DH')\n",
    "sl = np.where(knn_y_pred == 'SL')\n",
    "no = np.where(knn_y_pred == 'NO')\n",
    "\n",
    "plt.scatter(data[dh, 0], data[dh, 1],\n",
    "            color='red', marker='o', label='dh')\n",
    "plt.scatter(data[sl, 0], data[sl, 1],\n",
    "            color='yellow', marker='X', label='sl')\n",
    "plt.scatter(data[no, 0], data[no, 1],\n",
    "            color='blue', marker='P', label='no')\n",
    "\n",
    "plt.show()"
   ]
  },
  {
   "cell_type": "markdown",
   "metadata": {},
   "source": [
    "# Plotting dmc decision surface"
   ]
  },
  {
   "cell_type": "code",
   "execution_count": 13,
   "metadata": {},
   "outputs": [
    {
     "data": {
      "image/png": "[encoded data removed]",
      "text/plain": [
       "<Figure size 640x480 with 1 Axes>"
      ]
     },
     "metadata": {},
     "output_type": "display_data"
    }
   ],
   "source": [
    "data = X_test_2d[:][:].values\n",
    "\n",
    "x_min, x_max = data[:, 0].min() - 0.1, data[:,0].max() + 0.1\n",
    "y_min, y_max = data[:, 1].min() - 0.1, data[:, 1].max() + 0.1\n",
    "\n",
    "xx, yy = np.meshgrid(np.linspace(x_min,x_max, 100),\n",
    "np.linspace(y_min, y_max, 100))\n",
    "\n",
    "x_in = np.c_[xx.ravel(), yy.ravel()]\n",
    "\n",
    "y_pred = [[dmc_model.predict(x) for x in x_in]]\n",
    "for i, y in enumerate(y_pred[0]):\n",
    "    if y == 'DH':\n",
    "        y_pred[0][i] = 1\n",
    "    elif y == 'SL':\n",
    "        y_pred[0][i] = 2\n",
    "    else:\n",
    "        y_pred[0][i] = 3\n",
    "\n",
    "y_pred = np.round(y_pred).reshape(xx.shape)\n",
    "\n",
    "plt.contourf(xx, yy, y_pred, cmap=plt.cm.RdYlBu, alpha=0.7 )\n",
    "\n",
    "plt.xlim(xx.min(), xx.max())\n",
    "plt.ylim(yy.min(), yy.max())\n",
    "\n",
    "dmc_y_pred = np.array([dmc_model.predict(x) for x in X_test_2d.values])\n",
    "\n",
    "dh = np.where(dmc_y_pred == 'DH')\n",
    "sl = np.where(dmc_y_pred == 'SL')\n",
    "no = np.where(dmc_y_pred == 'NO')\n",
    "\n",
    "plt.scatter(data[dh, 0], data[dh, 1],\n",
    "            color='red', marker='o', label='dh')\n",
    "plt.scatter(data[sl, 0], data[sl, 1],\n",
    "            color='yellow', marker='X', label='sl')\n",
    "plt.scatter(data[no, 0], data[no, 1],\n",
    "            color='blue', marker='P', label='no')\n",
    "\n",
    "plt.show()"
   ]
  },
  {
   "cell_type": "markdown",
   "metadata": {},
   "source": [
    "# Plotting naive bayes decision surface"
   ]
  },
  {
   "cell_type": "code",
   "execution_count": 14,
   "metadata": {},
   "outputs": [
    {
     "data": {
      "image/png": "[encoded data removed]",
      "text/plain": [
       "<Figure size 640x480 with 1 Axes>"
      ]
     },
     "metadata": {},
     "output_type": "display_data"
    }
   ],
   "source": [
    "data = X_test_2d[:][:].values\n",
    "\n",
    "x_min, x_max = data[:, 0].min() - 0.1, data[:,0].max() + 0.1\n",
    "y_min, y_max = data[:, 1].min() - 0.1, data[:, 1].max() + 0.1\n",
    "\n",
    "xx, yy = np.meshgrid(np.linspace(x_min,x_max, 100),\n",
    "np.linspace(y_min, y_max, 100))\n",
    "\n",
    "x_in = np.c_[xx.ravel(), yy.ravel()]\n",
    "\n",
    "y_pred = [[nb_model.predict(x) for x in x_in]]\n",
    "for i, y in enumerate(y_pred[0]):\n",
    "    if y == 'DH':\n",
    "        y_pred[0][i] = 1\n",
    "    elif y == 'SL':\n",
    "        y_pred[0][i] = 2\n",
    "    elif y == 'NO':\n",
    "        y_pred[0][i] = 3\n",
    "    else:\n",
    "        y_pred[0][i] = 4\n",
    "\n",
    "y_pred = np.round(y_pred).reshape(xx.shape)\n",
    "\n",
    "plt.contourf(xx, yy, y_pred, cmap=plt.cm.RdYlBu, alpha=0.7 )\n",
    "\n",
    "plt.xlim(xx.min(), xx.max())\n",
    "plt.ylim(yy.min(), yy.max())\n",
    "\n",
    "nb_y_pred = np.array([nb_model.predict(x) for x in X_test_2d.values])\n",
    "\n",
    "dh = np.where(dmc_y_pred == 'DH')\n",
    "sl = np.where(dmc_y_pred == 'SL')\n",
    "no = np.where(dmc_y_pred == 'NO')\n",
    "\n",
    "plt.scatter(data[dh, 0], data[dh, 1],\n",
    "            color='red', marker='o', label='dh')\n",
    "plt.scatter(data[sl, 0], data[sl, 1],\n",
    "            color='yellow', marker='X', label='sl')\n",
    "plt.scatter(data[no, 0], data[no, 1],\n",
    "            color='blue', marker='P', label='no')\n",
    "\n",
    "plt.show()"
   ]
  }
 ],
 "metadata": {
  "kernelspec": {
   "display_name": "Python 3.10.4 ('.venv': venv)",
   "language": "python",
   "name": "python3"
  },
  "language_info": {
   "codemirror_mode": {
    "name": "ipython",
    "version": 3
   },
   "file_extension": ".py",
   "mimetype": "text/x-python",
   "name": "python",
   "nbconvert_exporter": "python",
   "pygments_lexer": "ipython3",
   "version": "3.10.4"
  },
  "orig_nbformat": 4,
  "vscode": {
   "interpreter": {
    "hash": "33434f0cc8e6f3723834300de8718debdc0c9ba9cd4c4faf0515f4c47995aa8c"
   }
  }
 },
 "nbformat": 4,
 "nbformat_minor": 2
}
