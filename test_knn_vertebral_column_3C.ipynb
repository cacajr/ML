{
 "cells": [
  {
   "cell_type": "markdown",
   "metadata": {},
   "source": [
    "# Import libs"
   ]
  },
  {
   "cell_type": "code",
   "execution_count": 25,
   "metadata": {},
   "outputs": [],
   "source": [
    "import pandas as pd\n",
    "import numpy as np\n",
    "from knn.knn import knn\n",
    "from sklearn.model_selection import train_test_split\n",
    "from sklearn.metrics import confusion_matrix\n",
    "from matplotlib import pyplot as plt"
   ]
  },
  {
   "cell_type": "markdown",
   "metadata": {},
   "source": [
    "# Loading Vertebral Column 3C dataset"
   ]
  },
  {
   "cell_type": "code",
   "execution_count": 26,
   "metadata": {},
   "outputs": [],
   "source": [
    "Xy = pd.read_csv('./datasets/vertebral_column_3C.dat', header=None, sep=' ', engine='python')\n",
    "\n",
    "X = Xy.drop(Xy.columns[-1:], axis=1)\n",
    "y = Xy[Xy.columns[-1]]"
   ]
  },
  {
   "cell_type": "markdown",
   "metadata": {},
   "source": [
    "# Instantiating model"
   ]
  },
  {
   "cell_type": "code",
   "execution_count": 27,
   "metadata": {},
   "outputs": [
    {
     "name": "stderr",
     "output_type": "stream",
     "text": [
      "w:\\Home\\ML\\knn\\knn.py:11: FutureWarning: The default dtype for empty Series will be 'object' instead of 'float64' in a future version. Specify a dtype explicitly to silence this warning.\n",
      "  self.__y = pd.Series([])\n"
     ]
    }
   ],
   "source": [
    "knn_model = knn(k=3, type_distance_calc='euclidean')"
   ]
  },
  {
   "cell_type": "markdown",
   "metadata": {},
   "source": [
    "# Running the tests and computing informations"
   ]
  },
  {
   "cell_type": "code",
   "execution_count": 28,
   "metadata": {},
   "outputs": [],
   "source": [
    "realizations = 20\n",
    "hit_rate_list = []\n",
    "std_dev = 0\n",
    "confusion_matrix_list = []\n",
    "\n",
    "for r in range(realizations):\n",
    "    X_train, X_test, y_train, y_test = train_test_split(X, y, test_size = 0.2)\n",
    "\n",
    "    knn_model.fit(X_train, y_train)\n",
    "\n",
    "    hit_rate_list.append(knn_model.score(X_test, y_test))\n",
    "\n",
    "    y_pred = [knn_model.predict(x) for x in X_test.values]\n",
    "\n",
    "    confusion_matrix_list.append(confusion_matrix(y_test, y_pred))\n",
    "\n",
    "std_dev = np.std(hit_rate_list)"
   ]
  },
  {
   "cell_type": "markdown",
   "metadata": {},
   "source": [
    "# Showing informations computed"
   ]
  },
  {
   "cell_type": "code",
   "execution_count": 29,
   "metadata": {},
   "outputs": [
    {
     "name": "stdout",
     "output_type": "stream",
     "text": [
      "Hit rate:\n",
      "[0.7903225806451613, 0.7741935483870968, 0.7903225806451613, 0.8548387096774194, 0.7741935483870968, 0.8387096774193549, 0.8709677419354839, 0.8548387096774194, 0.8709677419354839, 0.7258064516129032, 0.8548387096774194, 0.8387096774193549, 0.8548387096774194, 0.8064516129032258, 0.7741935483870968, 0.8225806451612904, 0.7419354838709677, 0.8225806451612904, 0.8225806451612904, 0.7903225806451613]\n",
      "\n",
      "Accuracy:\n",
      "0.8137096774193548\n",
      "\n",
      "Standard Deviation:\n",
      "0.041271101877174164\n",
      "\n",
      "Confusion Matrix:\n",
      "[[ 9  7  0]\n",
      " [ 3 10  2]\n",
      " [ 0  1 30]]\n",
      "[[12  5  0]\n",
      " [ 5 16  2]\n",
      " [ 1  1 20]]\n",
      "[[ 6  4  0]\n",
      " [ 5 12  2]\n",
      " [ 0  2 31]]\n",
      "[[ 9  7  0]\n",
      " [ 2 11  0]\n",
      " [ 0  0 33]]\n",
      "[[ 6  1  0]\n",
      " [12  8  1]\n",
      " [ 0  0 34]]\n",
      "[[ 7  4  0]\n",
      " [ 5 18  1]\n",
      " [ 0  0 27]]\n",
      "[[ 6  2  0]\n",
      " [ 4 20  0]\n",
      " [ 1  1 28]]\n",
      "[[ 7  3  0]\n",
      " [ 6 20  0]\n",
      " [ 0  0 26]]\n",
      "[[ 6  3  0]\n",
      " [ 1 19  1]\n",
      " [ 1  2 29]]\n",
      "[[ 8  7  0]\n",
      " [ 6 10  2]\n",
      " [ 0  2 27]]\n",
      "[[10  4  0]\n",
      " [ 2 19  1]\n",
      " [ 0  2 24]]\n",
      "[[ 6  4  0]\n",
      " [ 2 13  0]\n",
      " [ 2  2 33]]\n",
      "[[ 6  6  0]\n",
      " [ 1 15  1]\n",
      " [ 0  1 32]]\n",
      "[[ 9  3  0]\n",
      " [ 6 12  0]\n",
      " [ 1  2 29]]\n",
      "[[ 5  9  0]\n",
      " [ 4 17  0]\n",
      " [ 0  1 26]]\n",
      "[[ 6  7  0]\n",
      " [ 3 19  1]\n",
      " [ 0  0 26]]\n",
      "[[ 7  5  0]\n",
      " [ 7 15  1]\n",
      " [ 0  3 24]]\n",
      "[[ 4  5  0]\n",
      " [ 5 15  1]\n",
      " [ 0  0 32]]\n",
      "[[ 5  3  0]\n",
      " [ 4 18  3]\n",
      " [ 0  1 28]]\n",
      "[[ 4  5  0]\n",
      " [ 6 15  1]\n",
      " [ 0  1 30]]\n"
     ]
    }
   ],
   "source": [
    "print('Hit rate:')\n",
    "print(hit_rate_list, end='\\n\\n')\n",
    "\n",
    "print('Accuracy:')\n",
    "print(sum(hit_rate_list)/len(hit_rate_list), end='\\n\\n')\n",
    "\n",
    "print('Standard Deviation:')\n",
    "print(std_dev, end='\\n\\n')\n",
    "\n",
    "print('Confusion Matrix:')\n",
    "for matrix in confusion_matrix_list:\n",
    "    print(matrix, end='\\n')"
   ]
  },
  {
   "cell_type": "markdown",
   "metadata": {},
   "source": [
    "# Choosing two columns from the last X_train and X_test to plot decision surface"
   ]
  },
  {
   "cell_type": "code",
   "execution_count": 30,
   "metadata": {},
   "outputs": [
    {
     "name": "stdout",
     "output_type": "stream",
     "text": [
      "Train dataset:\n",
      "         0      1\n",
      "19   41.73  12.25\n",
      "183  71.00  37.52\n",
      "286  61.73  17.11\n",
      "302  54.60  21.49\n",
      "307  61.45  22.69\n",
      "..     ...    ...\n",
      "184  81.06  20.80\n",
      "31   46.39  11.08\n",
      "275  67.29  16.72\n",
      "75   70.22  39.82\n",
      "206  95.48  46.55\n",
      "\n",
      "[248 rows x 2 columns]\n",
      "Test dataset:\n",
      "         0      1\n",
      "211  54.92  18.97\n",
      "108  63.17   6.33\n",
      "239  56.45  19.44\n",
      "289  44.43  14.17\n",
      "55   47.66  13.28\n",
      "..     ...    ...\n",
      "169  44.25   1.10\n",
      "220  44.49  21.79\n",
      "10   49.71  13.04\n",
      "157  44.22   1.51\n",
      "145  85.64  42.69\n",
      "\n",
      "[62 rows x 2 columns]\n"
     ]
    }
   ],
   "source": [
    "X_train_2d, X_test_2d = X_train[X_train.columns[:2]], X_test[X_train.columns[:2]]\n",
    "\n",
    "print('Train dataset:')\n",
    "print(X_train_2d)\n",
    "print('Test dataset:')\n",
    "print(X_test_2d)"
   ]
  },
  {
   "cell_type": "markdown",
   "metadata": {},
   "source": [
    "# Training the model with the new dataset 2d"
   ]
  },
  {
   "cell_type": "code",
   "execution_count": 31,
   "metadata": {},
   "outputs": [
    {
     "name": "stderr",
     "output_type": "stream",
     "text": [
      "w:\\Home\\ML\\knn\\knn.py:11: FutureWarning: The default dtype for empty Series will be 'object' instead of 'float64' in a future version. Specify a dtype explicitly to silence this warning.\n",
      "  self.__y = pd.Series([])\n"
     ]
    }
   ],
   "source": [
    "knn_model = knn(k=3, type_distance_calc='euclidean')\n",
    "knn_model.fit(X_train_2d, y_train)"
   ]
  },
  {
   "cell_type": "markdown",
   "metadata": {},
   "source": [
    "# Plotting decision surface"
   ]
  },
  {
   "cell_type": "code",
   "execution_count": 32,
   "metadata": {},
   "outputs": [
    {
     "data": {
      "image/png": "[encoded data removed]",
      "text/plain": [
       "<Figure size 640x480 with 1 Axes>"
      ]
     },
     "metadata": {},
     "output_type": "display_data"
    }
   ],
   "source": [
    "data = X_train_2d[:][:].values\n",
    "\n",
    "x_ax = np.arange(data[:, 0].min(), data[:, 1].max())\n",
    "\n",
    "dh = np.where(y_train == 'DH')\n",
    "sl = np.where(y_train == 'SL')\n",
    "no = np.where(y_train == 'NO')\n",
    "\n",
    "plt.scatter(data[dh, 0], data[dh, 1],\n",
    "            color='red', marker='o', label='dh')\n",
    "plt.scatter(data[sl, 0], data[sl, 1],\n",
    "            color='blue', marker='p', label='sl')\n",
    "plt.scatter(data[no, 0], data[no, 1],\n",
    "            color='yellow', marker='*', label='no')\n",
    "\n",
    "plt.show()"
   ]
  }
 ],
 "metadata": {
  "kernelspec": {
   "display_name": "Python 3.10.4 ('.venv': venv)",
   "language": "python",
   "name": "python3"
  },
  "language_info": {
   "codemirror_mode": {
    "name": "ipython",
    "version": 3
   },
   "file_extension": ".py",
   "mimetype": "text/x-python",
   "name": "python",
   "nbconvert_exporter": "python",
   "pygments_lexer": "ipython3",
   "version": "3.10.4"
  },
  "orig_nbformat": 4,
  "vscode": {
   "interpreter": {
    "hash": "33434f0cc8e6f3723834300de8718debdc0c9ba9cd4c4faf0515f4c47995aa8c"
   }
  }
 },
 "nbformat": 4,
 "nbformat_minor": 2
}
