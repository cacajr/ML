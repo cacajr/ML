{
 "cells": [
  {
   "cell_type": "markdown",
   "metadata": {},
   "source": [
    "# Import libs"
   ]
  },
  {
   "cell_type": "code",
   "execution_count": 1,
   "metadata": {},
   "outputs": [],
   "source": [
    "import pandas as pd\n",
    "import numpy as np\n",
    "from kmeans.kmeans import kmeans\n",
    "from sklearn.model_selection import train_test_split\n",
    "from sklearn.metrics import confusion_matrix\n",
    "from matplotlib import pyplot as plt"
   ]
  },
  {
   "cell_type": "markdown",
   "metadata": {},
   "source": [
    "# Loading Iris dataset"
   ]
  },
  {
   "cell_type": "code",
   "execution_count": 2,
   "metadata": {},
   "outputs": [],
   "source": [
    "Xy = pd.read_csv('./datasets/iris.csv')\n",
    "X = Xy.drop(['class'], axis=1)\n",
    "y = Xy['class']"
   ]
  },
  {
   "cell_type": "markdown",
   "metadata": {},
   "source": [
    "# Instantiating model"
   ]
  },
  {
   "cell_type": "code",
   "execution_count": 3,
   "metadata": {},
   "outputs": [],
   "source": [
    "kmeans_model = kmeans(k=3, type_distance_calc='euclidean', number_iteration=150)"
   ]
  },
  {
   "cell_type": "markdown",
   "metadata": {},
   "source": [
    "# Running the tests and computing informations"
   ]
  },
  {
   "cell_type": "code",
   "execution_count": 4,
   "metadata": {},
   "outputs": [],
   "source": [
    "realizations = 20\n",
    "hit_rate_list = []\n",
    "std_dev = 0\n",
    "confusion_matrix_list = []\n",
    "\n",
    "for r in range(realizations):\n",
    "    X_train, X_test, y_train, y_test = train_test_split(X, y, test_size = 0.2)\n",
    "\n",
    "    kmeans_model.fit(X_train, y_train)\n",
    "\n",
    "    hit_rate_list.append(kmeans_model.score(X_test, y_test))\n",
    "\n",
    "    y_pred = [kmeans_model.predict(x) for x in X_test.values]\n",
    "\n",
    "    confusion_matrix_list.append(confusion_matrix(y_test, y_pred))\n",
    "\n",
    "std_dev = np.std(hit_rate_list)"
   ]
  },
  {
   "cell_type": "markdown",
   "metadata": {},
   "source": [
    "# Showing informations computed"
   ]
  },
  {
   "cell_type": "code",
   "execution_count": 5,
   "metadata": {},
   "outputs": [
    {
     "name": "stdout",
     "output_type": "stream",
     "text": [
      "Hit rate:\n",
      "[0.9333333333333333]\n",
      "\n",
      "Accuracy:\n",
      "0.9333333333333333\n",
      "\n",
      "Standard Deviation:\n",
      "0.0\n",
      "\n",
      "Confusion Matrix:\n",
      "[[14  0  0]\n",
      " [ 0  7  2]\n",
      " [ 0  0  7]]\n"
     ]
    }
   ],
   "source": [
    "print('Hit rate:')\n",
    "print(hit_rate_list, end='\\n\\n')\n",
    "\n",
    "print('Accuracy:')\n",
    "print(sum(hit_rate_list)/len(hit_rate_list), end='\\n\\n')\n",
    "\n",
    "print('Standard Deviation:')\n",
    "print(std_dev, end='\\n\\n')\n",
    "\n",
    "print('Confusion Matrix:')\n",
    "for matrix in confusion_matrix_list:\n",
    "    print(matrix, end='\\n')"
   ]
  },
  {
   "cell_type": "markdown",
   "metadata": {},
   "source": [
    "# Choosing two columns from the last X_train and X_test to plot decision surface"
   ]
  },
  {
   "cell_type": "code",
   "execution_count": 6,
   "metadata": {},
   "outputs": [
    {
     "name": "stdout",
     "output_type": "stream",
     "text": [
      "Train dataset:\n",
      "     sepal-length  sepal-width\n",
      "84            5.4          3.0\n",
      "25            5.0          3.0\n",
      "76            6.8          2.8\n",
      "142           5.8          2.7\n",
      "61            5.9          3.0\n",
      "..            ...          ...\n",
      "59            5.2          2.7\n",
      "136           6.3          3.4\n",
      "129           7.2          3.0\n",
      "17            5.1          3.5\n",
      "118           7.7          2.6\n",
      "\n",
      "[120 rows x 2 columns]\n",
      "Test dataset:\n",
      "     sepal-length  sepal-width\n",
      "101           5.8          2.7\n",
      "13            4.3          3.0\n",
      "27            5.2          3.5\n",
      "125           7.2          3.2\n",
      "56            6.3          3.3\n",
      "9             4.9          3.1\n",
      "47            4.6          3.2\n",
      "87            6.3          2.3\n",
      "66            5.6          3.0\n",
      "107           7.3          2.9\n",
      "43            5.0          3.5\n",
      "39            5.1          3.4\n",
      "49            5.0          3.3\n",
      "65            6.7          3.1\n",
      "139           6.9          3.1\n",
      "29            4.7          3.2\n",
      "122           7.7          2.8\n",
      "41            4.5          2.3\n",
      "30            4.8          3.1\n",
      "148           6.2          3.4\n",
      "55            5.7          2.8\n",
      "96            5.7          2.9\n",
      "62            6.0          2.2\n",
      "19            5.1          3.8\n",
      "22            4.6          3.6\n",
      "113           5.7          2.5\n",
      "75            6.6          3.0\n",
      "68            6.2          2.2\n",
      "48            5.3          3.7\n",
      "6             4.6          3.4\n"
     ]
    }
   ],
   "source": [
    "X_train_2d, X_test_2d = X_train[['sepal-length', 'sepal-width']], X_test[['sepal-length', 'sepal-width']]\n",
    "\n",
    "print('Train dataset:')\n",
    "print(X_train_2d)\n",
    "print('Test dataset:')\n",
    "print(X_test_2d)"
   ]
  },
  {
   "cell_type": "markdown",
   "metadata": {},
   "source": [
    "# Training the model with the new dataset 2d"
   ]
  },
  {
   "cell_type": "code",
   "execution_count": 7,
   "metadata": {},
   "outputs": [],
   "source": [
    "kmeans_model = kmeans(k=3, type_distance_calc='euclidean', number_iteration=150)\n",
    "kmeans_model.fit(X_train_2d, y_train)"
   ]
  },
  {
   "cell_type": "markdown",
   "metadata": {},
   "source": [
    "# Plotting decision surface"
   ]
  },
  {
   "cell_type": "code",
   "execution_count": 8,
   "metadata": {},
   "outputs": [
    {
     "data": {
      "image/png": "[encoded data removed]",
      "text/plain": [
       "<Figure size 640x480 with 1 Axes>"
      ]
     },
     "metadata": {},
     "output_type": "display_data"
    }
   ],
   "source": [
    "data = X_test_2d[:][:].values\n",
    "\n",
    "y_pred = np.array([kmeans_model.predict(x) for x in X_test_2d.values])\n",
    "\n",
    "setosa = np.where(y_pred == 'Iris-setosa')\n",
    "virginica = np.where(y_pred == 'Iris-virginica')\n",
    "versicolor = np.where(y_pred == 'Iris-versicolor')\n",
    "\n",
    "plt.scatter(data[setosa, 0], data[setosa, 1],\n",
    "            color='red', marker='o', label='setosa')\n",
    "plt.scatter(data[virginica, 0], data[virginica, 1],\n",
    "            color='blue', marker='X', label='virginica')\n",
    "plt.scatter(data[versicolor, 0], data[versicolor, 1],\n",
    "            color='green', marker='P', label='versicolor')\n",
    "\n",
    "plt.show()"
   ]
  }
 ],
 "metadata": {
  "kernelspec": {
   "display_name": "Python 3.10.4 ('.venv': venv)",
   "language": "python",
   "name": "python3"
  },
  "language_info": {
   "codemirror_mode": {
    "name": "ipython",
    "version": 3
   },
   "file_extension": ".py",
   "mimetype": "text/x-python",
   "name": "python",
   "nbconvert_exporter": "python",
   "pygments_lexer": "ipython3",
   "version": "3.10.4"
  },
  "orig_nbformat": 4,
  "vscode": {
   "interpreter": {
    "hash": "33434f0cc8e6f3723834300de8718debdc0c9ba9cd4c4faf0515f4c47995aa8c"
   }
  }
 },
 "nbformat": 4,
 "nbformat_minor": 2
}
