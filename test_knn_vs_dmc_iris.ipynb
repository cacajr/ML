{
 "cells": [
  {
   "cell_type": "markdown",
   "metadata": {},
   "source": [
    "# Import libs"
   ]
  },
  {
   "cell_type": "code",
   "execution_count": 1,
   "metadata": {},
   "outputs": [],
   "source": [
    "import pandas as pd\n",
    "import numpy as np\n",
    "from knn.knn import knn\n",
    "from dmc.dmc import dmc\n",
    "from sklearn.model_selection import train_test_split\n",
    "from sklearn.metrics import confusion_matrix\n",
    "from matplotlib import pyplot as plt"
   ]
  },
  {
   "cell_type": "markdown",
   "metadata": {},
   "source": [
    "# Loading Iris dataset"
   ]
  },
  {
   "cell_type": "code",
   "execution_count": 2,
   "metadata": {},
   "outputs": [],
   "source": [
    "Xy = pd.read_csv('./datasets/iris.csv')\n",
    "X = Xy.drop(['class'], axis=1)\n",
    "y = Xy['class']"
   ]
  },
  {
   "cell_type": "markdown",
   "metadata": {},
   "source": [
    "# Instantiating models"
   ]
  },
  {
   "cell_type": "code",
   "execution_count": 3,
   "metadata": {},
   "outputs": [
    {
     "name": "stderr",
     "output_type": "stream",
     "text": [
      "w:\\Home\\ML\\knn\\knn.py:11: FutureWarning: The default dtype for empty Series will be 'object' instead of 'float64' in a future version. Specify a dtype explicitly to silence this warning.\n",
      "  self.__y = pd.Series([])\n"
     ]
    }
   ],
   "source": [
    "knn_model = knn(k=3, type_distance_calc='euclidean')\n",
    "dmc_model = dmc(type_distance_calc='euclidean')"
   ]
  },
  {
   "cell_type": "markdown",
   "metadata": {},
   "source": [
    "# Running the tests and computing informations"
   ]
  },
  {
   "cell_type": "code",
   "execution_count": 4,
   "metadata": {},
   "outputs": [],
   "source": [
    "realizations = 20\n",
    "knn_hit_rate_list = []\n",
    "dmc_hit_rate_list = []\n",
    "knn_std_dev = 0\n",
    "dmc_std_dev = 0\n",
    "knn_confusion_matrix_list = []\n",
    "dmc_confusion_matrix_list = []\n",
    "\n",
    "for r in range(realizations):\n",
    "    X_train, X_test, y_train, y_test = train_test_split(X, y, test_size = 0.2)\n",
    "\n",
    "    knn_model.fit(X_train, y_train)\n",
    "    dmc_model.fit(X_train, y_train)\n",
    "\n",
    "    knn_hit_rate_list.append(knn_model.score(X_test, y_test))\n",
    "    dmc_hit_rate_list.append(dmc_model.score(X_test, y_test))\n",
    "\n",
    "    knn_y_pred = [knn_model.predict(x) for x in X_test.values]\n",
    "    dmc_y_pred = [dmc_model.predict(x) for x in X_test.values]\n",
    "\n",
    "    knn_confusion_matrix_list.append(confusion_matrix(y_test, knn_y_pred))\n",
    "    dmc_confusion_matrix_list.append(confusion_matrix(y_test, dmc_y_pred))\n",
    "\n",
    "knn_std_dev = np.std(knn_hit_rate_list)\n",
    "dmc_std_dev = np.std(dmc_hit_rate_list)"
   ]
  },
  {
   "cell_type": "markdown",
   "metadata": {},
   "source": [
    "# Showing knn informations computed"
   ]
  },
  {
   "cell_type": "code",
   "execution_count": 6,
   "metadata": {},
   "outputs": [
    {
     "name": "stdout",
     "output_type": "stream",
     "text": [
      "----------------- KNN model -----------------\n",
      "Hit rate:\n",
      "[0.9333333333333333, 0.9333333333333333, 1.0, 0.9666666666666667, 0.9333333333333333, 0.9666666666666667, 0.9666666666666667, 0.9666666666666667, 0.8666666666666667, 0.9666666666666667, 0.9666666666666667, 0.9666666666666667, 0.9666666666666667, 1.0, 0.9666666666666667, 0.9333333333333333, 1.0, 0.9666666666666667, 0.9333333333333333, 0.9666666666666667]\n",
      "\n",
      "Accuracy:\n",
      "0.9583333333333333\n",
      "\n",
      "Standard Deviation:\n",
      "0.029580398915498074\n",
      "\n",
      "Confusion Matrix:\n",
      "[[ 8  0  0]\n",
      " [ 0  7  1]\n",
      " [ 0  1 13]]\n",
      "[[ 8  0  0]\n",
      " [ 0  8  2]\n",
      " [ 0  0 12]]\n",
      "[[ 7  0  0]\n",
      " [ 0  9  0]\n",
      " [ 0  0 14]]\n",
      "[[ 7  0  0]\n",
      " [ 0 12  0]\n",
      " [ 0  1 10]]\n",
      "[[10  0  0]\n",
      " [ 0 10  1]\n",
      " [ 0  1  8]]\n",
      "[[10  0  0]\n",
      " [ 0  9  1]\n",
      " [ 0  0 10]]\n",
      "[[12  0  0]\n",
      " [ 0  8  1]\n",
      " [ 0  0  9]]\n",
      "[[11  0  0]\n",
      " [ 0  9  1]\n",
      " [ 0  0  9]]\n",
      "[[11  0  0]\n",
      " [ 0  6  1]\n",
      " [ 0  3  9]]\n",
      "[[ 8  0  0]\n",
      " [ 0 10  1]\n",
      " [ 0  0 11]]\n",
      "[[ 9  0  0]\n",
      " [ 0 11  1]\n",
      " [ 0  0  9]]\n",
      "[[ 7  0  0]\n",
      " [ 0 11  0]\n",
      " [ 0  1 11]]\n",
      "[[12  0  0]\n",
      " [ 0  6  0]\n",
      " [ 0  1 11]]\n",
      "[[11  0  0]\n",
      " [ 0  8  0]\n",
      " [ 0  0 11]]\n",
      "[[ 9  0  0]\n",
      " [ 0 13  0]\n",
      " [ 0  1  7]]\n",
      "[[ 9  0  0]\n",
      " [ 0 11  1]\n",
      " [ 0  1  8]]\n",
      "[[14  0  0]\n",
      " [ 0  9  0]\n",
      " [ 0  0  7]]\n",
      "[[13  0  0]\n",
      " [ 0 11  0]\n",
      " [ 0  1  5]]\n",
      "[[15  0  0]\n",
      " [ 0  5  0]\n",
      " [ 0  2  8]]\n",
      "[[13  0  0]\n",
      " [ 0  7  0]\n",
      " [ 0  1  9]]\n"
     ]
    }
   ],
   "source": [
    "print('----------------- KNN model -----------------')\n",
    "print('Hit rate:')\n",
    "print(knn_hit_rate_list, end='\\n\\n')\n",
    "\n",
    "print('Accuracy:')\n",
    "print(sum(knn_hit_rate_list)/len(knn_hit_rate_list), end='\\n\\n')\n",
    "\n",
    "print('Standard Deviation:')\n",
    "print(knn_std_dev, end='\\n\\n')\n",
    "\n",
    "print('Confusion Matrix:')\n",
    "for matrix in knn_confusion_matrix_list:\n",
    "    print(matrix, end='\\n')"
   ]
  },
  {
   "cell_type": "markdown",
   "metadata": {},
   "source": [
    "# Showing dmc informations computed"
   ]
  },
  {
   "cell_type": "code",
   "execution_count": 7,
   "metadata": {},
   "outputs": [
    {
     "name": "stdout",
     "output_type": "stream",
     "text": [
      "----------------- DMC model -----------------\n",
      "Hit rate:\n",
      "[0.9333333333333333, 0.9666666666666667, 0.9333333333333333, 0.9333333333333333, 0.9, 0.9333333333333333, 0.9666666666666667, 0.9333333333333333, 0.8666666666666667, 0.9666666666666667, 0.9666666666666667, 0.9666666666666667, 0.9666666666666667, 0.9666666666666667, 0.9333333333333333, 0.9333333333333333, 1.0, 0.9666666666666667, 0.9, 1.0]\n",
      "\n",
      "Accuracy:\n",
      "0.9466666666666667\n",
      "\n",
      "Standard Deviation:\n",
      "0.032317865716108854\n",
      "\n",
      "Confusion Matrix:\n",
      "[[ 8  0  0]\n",
      " [ 0  8  0]\n",
      " [ 0  2 12]]\n",
      "[[ 8  0  0]\n",
      " [ 0 10  0]\n",
      " [ 0  1 11]]\n",
      "[[ 7  0  0]\n",
      " [ 0  8  1]\n",
      " [ 0  1 13]]\n",
      "[[ 7  0  0]\n",
      " [ 0 12  0]\n",
      " [ 0  2  9]]\n",
      "[[10  0  0]\n",
      " [ 0 11  0]\n",
      " [ 0  3  6]]\n",
      "[[10  0  0]\n",
      " [ 0 10  0]\n",
      " [ 0  2  8]]\n",
      "[[12  0  0]\n",
      " [ 0  8  1]\n",
      " [ 0  0  9]]\n",
      "[[11  0  0]\n",
      " [ 0  9  1]\n",
      " [ 0  1  8]]\n",
      "[[11  0  0]\n",
      " [ 0  6  1]\n",
      " [ 0  3  9]]\n",
      "[[ 8  0  0]\n",
      " [ 0 11  0]\n",
      " [ 0  1 10]]\n",
      "[[ 9  0  0]\n",
      " [ 0 11  1]\n",
      " [ 0  0  9]]\n",
      "[[ 7  0  0]\n",
      " [ 0 11  0]\n",
      " [ 0  1 11]]\n",
      "[[12  0  0]\n",
      " [ 0  6  0]\n",
      " [ 0  1 11]]\n",
      "[[11  0  0]\n",
      " [ 0  8  0]\n",
      " [ 0  1 10]]\n",
      "[[ 9  0  0]\n",
      " [ 0 13  0]\n",
      " [ 0  2  6]]\n",
      "[[ 9  0  0]\n",
      " [ 0 11  1]\n",
      " [ 0  1  8]]\n",
      "[[14  0  0]\n",
      " [ 0  9  0]\n",
      " [ 0  0  7]]\n",
      "[[13  0  0]\n",
      " [ 0 11  0]\n",
      " [ 0  1  5]]\n",
      "[[15  0  0]\n",
      " [ 0  4  1]\n",
      " [ 0  2  8]]\n",
      "[[13  0  0]\n",
      " [ 0  7  0]\n",
      " [ 0  0 10]]\n"
     ]
    }
   ],
   "source": [
    "print('----------------- DMC model -----------------')\n",
    "print('Hit rate:')\n",
    "print(dmc_hit_rate_list, end='\\n\\n')\n",
    "\n",
    "print('Accuracy:')\n",
    "print(sum(dmc_hit_rate_list)/len(dmc_hit_rate_list), end='\\n\\n')\n",
    "\n",
    "print('Standard Deviation:')\n",
    "print(dmc_std_dev, end='\\n\\n')\n",
    "\n",
    "print('Confusion Matrix:')\n",
    "for matrix in dmc_confusion_matrix_list:\n",
    "    print(matrix, end='\\n')"
   ]
  },
  {
   "cell_type": "markdown",
   "metadata": {},
   "source": [
    "# Choosing two columns from the last X_train and X_test to plot decision surface"
   ]
  },
  {
   "cell_type": "code",
   "execution_count": 8,
   "metadata": {},
   "outputs": [
    {
     "name": "stdout",
     "output_type": "stream",
     "text": [
      "Train dataset:\n",
      "     sepal-length  sepal-width\n",
      "41            4.5          2.3\n",
      "99            5.7          2.8\n",
      "44            5.1          3.8\n",
      "73            6.1          2.8\n",
      "100           6.3          3.3\n",
      "..            ...          ...\n",
      "13            4.3          3.0\n",
      "43            5.0          3.5\n",
      "129           7.2          3.0\n",
      "136           6.3          3.4\n",
      "10            5.4          3.7\n",
      "\n",
      "[120 rows x 2 columns]\n",
      "Test dataset:\n",
      "     sepal-length  sepal-width\n",
      "39            5.1          3.4\n",
      "35            5.0          3.2\n",
      "2             4.7          3.2\n",
      "5             5.4          3.9\n",
      "145           6.7          3.0\n",
      "89            5.5          2.5\n",
      "9             4.9          3.1\n",
      "32            5.2          4.1\n",
      "146           6.3          2.5\n",
      "15            5.7          4.4\n",
      "127           6.1          3.0\n",
      "64            5.6          2.9\n",
      "118           7.7          2.6\n",
      "19            5.1          3.8\n",
      "78            6.0          2.9\n",
      "139           6.9          3.1\n",
      "147           6.5          3.0\n",
      "58            6.6          2.9\n",
      "102           7.1          3.0\n",
      "47            4.6          3.2\n",
      "131           7.9          3.8\n",
      "28            5.2          3.4\n",
      "14            5.8          4.0\n",
      "88            5.6          3.0\n",
      "91            6.1          3.0\n",
      "133           6.3          2.8\n",
      "75            6.6          3.0\n",
      "137           6.4          3.1\n",
      "25            5.0          3.0\n",
      "0             5.1          3.5\n"
     ]
    }
   ],
   "source": [
    "X_train_2d, X_test_2d = X_train[['sepal-length', 'sepal-width']], X_test[['sepal-length', 'sepal-width']]\n",
    "\n",
    "print('Train dataset:')\n",
    "print(X_train_2d)\n",
    "print('Test dataset:')\n",
    "print(X_test_2d)"
   ]
  },
  {
   "cell_type": "markdown",
   "metadata": {},
   "source": [
    "# Training the models with the new dataset 2d"
   ]
  },
  {
   "cell_type": "code",
   "execution_count": 9,
   "metadata": {},
   "outputs": [
    {
     "name": "stderr",
     "output_type": "stream",
     "text": [
      "w:\\Home\\ML\\knn\\knn.py:11: FutureWarning: The default dtype for empty Series will be 'object' instead of 'float64' in a future version. Specify a dtype explicitly to silence this warning.\n",
      "  self.__y = pd.Series([])\n"
     ]
    }
   ],
   "source": [
    "knn_model = knn(k=3, type_distance_calc='euclidean')\n",
    "knn_model.fit(X_train_2d, y_train)\n",
    "dmc_model = dmc(type_distance_calc='euclidean')\n",
    "dmc_model.fit(X_train_2d, y_train)"
   ]
  },
  {
   "cell_type": "markdown",
   "metadata": {},
   "source": [
    "# Plotting knn decision surface"
   ]
  },
  {
   "cell_type": "code",
   "execution_count": 10,
   "metadata": {},
   "outputs": [
    {
     "data": {
      "image/png": "[encoded data removed]",
      "text/plain": [
       "<Figure size 640x480 with 1 Axes>"
      ]
     },
     "metadata": {},
     "output_type": "display_data"
    }
   ],
   "source": [
    "data = X_test_2d[:][:].values\n",
    "\n",
    "knn_y_pred = np.array([knn_model.predict(x) for x in X_test_2d.values])\n",
    "\n",
    "setosa = np.where(knn_y_pred == 'Iris-setosa')\n",
    "virginica = np.where(knn_y_pred == 'Iris-virginica')\n",
    "versicolor = np.where(knn_y_pred == 'Iris-versicolor')\n",
    "\n",
    "plt.scatter(data[setosa, 0], data[setosa, 1],\n",
    "            color='red', marker='o', label='setosa')\n",
    "plt.scatter(data[versicolor, 0], data[versicolor, 1],\n",
    "            color='blue', marker='X', label='versicolor')\n",
    "plt.scatter(data[virginica, 0], data[virginica, 1],\n",
    "            color='green', marker='P', label='virginica')\n",
    "\n",
    "plt.show()"
   ]
  },
  {
   "cell_type": "markdown",
   "metadata": {},
   "source": [
    "# Plotting dmc decision surface"
   ]
  },
  {
   "cell_type": "code",
   "execution_count": 11,
   "metadata": {},
   "outputs": [
    {
     "data": {
      "image/png": "[encoded data removed]",
      "text/plain": [
       "<Figure size 640x480 with 1 Axes>"
      ]
     },
     "metadata": {},
     "output_type": "display_data"
    }
   ],
   "source": [
    "data = X_test_2d[:][:].values\n",
    "\n",
    "dmc_y_pred = np.array([dmc_model.predict(x) for x in X_test_2d.values])\n",
    "\n",
    "setosa = np.where(dmc_y_pred == 'Iris-setosa')\n",
    "virginica = np.where(dmc_y_pred == 'Iris-virginica')\n",
    "versicolor = np.where(dmc_y_pred == 'Iris-versicolor')\n",
    "\n",
    "plt.scatter(data[setosa, 0], data[setosa, 1],\n",
    "            color='red', marker='o', label='setosa')\n",
    "plt.scatter(data[versicolor, 0], data[versicolor, 1],\n",
    "            color='blue', marker='X', label='versicolor')\n",
    "plt.scatter(data[virginica, 0], data[virginica, 1],\n",
    "            color='green', marker='P', label='virginica')\n",
    "\n",
    "plt.show()"
   ]
  }
 ],
 "metadata": {
  "kernelspec": {
   "display_name": "Python 3.10.4 ('.venv': venv)",
   "language": "python",
   "name": "python3"
  },
  "language_info": {
   "codemirror_mode": {
    "name": "ipython",
    "version": 3
   },
   "file_extension": ".py",
   "mimetype": "text/x-python",
   "name": "python",
   "nbconvert_exporter": "python",
   "pygments_lexer": "ipython3",
   "version": "3.10.4"
  },
  "orig_nbformat": 4,
  "vscode": {
   "interpreter": {
    "hash": "33434f0cc8e6f3723834300de8718debdc0c9ba9cd4c4faf0515f4c47995aa8c"
   }
  }
 },
 "nbformat": 4,
 "nbformat_minor": 2
}
