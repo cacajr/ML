{
 "cells": [
  {
   "cell_type": "markdown",
   "metadata": {},
   "source": [
    "# Import libs"
   ]
  },
  {
   "cell_type": "code",
   "execution_count": 1,
   "metadata": {},
   "outputs": [],
   "source": [
    "import pandas as pd\n",
    "import numpy as np\n",
    "from knn.knn import knn\n",
    "from dmc.dmc import dmc\n",
    "from sklearn.model_selection import train_test_split\n",
    "# from sklearn.metrics import confusion_matrix\n",
    "from utils.functions import confusion_matrix, confusion_matrix_mean\n",
    "from matplotlib import pyplot as plt"
   ]
  },
  {
   "cell_type": "markdown",
   "metadata": {},
   "source": [
    "# Loading Iris dataset"
   ]
  },
  {
   "cell_type": "code",
   "execution_count": 2,
   "metadata": {},
   "outputs": [],
   "source": [
    "Xy = pd.read_csv('./datasets/iris.csv')\n",
    "X = Xy.drop(['class'], axis=1)\n",
    "y = Xy['class']"
   ]
  },
  {
   "cell_type": "markdown",
   "metadata": {},
   "source": [
    "# Instantiating models"
   ]
  },
  {
   "cell_type": "code",
   "execution_count": 3,
   "metadata": {},
   "outputs": [
    {
     "name": "stderr",
     "output_type": "stream",
     "text": [
      "w:\\Home\\ML\\knn\\knn.py:11: FutureWarning: The default dtype for empty Series will be 'object' instead of 'float64' in a future version. Specify a dtype explicitly to silence this warning.\n",
      "  self.__y = pd.Series([])\n"
     ]
    }
   ],
   "source": [
    "knn_model = knn(k=3, type_distance_calc='euclidean')\n",
    "dmc_model = dmc(type_distance_calc='euclidean')"
   ]
  },
  {
   "cell_type": "markdown",
   "metadata": {},
   "source": [
    "# Running the tests and computing informations"
   ]
  },
  {
   "cell_type": "code",
   "execution_count": 4,
   "metadata": {},
   "outputs": [],
   "source": [
    "realizations = 20\n",
    "knn_hit_rate_list = []\n",
    "dmc_hit_rate_list = []\n",
    "knn_std_dev = 0\n",
    "dmc_std_dev = 0\n",
    "knn_confusion_matrix_list = []\n",
    "dmc_confusion_matrix_list = []\n",
    "\n",
    "for r in range(realizations):\n",
    "    X_train, X_test, y_train, y_test = train_test_split(X, y, test_size = 0.2)\n",
    "\n",
    "    knn_model.fit(X_train, y_train)\n",
    "    dmc_model.fit(X_train, y_train)\n",
    "\n",
    "    knn_hit_rate_list.append(knn_model.score(X_test, y_test))\n",
    "    dmc_hit_rate_list.append(dmc_model.score(X_test, y_test))\n",
    "\n",
    "    knn_y_pred = [knn_model.predict(x) for x in X_test.values]\n",
    "    dmc_y_pred = [dmc_model.predict(x) for x in X_test.values]\n",
    "\n",
    "    knn_confusion_matrix_list.append(confusion_matrix(y_test, knn_y_pred))\n",
    "    dmc_confusion_matrix_list.append(confusion_matrix(y_test, dmc_y_pred))\n",
    "\n",
    "knn_std_dev = np.std(knn_hit_rate_list)\n",
    "dmc_std_dev = np.std(dmc_hit_rate_list)"
   ]
  },
  {
   "cell_type": "markdown",
   "metadata": {},
   "source": [
    "# Showing knn informations computed"
   ]
  },
  {
   "cell_type": "code",
   "execution_count": 5,
   "metadata": {},
   "outputs": [
    {
     "name": "stdout",
     "output_type": "stream",
     "text": [
      "----------------- KNN model -----------------\n",
      "Hit rate:\n",
      "[0.9333333333333333, 0.9333333333333333, 0.9666666666666667, 0.9333333333333333, 0.9333333333333333, 0.9333333333333333, 0.9333333333333333, 0.9333333333333333, 1.0, 1.0, 0.9333333333333333, 0.9333333333333333, 0.9, 1.0, 1.0, 0.9666666666666667, 0.9333333333333333, 0.9666666666666667, 1.0, 1.0]\n",
      "\n",
      "Accuracy:\n",
      "0.9566666666666667\n",
      "\n",
      "Standard Deviation:\n",
      "0.03179797338056485\n",
      "\n",
      "Confusion Matrix:\n",
      "                 Iris-versicolor  Iris-setosa  Iris-virginica\n",
      "Iris-versicolor                6            0               1\n",
      "Iris-setosa                    0           10               0\n",
      "Iris-virginica                 1            0              12\n",
      "                 Iris-versicolor  Iris-virginica  Iris-setosa\n",
      "Iris-versicolor               11               2            0\n",
      "Iris-virginica                 0               8            0\n",
      "Iris-setosa                    0               0            9\n",
      "                 Iris-setosa  Iris-virginica  Iris-versicolor\n",
      "Iris-setosa                9               0                0\n",
      "Iris-virginica             0              10                0\n",
      "Iris-versicolor            0               1               10\n",
      "                 Iris-versicolor  Iris-virginica  Iris-setosa\n",
      "Iris-versicolor               12               1            0\n",
      "Iris-virginica                 1               7            0\n",
      "Iris-setosa                    0               0            9\n",
      "                 Iris-setosa  Iris-versicolor  Iris-virginica\n",
      "Iris-setosa                6                0               0\n",
      "Iris-versicolor            0               10               1\n",
      "Iris-virginica             0                1              12\n",
      "                 Iris-versicolor  Iris-virginica  Iris-setosa\n",
      "Iris-versicolor                9               0            0\n",
      "Iris-virginica                 2              11            0\n",
      "Iris-setosa                    0               0            8\n",
      "                 Iris-virginica  Iris-versicolor  Iris-setosa\n",
      "Iris-virginica               13                2            0\n",
      "Iris-versicolor               0                9            0\n",
      "Iris-setosa                   0                0            6\n",
      "                 Iris-setosa  Iris-versicolor  Iris-virginica\n",
      "Iris-setosa                5                0               0\n",
      "Iris-versicolor            0               14               1\n",
      "Iris-virginica             0                1               9\n",
      "                 Iris-versicolor  Iris-setosa  Iris-virginica\n",
      "Iris-versicolor               11            0               0\n",
      "Iris-setosa                    0           11               0\n",
      "Iris-virginica                 0            0               8\n",
      "                 Iris-versicolor  Iris-setosa  Iris-virginica\n",
      "Iris-versicolor                9            0               0\n",
      "Iris-setosa                    0           11               0\n",
      "Iris-virginica                 0            0              10\n",
      "                 Iris-setosa  Iris-versicolor  Iris-virginica\n",
      "Iris-setosa                8                0               0\n",
      "Iris-versicolor            0                8               0\n",
      "Iris-virginica             0                2              12\n",
      "                 Iris-virginica  Iris-setosa  Iris-versicolor\n",
      "Iris-virginica                7            0                0\n",
      "Iris-setosa                   0           11                0\n",
      "Iris-versicolor               2            0               10\n",
      "                 Iris-setosa  Iris-versicolor  Iris-virginica\n",
      "Iris-setosa                7                0               0\n",
      "Iris-versicolor            0               11               1\n",
      "Iris-virginica             0                2               9\n",
      "                 Iris-virginica  Iris-versicolor  Iris-setosa\n",
      "Iris-virginica               14                0            0\n",
      "Iris-versicolor               0                5            0\n",
      "Iris-setosa                   0                0           11\n",
      "                 Iris-versicolor  Iris-virginica  Iris-setosa\n",
      "Iris-versicolor               13               0            0\n",
      "Iris-virginica                 0              11            0\n",
      "Iris-setosa                    0               0            6\n",
      "                 Iris-setosa  Iris-virginica  Iris-versicolor\n",
      "Iris-setosa               14               0                0\n",
      "Iris-virginica             0               6                0\n",
      "Iris-versicolor            0               1                9\n",
      "                 Iris-virginica  Iris-setosa  Iris-versicolor\n",
      "Iris-virginica                7            0                1\n",
      "Iris-setosa                   0            9                0\n",
      "Iris-versicolor               1            0               12\n",
      "                 Iris-versicolor  Iris-setosa  Iris-virginica\n",
      "Iris-versicolor                6            0               0\n",
      "Iris-setosa                    0            9               0\n",
      "Iris-virginica                 1            0              14\n",
      "                 Iris-setosa  Iris-virginica  Iris-versicolor\n",
      "Iris-setosa               13               0                0\n",
      "Iris-virginica             0               7                0\n",
      "Iris-versicolor            0               0               10\n",
      "                 Iris-versicolor  Iris-setosa  Iris-virginica\n",
      "Iris-versicolor               11            0               0\n",
      "Iris-setosa                    0            8               0\n",
      "Iris-virginica                 0            0              11\n"
     ]
    }
   ],
   "source": [
    "print('----------------- KNN model -----------------')\n",
    "print('Hit rate:')\n",
    "print(knn_hit_rate_list, end='\\n\\n')\n",
    "\n",
    "print('Accuracy:')\n",
    "print(sum(knn_hit_rate_list)/len(knn_hit_rate_list), end='\\n\\n')\n",
    "\n",
    "print('Standard Deviation:')\n",
    "print(knn_std_dev, end='\\n\\n')\n",
    "\n",
    "print('Confusion Matrix:')\n",
    "for matrix in knn_confusion_matrix_list:\n",
    "    print(matrix, end='\\n')"
   ]
  },
  {
   "cell_type": "code",
   "execution_count": 7,
   "metadata": {},
   "outputs": [
    {
     "data": {
      "text/html": [
       "<div>\n",
       "<style scoped>\n",
       "    .dataframe tbody tr th:only-of-type {\n",
       "        vertical-align: middle;\n",
       "    }\n",
       "\n",
       "    .dataframe tbody tr th {\n",
       "        vertical-align: top;\n",
       "    }\n",
       "\n",
       "    .dataframe thead th {\n",
       "        text-align: right;\n",
       "    }\n",
       "</style>\n",
       "<table border=\"1\" class=\"dataframe\">\n",
       "  <thead>\n",
       "    <tr style=\"text-align: right;\">\n",
       "      <th></th>\n",
       "      <th>Iris-versicolor</th>\n",
       "      <th>Iris-virginica</th>\n",
       "      <th>Iris-setosa</th>\n",
       "    </tr>\n",
       "  </thead>\n",
       "  <tbody>\n",
       "    <tr>\n",
       "      <th>Iris-versicolor</th>\n",
       "      <td>9</td>\n",
       "      <td>0</td>\n",
       "      <td>0</td>\n",
       "    </tr>\n",
       "    <tr>\n",
       "      <th>Iris-virginica</th>\n",
       "      <td>0</td>\n",
       "      <td>9</td>\n",
       "      <td>0</td>\n",
       "    </tr>\n",
       "    <tr>\n",
       "      <th>Iris-setosa</th>\n",
       "      <td>0</td>\n",
       "      <td>0</td>\n",
       "      <td>10</td>\n",
       "    </tr>\n",
       "  </tbody>\n",
       "</table>\n",
       "</div>"
      ],
      "text/plain": [
       "                 Iris-versicolor  Iris-virginica  Iris-setosa\n",
       "Iris-versicolor                9               0            0\n",
       "Iris-virginica                 0               9            0\n",
       "Iris-setosa                    0               0           10"
      ]
     },
     "execution_count": 7,
     "metadata": {},
     "output_type": "execute_result"
    }
   ],
   "source": [
    "confusion_matrix_mean(knn_confusion_matrix_list)"
   ]
  },
  {
   "cell_type": "code",
   "execution_count": 30,
   "metadata": {},
   "outputs": [
    {
     "data": {
      "text/html": [
       "<div>\n",
       "<style scoped>\n",
       "    .dataframe tbody tr th:only-of-type {\n",
       "        vertical-align: middle;\n",
       "    }\n",
       "\n",
       "    .dataframe tbody tr th {\n",
       "        vertical-align: top;\n",
       "    }\n",
       "\n",
       "    .dataframe thead th {\n",
       "        text-align: right;\n",
       "    }\n",
       "</style>\n",
       "<table border=\"1\" class=\"dataframe\">\n",
       "  <thead>\n",
       "    <tr style=\"text-align: right;\">\n",
       "      <th></th>\n",
       "      <th>Iris-versicolor</th>\n",
       "      <th>Iris-setosa</th>\n",
       "      <th>Iris-virginica</th>\n",
       "    </tr>\n",
       "  </thead>\n",
       "  <tbody>\n",
       "    <tr>\n",
       "      <th>Iris-versicolor</th>\n",
       "      <td>9</td>\n",
       "      <td>0</td>\n",
       "      <td>2</td>\n",
       "    </tr>\n",
       "    <tr>\n",
       "      <th>Iris-setosa</th>\n",
       "      <td>0</td>\n",
       "      <td>9</td>\n",
       "      <td>0</td>\n",
       "    </tr>\n",
       "    <tr>\n",
       "      <th>Iris-virginica</th>\n",
       "      <td>0</td>\n",
       "      <td>0</td>\n",
       "      <td>10</td>\n",
       "    </tr>\n",
       "  </tbody>\n",
       "</table>\n",
       "</div>"
      ],
      "text/plain": [
       "                 Iris-versicolor  Iris-setosa  Iris-virginica\n",
       "Iris-versicolor                9            0               2\n",
       "Iris-setosa                    0            9               0\n",
       "Iris-virginica                 0            0              10"
      ]
     },
     "execution_count": 30,
     "metadata": {},
     "output_type": "execute_result"
    }
   ],
   "source": [
    "knn_confusion_matrix_list[1] # 1, 12"
   ]
  },
  {
   "cell_type": "markdown",
   "metadata": {},
   "source": [
    "# Showing dmc informations computed"
   ]
  },
  {
   "cell_type": "code",
   "execution_count": 6,
   "metadata": {},
   "outputs": [
    {
     "name": "stdout",
     "output_type": "stream",
     "text": [
      "----------------- DMC model -----------------\n",
      "Hit rate:\n",
      "[0.8666666666666667, 0.8666666666666667, 1.0, 0.9333333333333333, 0.9333333333333333, 0.8666666666666667, 0.9333333333333333, 0.9666666666666667, 0.9666666666666667, 1.0, 0.9, 0.9666666666666667, 0.8666666666666667, 0.9666666666666667, 0.9, 0.9666666666666667, 0.9333333333333333, 0.9, 0.9666666666666667, 0.9666666666666667]\n",
      "\n",
      "Accuracy:\n",
      "0.9333333333333332\n",
      "\n",
      "Standard Deviation:\n",
      "0.043461349368017654\n",
      "\n",
      "Confusion Matrix:\n",
      "                 Iris-versicolor  Iris-setosa  Iris-virginica\n",
      "Iris-versicolor                5            0               2\n",
      "Iris-setosa                    0           10               0\n",
      "Iris-virginica                 2            0              11\n",
      "                 Iris-versicolor  Iris-virginica  Iris-setosa\n",
      "Iris-versicolor               10               3            0\n",
      "Iris-virginica                 1               7            0\n",
      "Iris-setosa                    0               0            9\n",
      "                 Iris-setosa  Iris-virginica  Iris-versicolor\n",
      "Iris-setosa                9               0                0\n",
      "Iris-virginica             0              10                0\n",
      "Iris-versicolor            0               0               11\n",
      "                 Iris-versicolor  Iris-virginica  Iris-setosa\n",
      "Iris-versicolor               12               1            0\n",
      "Iris-virginica                 1               7            0\n",
      "Iris-setosa                    0               0            9\n",
      "                 Iris-setosa  Iris-versicolor  Iris-virginica\n",
      "Iris-setosa                6                0               0\n",
      "Iris-versicolor            0               11               0\n",
      "Iris-virginica             0                2              11\n",
      "                 Iris-versicolor  Iris-virginica  Iris-setosa\n",
      "Iris-versicolor                8               1            0\n",
      "Iris-virginica                 3              10            0\n",
      "Iris-setosa                    0               0            8\n",
      "                 Iris-virginica  Iris-versicolor  Iris-setosa\n",
      "Iris-virginica               14                1            0\n",
      "Iris-versicolor               1                8            0\n",
      "Iris-setosa                   0                0            6\n",
      "                 Iris-setosa  Iris-versicolor  Iris-virginica\n",
      "Iris-setosa                5                0               0\n",
      "Iris-versicolor            0               15               0\n",
      "Iris-virginica             0                1               9\n",
      "                 Iris-versicolor  Iris-setosa  Iris-virginica\n",
      "Iris-versicolor               10            0               1\n",
      "Iris-setosa                    0           11               0\n",
      "Iris-virginica                 0            0               8\n",
      "                 Iris-versicolor  Iris-setosa  Iris-virginica\n",
      "Iris-versicolor                9            0               0\n",
      "Iris-setosa                    0           11               0\n",
      "Iris-virginica                 0            0              10\n",
      "                 Iris-setosa  Iris-versicolor  Iris-virginica\n",
      "Iris-setosa                8                0               0\n",
      "Iris-versicolor            0                8               0\n",
      "Iris-virginica             0                3              11\n",
      "                 Iris-virginica  Iris-setosa  Iris-versicolor\n",
      "Iris-virginica                7            0                0\n",
      "Iris-setosa                   0           11                0\n",
      "Iris-versicolor               1            0               11\n",
      "                 Iris-setosa  Iris-versicolor  Iris-virginica\n",
      "Iris-setosa                7                0               0\n",
      "Iris-versicolor            0               11               1\n",
      "Iris-virginica             0                3               8\n",
      "                 Iris-virginica  Iris-versicolor  Iris-setosa\n",
      "Iris-virginica               13                1            0\n",
      "Iris-versicolor               0                5            0\n",
      "Iris-setosa                   0                0           11\n",
      "                 Iris-versicolor  Iris-virginica  Iris-setosa\n",
      "Iris-versicolor               12               1            0\n",
      "Iris-virginica                 2               9            0\n",
      "Iris-setosa                    0               0            6\n",
      "                 Iris-setosa  Iris-virginica  Iris-versicolor\n",
      "Iris-setosa               14               0                0\n",
      "Iris-virginica             0               6                0\n",
      "Iris-versicolor            0               1                9\n",
      "                 Iris-virginica  Iris-setosa  Iris-versicolor\n",
      "Iris-virginica                6            0                2\n",
      "Iris-setosa                   0            9                0\n",
      "Iris-versicolor               0            0               13\n",
      "                 Iris-versicolor  Iris-setosa  Iris-virginica\n",
      "Iris-versicolor                5            0               1\n",
      "Iris-setosa                    0            9               0\n",
      "Iris-virginica                 2            0              13\n",
      "                 Iris-setosa  Iris-virginica  Iris-versicolor\n",
      "Iris-setosa               13               0                0\n",
      "Iris-virginica             0               6                1\n",
      "Iris-versicolor            0               0               10\n",
      "                 Iris-versicolor  Iris-setosa  Iris-virginica\n",
      "Iris-versicolor               11            0               0\n",
      "Iris-setosa                    0            8               0\n",
      "Iris-virginica                 1            0              10\n"
     ]
    }
   ],
   "source": [
    "print('----------------- DMC model -----------------')\n",
    "print('Hit rate:')\n",
    "print(dmc_hit_rate_list, end='\\n\\n')\n",
    "\n",
    "print('Accuracy:')\n",
    "print(sum(dmc_hit_rate_list)/len(dmc_hit_rate_list), end='\\n\\n')\n",
    "\n",
    "print('Standard Deviation:')\n",
    "print(dmc_std_dev, end='\\n\\n')\n",
    "\n",
    "print('Confusion Matrix:')\n",
    "for matrix in dmc_confusion_matrix_list:\n",
    "    print(matrix, end='\\n')"
   ]
  },
  {
   "cell_type": "code",
   "execution_count": 32,
   "metadata": {},
   "outputs": [
    {
     "data": {
      "text/html": [
       "<div>\n",
       "<style scoped>\n",
       "    .dataframe tbody tr th:only-of-type {\n",
       "        vertical-align: middle;\n",
       "    }\n",
       "\n",
       "    .dataframe tbody tr th {\n",
       "        vertical-align: top;\n",
       "    }\n",
       "\n",
       "    .dataframe thead th {\n",
       "        text-align: right;\n",
       "    }\n",
       "</style>\n",
       "<table border=\"1\" class=\"dataframe\">\n",
       "  <thead>\n",
       "    <tr style=\"text-align: right;\">\n",
       "      <th></th>\n",
       "      <th>Iris-versicolor</th>\n",
       "      <th>Iris-virginica</th>\n",
       "      <th>Iris-setosa</th>\n",
       "    </tr>\n",
       "  </thead>\n",
       "  <tbody>\n",
       "    <tr>\n",
       "      <th>Iris-versicolor</th>\n",
       "      <td>9</td>\n",
       "      <td>0</td>\n",
       "      <td>0</td>\n",
       "    </tr>\n",
       "    <tr>\n",
       "      <th>Iris-virginica</th>\n",
       "      <td>1</td>\n",
       "      <td>8</td>\n",
       "      <td>0</td>\n",
       "    </tr>\n",
       "    <tr>\n",
       "      <th>Iris-setosa</th>\n",
       "      <td>0</td>\n",
       "      <td>0</td>\n",
       "      <td>10</td>\n",
       "    </tr>\n",
       "  </tbody>\n",
       "</table>\n",
       "</div>"
      ],
      "text/plain": [
       "                 Iris-versicolor  Iris-virginica  Iris-setosa\n",
       "Iris-versicolor                9               0            0\n",
       "Iris-virginica                 1               8            0\n",
       "Iris-setosa                    0               0           10"
      ]
     },
     "execution_count": 32,
     "metadata": {},
     "output_type": "execute_result"
    }
   ],
   "source": [
    "confusion_matrix_mean(dmc_confusion_matrix_list)"
   ]
  },
  {
   "cell_type": "code",
   "execution_count": 53,
   "metadata": {},
   "outputs": [
    {
     "data": {
      "text/html": [
       "<div>\n",
       "<style scoped>\n",
       "    .dataframe tbody tr th:only-of-type {\n",
       "        vertical-align: middle;\n",
       "    }\n",
       "\n",
       "    .dataframe tbody tr th {\n",
       "        vertical-align: top;\n",
       "    }\n",
       "\n",
       "    .dataframe thead th {\n",
       "        text-align: right;\n",
       "    }\n",
       "</style>\n",
       "<table border=\"1\" class=\"dataframe\">\n",
       "  <thead>\n",
       "    <tr style=\"text-align: right;\">\n",
       "      <th></th>\n",
       "      <th>Iris-setosa</th>\n",
       "      <th>Iris-virginica</th>\n",
       "      <th>Iris-versicolor</th>\n",
       "    </tr>\n",
       "  </thead>\n",
       "  <tbody>\n",
       "    <tr>\n",
       "      <th>Iris-setosa</th>\n",
       "      <td>11</td>\n",
       "      <td>0</td>\n",
       "      <td>0</td>\n",
       "    </tr>\n",
       "    <tr>\n",
       "      <th>Iris-virginica</th>\n",
       "      <td>0</td>\n",
       "      <td>8</td>\n",
       "      <td>1</td>\n",
       "    </tr>\n",
       "    <tr>\n",
       "      <th>Iris-versicolor</th>\n",
       "      <td>0</td>\n",
       "      <td>0</td>\n",
       "      <td>10</td>\n",
       "    </tr>\n",
       "  </tbody>\n",
       "</table>\n",
       "</div>"
      ],
      "text/plain": [
       "                 Iris-setosa  Iris-virginica  Iris-versicolor\n",
       "Iris-setosa               11               0                0\n",
       "Iris-virginica             0               8                1\n",
       "Iris-versicolor            0               0               10"
      ]
     },
     "execution_count": 53,
     "metadata": {},
     "output_type": "execute_result"
    }
   ],
   "source": [
    "dmc_confusion_matrix_list[12]"
   ]
  },
  {
   "cell_type": "markdown",
   "metadata": {},
   "source": [
    "# Choosing two columns from the last X_train and X_test to plot decision surface"
   ]
  },
  {
   "cell_type": "code",
   "execution_count": 7,
   "metadata": {},
   "outputs": [
    {
     "name": "stdout",
     "output_type": "stream",
     "text": [
      "Train dataset:\n",
      "     sepal-length  sepal-width\n",
      "20            5.4          3.4\n",
      "41            4.5          2.3\n",
      "36            5.5          3.5\n",
      "89            5.5          2.5\n",
      "140           6.7          3.1\n",
      "..            ...          ...\n",
      "9             4.9          3.1\n",
      "8             4.4          2.9\n",
      "44            5.1          3.8\n",
      "6             4.6          3.4\n",
      "119           6.0          2.2\n",
      "\n",
      "[120 rows x 2 columns]\n",
      "Test dataset:\n",
      "     sepal-length  sepal-width\n",
      "79            5.7          2.6\n",
      "13            4.3          3.0\n",
      "102           7.1          3.0\n",
      "113           5.7          2.5\n",
      "143           6.8          3.2\n",
      "57            4.9          2.4\n",
      "98            5.1          2.5\n",
      "91            6.1          3.0\n",
      "3             4.6          3.1\n",
      "10            5.4          3.7\n",
      "105           7.6          3.0\n",
      "112           6.8          3.0\n",
      "146           6.3          2.5\n",
      "58            6.6          2.9\n",
      "53            5.5          2.3\n",
      "60            5.0          2.0\n",
      "120           6.9          3.2\n",
      "14            5.8          4.0\n",
      "101           5.8          2.7\n",
      "97            6.2          2.9\n",
      "80            5.5          2.4\n",
      "54            6.5          2.8\n",
      "107           7.3          2.9\n",
      "31            5.4          3.4\n",
      "47            4.6          3.2\n",
      "16            5.4          3.9\n",
      "92            5.8          2.6\n",
      "111           6.4          2.7\n",
      "134           6.1          2.6\n",
      "48            5.3          3.7\n"
     ]
    }
   ],
   "source": [
    "X_train_2d, X_test_2d = X_train[['sepal-length', 'sepal-width']], X_test[['sepal-length', 'sepal-width']]\n",
    "\n",
    "print('Train dataset:')\n",
    "print(X_train_2d)\n",
    "print('Test dataset:')\n",
    "print(X_test_2d)"
   ]
  },
  {
   "cell_type": "markdown",
   "metadata": {},
   "source": [
    "# Training the models with the new dataset 2d"
   ]
  },
  {
   "cell_type": "code",
   "execution_count": 8,
   "metadata": {},
   "outputs": [
    {
     "name": "stderr",
     "output_type": "stream",
     "text": [
      "w:\\Home\\ML\\knn\\knn.py:11: FutureWarning: The default dtype for empty Series will be 'object' instead of 'float64' in a future version. Specify a dtype explicitly to silence this warning.\n",
      "  self.__y = pd.Series([])\n"
     ]
    }
   ],
   "source": [
    "knn_model = knn(k=3, type_distance_calc='euclidean')\n",
    "knn_model.fit(X_train_2d, y_train)\n",
    "dmc_model = dmc(type_distance_calc='euclidean')\n",
    "dmc_model.fit(X_train_2d, y_train)"
   ]
  },
  {
   "cell_type": "markdown",
   "metadata": {},
   "source": [
    "# Plotting knn decision surface"
   ]
  },
  {
   "cell_type": "code",
   "execution_count": 10,
   "metadata": {},
   "outputs": [
    {
     "data": {
      "image/png": "[encoded data removed]",
      "text/plain": [
       "<Figure size 640x480 with 1 Axes>"
      ]
     },
     "metadata": {},
     "output_type": "display_data"
    }
   ],
   "source": [
    "data = X_test_2d[:][:].values\n",
    "\n",
    "x_min, x_max = data[:, 0].min() - 0.1, data[:,0].max() + 0.1\n",
    "y_min, y_max = data[:, 1].min() - 0.1, data[:, 1].max() + 0.1\n",
    "\n",
    "xx, yy = np.meshgrid(np.linspace(x_min,x_max, 100),\n",
    "np.linspace(y_min, y_max, 100))\n",
    "\n",
    "x_in = np.c_[xx.ravel(), yy.ravel()]\n",
    "\n",
    "y_pred = [[knn_model.predict(x) for x in x_in]]\n",
    "for i, y in enumerate(y_pred[0]):\n",
    "    if y == 'Iris-setosa':\n",
    "        y_pred[0][i] = 1\n",
    "    elif y == 'Iris-virginica':\n",
    "        y_pred[0][i] = 2\n",
    "    else:\n",
    "        y_pred[0][i] = 3\n",
    "\n",
    "y_pred = np.round(y_pred).reshape(xx.shape)\n",
    "\n",
    "plt.contourf(xx, yy, y_pred, cmap=plt.cm.RdYlBu, alpha=0.7 )\n",
    "\n",
    "plt.xlim(xx.min(), xx.max())\n",
    "plt.ylim(yy.min(), yy.max())\n",
    "\n",
    "knn_y_pred = np.array([knn_model.predict(x) for x in X_test_2d.values])\n",
    "\n",
    "setosa = np.where(knn_y_pred == 'Iris-setosa')\n",
    "virginica = np.where(knn_y_pred == 'Iris-virginica')\n",
    "versicolor = np.where(knn_y_pred == 'Iris-versicolor')\n",
    "\n",
    "plt.scatter(data[setosa, 0], data[setosa, 1],\n",
    "            color='red', marker='o', label='setosa')\n",
    "plt.scatter(data[versicolor, 0], data[versicolor, 1],\n",
    "            color='blue', marker='X', label='versicolor')\n",
    "plt.scatter(data[virginica, 0], data[virginica, 1],\n",
    "            color='yellow', marker='P', label='virginica')\n",
    "\n",
    "plt.show()"
   ]
  },
  {
   "cell_type": "markdown",
   "metadata": {},
   "source": [
    "# Plotting dmc decision surface"
   ]
  },
  {
   "cell_type": "code",
   "execution_count": 12,
   "metadata": {},
   "outputs": [
    {
     "data": {
      "image/png": "[encoded data removed]",
      "text/plain": [
       "<Figure size 640x480 with 1 Axes>"
      ]
     },
     "metadata": {},
     "output_type": "display_data"
    }
   ],
   "source": [
    "data = X_test_2d[:][:].values\n",
    "\n",
    "x_min, x_max = data[:, 0].min() - 0.1, data[:,0].max() + 0.1\n",
    "y_min, y_max = data[:, 1].min() - 0.1, data[:, 1].max() + 0.1\n",
    "\n",
    "xx, yy = np.meshgrid(np.linspace(x_min,x_max, 100),\n",
    "np.linspace(y_min, y_max, 100))\n",
    "\n",
    "x_in = np.c_[xx.ravel(), yy.ravel()]\n",
    "\n",
    "y_pred = [[dmc_model.predict(x) for x in x_in]]\n",
    "for i, y in enumerate(y_pred[0]):\n",
    "    if y == 'Iris-setosa':\n",
    "        y_pred[0][i] = 1\n",
    "    elif y == 'Iris-virginica':\n",
    "        y_pred[0][i] = 2\n",
    "    else:\n",
    "        y_pred[0][i] = 3\n",
    "\n",
    "y_pred = np.round(y_pred).reshape(xx.shape)\n",
    "\n",
    "plt.contourf(xx, yy, y_pred, cmap=plt.cm.RdYlBu, alpha=0.7 )\n",
    "\n",
    "plt.xlim(xx.min(), xx.max())\n",
    "plt.ylim(yy.min(), yy.max())\n",
    "\n",
    "dmc_y_pred = np.array([dmc_model.predict(x) for x in X_test_2d.values])\n",
    "\n",
    "setosa = np.where(dmc_y_pred == 'Iris-setosa')\n",
    "virginica = np.where(dmc_y_pred == 'Iris-virginica')\n",
    "versicolor = np.where(dmc_y_pred == 'Iris-versicolor')\n",
    "\n",
    "plt.scatter(data[setosa, 0], data[setosa, 1],\n",
    "            color='red', marker='o', label='setosa')\n",
    "plt.scatter(data[versicolor, 0], data[versicolor, 1],\n",
    "            color='blue', marker='X', label='versicolor')\n",
    "plt.scatter(data[virginica, 0], data[virginica, 1],\n",
    "            color='yellow', marker='P', label='virginica')\n",
    "\n",
    "plt.show()"
   ]
  }
 ],
 "metadata": {
  "kernelspec": {
   "display_name": "Python 3.10.4 ('.venv': venv)",
   "language": "python",
   "name": "python3"
  },
  "language_info": {
   "codemirror_mode": {
    "name": "ipython",
    "version": 3
   },
   "file_extension": ".py",
   "mimetype": "text/x-python",
   "name": "python",
   "nbconvert_exporter": "python",
   "pygments_lexer": "ipython3",
   "version": "3.10.4"
  },
  "orig_nbformat": 4,
  "vscode": {
   "interpreter": {
    "hash": "33434f0cc8e6f3723834300de8718debdc0c9ba9cd4c4faf0515f4c47995aa8c"
   }
  }
 },
 "nbformat": 4,
 "nbformat_minor": 2
}
