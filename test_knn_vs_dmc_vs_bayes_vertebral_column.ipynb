{
 "cells": [
  {
   "cell_type": "markdown",
   "metadata": {},
   "source": [
    "# Import libs"
   ]
  },
  {
   "cell_type": "code",
   "execution_count": 1,
   "metadata": {},
   "outputs": [],
   "source": [
    "import pandas as pd\n",
    "import numpy as np\n",
    "from knn.knn import knn\n",
    "from dmc.dmc import dmc\n",
    "from bayes_classifier.bayes_classifier import bayes_classifier\n",
    "from sklearn.model_selection import train_test_split\n",
    "# from sklearn.metrics import confusion_matrix\n",
    "from utils.functions import confusion_matrix, confusion_matrix_mean\n",
    "from matplotlib import pyplot as plt"
   ]
  },
  {
   "cell_type": "markdown",
   "metadata": {},
   "source": [
    "# Loading Vertebral Column 3C dataset"
   ]
  },
  {
   "cell_type": "code",
   "execution_count": 2,
   "metadata": {},
   "outputs": [],
   "source": [
    "Xy = pd.read_csv('./datasets/vertebral_column_3C.dat', header=None, sep=' ', engine='python')\n",
    "\n",
    "X = Xy.drop(Xy.columns[-1:], axis=1)\n",
    "y = Xy[Xy.columns[-1]]"
   ]
  },
  {
   "cell_type": "markdown",
   "metadata": {},
   "source": [
    "# Running the tests and computing informations"
   ]
  },
  {
   "cell_type": "code",
   "execution_count": 3,
   "metadata": {},
   "outputs": [
    {
     "name": "stderr",
     "output_type": "stream",
     "text": [
      "w:\\Home\\ML\\knn\\knn.py:11: FutureWarning: The default dtype for empty Series will be 'object' instead of 'float64' in a future version. Specify a dtype explicitly to silence this warning.\n",
      "  self.__y = pd.Series([])\n",
      "w:\\Home\\ML\\knn\\knn.py:11: FutureWarning: The default dtype for empty Series will be 'object' instead of 'float64' in a future version. Specify a dtype explicitly to silence this warning.\n",
      "  self.__y = pd.Series([])\n",
      "w:\\Home\\ML\\knn\\knn.py:11: FutureWarning: The default dtype for empty Series will be 'object' instead of 'float64' in a future version. Specify a dtype explicitly to silence this warning.\n",
      "  self.__y = pd.Series([])\n",
      "w:\\Home\\ML\\knn\\knn.py:11: FutureWarning: The default dtype for empty Series will be 'object' instead of 'float64' in a future version. Specify a dtype explicitly to silence this warning.\n",
      "  self.__y = pd.Series([])\n",
      "w:\\Home\\ML\\knn\\knn.py:11: FutureWarning: The default dtype for empty Series will be 'object' instead of 'float64' in a future version. Specify a dtype explicitly to silence this warning.\n",
      "  self.__y = pd.Series([])\n",
      "w:\\Home\\ML\\knn\\knn.py:11: FutureWarning: The default dtype for empty Series will be 'object' instead of 'float64' in a future version. Specify a dtype explicitly to silence this warning.\n",
      "  self.__y = pd.Series([])\n",
      "w:\\Home\\ML\\knn\\knn.py:11: FutureWarning: The default dtype for empty Series will be 'object' instead of 'float64' in a future version. Specify a dtype explicitly to silence this warning.\n",
      "  self.__y = pd.Series([])\n",
      "w:\\Home\\ML\\knn\\knn.py:11: FutureWarning: The default dtype for empty Series will be 'object' instead of 'float64' in a future version. Specify a dtype explicitly to silence this warning.\n",
      "  self.__y = pd.Series([])\n",
      "w:\\Home\\ML\\knn\\knn.py:11: FutureWarning: The default dtype for empty Series will be 'object' instead of 'float64' in a future version. Specify a dtype explicitly to silence this warning.\n",
      "  self.__y = pd.Series([])\n",
      "w:\\Home\\ML\\knn\\knn.py:11: FutureWarning: The default dtype for empty Series will be 'object' instead of 'float64' in a future version. Specify a dtype explicitly to silence this warning.\n",
      "  self.__y = pd.Series([])\n",
      "w:\\Home\\ML\\knn\\knn.py:11: FutureWarning: The default dtype for empty Series will be 'object' instead of 'float64' in a future version. Specify a dtype explicitly to silence this warning.\n",
      "  self.__y = pd.Series([])\n",
      "w:\\Home\\ML\\knn\\knn.py:11: FutureWarning: The default dtype for empty Series will be 'object' instead of 'float64' in a future version. Specify a dtype explicitly to silence this warning.\n",
      "  self.__y = pd.Series([])\n",
      "w:\\Home\\ML\\knn\\knn.py:11: FutureWarning: The default dtype for empty Series will be 'object' instead of 'float64' in a future version. Specify a dtype explicitly to silence this warning.\n",
      "  self.__y = pd.Series([])\n",
      "w:\\Home\\ML\\knn\\knn.py:11: FutureWarning: The default dtype for empty Series will be 'object' instead of 'float64' in a future version. Specify a dtype explicitly to silence this warning.\n",
      "  self.__y = pd.Series([])\n",
      "w:\\Home\\ML\\knn\\knn.py:11: FutureWarning: The default dtype for empty Series will be 'object' instead of 'float64' in a future version. Specify a dtype explicitly to silence this warning.\n",
      "  self.__y = pd.Series([])\n",
      "w:\\Home\\ML\\knn\\knn.py:11: FutureWarning: The default dtype for empty Series will be 'object' instead of 'float64' in a future version. Specify a dtype explicitly to silence this warning.\n",
      "  self.__y = pd.Series([])\n",
      "w:\\Home\\ML\\knn\\knn.py:11: FutureWarning: The default dtype for empty Series will be 'object' instead of 'float64' in a future version. Specify a dtype explicitly to silence this warning.\n",
      "  self.__y = pd.Series([])\n",
      "w:\\Home\\ML\\knn\\knn.py:11: FutureWarning: The default dtype for empty Series will be 'object' instead of 'float64' in a future version. Specify a dtype explicitly to silence this warning.\n",
      "  self.__y = pd.Series([])\n",
      "w:\\Home\\ML\\knn\\knn.py:11: FutureWarning: The default dtype for empty Series will be 'object' instead of 'float64' in a future version. Specify a dtype explicitly to silence this warning.\n",
      "  self.__y = pd.Series([])\n",
      "w:\\Home\\ML\\knn\\knn.py:11: FutureWarning: The default dtype for empty Series will be 'object' instead of 'float64' in a future version. Specify a dtype explicitly to silence this warning.\n",
      "  self.__y = pd.Series([])\n"
     ]
    }
   ],
   "source": [
    "realizations = 20\n",
    "knn_hit_rate_list = []\n",
    "dmc_hit_rate_list = []\n",
    "b_hit_rate_list = []\n",
    "knn_std_dev = 0\n",
    "dmc_std_dev = 0\n",
    "b_std_dev = 0\n",
    "knn_confusion_matrix_list = []\n",
    "dmc_confusion_matrix_list = []\n",
    "b_confusion_matrix_list = []\n",
    "\n",
    "for r in range(realizations):\n",
    "    X_train, X_test, y_train, y_test = train_test_split(X, y, test_size = 0.2)\n",
    "\n",
    "    knn_model = knn(k=3, type_distance_calc='euclidean')\n",
    "    knn_model.fit(X_train, y_train)\n",
    "\n",
    "    dmc_model = dmc(type_distance_calc='euclidean')\n",
    "    dmc_model.fit(X_train, y_train)\n",
    "\n",
    "    b_model = bayes_classifier()\n",
    "    b_model.fit(X_train, y_train)\n",
    "\n",
    "    knn_hit_rate_list.append(knn_model.score(X_test, y_test))\n",
    "    dmc_hit_rate_list.append(dmc_model.score(X_test, y_test))\n",
    "    b_hit_rate_list.append(b_model.score(X_test, y_test))\n",
    "\n",
    "    knn_y_pred = [knn_model.predict(x) for x in X_test.values]\n",
    "    dmc_y_pred = [dmc_model.predict(x) for x in X_test.values]\n",
    "    b_y_pred = [b_model.predict(x) for x in X_test.values]\n",
    "\n",
    "    knn_confusion_matrix_list.append(confusion_matrix(y_test, knn_y_pred))\n",
    "    dmc_confusion_matrix_list.append(confusion_matrix(y_test, dmc_y_pred))\n",
    "    b_confusion_matrix_list.append(confusion_matrix(y_test, b_y_pred))\n",
    "\n",
    "knn_std_dev = np.std(knn_hit_rate_list)\n",
    "dmc_std_dev = np.std(dmc_hit_rate_list)\n",
    "b_std_dev = np.std(b_hit_rate_list)"
   ]
  },
  {
   "cell_type": "markdown",
   "metadata": {},
   "source": [
    "# Showing knn informations computed"
   ]
  },
  {
   "cell_type": "code",
   "execution_count": 4,
   "metadata": {},
   "outputs": [
    {
     "name": "stdout",
     "output_type": "stream",
     "text": [
      "----------------- KNN model -----------------\n",
      "Hit rate:\n",
      "[0.7741935483870968, 0.7258064516129032, 0.8064516129032258, 0.8387096774193549, 0.8870967741935484, 0.7741935483870968, 0.8064516129032258, 0.8064516129032258, 0.8225806451612904, 0.8870967741935484, 0.8064516129032258, 0.8064516129032258, 0.8548387096774194, 0.7741935483870968, 0.7258064516129032, 0.8387096774193549, 0.7741935483870968, 0.8225806451612904, 0.7741935483870968, 0.8064516129032258]\n",
      "\n",
      "Accuracy:\n",
      "0.8056451612903224\n",
      "\n",
      "Standard Deviation:\n",
      "0.042513081784184524\n",
      "\n",
      "Confusion Matrix:\n",
      "    DH  SL  NO\n",
      "DH   6   0   4\n",
      "SL   0  26   2\n",
      "NO   8   0  16\n",
      "    NO  SL  DH\n",
      "NO  15   2   6\n",
      "SL   1  26   1\n",
      "DH   7   0   4\n",
      "    SL  NO  DH\n",
      "SL  28   4   1\n",
      "NO   0  12   3\n",
      "DH   0   4  10\n",
      "    SL  DH  NO\n",
      "SL  34   0   2\n",
      "DH   0   9   4\n",
      "NO   1   3   9\n",
      "    NO  DH  SL\n",
      "NO  19   3   0\n",
      "DH   3  10   0\n",
      "SL   1   0  26\n",
      "    NO  DH  SL\n",
      "NO  16   2   2\n",
      "DH   8   7   0\n",
      "SL   2   0  25\n",
      "    SL  NO  DH\n",
      "SL  34   4   0\n",
      "NO   0  10   2\n",
      "DH   0   6   6\n",
      "    NO  SL  DH\n",
      "NO  19   1   6\n",
      "SL   0  24   0\n",
      "DH   5   0   7\n",
      "    SL  DH  NO\n",
      "SL  30   1   2\n",
      "DH   0   5   2\n",
      "NO   0   6  16\n",
      "    SL  DH  NO\n",
      "SL  29   0   1\n",
      "DH   0   7   5\n",
      "NO   1   0  19\n",
      "    NO  SL  DH\n",
      "NO  13   3   5\n",
      "SL   1  30   1\n",
      "DH   2   0   7\n",
      "    NO  DH  SL\n",
      "NO  14   6   3\n",
      "DH   2   5   0\n",
      "SL   1   0  31\n",
      "    NO  DH  SL\n",
      "NO  17   5   0\n",
      "DH   3   6   0\n",
      "SL   1   0  30\n",
      "    SL  NO  DH\n",
      "SL  28   0   0\n",
      "NO   1  13   8\n",
      "DH   0   5   7\n",
      "    DH  NO  SL\n",
      "DH   7   5   0\n",
      "NO   7  14   3\n",
      "SL   1   1  24\n",
      "    SL  DH  NO\n",
      "SL  28   0   2\n",
      "DH   0   7   7\n",
      "NO   1   0  17\n",
      "    NO  SL  DH\n",
      "NO  14   1   6\n",
      "SL   1  24   0\n",
      "DH   6   0  10\n",
      "    DH  NO  SL\n",
      "DH  12   4   0\n",
      "NO   3  12   1\n",
      "SL   2   1  27\n",
      "    NO  SL  DH\n",
      "NO  10   1   8\n",
      "SL   0  29   0\n",
      "DH   5   0   9\n",
      "    NO  SL  DH\n",
      "NO  16   1   4\n",
      "SL   1  30   0\n",
      "DH   6   0   4\n"
     ]
    }
   ],
   "source": [
    "print('----------------- KNN model -----------------')\n",
    "print('Hit rate:')\n",
    "print(knn_hit_rate_list, end='\\n\\n')\n",
    "\n",
    "print('Accuracy:')\n",
    "print(sum(knn_hit_rate_list)/len(knn_hit_rate_list), end='\\n\\n')\n",
    "\n",
    "print('Standard Deviation:')\n",
    "print(knn_std_dev, end='\\n\\n')\n",
    "\n",
    "print('Confusion Matrix:')\n",
    "for matrix in knn_confusion_matrix_list:\n",
    "    print(matrix, end='\\n')"
   ]
  },
  {
   "cell_type": "markdown",
   "metadata": {},
   "source": [
    "# Confusion Matrix Mean"
   ]
  },
  {
   "cell_type": "code",
   "execution_count": 5,
   "metadata": {},
   "outputs": [
    {
     "data": {
      "text/html": [
       "<div>\n",
       "<style scoped>\n",
       "    .dataframe tbody tr th:only-of-type {\n",
       "        vertical-align: middle;\n",
       "    }\n",
       "\n",
       "    .dataframe tbody tr th {\n",
       "        vertical-align: top;\n",
       "    }\n",
       "\n",
       "    .dataframe thead th {\n",
       "        text-align: right;\n",
       "    }\n",
       "</style>\n",
       "<table border=\"1\" class=\"dataframe\">\n",
       "  <thead>\n",
       "    <tr style=\"text-align: right;\">\n",
       "      <th></th>\n",
       "      <th>DH</th>\n",
       "      <th>SL</th>\n",
       "      <th>NO</th>\n",
       "    </tr>\n",
       "  </thead>\n",
       "  <tbody>\n",
       "    <tr>\n",
       "      <th>DH</th>\n",
       "      <td>7</td>\n",
       "      <td>0</td>\n",
       "      <td>4</td>\n",
       "    </tr>\n",
       "    <tr>\n",
       "      <th>SL</th>\n",
       "      <td>0</td>\n",
       "      <td>28</td>\n",
       "      <td>1</td>\n",
       "    </tr>\n",
       "    <tr>\n",
       "      <th>NO</th>\n",
       "      <td>4</td>\n",
       "      <td>1</td>\n",
       "      <td>14</td>\n",
       "    </tr>\n",
       "  </tbody>\n",
       "</table>\n",
       "</div>"
      ],
      "text/plain": [
       "    DH  SL  NO\n",
       "DH   7   0   4\n",
       "SL   0  28   1\n",
       "NO   4   1  14"
      ]
     },
     "execution_count": 5,
     "metadata": {},
     "output_type": "execute_result"
    }
   ],
   "source": [
    "confusion_matrix_mean(knn_confusion_matrix_list)"
   ]
  },
  {
   "cell_type": "markdown",
   "metadata": {},
   "source": [
    "# Showing dmc informations computed"
   ]
  },
  {
   "cell_type": "code",
   "execution_count": 6,
   "metadata": {},
   "outputs": [
    {
     "name": "stdout",
     "output_type": "stream",
     "text": [
      "----------------- DMC model -----------------\n",
      "Hit rate:\n",
      "[0.6612903225806451, 0.7258064516129032, 0.8064516129032258, 0.7903225806451613, 0.7903225806451613, 0.8225806451612904, 0.7741935483870968, 0.7903225806451613, 0.6935483870967742, 0.8387096774193549, 0.6935483870967742, 0.7258064516129032, 0.7258064516129032, 0.7741935483870968, 0.7096774193548387, 0.7903225806451613, 0.8225806451612904, 0.7096774193548387, 0.7096774193548387, 0.7580645161290323]\n",
      "\n",
      "Accuracy:\n",
      "0.7556451612903226\n",
      "\n",
      "Standard Deviation:\n",
      "0.049784917206615\n",
      "\n",
      "Confusion Matrix:\n",
      "    DH  SL  NO\n",
      "DH   7   0   3\n",
      "SL   4  21   3\n",
      "NO  11   0  13\n",
      "    NO  SL  DH\n",
      "NO  15   1   7\n",
      "SL   4  21   3\n",
      "DH   2   0   9\n",
      "    SL  NO  DH\n",
      "SL  27   5   1\n",
      "NO   0  11   4\n",
      "DH   0   2  12\n",
      "    SL  DH  NO\n",
      "SL  29   1   6\n",
      "DH   0  11   2\n",
      "NO   1   3   9\n",
      "    NO  DH  SL\n",
      "NO  14   7   1\n",
      "DH   4   9   0\n",
      "SL   1   0  26\n",
      "    NO  DH  SL\n",
      "NO  14   4   2\n",
      "DH   4  11   0\n",
      "SL   1   0  26\n",
      "    SL  NO  DH\n",
      "SL  33   4   1\n",
      "NO   1   8   3\n",
      "DH   0   5   7\n",
      "    NO  SL  DH\n",
      "NO  18   1   7\n",
      "SL   3  20   1\n",
      "DH   1   0  11\n",
      "    SL  DH  NO\n",
      "SL  25   2   6\n",
      "DH   0   6   1\n",
      "NO   0  10  12\n",
      "    SL  DH  NO\n",
      "SL  28   1   1\n",
      "DH   0   9   3\n",
      "NO   0   5  15\n",
      "    NO  SL  DH\n",
      "NO  10   3   8\n",
      "SL   4  25   3\n",
      "DH   1   0   8\n",
      "    NO  DH  SL\n",
      "NO  15   6   2\n",
      "DH   1   6   0\n",
      "SL   6   2  24\n",
      "    NO  DH  SL\n",
      "NO  11  11   0\n",
      "DH   1   8   0\n",
      "SL   2   3  26\n",
      "    SL  NO  DH\n",
      "SL  24   2   2\n",
      "NO   0  15   7\n",
      "DH   0   3   9\n",
      "    DH  NO  SL\n",
      "DH   8   4   0\n",
      "NO   8  14   2\n",
      "SL   0   4  22\n",
      "    SL  DH  NO\n",
      "SL  28   0   2\n",
      "DH   0  11   3\n",
      "NO   1   7  10\n",
      "    NO  SL  DH\n",
      "NO  15   1   5\n",
      "SL   3  22   0\n",
      "DH   2   0  14\n",
      "    DH  NO  SL\n",
      "DH  15   1   0\n",
      "NO   7   7   2\n",
      "SL   2   6  22\n",
      "    NO  SL  DH\n",
      "NO   5   2  12\n",
      "SL   0  27   2\n",
      "DH   2   0  12\n",
      "    NO  SL  DH\n",
      "NO  13   2   6\n",
      "SL   4  25   2\n",
      "DH   1   0   9\n"
     ]
    }
   ],
   "source": [
    "print('----------------- DMC model -----------------')\n",
    "print('Hit rate:')\n",
    "print(dmc_hit_rate_list, end='\\n\\n')\n",
    "\n",
    "print('Accuracy:')\n",
    "print(sum(dmc_hit_rate_list)/len(dmc_hit_rate_list), end='\\n\\n')\n",
    "\n",
    "print('Standard Deviation:')\n",
    "print(dmc_std_dev, end='\\n\\n')\n",
    "\n",
    "print('Confusion Matrix:')\n",
    "for matrix in dmc_confusion_matrix_list:\n",
    "    print(matrix, end='\\n')"
   ]
  },
  {
   "cell_type": "code",
   "execution_count": 7,
   "metadata": {},
   "outputs": [
    {
     "data": {
      "text/html": [
       "<div>\n",
       "<style scoped>\n",
       "    .dataframe tbody tr th:only-of-type {\n",
       "        vertical-align: middle;\n",
       "    }\n",
       "\n",
       "    .dataframe tbody tr th {\n",
       "        vertical-align: top;\n",
       "    }\n",
       "\n",
       "    .dataframe thead th {\n",
       "        text-align: right;\n",
       "    }\n",
       "</style>\n",
       "<table border=\"1\" class=\"dataframe\">\n",
       "  <thead>\n",
       "    <tr style=\"text-align: right;\">\n",
       "      <th></th>\n",
       "      <th>DH</th>\n",
       "      <th>SL</th>\n",
       "      <th>NO</th>\n",
       "    </tr>\n",
       "  </thead>\n",
       "  <tbody>\n",
       "    <tr>\n",
       "      <th>DH</th>\n",
       "      <td>9</td>\n",
       "      <td>0</td>\n",
       "      <td>2</td>\n",
       "    </tr>\n",
       "    <tr>\n",
       "      <th>SL</th>\n",
       "      <td>1</td>\n",
       "      <td>25</td>\n",
       "      <td>3</td>\n",
       "    </tr>\n",
       "    <tr>\n",
       "      <th>NO</th>\n",
       "      <td>6</td>\n",
       "      <td>1</td>\n",
       "      <td>12</td>\n",
       "    </tr>\n",
       "  </tbody>\n",
       "</table>\n",
       "</div>"
      ],
      "text/plain": [
       "    DH  SL  NO\n",
       "DH   9   0   2\n",
       "SL   1  25   3\n",
       "NO   6   1  12"
      ]
     },
     "execution_count": 7,
     "metadata": {},
     "output_type": "execute_result"
    }
   ],
   "source": [
    "confusion_matrix_mean(dmc_confusion_matrix_list)"
   ]
  },
  {
   "cell_type": "markdown",
   "metadata": {},
   "source": [
    "# Showing bayes informations computed"
   ]
  },
  {
   "cell_type": "code",
   "execution_count": 8,
   "metadata": {},
   "outputs": [
    {
     "name": "stdout",
     "output_type": "stream",
     "text": [
      "----------------- BAYES model -----------------\n",
      "Hit rate:\n",
      "[0.7580645161290323, 0.8064516129032258, 0.8548387096774194, 0.8709677419354839, 0.8225806451612904, 0.7741935483870968, 0.8225806451612904, 0.8225806451612904, 0.7741935483870968, 0.8387096774193549, 0.8709677419354839, 0.8548387096774194, 0.8387096774193549, 0.8548387096774194, 0.7903225806451613, 0.8225806451612904, 0.7903225806451613, 0.8064516129032258, 0.7741935483870968, 0.8870967741935484]\n",
      "\n",
      "Accuracy:\n",
      "0.8217741935483872\n",
      "\n",
      "Standard Deviation:\n",
      "0.036236519255904806\n",
      "\n",
      "Confusion Matrix:\n",
      "    DH  SL  NO\n",
      "DH   5   2   3\n",
      "SL   0  27   1\n",
      "NO   8   1  15\n",
      "    NO  SL  DH\n",
      "NO  14   3   6\n",
      "SL   0  28   0\n",
      "DH   3   0   8\n",
      "    SL  NO  DH\n",
      "SL  32   1   0\n",
      "NO   0  12   3\n",
      "DH   1   4   9\n",
      "    SL  DH  NO\n",
      "SL  35   0   1\n",
      "DH   1  10   2\n",
      "NO   1   3   9\n",
      "    NO  DH  SL\n",
      "NO  14   7   1\n",
      "DH   2  10   1\n",
      "SL   0   0  27\n",
      "    NO  DH  SL\n",
      "NO  13   4   3\n",
      "DH   4  10   1\n",
      "SL   2   0  25\n",
      "    SL  NO  DH\n",
      "SL  37   1   0\n",
      "NO   0   9   3\n",
      "DH   2   5   5\n",
      "    NO  SL  DH\n",
      "NO  19   2   5\n",
      "SL   0  24   0\n",
      "DH   4   0   8\n",
      "    SL  DH  NO\n",
      "SL  30   1   2\n",
      "DH   0   6   1\n",
      "NO   1   9  12\n",
      "    SL  DH  NO\n",
      "SL  30   0   0\n",
      "DH   1   7   4\n",
      "NO   1   4  15\n",
      "    NO  SL  DH\n",
      "NO  14   2   5\n",
      "SL   0  32   0\n",
      "DH   0   1   8\n",
      "    NO  DH  SL\n",
      "NO  16   5   2\n",
      "DH   1   5   1\n",
      "SL   0   0  32\n",
      "    NO  DH  SL\n",
      "NO  15   7   0\n",
      "DH   1   7   1\n",
      "SL   1   0  30\n",
      "    SL  NO  DH\n",
      "SL  28   0   0\n",
      "NO   0  16   6\n",
      "DH   0   3   9\n",
      "    DH  NO  SL\n",
      "DH   8   3   1\n",
      "NO   4  17   3\n",
      "SL   1   1  24\n",
      "    SL  DH  NO\n",
      "SL  30   0   0\n",
      "DH   0  11   3\n",
      "NO   2   6  10\n",
      "    NO  SL  DH\n",
      "NO  15   1   5\n",
      "SL   0  25   0\n",
      "DH   6   1   9\n",
      "    DH  NO  SL\n",
      "DH  13   1   2\n",
      "NO   6   8   2\n",
      "SL   1   0  29\n",
      "    NO  SL  DH\n",
      "NO  11   1   7\n",
      "SL   0  29   0\n",
      "DH   6   0   8\n",
      "    NO  SL  DH\n",
      "NO  17   2   2\n",
      "SL   0  31   0\n",
      "DH   3   0   7\n"
     ]
    }
   ],
   "source": [
    "print('----------------- BAYES model -----------------')\n",
    "print('Hit rate:')\n",
    "print(b_hit_rate_list, end='\\n\\n')\n",
    "\n",
    "print('Accuracy:')\n",
    "print(sum(b_hit_rate_list)/len(b_hit_rate_list), end='\\n\\n')\n",
    "\n",
    "print('Standard Deviation:')\n",
    "print(b_std_dev, end='\\n\\n')\n",
    "\n",
    "print('Confusion Matrix:')\n",
    "for matrix in b_confusion_matrix_list:\n",
    "    print(matrix, end='\\n')"
   ]
  },
  {
   "cell_type": "code",
   "execution_count": 9,
   "metadata": {},
   "outputs": [
    {
     "data": {
      "text/html": [
       "<div>\n",
       "<style scoped>\n",
       "    .dataframe tbody tr th:only-of-type {\n",
       "        vertical-align: middle;\n",
       "    }\n",
       "\n",
       "    .dataframe tbody tr th {\n",
       "        vertical-align: top;\n",
       "    }\n",
       "\n",
       "    .dataframe thead th {\n",
       "        text-align: right;\n",
       "    }\n",
       "</style>\n",
       "<table border=\"1\" class=\"dataframe\">\n",
       "  <thead>\n",
       "    <tr style=\"text-align: right;\">\n",
       "      <th></th>\n",
       "      <th>DH</th>\n",
       "      <th>SL</th>\n",
       "      <th>NO</th>\n",
       "    </tr>\n",
       "  </thead>\n",
       "  <tbody>\n",
       "    <tr>\n",
       "      <th>DH</th>\n",
       "      <td>8</td>\n",
       "      <td>0</td>\n",
       "      <td>2</td>\n",
       "    </tr>\n",
       "    <tr>\n",
       "      <th>SL</th>\n",
       "      <td>0</td>\n",
       "      <td>29</td>\n",
       "      <td>0</td>\n",
       "    </tr>\n",
       "    <tr>\n",
       "      <th>NO</th>\n",
       "      <td>5</td>\n",
       "      <td>1</td>\n",
       "      <td>13</td>\n",
       "    </tr>\n",
       "  </tbody>\n",
       "</table>\n",
       "</div>"
      ],
      "text/plain": [
       "    DH  SL  NO\n",
       "DH   8   0   2\n",
       "SL   0  29   0\n",
       "NO   5   1  13"
      ]
     },
     "execution_count": 9,
     "metadata": {},
     "output_type": "execute_result"
    }
   ],
   "source": [
    "confusion_matrix_mean(b_confusion_matrix_list)"
   ]
  },
  {
   "cell_type": "markdown",
   "metadata": {},
   "source": [
    "# Choosing two columns from the last X_train and X_test to plot decision surface"
   ]
  },
  {
   "cell_type": "code",
   "execution_count": 10,
   "metadata": {},
   "outputs": [
    {
     "name": "stdout",
     "output_type": "stream",
     "text": [
      "Train dataset:\n",
      "         0      1\n",
      "32   44.94  17.44\n",
      "8    43.79  13.53\n",
      "265  48.17   9.59\n",
      "25   54.12  26.65\n",
      "299  82.91  29.89\n",
      "..     ...    ...\n",
      "289  44.43  14.17\n",
      "34   59.60  32.00\n",
      "27   43.58  16.51\n",
      "95   57.52  33.65\n",
      "90   81.66  28.75\n",
      "\n",
      "[248 rows x 2 columns]\n",
      "Test dataset:\n",
      "         0      1\n",
      "279  48.80  18.02\n",
      "308  45.25   8.69\n",
      "155  66.80  14.55\n",
      "36   32.09   6.99\n",
      "309  33.84   5.07\n",
      "..     ...    ...\n",
      "179  68.72  49.43\n",
      "15   44.32  12.54\n",
      "228  38.05   8.30\n",
      "22   63.07  24.41\n",
      "120  54.74  12.10\n",
      "\n",
      "[62 rows x 2 columns]\n"
     ]
    }
   ],
   "source": [
    "X_train_2d, X_test_2d = X_train[X_train.columns[:2]], X_test[X_train.columns[:2]]\n",
    "\n",
    "print('Train dataset:')\n",
    "print(X_train_2d)\n",
    "print('Test dataset:')\n",
    "print(X_test_2d)"
   ]
  },
  {
   "cell_type": "markdown",
   "metadata": {},
   "source": [
    "# Training the models with the new dataset 2d"
   ]
  },
  {
   "cell_type": "code",
   "execution_count": 14,
   "metadata": {},
   "outputs": [
    {
     "name": "stderr",
     "output_type": "stream",
     "text": [
      "w:\\Home\\ML\\knn\\knn.py:11: FutureWarning: The default dtype for empty Series will be 'object' instead of 'float64' in a future version. Specify a dtype explicitly to silence this warning.\n",
      "  self.__y = pd.Series([])\n"
     ]
    }
   ],
   "source": [
    "knn_model = knn(k=3, type_distance_calc='euclidean')\n",
    "knn_model.fit(X_train_2d, y_train)\n",
    "dmc_model = dmc(type_distance_calc='euclidean')\n",
    "dmc_model.fit(X_train_2d, y_train)\n",
    "b_model = bayes_classifier()\n",
    "b_model.fit(X_train_2d, y_train)"
   ]
  },
  {
   "cell_type": "markdown",
   "metadata": {},
   "source": [
    "# Plotting knn decision surface"
   ]
  },
  {
   "cell_type": "code",
   "execution_count": 15,
   "metadata": {},
   "outputs": [
    {
     "data": {
      "image/png": "[encoded data removed]",
      "text/plain": [
       "<Figure size 640x480 with 1 Axes>"
      ]
     },
     "metadata": {},
     "output_type": "display_data"
    }
   ],
   "source": [
    "data = X_test_2d[:][:].values\n",
    "\n",
    "x_min, x_max = data[:, 0].min() - 0.1, data[:,0].max() + 0.1\n",
    "y_min, y_max = data[:, 1].min() - 0.1, data[:, 1].max() + 0.1\n",
    "\n",
    "xx, yy = np.meshgrid(np.linspace(x_min,x_max, 100),\n",
    "np.linspace(y_min, y_max, 100))\n",
    "\n",
    "x_in = np.c_[xx.ravel(), yy.ravel()]\n",
    "\n",
    "y_pred = [[knn_model.predict(x) for x in x_in]]\n",
    "for i, y in enumerate(y_pred[0]):\n",
    "    if y == 'DH':\n",
    "        y_pred[0][i] = 1\n",
    "    elif y == 'SL':\n",
    "        y_pred[0][i] = 2\n",
    "    else:\n",
    "        y_pred[0][i] = 3\n",
    "\n",
    "y_pred = np.round(y_pred).reshape(xx.shape)\n",
    "\n",
    "plt.contourf(xx, yy, y_pred, cmap=plt.cm.RdYlBu, alpha=0.7 )\n",
    "\n",
    "plt.xlim(xx.min(), xx.max())\n",
    "plt.ylim(yy.min(), yy.max())\n",
    "\n",
    "knn_y_pred = np.array([knn_model.predict(x) for x in X_test_2d.values])\n",
    "\n",
    "dh = np.where(knn_y_pred == 'DH')\n",
    "sl = np.where(knn_y_pred == 'SL')\n",
    "no = np.where(knn_y_pred == 'NO')\n",
    "\n",
    "plt.scatter(data[dh, 0], data[dh, 1],\n",
    "            color='red', marker='o', label='dh')\n",
    "plt.scatter(data[sl, 0], data[sl, 1],\n",
    "            color='yellow', marker='X', label='sl')\n",
    "plt.scatter(data[no, 0], data[no, 1],\n",
    "            color='blue', marker='P', label='no')\n",
    "\n",
    "plt.show()"
   ]
  },
  {
   "cell_type": "markdown",
   "metadata": {},
   "source": [
    "# Plotting dmc decision surface"
   ]
  },
  {
   "cell_type": "code",
   "execution_count": 16,
   "metadata": {},
   "outputs": [
    {
     "data": {
      "image/png": "[encoded data removed]",
      "text/plain": [
       "<Figure size 640x480 with 1 Axes>"
      ]
     },
     "metadata": {},
     "output_type": "display_data"
    }
   ],
   "source": [
    "data = X_test_2d[:][:].values\n",
    "\n",
    "x_min, x_max = data[:, 0].min() - 0.1, data[:,0].max() + 0.1\n",
    "y_min, y_max = data[:, 1].min() - 0.1, data[:, 1].max() + 0.1\n",
    "\n",
    "xx, yy = np.meshgrid(np.linspace(x_min,x_max, 100),\n",
    "np.linspace(y_min, y_max, 100))\n",
    "\n",
    "x_in = np.c_[xx.ravel(), yy.ravel()]\n",
    "\n",
    "y_pred = [[dmc_model.predict(x) for x in x_in]]\n",
    "for i, y in enumerate(y_pred[0]):\n",
    "    if y == 'DH':\n",
    "        y_pred[0][i] = 1\n",
    "    elif y == 'SL':\n",
    "        y_pred[0][i] = 2\n",
    "    else:\n",
    "        y_pred[0][i] = 3\n",
    "\n",
    "y_pred = np.round(y_pred).reshape(xx.shape)\n",
    "\n",
    "plt.contourf(xx, yy, y_pred, cmap=plt.cm.RdYlBu, alpha=0.7 )\n",
    "\n",
    "plt.xlim(xx.min(), xx.max())\n",
    "plt.ylim(yy.min(), yy.max())\n",
    "\n",
    "dmc_y_pred = np.array([dmc_model.predict(x) for x in X_test_2d.values])\n",
    "\n",
    "dh = np.where(dmc_y_pred == 'DH')\n",
    "sl = np.where(dmc_y_pred == 'SL')\n",
    "no = np.where(dmc_y_pred == 'NO')\n",
    "\n",
    "plt.scatter(data[dh, 0], data[dh, 1],\n",
    "            color='red', marker='o', label='dh')\n",
    "plt.scatter(data[sl, 0], data[sl, 1],\n",
    "            color='yellow', marker='X', label='sl')\n",
    "plt.scatter(data[no, 0], data[no, 1],\n",
    "            color='blue', marker='P', label='no')\n",
    "\n",
    "plt.show()"
   ]
  },
  {
   "cell_type": "markdown",
   "metadata": {},
   "source": [
    "# Plotting naive bayes decision surface"
   ]
  },
  {
   "cell_type": "code",
   "execution_count": 17,
   "metadata": {},
   "outputs": [
    {
     "data": {
      "image/png": "[encoded data removed]",
      "text/plain": [
       "<Figure size 640x480 with 1 Axes>"
      ]
     },
     "metadata": {},
     "output_type": "display_data"
    }
   ],
   "source": [
    "data = X_test_2d[:][:].values\n",
    "\n",
    "x_min, x_max = data[:, 0].min() - 0.1, data[:,0].max() + 0.1\n",
    "y_min, y_max = data[:, 1].min() - 0.1, data[:, 1].max() + 0.1\n",
    "\n",
    "xx, yy = np.meshgrid(np.linspace(x_min,x_max, 100),\n",
    "np.linspace(y_min, y_max, 100))\n",
    "\n",
    "x_in = np.c_[xx.ravel(), yy.ravel()]\n",
    "\n",
    "y_pred = [[b_model.predict(x) for x in x_in]]\n",
    "for i, y in enumerate(y_pred[0]):\n",
    "    if y == 'DH':\n",
    "        y_pred[0][i] = 1\n",
    "    elif y == 'SL':\n",
    "        y_pred[0][i] = 2\n",
    "    elif y == 'NO':\n",
    "        y_pred[0][i] = 3\n",
    "    else:\n",
    "        y_pred[0][i] = 4\n",
    "\n",
    "y_pred = np.round(y_pred).reshape(xx.shape)\n",
    "\n",
    "plt.contourf(xx, yy, y_pred, cmap=plt.cm.RdYlBu, alpha=0.7 )\n",
    "\n",
    "plt.xlim(xx.min(), xx.max())\n",
    "plt.ylim(yy.min(), yy.max())\n",
    "\n",
    "b_y_pred = np.array([b_model.predict(x) for x in X_test_2d.values])\n",
    "\n",
    "dh = np.where(b_y_pred == 'DH')\n",
    "sl = np.where(b_y_pred == 'SL')\n",
    "no = np.where(b_y_pred == 'NO')\n",
    "\n",
    "plt.scatter(data[dh, 0], data[dh, 1],\n",
    "            color='red', marker='o', label='dh')\n",
    "plt.scatter(data[sl, 0], data[sl, 1],\n",
    "            color='yellow', marker='X', label='sl')\n",
    "plt.scatter(data[no, 0], data[no, 1],\n",
    "            color='blue', marker='P', label='no')\n",
    "\n",
    "plt.show()"
   ]
  }
 ],
 "metadata": {
  "kernelspec": {
   "display_name": "Python 3.10.4 ('.venv': venv)",
   "language": "python",
   "name": "python3"
  },
  "language_info": {
   "codemirror_mode": {
    "name": "ipython",
    "version": 3
   },
   "file_extension": ".py",
   "mimetype": "text/x-python",
   "name": "python",
   "nbconvert_exporter": "python",
   "pygments_lexer": "ipython3",
   "version": "3.10.4"
  },
  "orig_nbformat": 4,
  "vscode": {
   "interpreter": {
    "hash": "33434f0cc8e6f3723834300de8718debdc0c9ba9cd4c4faf0515f4c47995aa8c"
   }
  }
 },
 "nbformat": 4,
 "nbformat_minor": 2
}
