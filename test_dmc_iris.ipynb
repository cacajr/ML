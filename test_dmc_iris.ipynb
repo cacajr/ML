{
 "cells": [
  {
   "cell_type": "code",
   "execution_count": 1,
   "metadata": {},
   "outputs": [],
   "source": [
    "import pandas as pd\n",
    "\n",
    "\n",
    "Xy = pd.read_csv('./datasets/iris.csv')\n",
    "X = Xy.drop(['class'], axis=1)\n",
    "y = Xy['class']"
   ]
  },
  {
   "cell_type": "code",
   "execution_count": 2,
   "metadata": {},
   "outputs": [],
   "source": [
    "from dmc.dmc import dmc\n",
    "\n",
    "\n",
    "dmc_model = dmc(type_distance_calc='euclidean')"
   ]
  },
  {
   "cell_type": "code",
   "execution_count": 3,
   "metadata": {},
   "outputs": [
    {
     "name": "stdout",
     "output_type": "stream",
     "text": [
      "[[11  0  0]\n",
      " [ 0  7  1]\n",
      " [ 0  1 10]]\n",
      "\n",
      "[[16  0  0]\n",
      " [ 0  7  0]\n",
      " [ 0  1  6]]\n",
      "\n",
      "[[12  0  0]\n",
      " [ 0 11  0]\n",
      " [ 0  1  6]]\n",
      "\n",
      "[[10  0  0]\n",
      " [ 0  9  1]\n",
      " [ 0  3  7]]\n",
      "\n",
      "[[13  0  0]\n",
      " [ 0  8  2]\n",
      " [ 0  1  6]]\n",
      "\n",
      "[[11  0  0]\n",
      " [ 0  8  1]\n",
      " [ 0  0 10]]\n",
      "\n",
      "[[ 8  0  0]\n",
      " [ 0 12  1]\n",
      " [ 0  1  8]]\n",
      "\n",
      "[[ 7  0  0]\n",
      " [ 0 12  1]\n",
      " [ 0  0 10]]\n",
      "\n",
      "[[12  0  0]\n",
      " [ 0 10  0]\n",
      " [ 0  0  8]]\n",
      "\n",
      "[[ 7  0  0]\n",
      " [ 0 11  0]\n",
      " [ 0  2 10]]\n",
      "\n",
      "Hit rate: [0.9333333333333333, 0.9666666666666667, 0.9666666666666667, 0.8666666666666667, 0.9, 0.9666666666666667, 0.9333333333333333, 0.9666666666666667, 1.0, 0.9333333333333333]\n",
      "\n",
      "Accuracy: 0.9433333333333334\n"
     ]
    }
   ],
   "source": [
    "from sklearn.model_selection import train_test_split\n",
    "from sklearn.metrics import confusion_matrix\n",
    "\n",
    "\n",
    "realizations = 10\n",
    "hit_rate = []\n",
    "\n",
    "for r in range(realizations):\n",
    "    X_train, X_test, y_train, y_test = train_test_split(X, y, test_size = 0.2)\n",
    "\n",
    "    dmc_model.fit(X_train, y_train)\n",
    "\n",
    "    hit_rate.append(dmc_model.score(X_test, y_test))\n",
    "\n",
    "    y_pred = [dmc_model.predict(x) for x in X_test.values]\n",
    "\n",
    "    print(confusion_matrix(y_test, y_pred), end='\\n\\n')\n",
    "\n",
    "print('Hit rate:', hit_rate, end='\\n\\n')\n",
    "\n",
    "print('Accuracy:',sum(hit_rate)/len(hit_rate))"
   ]
  }
 ],
 "metadata": {
  "kernelspec": {
   "display_name": "Python 3.10.4 ('.venv': venv)",
   "language": "python",
   "name": "python3"
  },
  "language_info": {
   "codemirror_mode": {
    "name": "ipython",
    "version": 3
   },
   "file_extension": ".py",
   "mimetype": "text/x-python",
   "name": "python",
   "nbconvert_exporter": "python",
   "pygments_lexer": "ipython3",
   "version": "3.10.4"
  },
  "orig_nbformat": 4,
  "vscode": {
   "interpreter": {
    "hash": "33434f0cc8e6f3723834300de8718debdc0c9ba9cd4c4faf0515f4c47995aa8c"
   }
  }
 },
 "nbformat": 4,
 "nbformat_minor": 2
}
